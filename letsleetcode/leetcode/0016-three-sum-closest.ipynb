{
 "cells": [
  {
   "cell_type": "markdown",
   "metadata": {},
   "source": [
    "# 0016. Three Sum Closest\n",
    "\n",
    "## Problem\n",
    "\n",
    "Given an integer array nums of length `n` and an integer target, find three integers in `nums` such that the `sum` is closest to target.\n",
    "\n",
    "Return the sum of the three integers.\n",
    "\n",
    "You may assume that each input would have exactly one solution.\n",
    "\n",
    "### Examples \n",
    "\n",
    "Example 1:\n",
    "\n",
    "``` text\n",
    "Input: nums = [-1,2,1,-4], target = 1\n",
    "Output: 2\n",
    "Explanation: The sum that is closest to the target is 2. (-1 + 2 + 1 = 2).\n",
    "```\n",
    "\n",
    "Example 2:\n",
    "\n",
    "```text\n",
    "Input: nums = [0,0,0], target = 1\n",
    "Output: 0\n",
    "```\n",
    "\n",
    "### Constraints:\n",
    "\n",
    "```text\n",
    "3 <= nums.length <= 1000\n",
    "-1000 <= nums[i] <= 1000\n",
    "-104 <= target <= 104\n",
    "```"
   ]
  },
  {
   "cell_type": "markdown",
   "metadata": {},
   "source": [
    "## Analysis\n",
    "\n",
    "This is similar to [0015](./0015-three-sum.ipynb). \n",
    "The closest value should lead the minimum of $|a+b+c - target|$.\n",
    "\n",
    "***Solution 1: Naive***\n",
    "The naive method can use three loops to find the minimum value, and will use $O(n^3)$ time.\n",
    "\n",
    "***Solution 2: Sort + Two Pointer***\n",
    "This solution is similar to [0015](./0015-three-sum.ipynb). \n",
    "- To build a pattern for search, we can first sort the array in a non-decending order. -> $O(nlogn)$\n",
    "- In the first loop, we can enumerate the array for the first number $a=nums[i]$. -> $O(n)$\n",
    "- In the second loop, we can use the two-pointer algorithm for the rest of the array from $i+1$ to $n$ to enumerate $b$ and $c$. -> $O(n)$\n",
    "  - use index $j$ as the left pointer, and $k$ as the right pointer. Assign $b = nums[j]$ and $c = nums[k]$. $j$ starts from $i+1$, and $k$ starts from $n$.\n",
    "  - if $a+b+c \\ge target$, which means the value of $|a+b+c-target|$ is still big and may be further reduced by moving the right pointer $k$ one step left.\n",
    "  - if $a+b+c \\lt target$, which means the value of $|a+b+c-target|$ is still big and may be further reduced by moving the left pointer $j$ one step right.\n",
    "  - The loop should stop at\n",
    "    - $a+b+c-target=0$ or\n",
    "    - $j >= k$ \n",
    "\n",
    "\n",
    "***How to get $k$ closest sum??***"
   ]
  },
  {
   "cell_type": "markdown",
   "metadata": {},
   "source": [
    "## Solution"
   ]
  },
  {
   "cell_type": "code",
   "execution_count": 6,
   "metadata": {},
   "outputs": [
    {
     "name": "stdout",
     "output_type": "stream",
     "text": [
      "2\n",
      "0\n",
      "3\n"
     ]
    }
   ],
   "source": [
    "# Solution 2: \n",
    "def solution(nums, target):\n",
    "    nums.sort()\n",
    "    best = 10000\n",
    "     \n",
    "    for i, a in enumerate(nums):\n",
    "        j, k = i + 1, len(nums) - 1\n",
    "        while j < k:\n",
    "            s = a + nums[j] + nums[k]\n",
    "            best = s if abs(s - target) < abs(best - target) else best\n",
    "            if s > target: \n",
    "                k -= 1\n",
    "            elif s < target:\n",
    "                j += 1\n",
    "            else:\n",
    "                return target\n",
    "        \n",
    "    return best        \n",
    "\n",
    "    # test\n",
    "nums = [-1, 2, 1, -4]\n",
    "target = 1\n",
    "print(solution(nums, target))\n",
    "\n",
    "nums = [0, 0, 0]\n",
    "target = 1\n",
    "print(solution(nums, target))\n",
    "\n",
    "nums = [1, 1, 1, 1]\n",
    "target = 100\n",
    "print(solution(nums, target))"
   ]
  },
  {
   "cell_type": "markdown",
   "metadata": {},
   "source": [
    "The above code can be improved:\n",
    "- skip duplicates as in [0015](./0015-three-sum.ipynb). \n"
   ]
  }
 ],
 "metadata": {
  "interpreter": {
   "hash": "577791f2da4ac3a13c44f20f0f30021788d0264a6d82c3224a80270143730ffe"
  },
  "kernelspec": {
   "display_name": "Python 3.8.12 ('jupyterbook-py38')",
   "language": "python",
   "name": "python3"
  },
  "language_info": {
   "codemirror_mode": {
    "name": "ipython",
    "version": 3
   },
   "file_extension": ".py",
   "mimetype": "text/x-python",
   "name": "python",
   "nbconvert_exporter": "python",
   "pygments_lexer": "ipython3",
   "version": "3.8.12"
  },
  "orig_nbformat": 4
 },
 "nbformat": 4,
 "nbformat_minor": 2
}
