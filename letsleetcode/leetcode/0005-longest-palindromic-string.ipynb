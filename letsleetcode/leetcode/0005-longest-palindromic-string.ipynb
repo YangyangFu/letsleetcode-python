{
 "cells": [
  {
   "cell_type": "markdown",
   "metadata": {},
   "source": [
    "# 0005. Longest Palindromic String \n",
    "\n",
    "## Problem\n",
    "\n",
    "Given a string s, return the longest palindromic substring in s\n",
    "\n",
    "### Examples \n",
    "Example 1:\n",
    "```\n",
    "Input: s = \"babad\"\n",
    "Output: \"bab\"\n",
    "Explanation: \"aba\" is also a valid answer.\n",
    "```\n",
    "\n",
    "Example 2:\n",
    "```\n",
    "Input: s = \"cbbd\"\n",
    "Output: \"bb\"\n",
    "```\n",
    "\n",
    "### Constraints:\n",
    "\n",
    "```text\n",
    "1 <= s.length <= 1000\n",
    "s consist of only digits and English letters.\n",
    "```"
   ]
  },
  {
   "cell_type": "markdown",
   "metadata": {},
   "source": [
    "## Analysis\n",
    "\n"
   ]
  },
  {
   "cell_type": "markdown",
   "metadata": {},
   "source": [
    "## Solution"
   ]
  },
  {
   "cell_type": "code",
   "execution_count": 9,
   "metadata": {},
   "outputs": [
    {
     "name": "stdout",
     "output_type": "stream",
     "text": [
      "bab\n",
      "bb\n",
      "a\n",
      "a\n",
      "aa\n"
     ]
    }
   ],
   "source": [
    "# Solution 1: dynamic programming O(n^2) - brute force: traverse all characters and substrings twice\n",
    "def solution(s):\n",
    "    n = len(s)\n",
    "    dp = [[False]*n]*n # define an array to store the palindromic status between i and j\n",
    "    if n<2:\n",
    "        return s\n",
    "    res = s[0]\n",
    "    for j in range(1,n):\n",
    "        for i in range(j):\n",
    "            # s[i:j] is palindromic if str [i+1:j-1] is palindromic and s[i] = s[j]\n",
    "            dp[i][j] = s[i] == s[j] and (j-i<3 or dp[i+1][j-1])\n",
    "            if dp[i][j] and (res == \"\" or j-i+1 > len(res)):\n",
    "                res = s[i:j+1]\n",
    "    return res\n",
    "\n",
    "s = \"babad\"\n",
    "print(solution(s))\n",
    "\n",
    "s = \"cbbd\"\n",
    "print(solution(s))\n",
    "\n",
    "s = \"a\"\n",
    "print(solution(s))\n",
    "\n",
    "s = \"ac\"\n",
    "print(solution(s))\n",
    "\n",
    "s = \"aa\"\n",
    "print(solution(s))"
   ]
  },
  {
   "cell_type": "code",
   "execution_count": 1,
   "metadata": {},
   "outputs": [
    {
     "name": "stdout",
     "output_type": "stream",
     "text": [
      "bab\n",
      "bb\n",
      "a\n",
      "a\n",
      "aa\n"
     ]
    }
   ],
   "source": [
    "# solution 2: determine the palindromic status from the center.\n",
    "# traverse the string, and assume the current character is the center of palindromic string and move the left and right pointer one step until the longest palidromic string\n",
    "# \n",
    "def solution(s):\n",
    "    n = len(s)\n",
    "    if n<2:\n",
    "        return s \n",
    "    res = []\n",
    "\n",
    "    def palindrome(s, i, j):\n",
    "        \"\"\"find the palindrome starting from i and j\n",
    "            - i = j, for odd string\n",
    "            - i = j - 1, for even string\n",
    "        \"\"\"\n",
    "        while i >= 0 and j < len(s) and s[i] == s[j]:\n",
    "                i -= 1\n",
    "                j += 1\n",
    "\n",
    "        return s[i+1:j]\n",
    "        \n",
    "    res = \"\"\n",
    "    for i in range(n):\n",
    "        # find odd palindrome\n",
    "        ps = palindrome(s, i, i) \n",
    "        res = ps if len(ps) > len(res) else res \n",
    "\n",
    "        # find even palindrome\n",
    "        ps = palindrome(s, i, i+1)\n",
    "        res = ps if len(ps) > len(res) else res \n",
    "\n",
    "    return res\n",
    "\n",
    "s = \"babad\"\n",
    "print(solution(s))\n",
    "\n",
    "s = \"cbbd\"\n",
    "print(solution(s))\n",
    "\n",
    "s = \"a\"\n",
    "print(solution(s))\n",
    "\n",
    "s = \"ac\"\n",
    "print(solution(s))\n",
    "\n",
    "s = \"aa\"\n",
    "print(solution(s))"
   ]
  }
 ],
 "metadata": {
  "interpreter": {
   "hash": "577791f2da4ac3a13c44f20f0f30021788d0264a6d82c3224a80270143730ffe"
  },
  "kernelspec": {
   "display_name": "Python 3.8.12 ('jupyterbook-py38')",
   "language": "python",
   "name": "python3"
  },
  "language_info": {
   "codemirror_mode": {
    "name": "ipython",
    "version": 3
   },
   "file_extension": ".py",
   "mimetype": "text/x-python",
   "name": "python",
   "nbconvert_exporter": "python",
   "pygments_lexer": "ipython3",
   "version": "3.8.12"
  },
  "orig_nbformat": 4
 },
 "nbformat": 4,
 "nbformat_minor": 2
}
