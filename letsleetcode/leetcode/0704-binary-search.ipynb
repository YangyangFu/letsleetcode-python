{
 "cells": [
  {
   "cell_type": "markdown",
   "metadata": {},
   "source": [
    "# 0704. Binary Search\n",
    "\n",
    "## Problem\n",
    "\n",
    "Given an array of integers `nums` which is sorted in ascending order, and an integer target, write a function to search target in nums. If target exists, then return its index. Otherwise, return -1.\n",
    "\n",
    "You must write an algorithm with `O(log n)` runtime complexity.\n",
    "\n",
    "### Examples \n",
    "\n",
    "Example 1:\n",
    "```\n",
    "Input: nums = [-1,0,3,5,9,12], target = 9\n",
    "Output: 4\n",
    "Explanation: 9 exists in nums and its index is 4\n",
    "```\n",
    "\n",
    "Example 2:\n",
    "```\n",
    "Input: nums = [-1,0,3,5,9,12], target = 2\n",
    "Output: -1\n",
    "Explanation: 2 does not exist in nums so return -1\n",
    "```\n",
    "### Constraints:\n",
    "\n",
    "```\n",
    "1 <= nums.length <= 104\n",
    "-104 < nums[i], target < 104\n",
    "All the integers in nums are unique.\n",
    "nums is sorted in ascending order.\n",
    "```"
   ]
  },
  {
   "cell_type": "markdown",
   "metadata": {},
   "source": [
    "## Analysis\n"
   ]
  },
  {
   "cell_type": "markdown",
   "metadata": {},
   "source": [
    "## Solution"
   ]
  },
  {
   "cell_type": "code",
   "execution_count": 24,
   "metadata": {},
   "outputs": [
    {
     "name": "stdout",
     "output_type": "stream",
     "text": [
      "4\n",
      "-1\n",
      "0\n"
     ]
    }
   ],
   "source": [
    "def solution(nums, target, l, r) -> int:\n",
    "    l, r = 0, len(nums)-1\n",
    "    m = _binary(nums, l, r, target)\n",
    "\n",
    "    return m\n",
    "def _binary(nums, l, r, target):\n",
    "    if r - l <= 1:\n",
    "        if nums[l] == target:\n",
    "            return l\n",
    "        elif nums[r] == target:\n",
    "            return r\n",
    "        else:\n",
    "            return -1\n",
    "    \n",
    "    m = int((r-l)/2)+l\n",
    "            \n",
    "    if nums[m] > target:\n",
    "        l = l\n",
    "        r = m-1\n",
    "        return _binary(nums, l, r, target)\n",
    "        \n",
    "    elif nums[m] < target:\n",
    "        l = m+1\n",
    "        r = r\n",
    "        return _binary(nums, l, r, target)\n",
    "    else:\n",
    "        return m\n",
    "\n",
    "# test\n",
    "nums = [-1,0,3,5,9,12]\n",
    "target = 9\n",
    "print(solution(nums, target, 0, len(nums)-1))\n",
    "\n",
    "nums = [-1,0,3,5,9,12]\n",
    "target = 2\n",
    "print(solution(nums, target, 0, len(nums)-1))\n",
    "\n",
    "nums = [-1, 0]\n",
    "target = -1\n",
    "print(solution(nums, target, 0, len(nums)-1))\n"
   ]
  },
  {
   "cell_type": "code",
   "execution_count": 25,
   "metadata": {},
   "outputs": [
    {
     "name": "stdout",
     "output_type": "stream",
     "text": [
      "4\n",
      "-1\n",
      "0\n"
     ]
    }
   ],
   "source": [
    "def solution(nums, target) -> int:\n",
    "    \n",
    "    n = len(nums)\n",
    "    l, r = 0, n-1\n",
    "    m = int((r-l)/2)\n",
    "    \n",
    "    while r > 1+l:\n",
    "        if nums[m] == target:\n",
    "            return m\n",
    "        \n",
    "        if nums[m] > target:\n",
    "            # move left\n",
    "            r = m\n",
    "            m = int((r-l)/2) + l\n",
    "        \n",
    "        if nums[m] < target:\n",
    "            # move right\n",
    "            l = m\n",
    "            m = int((r-l)/2) + l\n",
    "            \n",
    "    if r <= l + 1:\n",
    "        if nums[l] == target:\n",
    "            return l\n",
    "        elif nums[r] == target:\n",
    "            return r\n",
    "        else:\n",
    "            return -1\n",
    "\n",
    "# test\n",
    "nums = [-1,0,3,5,9,12]\n",
    "target = 9\n",
    "print(solution(nums, target))\n",
    "\n",
    "nums = [-1,0,3,5,9,12]\n",
    "target = 2\n",
    "print(solution(nums, target))\n",
    "\n",
    "nums = [-1, 0]\n",
    "target = -1\n",
    "print(solution(nums, target))        "
   ]
  },
  {
   "cell_type": "code",
   "execution_count": 26,
   "metadata": {},
   "outputs": [
    {
     "name": "stdout",
     "output_type": "stream",
     "text": [
      "4\n",
      "-1\n",
      "0\n"
     ]
    }
   ],
   "source": [
    "def binary(nums, l, r, target):\n",
    "    if r >= l:\n",
    "        m = int((r - l)/2) + l\n",
    "        \n",
    "        if nums[m] == target:\n",
    "            return m\n",
    "        elif nums[m] > target:\n",
    "            return binary(nums, l, m-1, target) \n",
    "        else:\n",
    "            return binary(nums, m+1, r, target)\n",
    "    else:\n",
    "        return -1\n",
    "\n",
    "# test\n",
    "nums = [-1, 0, 3, 5, 9, 12]\n",
    "target = 9\n",
    "print(binary(nums, 0, len(nums)-1, target))\n",
    "\n",
    "nums = [-1,0,3,5,9,12]\n",
    "target = 2\n",
    "print(binary(nums, 0, len(nums)-1, target))\n",
    "\n",
    "nums = [-1, 0]\n",
    "target = -1\n",
    "print(binary(nums, 0, len(nums)-1, target))"
   ]
  }
 ],
 "metadata": {
  "interpreter": {
   "hash": "577791f2da4ac3a13c44f20f0f30021788d0264a6d82c3224a80270143730ffe"
  },
  "kernelspec": {
   "display_name": "Python 3.8.12 ('jupyterbook-py38')",
   "language": "python",
   "name": "python3"
  },
  "language_info": {
   "codemirror_mode": {
    "name": "ipython",
    "version": 3
   },
   "file_extension": ".py",
   "mimetype": "text/x-python",
   "name": "python",
   "nbconvert_exporter": "python",
   "pygments_lexer": "ipython3",
   "version": "3.8.12"
  },
  "orig_nbformat": 4
 },
 "nbformat": 4,
 "nbformat_minor": 2
}
