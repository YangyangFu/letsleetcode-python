{
 "cells": [
  {
   "cell_type": "markdown",
   "metadata": {},
   "source": [
    "# 0022 Generate Parentheses\n",
    "\n",
    "## Problem\n",
    "Given n pairs of parentheses, write a function to generate all combinations of well-formed parentheses.\n",
    "\n",
    "### Examples \n",
    "Example 1:\n",
    "```\n",
    "Input: n = 3\n",
    "Output: [\"((()))\",\"(()())\",\"(())()\",\"()(())\",\"()()()\"]\n",
    "```\n",
    "\n",
    "Example 2:\n",
    "```\n",
    "Input: n = 1\n",
    "Output: [\"()\"]\n",
    "```\n",
    "### Constraints\n",
    "1 <= n <= 8\n"
   ]
  },
  {
   "cell_type": "markdown",
   "metadata": {},
   "source": [
    "## Analysis\n",
    "\n",
    "The total combination follows the following recursive relationship:\n",
    "\n",
    "$T_{n} = 3T_{n-1} - 1, n>1$\n",
    "\n",
    "\n",
    "## Solution"
   ]
  },
  {
   "cell_type": "code",
   "execution_count": 5,
   "metadata": {},
   "outputs": [
    {
     "name": "stdout",
     "output_type": "stream",
     "text": [
      "['()()', '(())']\n",
      "['()()()', '(()())', '()(())', '(())()', '((()))']\n",
      "['()()()()', '(()()())', '()(()())', '(()())()', '((()()))', '()()(())', '()(())()', '(()(()))', '()(())()', '(())()()', '((())())', '()((()))', '((()))()', '(((())))']\n"
     ]
    }
   ],
   "source": [
    "def solution(n):\n",
    "    if n == 1:\n",
    "        return [\"()\"]\n",
    "    res = []\n",
    "    res_inner = solution(n-1)\n",
    "\n",
    "    for inner in res_inner:\n",
    "        # append \"()\" + inner\n",
    "        res.append(\"()\"+inner)\n",
    "        # append inner + \"()\"\n",
    "        res.append(inner + \"()\")\n",
    "        # append \"( inner )\"\n",
    "        res.append(\"(\" + inner + \")\")\n",
    "    # drop duplicate \n",
    "    res.remove(\"()\"*n)\n",
    "    return res\n",
    "\n",
    "print(solution(2))\n",
    "print(solution(3))\n",
    "print(solution(4))"
   ]
  }
 ],
 "metadata": {
  "interpreter": {
   "hash": "577791f2da4ac3a13c44f20f0f30021788d0264a6d82c3224a80270143730ffe"
  },
  "kernelspec": {
   "display_name": "Python 3.8.12 ('jupyterbook-py38')",
   "language": "python",
   "name": "python3"
  },
  "language_info": {
   "codemirror_mode": {
    "name": "ipython",
    "version": 3
   },
   "file_extension": ".py",
   "mimetype": "text/x-python",
   "name": "python",
   "nbconvert_exporter": "python",
   "pygments_lexer": "ipython3",
   "version": "3.8.12"
  },
  "orig_nbformat": 4
 },
 "nbformat": 4,
 "nbformat_minor": 2
}
