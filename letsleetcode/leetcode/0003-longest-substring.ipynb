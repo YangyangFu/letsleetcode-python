{
 "cells": [
  {
   "cell_type": "markdown",
   "metadata": {},
   "source": [
    "# 0003. Longest Substring without Repeating Characters\n",
    "\n",
    "## Problem\n",
    "\n",
    "Given a string s, find the length of the longest substring without repeating characters.\n",
    "\n",
    "### Examples \n",
    "Example 1:\n",
    "```\n",
    "Input: s = \"abcabcbb\"\n",
    "Output: 3\n",
    "Explanation: The answer is \"abc\", with the length of 3.\n",
    "```\n",
    "\n",
    "Example 2:\n",
    "```\n",
    "Input: s = \"bbbbb\"\n",
    "Output: 1\n",
    "Explanation: The answer is \"b\", with the length of 1.\n",
    "```\n",
    "\n",
    "Example 3:\n",
    "```\n",
    "Input: s = \"pwwkew\"\n",
    "Output: 3\n",
    "Explanation: The answer is \"wke\", with the length of 3.\n",
    "Notice that the answer must be a substring, \"pwke\" is a subsequence and not a substring.\n",
    "```\n",
    "### Constraints:\n",
    "\n",
    "```text\n",
    "2 <= nums.length <= 104\n",
    "-109 <= nums[i] <= 109\n",
    "-109 <= target <= 109\n",
    "Only one valid answer exists.\n",
    "```"
   ]
  },
  {
   "cell_type": "markdown",
   "metadata": {},
   "source": [
    "## Analysis\n",
    "\n",
    "- Method 1:\n",
    "    - unique characters can be represented as set. We need maintain a set with maximum length meeting the requirements\n",
    "    - algorithm:\n",
    "        - initialize a string to store the resulted string, and a variable that records its length\n",
    "        - use two pointers `i, j` to iterate over the whole string starting from the beginning of the string, \n",
    "            - if $A[j] \\ne A[i]$, then move pointer `j` right by 1, and record current unique substring in a set, increase the maximum length by 1\n",
    "            - if $A[j] = A[i]$, then move the pointer `i` to `j` and `j` to `j+1`, and start the loop again\n"
   ]
  },
  {
   "cell_type": "markdown",
   "metadata": {},
   "source": [
    "## Solution"
   ]
  },
  {
   "cell_type": "code",
   "execution_count": 1,
   "metadata": {},
   "outputs": [
    {
     "name": "stdout",
     "output_type": "stream",
     "text": [
      "abc\n",
      "b\n",
      "wke\n"
     ]
    }
   ],
   "source": [
    "# Solution 1: sliding window with two pointers -> $O(n)$ time + O(n) space\n",
    "def solution(s):\n",
    "    n = len(s)\n",
    "\n",
    "    i = 0\n",
    "    j = i + 1\n",
    "    l = 1\n",
    "    l_max = 1\n",
    "    r = s[i]\n",
    "    res = r\n",
    "    while i<n-1 and j<n:\n",
    "        if s[j] not in r:\n",
    "            r += s[j]\n",
    "            j += 1\n",
    "            l += 1\n",
    "            res = r\n",
    "        else:\n",
    "            if l > l_max:\n",
    "                res = r \n",
    "            i = j\n",
    "            j += 1\n",
    "            l = 1\n",
    "            r = s[i]\n",
    "\n",
    "    return res\n",
    "\n",
    "s = \"abcabcbb\"\n",
    "print(solution(s))\n",
    "\n",
    "s = 'bbbb'\n",
    "print(solution(s))\n",
    "\n",
    "s = \"pwwkew\"\n",
    "print(solution(s))\n"
   ]
  },
  {
   "cell_type": "code",
   "execution_count": 1,
   "metadata": {},
   "outputs": [],
   "source": [
    "# Solution 2: dynamic programming\n",
    "def solution(s):\n",
    "    pass"
   ]
  }
 ],
 "metadata": {
  "interpreter": {
   "hash": "577791f2da4ac3a13c44f20f0f30021788d0264a6d82c3224a80270143730ffe"
  },
  "kernelspec": {
   "display_name": "Python 3.8.12 ('jupyterbook-py38')",
   "language": "python",
   "name": "python3"
  },
  "language_info": {
   "codemirror_mode": {
    "name": "ipython",
    "version": 3
   },
   "file_extension": ".py",
   "mimetype": "text/x-python",
   "name": "python",
   "nbconvert_exporter": "python",
   "pygments_lexer": "ipython3",
   "version": "3.8.12"
  },
  "orig_nbformat": 4
 },
 "nbformat": 4,
 "nbformat_minor": 2
}
