{
 "cells": [
  {
   "cell_type": "markdown",
   "metadata": {},
   "source": [
    "# 0004. Median of Two Sorted Arrays\n",
    "\n",
    "## Problem\n",
    "\n",
    "Given two sorted arrays `nums1` and `nums2` of size `m` and `n` respectively, return the median of the two sorted arrays.\n",
    "\n",
    "The overall run time complexity should be $O(log (m+n))$.\n",
    "\n",
    "### Examples \n",
    "\n",
    "Example 1:\n",
    "\n",
    "``` text\n",
    "Input: nums1 = [1,3], nums2 = [2]\n",
    "Output: 2.00000\n",
    "Explanation: merged array = [1,2,3] and median is 2.\n",
    "```\n",
    "\n",
    "Example 2:\n",
    "\n",
    "```text\n",
    "Input: nums1 = [1,2], nums2 = [3,4]\n",
    "Output: 2.50000\n",
    "Explanation: merged array = [1,2,3,4] and median is (2 + 3) / 2 = 2.5.\n",
    "```\n",
    "\n",
    "### Constraints:\n",
    "\n",
    "```text\n",
    "nums1.length == m\n",
    "nums2.length == n\n",
    "0 <= m <= 1000\n",
    "0 <= n <= 1000\n",
    "1 <= m + n <= 2000\n",
    "-106 <= nums1[i], nums2[i] <= 106\n",
    "```"
   ]
  },
  {
   "cell_type": "markdown",
   "metadata": {},
   "source": [
    "## Analysis\n",
    "\n",
    "1. Merge two sorted arrays into an additional array\n",
    "2. find the median of the additional array \n",
    "3. how to design the solution that uses $O(m+n)$ space?"
   ]
  },
  {
   "cell_type": "markdown",
   "metadata": {},
   "source": [
    "## Solution"
   ]
  },
  {
   "cell_type": "code",
   "execution_count": 27,
   "metadata": {},
   "outputs": [
    {
     "name": "stdout",
     "output_type": "stream",
     "text": [
      "(1, 2)\n"
     ]
    }
   ],
   "source": [
    "# Solution 1: naive solution O(m+n) - two-pointers\n",
    "def solution(nums1, nums2):\n",
    "    m = len(nums1)\n",
    "    n = len(nums2)\n",
    "    i = 0\n",
    "    j = 0\n",
    "    k = 0\n",
    "    nums = [0]*(m+n)\n",
    "    # use merge-sort \n",
    "    # if m!=n, one of the array will be first fully traversed\n",
    "    while i < m and j < n:\n",
    "        if nums1[i] < nums2[j]:\n",
    "            nums[k] = nums1[i]\n",
    "            i += 1\n",
    "        else:\n",
    "            nums[k] = nums2[j]\n",
    "            j += 1\n",
    "        k += 1\n",
    "    # after one of the array is traversed, need traverse the other array for the remaining elements\n",
    "    while i < m:\n",
    "        nums[k] = nums1[i]\n",
    "        i += 1\n",
    "        k += 1\n",
    "    \n",
    "    while j < n:\n",
    "       nums[k] = nums2[j]\n",
    "       j += 1\n",
    "       k += 1 \n",
    "    \n",
    "    # find the median\n",
    "    median_index = (m+n) // 2\n",
    "    if (m+n) % 2 == 1:\n",
    "        median = nums[median_index]\n",
    "    else:\n",
    "        median = (nums[median_index] + nums[median_index+1])/2.\n",
    "\n",
    "    return median_index, median\n",
    "\n",
    "# test\n",
    "nums1 = [1, 3]\n",
    "nums2 = [2]\n",
    "print(solution(nums1, nums2))\n",
    "\n",
    "nums1 = [1, 2]\n",
    "nums2 = [3, 4]\n",
    "print(solution(nums1, nums2))\n"
   ]
  },
  {
   "cell_type": "code",
   "execution_count": null,
   "metadata": {},
   "outputs": [],
   "source": []
  }
 ],
 "metadata": {
  "interpreter": {
   "hash": "577791f2da4ac3a13c44f20f0f30021788d0264a6d82c3224a80270143730ffe"
  },
  "kernelspec": {
   "display_name": "Python 3.8.12 ('jupyterbook-py38')",
   "language": "python",
   "name": "python3"
  },
  "language_info": {
   "codemirror_mode": {
    "name": "ipython",
    "version": 3
   },
   "file_extension": ".py",
   "mimetype": "text/x-python",
   "name": "python",
   "nbconvert_exporter": "python",
   "pygments_lexer": "ipython3",
   "version": "3.8.12"
  },
  "orig_nbformat": 4
 },
 "nbformat": 4,
 "nbformat_minor": 2
}
