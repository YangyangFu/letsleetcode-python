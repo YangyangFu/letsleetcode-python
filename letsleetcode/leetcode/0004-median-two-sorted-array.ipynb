{
 "cells": [
  {
   "cell_type": "markdown",
   "metadata": {},
   "source": [
    "# 0004. Median of Two Sorted Arrays\n",
    "\n",
    "## Problem\n",
    "\n",
    "Given two sorted arrays `nums1` and `nums2` of size `m` and `n` respectively, return the median of the two sorted arrays.\n",
    "\n",
    "The overall run time complexity should be $O(log (m+n))$.\n",
    "\n",
    "### Examples \n",
    "\n",
    "Example 1:\n",
    "\n",
    "``` text\n",
    "Input: nums1 = [1,3], nums2 = [2]\n",
    "Output: 2.00000\n",
    "Explanation: merged array = [1,2,3] and median is 2.\n",
    "```\n",
    "\n",
    "Example 2:\n",
    "\n",
    "```text\n",
    "Input: nums1 = [1,2], nums2 = [3,4]\n",
    "Output: 2.50000\n",
    "Explanation: merged array = [1,2,3,4] and median is (2 + 3) / 2 = 2.5.\n",
    "```\n",
    "\n",
    "### Constraints:\n",
    "\n",
    "```text\n",
    "nums1.length == m\n",
    "nums2.length == n\n",
    "0 <= m <= 1000\n",
    "0 <= n <= 1000\n",
    "1 <= m + n <= 2000\n",
    "-106 <= nums1[i], nums2[i] <= 106\n",
    "```"
   ]
  },
  {
   "cell_type": "markdown",
   "metadata": {},
   "source": [
    "## Analysis\n",
    "- solution 1: this is not a sollution because the complexity is $O(m+n)$\n",
    "  1. Merge two sorted arrays into an additional array\n",
    "  2. find the median of the additional array \n",
    "  3. how to design the solution that uses $O(m+n)$ space?\n",
    "\n",
    "- solution 2:\n",
    "  - median is the middle number in a sorted list of numbers. The rest assumes ascending lists.\n",
    "  - The median partitions the list into two parts: the left partition is no greater than the median and the right partition is no smaller than the median.\n",
    "  - So we can use binary search to find such an index that the maximum number in the left partition is no greater than the minimum number in the right partition."
   ]
  },
  {
   "cell_type": "markdown",
   "metadata": {},
   "source": [
    "## Solution"
   ]
  },
  {
   "cell_type": "code",
   "execution_count": 28,
   "metadata": {},
   "outputs": [
    {
     "name": "stdout",
     "output_type": "stream",
     "text": [
      "(1, 2)\n",
      "(2, 3.5)\n"
     ]
    }
   ],
   "source": [
    "# Solution 1: naive solution O(m+n) - two-pointers\n",
    "def solution(nums1, nums2):\n",
    "    m = len(nums1)\n",
    "    n = len(nums2)\n",
    "    i = 0\n",
    "    j = 0\n",
    "    k = 0\n",
    "    nums = [0]*(m+n)\n",
    "    # use merge-sort \n",
    "    # if m!=n, one of the array will be first fully traversed\n",
    "    while i < m and j < n:\n",
    "        if nums1[i] < nums2[j]:\n",
    "            nums[k] = nums1[i]\n",
    "            i += 1\n",
    "        else:\n",
    "            nums[k] = nums2[j]\n",
    "            j += 1\n",
    "        k += 1\n",
    "    # after one of the array is traversed, need traverse the other array for the remaining elements\n",
    "    while i < m:\n",
    "        nums[k] = nums1[i]\n",
    "        i += 1\n",
    "        k += 1\n",
    "    \n",
    "    while j < n:\n",
    "       nums[k] = nums2[j]\n",
    "       j += 1\n",
    "       k += 1 \n",
    "    \n",
    "    # find the median\n",
    "    median_index = (m+n) // 2\n",
    "    if (m+n) % 2 == 1:\n",
    "        median = nums[median_index]\n",
    "    else:\n",
    "        median = (nums[median_index] + nums[median_index-1])/2.\n",
    "\n",
    "    return median_index, median\n",
    "\n",
    "# test\n",
    "nums1 = [1, 3]\n",
    "nums2 = [2]\n",
    "print(solution(nums1, nums2))\n",
    "\n",
    "nums1 = [1, 2]\n",
    "nums2 = [3, 4]\n",
    "print(solution(nums1, nums2))\n"
   ]
  },
  {
   "cell_type": "code",
   "execution_count": 4,
   "metadata": {},
   "outputs": [
    {
     "name": "stdout",
     "output_type": "stream",
     "text": [
      "2\n",
      "2.5\n"
     ]
    }
   ],
   "source": [
    "def solution(nums1, nums2):\n",
    "    A, B = nums1, nums2\n",
    "    total = len(nums1) + len(nums2)\n",
    "    half = total // 2\n",
    "    \n",
    "    # start with the shortest array\n",
    "    if len(B) < len(A):\n",
    "        A, B = B, A \n",
    "    \n",
    "    # left and right pointer for A\n",
    "    l, r = 0, len(A) - 1\n",
    "    while True:\n",
    "        i = (l + r) // 2 # A: half index for A to make the first part of the left partition\n",
    "        j = half - i - 2 # B: the rest of numbers needed to make up the left partition from B\n",
    "\n",
    "        Aleft = A[i] if i >= 0 else float(\"-infinity\")\n",
    "        Aright = A[i + 1] if (i+1) < len(A) else float(\"infinity\")\n",
    "        Bleft = B[j] if j >= 0 else float(\"-infinity\")\n",
    "        Bright = B[j + 1] if (j + 1) < len(B) else float(\"infinity\")\n",
    "\n",
    "        if Aleft <= Bright  and Bleft <= Aright:\n",
    "            # odd\n",
    "            if total % 2:\n",
    "                return min(Aright, Bright)\n",
    "            # even\n",
    "            return (max(Aleft, Bleft) + min(Aright, Bright)) / 2\n",
    "        elif Aleft > Bright:\n",
    "            r = i - 1\n",
    "        else:\n",
    "            l = i + 1\n",
    "\n",
    "# test\n",
    "nums1 = [1, 3]\n",
    "nums2 = [2]\n",
    "print(solution(nums1, nums2))\n",
    "\n",
    "nums1 = [1, 2]\n",
    "nums2 = [3, 4]\n",
    "print(solution(nums1, nums2))\n"
   ]
  },
  {
   "cell_type": "code",
   "execution_count": null,
   "metadata": {},
   "outputs": [],
   "source": []
  }
 ],
 "metadata": {
  "interpreter": {
   "hash": "577791f2da4ac3a13c44f20f0f30021788d0264a6d82c3224a80270143730ffe"
  },
  "kernelspec": {
   "display_name": "Python 3.8.12 ('jupyterbook-py38')",
   "language": "python",
   "name": "python3"
  },
  "language_info": {
   "codemirror_mode": {
    "name": "ipython",
    "version": 3
   },
   "file_extension": ".py",
   "mimetype": "text/x-python",
   "name": "python",
   "nbconvert_exporter": "python",
   "pygments_lexer": "ipython3",
   "version": "3.8.12"
  },
  "orig_nbformat": 4
 },
 "nbformat": 4,
 "nbformat_minor": 2
}
