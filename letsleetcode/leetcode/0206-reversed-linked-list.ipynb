{
 "cells": [
  {
   "cell_type": "markdown",
   "metadata": {},
   "source": [
    "# 0206. Reversed Linked List\n",
    "\n",
    "## Problem\n",
    "\n",
    "Given the head of a singly linked list, reverse the list, and return the reversed list.\n",
    "\n",
    "### Examples \n",
    "\n",
    "Example 1:\n",
    "\n",
    "``` text\n",
    "Input: head = [1,2,3,4,5]\n",
    "Output: [5,4,3,2,1]\n",
    "```\n",
    "\n",
    "Example 2:\n",
    "\n",
    "```text\n",
    "Input: head = [1,2]\n",
    "Output: [2,1]\n",
    "```\n",
    "\n",
    "Example 3:\n",
    "\n",
    "```text\n",
    "Input: head = []\n",
    "Output: []\n",
    "``` \n",
    "\n",
    "### Constraints:\n",
    "\n",
    "```text\n",
    "The number of nodes in the list is the range [0, 5000].\n",
    "-5000 <= Node.val <= 5000\n",
    "\n",
    "```\n",
    " \n",
    "### Follow-up\n"
   ]
  },
  {
   "cell_type": "markdown",
   "metadata": {},
   "source": [
    "## Analysis\n",
    "\n",
    "The (index, value) pair related problem can be efficiently solved in $O(n)$ time using hashing table. \n",
    "\n",
    "- iterate over the sequence\n",
    "    - given index and value, find another set of (index, value)"
   ]
  },
  {
   "cell_type": "markdown",
   "metadata": {},
   "source": [
    "## Solution"
   ]
  },
  {
   "cell_type": "code",
   "execution_count": null,
   "metadata": {},
   "outputs": [],
   "source": []
  }
 ],
 "metadata": {
  "interpreter": {
   "hash": "577791f2da4ac3a13c44f20f0f30021788d0264a6d82c3224a80270143730ffe"
  },
  "kernelspec": {
   "display_name": "Python 3.8.12 ('jupyterbook-py38')",
   "language": "python",
   "name": "python3"
  },
  "language_info": {
   "codemirror_mode": {
    "name": "ipython",
    "version": 3
   },
   "file_extension": ".py",
   "mimetype": "text/x-python",
   "name": "python",
   "nbconvert_exporter": "python",
   "pygments_lexer": "ipython3",
   "version": "3.8.12"
  },
  "orig_nbformat": 4
 },
 "nbformat": 4,
 "nbformat_minor": 2
}
