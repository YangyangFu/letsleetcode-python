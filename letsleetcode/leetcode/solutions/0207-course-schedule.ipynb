{
 "cells": [
  {
   "attachments": {},
   "cell_type": "markdown",
   "metadata": {},
   "source": [
    "# 0207 Course Schedule\n",
    "\n",
    "## Problem\n",
    "\n",
    "There are a total of `numCourses` courses you have to take, labeled from `0` to `numCourses - 1`. You are given an array prerequisites where `prerequisites[i] = [ai, bi]` indicates that you must take course `bi` first if you want to take course `ai`.\n",
    "\n",
    "For example, the pair `[0, 1]`, indicates that to take course `0` you have to first take course `1`.\n",
    "Return `true` if you can finish all courses. Otherwise, return `false`.\n",
    "\n",
    "### Examples \n",
    "\n",
    "Example 1:\n",
    "\n",
    "``` text\n",
    "Input: numCourses = 2, prerequisites = [[1,0]]\n",
    "Output: true\n",
    "Explanation: There are a total of 2 courses to take. \n",
    "To take course 1 you should have finished course 0. So it is possible.\n",
    "```\n",
    "\n",
    "Example 2:\n",
    "\n",
    "```text\n",
    "Input: numCourses = 2, prerequisites = [[1,0],[0,1]]\n",
    "Output: false\n",
    "Explanation: There are a total of 2 courses to take. \n",
    "To take course 1 you should have finished course 0, and to take course 0 you should also have finished course 1. So it is impossible.\n",
    "```\n",
    "\n",
    "### Constraints:\n",
    "\n",
    "```text\n",
    "1 <= numCourses <= 2000\n",
    "0 <= prerequisites.length <= 5000\n",
    "prerequisites[i].length == 2\n",
    "0 <= ai, bi < numCourses\n",
    "All the pairs prerequisites[i] are unique.\n",
    "\n",
    "```\n",
    " \n",
    "### Follow-up\n"
   ]
  },
  {
   "attachments": {},
   "cell_type": "markdown",
   "metadata": {},
   "source": [
    "## Analysis\n",
    "- when is it not possible to finish?\n",
    "  - when there are loops in the dependency graph\n",
    "- how to detect if such a dependency graph has loops or not?\n",
    "  - traverse the graph using DFS or BFS\n",
    "  - mark visited nodes\n",
    "  - if already visited, then there is a loop in the directed graph"
   ]
  },
  {
   "attachments": {},
   "cell_type": "markdown",
   "metadata": {},
   "source": [
    "## BFS Solution"
   ]
  },
  {
   "cell_type": "code",
   "execution_count": 22,
   "metadata": {},
   "outputs": [
    {
     "name": "stdout",
     "output_type": "stream",
     "text": [
      "True\n",
      "False\n",
      "True\n"
     ]
    }
   ],
   "source": [
    "def canFinish(numCourses, prerequisites):\n",
    "\n",
    "    # build graph from given number of courses and prerequisites\n",
    "    # here we represent graph as a dictionary\n",
    "    def buildGraph(numCourses, prerequisites):\n",
    "        graph = {}\n",
    "        for i in range(numCourses):\n",
    "            graph[i] = []\n",
    "        for i in range(len(prerequisites)):\n",
    "            graph[prerequisites[i][0]].append(prerequisites[i][1])\n",
    "        return graph \n",
    "    \n",
    "    # check if there is a cycle in the graph\n",
    "    def hasCycle(graph):\n",
    "        \n",
    "        visited = set()\n",
    "        visited.add(0)\n",
    "        queue = [0]\n",
    "\n",
    "        while queue:\n",
    "            node = queue.pop(0)\n",
    "\n",
    "            # explore all the neighbors of the node\n",
    "            for neighbor in graph[node]:\n",
    "                if neighbor in visited:\n",
    "                    return True\n",
    "                else:\n",
    "                    visited.add(neighbor)\n",
    "                    queue.append(neighbor)\n",
    "\n",
    "        return False\n",
    "    \n",
    "    graph = buildGraph(numCourses, prerequisites)\n",
    "    return not hasCycle(graph)\n",
    "\n",
    "# test\n",
    "numCourses = 2\n",
    "prerequisites = [[1,0]]\n",
    "print(canFinish(numCourses, prerequisites))\n",
    "\n",
    "numCourses = 2\n",
    "prerequisites = [[1,0],[0,1]]\n",
    "print(canFinish(numCourses, prerequisites))\n",
    "\n",
    "numCourses = 4\n",
    "prerequisites = [[1,0],[2,0],[3,1],[3,2]]\n",
    "print(canFinish(numCourses, prerequisites))"
   ]
  },
  {
   "attachments": {},
   "cell_type": "markdown",
   "metadata": {},
   "source": [
    "## DFS Solution\n",
    "\n",
    "Simply check if a node is visited or not. If it is visited, then there is a loop in the graph.\n",
    "\n",
    "**follow up**: \n",
    "\n",
    "if we want to know the path of the loop, \n",
    "- we can use a `parent` dictionary to keep track of the parent of each node. Then we can use the parent dictionary to trace back the path of the loop.\n",
    "- add a path parameter to the dfs function, and append the current node to the path. If there is a loop, then the path will contain the loop."
   ]
  },
  {
   "cell_type": "code",
   "execution_count": 29,
   "metadata": {},
   "outputs": [
    {
     "name": "stdout",
     "output_type": "stream",
     "text": [
      "{0: True}\n",
      "{0: True, 1: True}\n",
      "True\n",
      "{0: True, 1: True}\n",
      "{0: True, 1: True}\n",
      "False\n",
      "{0: True}\n",
      "{0: True, 1: True}\n",
      "{0: True, 1: True, 2: True}\n",
      "{0: True, 1: True, 2: True, 3: True}\n",
      "True\n"
     ]
    }
   ],
   "source": [
    "import collections\n",
    "def canFinish(numCourses, prerequisites):\n",
    "\n",
    "    def buildGraph(numCourses, prerequisites):\n",
    "        # define graph as a dictionary with key as course and value as list of prerequisites\n",
    "        graph = collections.defaultdict(list)\n",
    "        for x, y in prerequisites:\n",
    "            graph[x].append(y)\n",
    "        return graph\n",
    "    \n",
    "    # store the visited nodes\n",
    "    visited = {}\n",
    "\n",
    "    def hasCycle_dfs(graph, source):\n",
    "        if source in visited:\n",
    "            return True\n",
    "        \n",
    "        # add source to visited\n",
    "        visited[source] = True\n",
    "        \n",
    "        # explore all the neighbors of the source\n",
    "        for neighbor in graph[source]:\n",
    "            hasCycle_dfs(graph, neighbor)\n",
    "        \n",
    "\n",
    "    graph = buildGraph(numCourses, prerequisites)\n",
    "    for i in range(numCourses):\n",
    "        hasCycle = hasCycle_dfs(graph, i)\n",
    "        print(visited)\n",
    "        if hasCycle:\n",
    "            return not hasCycle\n",
    "   \n",
    "    return True\n",
    "    \n",
    "# test\n",
    "numCourses = 2\n",
    "prerequisites = [[1,0]]\n",
    "print(canFinish(numCourses, prerequisites))\n",
    "\n",
    "numCourses = 2\n",
    "prerequisites = [[1,0],[0,1]]\n",
    "print(canFinish(numCourses, prerequisites))\n",
    "\n",
    "numCourses = 4\n",
    "prerequisites = [[1,0],[2,0],[3,1],[3,2]]\n",
    "print(canFinish(numCourses, prerequisites))"
   ]
  },
  {
   "attachments": {},
   "cell_type": "markdown",
   "metadata": {},
   "source": [
    "If we also want to know the loop:"
   ]
  },
  {
   "cell_type": "code",
   "execution_count": 32,
   "metadata": {},
   "outputs": [
    {
     "name": "stdout",
     "output_type": "stream",
     "text": [
      "[[1, 0]]\n",
      "[[0, 1, 0], [1]]\n",
      "[[1, 0], [2, 0], [3, 1], [3, 2]]\n"
     ]
    }
   ],
   "source": [
    "import collections\n",
    "def canFinish(numCourses, prerequisites):\n",
    "\n",
    "    def buildGraph(numCourses, prerequisites):\n",
    "        # define graph as a dictionary with key as course and value as list of prerequisites\n",
    "        graph = collections.defaultdict(list)\n",
    "        for x, y in prerequisites:\n",
    "            graph[x].append(y)\n",
    "        return graph\n",
    "    \n",
    "    # store the visited nodes\n",
    "    visited = {}\n",
    "    traced = []\n",
    "    loops = []\n",
    "\n",
    "    def hasCycle_dfs(graph, source, traced):\n",
    "        # add to traced \n",
    "        traced.append(source)\n",
    "\n",
    "        if source in visited:\n",
    "            # find cycle, then return the cycle\n",
    "            loops.append(traced[:])\n",
    "\n",
    "            # remove from traced\n",
    "            traced.pop()\n",
    "            return\n",
    "        \n",
    "        # add source to visited\n",
    "        visited[source] = True\n",
    "        \n",
    "        # explore all the neighbors of the source\n",
    "        for neighbor in graph[source]:\n",
    "            hasCycle_dfs(graph, neighbor, traced)\n",
    "        \n",
    "        # remove from traced\n",
    "        traced.pop()\n",
    "\n",
    "    \n",
    "    graph = buildGraph(numCourses, prerequisites)\n",
    "    for i in range(numCourses):\n",
    "        hasCycle_dfs(graph, i, traced)\n",
    "        \n",
    "   \n",
    "    return loops\n",
    "    \n",
    "# test\n",
    "numCourses = 2\n",
    "prerequisites = [[1,0]]\n",
    "print(canFinish(numCourses, prerequisites))\n",
    "\n",
    "numCourses = 2\n",
    "prerequisites = [[1,0],[0,1]]\n",
    "print(canFinish(numCourses, prerequisites))\n",
    "\n",
    "numCourses = 4\n",
    "prerequisites = [[1,0],[2,0],[3,1],[3,2]]\n",
    "print(canFinish(numCourses, prerequisites))"
   ]
  }
 ],
 "metadata": {
  "kernelspec": {
   "display_name": "base",
   "language": "python",
   "name": "python3"
  },
  "language_info": {
   "codemirror_mode": {
    "name": "ipython",
    "version": 3
   },
   "file_extension": ".py",
   "mimetype": "text/x-python",
   "name": "python",
   "nbconvert_exporter": "python",
   "pygments_lexer": "ipython3",
   "version": "3.9.13"
  },
  "orig_nbformat": 4,
  "vscode": {
   "interpreter": {
    "hash": "90719f7b22258a2d6ecf0c790deba7bc0adf8c63aef77a66bd3eb2b289913783"
   }
  }
 },
 "nbformat": 4,
 "nbformat_minor": 2
}
