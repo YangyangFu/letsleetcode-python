{
 "cells": [
  {
   "attachments": {},
   "cell_type": "markdown",
   "metadata": {},
   "source": [
    "# 0207 Course Schedule\n",
    "\n",
    "## Problem\n",
    "\n",
    "There are a total of `numCourses` courses you have to take, labeled from `0` to `numCourses - 1`. You are given an array prerequisites where `prerequisites[i] = [ai, bi]` indicates that you must take course `bi` first if you want to take course `ai`.\n",
    "\n",
    "For example, the pair `[0, 1]`, indicates that to take course `0` you have to first take course `1`.\n",
    "Return `true` if you can finish all courses. Otherwise, return `false`.\n",
    "\n",
    "### Examples \n",
    "\n",
    "Example 1:\n",
    "\n",
    "``` text\n",
    "Input: numCourses = 2, prerequisites = [[1,0]]\n",
    "Output: true\n",
    "Explanation: There are a total of 2 courses to take. \n",
    "To take course 1 you should have finished course 0. So it is possible.\n",
    "```\n",
    "\n",
    "Example 2:\n",
    "\n",
    "```text\n",
    "Input: numCourses = 2, prerequisites = [[1,0],[0,1]]\n",
    "Output: false\n",
    "Explanation: There are a total of 2 courses to take. \n",
    "To take course 1 you should have finished course 0, and to take course 0 you should also have finished course 1. So it is impossible.\n",
    "```\n",
    "\n",
    "### Constraints:\n",
    "\n",
    "```text\n",
    "1 <= numCourses <= 2000\n",
    "0 <= prerequisites.length <= 5000\n",
    "prerequisites[i].length == 2\n",
    "0 <= ai, bi < numCourses\n",
    "All the pairs prerequisites[i] are unique.\n",
    "\n",
    "```\n",
    " \n",
    "### Follow-up\n"
   ]
  },
  {
   "attachments": {},
   "cell_type": "markdown",
   "metadata": {},
   "source": [
    "## Analysis\n",
    "- when is it not possible to finish?\n",
    "  - when there are loops in the dependency graph\n",
    "- how to detect if such a dependency graph has loops or not?\n",
    "  - traverse the graph using DFS or BFS\n",
    "  - mark visited nodes\n",
    "  - if already visited, then there is a loop in the directed graph"
   ]
  },
  {
   "attachments": {},
   "cell_type": "markdown",
   "metadata": {},
   "source": [
    "## BFS Solution"
   ]
  },
  {
   "cell_type": "code",
   "execution_count": null,
   "metadata": {},
   "outputs": [],
   "source": [
    "def canFinish(numCourses, prerequisites):\n",
    "\n",
    "    # build graph from given number of courses and prerequisites\n",
    "    # here we represent graph as a dictionary\n",
    "    def buildGraph(numCourses, prerequisites):\n",
    "        graph = {}\n",
    "        for i in range(numCourses):\n",
    "            graph[i] = []\n",
    "        for i in range(len(prerequisites)):\n",
    "            graph[prerequisites[i][0]].append(prerequisites[i][1])\n",
    "        return graph \n",
    "    \n",
    "    # check if there is a cycle in the graph\n",
    "    def hasCycle(graph):\n",
    "        \n",
    "        visited = set()\n",
    "        visited.add(0)\n",
    "        queue = [0]\n",
    "\n",
    "        while queue:\n",
    "            node = queue.pop(0)\n",
    "\n",
    "            # explore all the neighbors of the node\n",
    "            for neighbor in graph[node]:\n",
    "                if neighbor in visited:\n",
    "                    return True\n",
    "                else:\n",
    "                    visited.add(neighbor)\n",
    "                    queue.append(neighbor)\n",
    "\n",
    "        return False\n",
    "    \n",
    "    graph = buildGraph(numCourses, prerequisites)\n",
    "    return not hasCycle(graph)\n",
    "\n",
    "# test\n",
    "numCourses = 2\n",
    "prerequisites = [[1,0]]\n",
    "print(canFinish(numCourses, prerequisites))\n",
    "\n",
    "numCourses = 2\n",
    "prerequisites = [[1,0],[0,1]]\n",
    "print(canFinish(numCourses, prerequisites))"
   ]
  },
  {
   "attachments": {},
   "cell_type": "markdown",
   "metadata": {},
   "source": [
    "## DFS Solution\n"
   ]
  },
  {
   "cell_type": "code",
   "execution_count": null,
   "metadata": {},
   "outputs": [],
   "source": [
    "def canFinish(numCourses, prerequisites):\n",
    "    # 1. build graph\n",
    "    graph = collections.defaultdict(list)\n",
    "    for x, y in prerequisites:\n",
    "        graph[x].append(y)\n",
    "\n",
    "    # 2. check cycle\n",
    "    traced = set()\n",
    "    visited = set()\n",
    "\n",
    "    def dfs(i):\n",
    "        # cycle\n",
    "        if i in traced:\n",
    "            return False\n",
    "        # already visited\n",
    "        if i in visited:\n",
    "            return True\n",
    "\n",
    "        traced.add(i)\n",
    "        for y in graph[i]:\n",
    "            if not dfs(y):\n",
    "                return False\n",
    "        traced.remove(i)\n",
    "        visited.add(i)\n",
    "\n",
    "        return True\n",
    "\n",
    "    for x in list(graph):\n",
    "        if not dfs(x):\n",
    "            return False\n",
    "\n",
    "    return True"
   ]
  },
  {
   "cell_type": "code",
   "execution_count": 2,
   "metadata": {},
   "outputs": [
    {
     "name": "stdout",
     "output_type": "stream",
     "text": [
      "True\n",
      "False\n"
     ]
    }
   ],
   "source": [
    "def canFinish(numCourses, prerequisites):\n",
    "\n",
    "    def buildGraph(numCourses, prerequisites):\n",
    "        graph = {}\n",
    "        for x, y in prerequisites:\n",
    "            graph[x].append(y)\n",
    "        return graph\n",
    "    \n",
    "    def dfs(graph, source):\n",
    "        "
   ]
  }
 ],
 "metadata": {
  "interpreter": {
   "hash": "577791f2da4ac3a13c44f20f0f30021788d0264a6d82c3224a80270143730ffe"
  },
  "kernelspec": {
   "display_name": "Python 3.8.12 ('jupyterbook-py38')",
   "language": "python",
   "name": "python3"
  },
  "language_info": {
   "codemirror_mode": {
    "name": "ipython",
    "version": 3
   },
   "file_extension": ".py",
   "mimetype": "text/x-python",
   "name": "python",
   "nbconvert_exporter": "python",
   "pygments_lexer": "ipython3",
   "version": "3.8.12"
  },
  "orig_nbformat": 4
 },
 "nbformat": 4,
 "nbformat_minor": 2
}
