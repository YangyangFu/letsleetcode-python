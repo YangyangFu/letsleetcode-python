{
 "cells": [
  {
   "attachments": {},
   "cell_type": "markdown",
   "metadata": {},
   "source": [
    "# 1584 Min Cost to Connect All Points\n",
    "\n",
    "## Problem\n",
    "You are given an array points representing integer coordinates of some points on a 2D-plane, where `points[i] = [xi, yi]`.\n",
    "\n",
    "The cost of connecting two points `[xi, yi]` and `[xj, yj]` is the manhattan distance between them: `|xi - xj| + |yi - yj|`, where `|val|` denotes the absolute value of `val`.\n",
    "\n",
    "Return the minimum cost to make all points connected. All points are connected if there is exactly one simple path between any two points.\n",
    "\n",
    "### Examples \n",
    "Example 1:\n",
    "```\n",
    "Input: points = [[0,0],[2,2],[3,10],[5,2],[7,0]]\n",
    "Output: 20\n",
    "\n",
    "```\n",
    "Example 2:\n",
    "```\n",
    "Input: points = [[3,12],[-2,5],[-4,1]]\n",
    "Output: 18\n",
    "```\n",
    "\n",
    "### Constraint\n",
    "```text\n",
    "1 <= points.length <= 1000\n",
    "-106 <= xi, yi <= 106\n",
    "All pairs (xi, yi) are distinct.\n",
    "```"
   ]
  },
  {
   "attachments": {},
   "cell_type": "markdown",
   "metadata": {},
   "source": [
    "## Analysis\n",
    "Minimum spanning tree problem\n",
    "  \n",
    "## Solution"
   ]
  },
  {
   "cell_type": "code",
   "execution_count": 9,
   "metadata": {},
   "outputs": [
    {
     "name": "stdout",
     "output_type": "stream",
     "text": [
      "20\n",
      "18\n"
     ]
    }
   ],
   "source": [
    "# Prim's Algorithm\n",
    "import heapq\n",
    "def minCostConnectPoints(points):\n",
    "    # get weight between two points\n",
    "    def weights(points, u, v):\n",
    "        return abs(points[u][0] - points[v][0]) + abs(points[u][1] - points[v][1])\n",
    "\n",
    "    # build a fully connected graph\n",
    "    def buildGraph(n):\n",
    "        graph = {}\n",
    "        for i in range(n):\n",
    "            graph[i] = []\n",
    "            for j in range(n):\n",
    "                if i != j:\n",
    "                    graph[i].append((j))\n",
    "        return graph \n",
    "\n",
    "    n = len(points)\n",
    "    graph = buildGraph(n)\n",
    "    # initialize distance array to infinity\n",
    "    dist = [float('inf')] * n\n",
    "    # intialize distance to 0 for the root node\n",
    "    dist[0] = 0\n",
    "    # initialize priority queue\n",
    "    q = [(dist[i], i) for i in range(n)]\n",
    "    heapq.heapify(q)\n",
    "\n",
    "    # main loop\n",
    "    while q:\n",
    "        # extrac min\n",
    "        du, u = heapq.heappop(q)\n",
    "        # if distance is infinity, then we can't reach this node\n",
    "        for v in graph[u]:\n",
    "            w = weights(points, u, v)\n",
    "            if (dist[v], v) in q and w < dist[v]:\n",
    "                dist[v] = w\n",
    "                heapq.heappush(q, (dist[v], v))\n",
    "    \n",
    "    return sum(dist)\n",
    "\n",
    "# test\n",
    "points = [[0,0],[2,2],[3,10],[5,2],[7,0]]\n",
    "print(minCostConnectPoints(points))\n",
    "\n",
    "points = [[3,12],[-2,5],[-4,1]]\n",
    "print(minCostConnectPoints(points))\n",
    "        "
   ]
  }
 ],
 "metadata": {
  "interpreter": {
   "hash": "577791f2da4ac3a13c44f20f0f30021788d0264a6d82c3224a80270143730ffe"
  },
  "kernelspec": {
   "display_name": "Python 3.8.12 ('jupyterbook-py38')",
   "language": "python",
   "name": "python3"
  },
  "language_info": {
   "codemirror_mode": {
    "name": "ipython",
    "version": 3
   },
   "file_extension": ".py",
   "mimetype": "text/x-python",
   "name": "python",
   "nbconvert_exporter": "python",
   "pygments_lexer": "ipython3",
   "version": "3.8.12"
  },
  "orig_nbformat": 4
 },
 "nbformat": 4,
 "nbformat_minor": 2
}
