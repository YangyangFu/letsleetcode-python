{
 "cells": [
  {
   "attachments": {},
   "cell_type": "markdown",
   "metadata": {},
   "source": [
    "# 1584 Min Cost to Connect All Points\n",
    "\n",
    "## Problem\n",
    "You are given an array points representing integer coordinates of some points on a 2D-plane, where `points[i] = [xi, yi]`.\n",
    "\n",
    "The cost of connecting two points `[xi, yi]` and `[xj, yj]` is the manhattan distance between them: `|xi - xj| + |yi - yj|`, where `|val|` denotes the absolute value of `val`.\n",
    "\n",
    "Return the minimum cost to make all points connected. All points are connected if there is exactly one simple path between any two points.\n",
    "\n",
    "### Examples \n",
    "Example 1:\n",
    "```\n",
    "Input: points = [[0,0],[2,2],[3,10],[5,2],[7,0]]\n",
    "Output: 20\n",
    "\n",
    "```\n",
    "Example 2:\n",
    "```\n",
    "Input: points = [[3,12],[-2,5],[-4,1]]\n",
    "Output: 18\n",
    "```\n",
    "\n",
    "### Constraint\n",
    "```text\n",
    "1 <= points.length <= 1000\n",
    "-106 <= xi, yi <= 106\n",
    "All pairs (xi, yi) are distinct.\n",
    "```"
   ]
  },
  {
   "attachments": {},
   "cell_type": "markdown",
   "metadata": {},
   "source": [
    "## Analysis\n",
    "Minimum spanning tree problem\n",
    "  \n",
    "## Solution"
   ]
  },
  {
   "cell_type": "code",
   "execution_count": 40,
   "metadata": {},
   "outputs": [
    {
     "name": "stdout",
     "output_type": "stream",
     "text": [
      "20\n",
      "18\n",
      "52210\n"
     ]
    }
   ],
   "source": [
    "# use Prim's algorithm\n",
    "def minCostConnectPoints(points):\n",
    "    # initialize distance to infinity for all points and 0 for the first point\n",
    "    d, res = {(x, y): float('inf') if i else 0 for i, (x, y) in enumerate(points)}, 0\n",
    "    \n",
    "    while d:\n",
    "        x, y = min(d, key=d.get)  # obtain the current minimum edge\n",
    "        res += d.pop((x, y))      # and remove the corresponding point\n",
    "        for x1, y1 in d:          # for the rest of the points, update the minimum manhattan distance\n",
    "            d[(x1, y1)] = min(d[(x1, y1)], abs(x-x1)+abs(y-y1))\n",
    "    return res\n",
    "\n",
    "# test\n",
    "points = [[0,0],[2,2],[3,10],[5,2],[7,0]]\n",
    "print(minCostConnectPoints(points))\n",
    "\n",
    "points = [[3,12],[-2,5],[-4,1]]\n",
    "print(minCostConnectPoints(points))\n",
    "\n",
    "# test on a list of 1000 points\n",
    "import random\n",
    "npoints = 1000\n",
    "points = [[random.randint(-1000, 1000), random.randint(-1000, 1000)] for _ in range(npoints)]\n",
    "print(minCostConnectPoints(points))\n"
   ]
  },
  {
   "attachments": {},
   "cell_type": "markdown",
   "metadata": {},
   "source": [
    "**Check why the following implementation is time-consuming for large graphs??**\n",
    "- the code using `heapq` is slow because of `Line 38`, which should remove the original `(dist[v],v)` from the queue and then push. Without removing it, the history of `(dist[v], v)` are all recorded in queue."
   ]
  },
  {
   "cell_type": "code",
   "execution_count": 13,
   "metadata": {},
   "outputs": [
    {
     "name": "stdout",
     "output_type": "stream",
     "text": [
      "16762\n"
     ]
    }
   ],
   "source": [
    "# Prim's Algorithm\n",
    "import heapq\n",
    "def minCostConnectPoints(points):\n",
    "    # get weight between two points\n",
    "    def weights(points, u, v):\n",
    "        return abs(points[u][0] - points[v][0]) + abs(points[u][1] - points[v][1])\n",
    "\n",
    "    # build a fully connected graph\n",
    "    # this is not necessary, but it makes the code easier to understand\n",
    "    # this part is O(n^2), need to be aovided if n is large\n",
    "    def buildGraph(n):\n",
    "        graph = {}\n",
    "        for i in range(n):\n",
    "            graph[i] = []\n",
    "            for j in range(n):\n",
    "                if i != j:\n",
    "                    graph[i].append((j))\n",
    "        return graph \n",
    "\n",
    "    n = len(points)\n",
    "    graph = buildGraph(n)\n",
    "    # initialize distance array to infinity\n",
    "    dist = [float('inf')] * n\n",
    "    # intialize distance to 0 for the root node\n",
    "    dist[0] = 0\n",
    "    # initialize priority queue\n",
    "    q = [(dist[i], i) for i in range(n)]\n",
    "    heapq.heapify(q)\n",
    "    # main loop\n",
    "    while q:\n",
    "        # extrac min\n",
    "        du, u = heapq.heappop(q)\n",
    "        # if distance is infinity, then we can't reach this node\n",
    "        for v in graph[u]:\n",
    "            w = weights(points, u, v)\n",
    "            if (dist[v], v) in q and w < dist[v]:\n",
    "                dist[v] = w\n",
    "                heapq.heappush(q, (dist[v], v))\n",
    "    \n",
    "    return sum(dist)\n",
    "\n",
    "# The following test is too time consuming because the above code \n",
    "# test on a list of 1000 points\n",
    "import random\n",
    "npoints = 100\n",
    "points = [[random.randint(-1000, 1000), random.randint(-1000, 1000)] for _ in range(npoints)]\n",
    "print(minCostConnectPoints(points))"
   ]
  },
  {
   "cell_type": "code",
   "execution_count": 41,
   "metadata": {},
   "outputs": [
    {
     "name": "stdout",
     "output_type": "stream",
     "text": [
      "195609\n"
     ]
    }
   ],
   "source": [
    "# Prim's Algorithm\n",
    "def minCostConnectPoints(points):\n",
    "    # get weight between two points\n",
    "    def weights(points, u, v):\n",
    "        return abs(points[u][0] - points[v][0]) + abs(points[u][1] - points[v][1])\n",
    "\n",
    "    # build a fully connected graph\n",
    "    # this is not necessary, but it makes the code easier to understand\n",
    "    # this part is O(n^2), need to be aovided if n is large\n",
    "    def buildGraph(n):\n",
    "        graph = {}\n",
    "        weight = {}\n",
    "        for i in range(n):\n",
    "            graph[i] = []\n",
    "            for j in range(i+1,n):\n",
    "                if j not in graph:\n",
    "                    graph[j] = []\n",
    "                graph[i].append(j)\n",
    "                graph[j].append(i)\n",
    "                weight[(i,j)] = weight[(j,i)] = weights(points, i, j)\n",
    "\n",
    "        return graph, weight \n",
    "\n",
    "    n = len(points)\n",
    "    graph, weight = buildGraph(n)\n",
    "    # initialize distance array to infinity\n",
    "    dist = [float('inf')] * n\n",
    "    # intialize distance to 0 for the root node\n",
    "    dist[0] = 0\n",
    "    # initialize priority queue\n",
    "    q = {i:dist[i] for i in range(n)}\n",
    "\n",
    "    # main loop\n",
    "    while q:\n",
    "        # extract node with minimum value\n",
    "        u = min(q, key=q.get)\n",
    "        # remove node from queue\n",
    "        q.pop(u)\n",
    "\n",
    "        # if distance is infinity, then we can't reach this node\n",
    "        for v in graph[u]:\n",
    "            w = weight[(u, v)]\n",
    "            if v in q and w < dist[v]:\n",
    "                dist[v] = w\n",
    "                q[v] = dist[v]\n",
    "    \n",
    "    return sum(dist)\n",
    "\n",
    "# The following test is too time consuming because the above code \n",
    "# test on a list of 1000 points\n",
    "import random\n",
    "npoints = 1000\n",
    "points = [[random.randint(-1000, 1000), random.randint(-1000, 1000)] for _ in range(npoints)]\n",
    "print(minCostConnectPoints(points))"
   ]
  },
  {
   "cell_type": "code",
   "execution_count": 44,
   "metadata": {},
   "outputs": [
    {
     "name": "stdout",
     "output_type": "stream",
     "text": [
      "20\n",
      "18\n",
      "51246\n"
     ]
    }
   ],
   "source": [
    "# Kruskal's Algorithm\n",
    "class UnionFind:\n",
    "    def __init__(self, n):\n",
    "        self.parent = [i for i in range(n)]\n",
    "        self.count = n \n",
    "    \n",
    "    def find(self, node):\n",
    "        if node != self.parent[node]:\n",
    "            self.parent[node] = self.find(self.parent[node])\n",
    "        return self.parent[node]\n",
    "    \n",
    "    def union(self, node1, node2):\n",
    "        root1 = self.find(node1)\n",
    "        root2 = self.find(node2)\n",
    "        if root1 != root2:\n",
    "            self.parent[root1] = root2\n",
    "            self.count -= 1\n",
    "    def connected(self, node1, node2):\n",
    "        return self.find(node1) == self.find(node2)\n",
    "    def count(self):\n",
    "        return self.count\n",
    "\n",
    "def minCostConnectPoints(points):\n",
    "    #1. build graph\n",
    "    n = len(points)\n",
    "    graph = []\n",
    "    for i in range(n):\n",
    "        for j in range(i+1, n):\n",
    "            w = abs(points[i][0] - points[j][0]) + abs(points[i][1] - points[j][1])\n",
    "            graph.append((w, i, j))\n",
    "    # sort the graph by weight\n",
    "    graph.sort()\n",
    "\n",
    "    #2. Kruskal's Algorithm\n",
    "    uf = UnionFind(n)\n",
    "    res = 0\n",
    "    # get the edge with minimum weight one by one\n",
    "    for w, u, v in graph:\n",
    "        if not uf.connected(u, v):\n",
    "            uf.union(u, v)\n",
    "            res += w\n",
    "    return res\n",
    "\n",
    "# test\n",
    "points = [[0,0],[2,2],[3,10],[5,2],[7,0]]\n",
    "print(minCostConnectPoints(points))\n",
    "\n",
    "points = [[3,12],[-2,5],[-4,1]]\n",
    "print(minCostConnectPoints(points))\n",
    "\n",
    "import random\n",
    "npoints = 1000\n",
    "points = [[random.randint(-1000, 1000), random.randint(-1000, 1000)] for _ in range(npoints)]\n",
    "print(minCostConnectPoints(points))"
   ]
  }
 ],
 "metadata": {
  "interpreter": {
   "hash": "577791f2da4ac3a13c44f20f0f30021788d0264a6d82c3224a80270143730ffe"
  },
  "kernelspec": {
   "display_name": "Python 3.8.12 ('jupyterbook-py38')",
   "language": "python",
   "name": "python3"
  },
  "language_info": {
   "codemirror_mode": {
    "name": "ipython",
    "version": 3
   },
   "file_extension": ".py",
   "mimetype": "text/x-python",
   "name": "python",
   "nbconvert_exporter": "python",
   "pygments_lexer": "ipython3",
   "version": "3.8.12 (default, Oct 12 2021, 06:23:56) \n[Clang 10.0.0 ]"
  },
  "orig_nbformat": 4
 },
 "nbformat": 4,
 "nbformat_minor": 2
}
