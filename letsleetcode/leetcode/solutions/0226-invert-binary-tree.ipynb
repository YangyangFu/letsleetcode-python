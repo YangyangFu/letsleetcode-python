{
 "cells": [
  {
   "attachments": {},
   "cell_type": "markdown",
   "metadata": {},
   "source": [
    "# 0226. Invert Binary Tree\n",
    "\n",
    "## Problem\n",
    "\n",
    "Given the root of a binary tree, invert the tree, and return its root.\n",
    "\n",
    "### Examples \n",
    "\n",
    "Example 1:\n",
    "\n",
    "``` text\n",
    "Input: root = [4,2,7,1,3,6,9]\n",
    "Output: [4,7,2,9,6,3,1]\n",
    "```\n",
    "\n",
    "Example 2:\n",
    "\n",
    "```text\n",
    "Input: root = [2,1,3]\n",
    "Output: [2,3,1]\n",
    "```\n",
    "\n",
    "\n",
    "### Constraints:\n",
    "\n",
    "### Follow-up\n"
   ]
  },
  {
   "cell_type": "code",
   "execution_count": 3,
   "metadata": {},
   "outputs": [],
   "source": [
    "class Node():\n",
    "    def __init__(self, val=0, left=None, right=None):\n",
    "        self.val = val \n",
    "        self.left = left\n",
    "        self.right = right\n",
    "\n",
    "def levelorder_traverse(root):\n",
    "    queue = [root]\n",
    "\n",
    "    res= []\n",
    "    while queue:\n",
    "        node = queue.pop(0)\n",
    "        res.append(node.val)\n",
    "\n",
    "        # enqueue\n",
    "        if node.left:\n",
    "            queue.append(node.left)\n",
    "        if node.right:\n",
    "            queue.append(node.right)\n",
    "\n",
    "    return res"
   ]
  },
  {
   "cell_type": "code",
   "execution_count": 5,
   "metadata": {},
   "outputs": [
    {
     "name": "stdout",
     "output_type": "stream",
     "text": [
      "[4, 2, 7, 1, 3, 6, 9]\n",
      "[4, 7, 2, 9, 6, 3, 1]\n"
     ]
    }
   ],
   "source": [
    "# use preorder operation\n",
    "def invertBinaryTree(root):\n",
    "\n",
    "    if not root:\n",
    "        return\n",
    "    \n",
    "    # preorder operations: swap subtrees\n",
    "    root.left, root.right = root.right, root.left\n",
    "    # traverse left subtree\n",
    "    invertBinaryTree(root.left)\n",
    "    # traverse right subtree\n",
    "    invertBinaryTree(root.right)\n",
    "\n",
    "    return root \n",
    "\n",
    "# test\n",
    "node = Node(4)\n",
    "node.left = Node(2)\n",
    "node.right = Node(7)\n",
    "node.left.left = Node(1)\n",
    "node.left.right = Node(3)\n",
    "node.right.left = Node(6)\n",
    "node.right.right = Node(9)\n",
    "print(levelorder_traverse(node))\n",
    "node = invertBinaryTree(node)\n",
    "print(levelorder_traverse(node))\n"
   ]
  },
  {
   "cell_type": "code",
   "execution_count": 7,
   "metadata": {},
   "outputs": [
    {
     "name": "stdout",
     "output_type": "stream",
     "text": [
      "[4, 2, 7, 1, 3, 6, 9]\n",
      "[4, 7, 2, 9, 6, 3, 1]\n"
     ]
    }
   ],
   "source": [
    "# use post-order operation\n",
    "def invertBinaryTree(root):\n",
    "    if not root:\n",
    "        return \n",
    "    \n",
    "    # traverse left subtree\n",
    "    left = invertBinaryTree(root.left)\n",
    "    # traveres right subtree\n",
    "    right = invertBinaryTree(root.right)\n",
    "    # post-order operations\n",
    "    root.left = right \n",
    "    root.right = left \n",
    "\n",
    "    return root\n",
    "\n",
    "# test\n",
    "node = Node(4)\n",
    "node.left = Node(2)\n",
    "node.right = Node(7)\n",
    "node.left.left = Node(1)\n",
    "node.left.right = Node(3)\n",
    "node.right.left = Node(6)\n",
    "node.right.right = Node(9)\n",
    "print(levelorder_traverse(node))\n",
    "node = invertBinaryTree(node)\n",
    "print(levelorder_traverse(node))"
   ]
  }
 ],
 "metadata": {
  "interpreter": {
   "hash": "577791f2da4ac3a13c44f20f0f30021788d0264a6d82c3224a80270143730ffe"
  },
  "kernelspec": {
   "display_name": "Python 3.8.12 ('jupyterbook-py38')",
   "language": "python",
   "name": "python3"
  },
  "language_info": {
   "codemirror_mode": {
    "name": "ipython",
    "version": 3
   },
   "file_extension": ".py",
   "mimetype": "text/x-python",
   "name": "python",
   "nbconvert_exporter": "python",
   "pygments_lexer": "ipython3",
   "version": "3.8.12"
  },
  "orig_nbformat": 4
 },
 "nbformat": 4,
 "nbformat_minor": 2
}
