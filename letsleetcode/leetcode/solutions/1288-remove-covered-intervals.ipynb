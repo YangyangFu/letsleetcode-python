{
 "cells": [
  {
   "cell_type": "markdown",
   "metadata": {},
   "source": [
    "# 1288 Remove Covered Intervals\n",
    "\n",
    "## Problem\n",
    "Given an array intervals where `intervals[i] = [li, ri]` represent the interval `[li, ri)`, remove all intervals that are covered by another interval in the list.\n",
    "\n",
    "The interval `[a, b)` is covered by the interval `[c, d)` if and only if `c <= a` and `b <= d`.\n",
    "\n",
    "Return the number of remaining intervals.\n",
    "\n",
    "### Examples \n",
    "Example 1:\n",
    "```\n",
    "Input: intervals = [[1,4],[3,6],[2,8]]\n",
    "Output: 2\n",
    "Explanation: Interval [3,6] is covered by [2,8], therefore it is removed.\n",
    "\n",
    "```\n",
    "Example 2:\n",
    "```\n",
    "Input: intervals = [[1,4],[2,3]]\n",
    "Output: 1\n",
    "```\n",
    "\n",
    "### Constraint\n",
    "```text\n",
    "1 <= intervals.length <= 1000\n",
    "intervals[i].length == 2\n",
    "0 <= li < ri <= 105\n",
    "All the given intervals are unique.\n",
    "\n",
    "```"
   ]
  },
  {
   "cell_type": "markdown",
   "metadata": {},
   "source": [
    "## Analysis\n",
    "- sort the intervals based on the start point\n",
    "- traverse the intervals, and compare the end point of the previous interval and the current interval\n",
    "  - if the end point of the previous interval is greater than the end point of the current interval, then the current interval is covered by the previous interval\n",
    "\n",
    "\n",
    "## Solution"
   ]
  },
  {
   "cell_type": "code",
   "execution_count": 7,
   "metadata": {},
   "outputs": [
    {
     "name": "stdout",
     "output_type": "stream",
     "text": [
      "2\n",
      "1\n",
      "1\n"
     ]
    }
   ],
   "source": [
    "def removeCoveredIntervals(intervals):\n",
    "    intervals.sort(key=lambda x: x[0])\n",
    "\n",
    "    count = 0\n",
    "    interval = intervals[0]\n",
    "    for i in range(1, len(intervals)):\n",
    "        # the previous interval covers the current interval\n",
    "        if intervals[i][1] <= interval[1]:\n",
    "            count += 1\n",
    "        # the current interval covers the previous interval\n",
    "        elif (intervals[i][0] == interval[0] and intervals[i][1] >= interval[1]):\n",
    "            count += 1\n",
    "            interval = intervals[i]\n",
    "        # no covering\n",
    "        else:\n",
    "            interval = intervals[i]\n",
    "    \n",
    "    return len(intervals) - count\n",
    "\n",
    "\n",
    "# test\n",
    "intervals = [[1,4],[3,6],[2,8]]\n",
    "print(removeCoveredIntervals(intervals))\n",
    "\n",
    "intervals = [[1,4],[2,3]]\n",
    "print(removeCoveredIntervals(intervals))\n",
    "\n",
    "intervals = [[1,2],[1,4],[3,4]]\n",
    "print(removeCoveredIntervals(intervals))"
   ]
  },
  {
   "cell_type": "code",
   "execution_count": 8,
   "metadata": {},
   "outputs": [
    {
     "name": "stdout",
     "output_type": "stream",
     "text": [
      "2\n",
      "1\n",
      "1\n"
     ]
    }
   ],
   "source": [
    "def removeCoveredIntervals(intervals):\n",
    "    intervals.sort(key=lambda x: (x[0], -x[1]))\n",
    "\n",
    "    count = 0\n",
    "    end = 0\n",
    "    for i in range(len(intervals)):\n",
    "        # the previous interval covers the current interval\n",
    "        if intervals[i][1] <= end:\n",
    "            count += 1\n",
    "        # no covering\n",
    "        else:\n",
    "            end = intervals[i][1]\n",
    "    \n",
    "    return len(intervals) - count\n",
    "\n",
    "# test\n",
    "intervals = [[1,4],[3,6],[2,8]]\n",
    "print(removeCoveredIntervals(intervals))\n",
    "\n",
    "intervals = [[1,4],[2,3]]\n",
    "print(removeCoveredIntervals(intervals))\n",
    "\n",
    "intervals = [[1,2],[1,4],[3,4]]\n",
    "print(removeCoveredIntervals(intervals))"
   ]
  }
 ],
 "metadata": {
  "interpreter": {
   "hash": "577791f2da4ac3a13c44f20f0f30021788d0264a6d82c3224a80270143730ffe"
  },
  "kernelspec": {
   "display_name": "Python 3.8.12 ('jupyterbook-py38')",
   "language": "python",
   "name": "python3"
  },
  "language_info": {
   "codemirror_mode": {
    "name": "ipython",
    "version": 3
   },
   "file_extension": ".py",
   "mimetype": "text/x-python",
   "name": "python",
   "nbconvert_exporter": "python",
   "pygments_lexer": "ipython3",
   "version": "3.9.13"
  },
  "orig_nbformat": 4
 },
 "nbformat": 4,
 "nbformat_minor": 2
}
