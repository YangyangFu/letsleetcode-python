{
 "cells": [
  {
   "attachments": {},
   "cell_type": "markdown",
   "metadata": {},
   "source": [
    "# 1514 Path With Maximum Probability\n",
    "\n",
    "## Problem\n",
    "You are given an undirected weighted graph of `n` nodes (0-indexed), represented by an edge list where `edges[i] = [a, b]` is an undirected edge connecting the nodes `a` and `b` with a probability of success of traversing that edge `succProb[i]`.\n",
    "\n",
    "Given two nodes start and end, find the path with the maximum probability of success to go from start to end and return its success probability.\n",
    "\n",
    "If there is no path from start to end, return 0. Your answer will be accepted if it differs from the correct answer by at most 1e-5.\n",
    "\n",
    "\n",
    "### Examples \n",
    "Example 1:\n",
    "```\n",
    "Input: n = 3, edges = [[0,1],[1,2],[0,2]], succProb = [0.5,0.5,0.2], start = 0, end = 2\n",
    "Output: 0.25000\n",
    "Explanation: There are two paths from start to end, one having a probability of success = 0.2 and the other has 0.5 * 0.5 = 0.25.\n",
    "\n",
    "```\n",
    "Example 2:\n",
    "```\n",
    "Input: n = 3, edges = [[0,1],[1,2],[0,2]], succProb = [0.5,0.5,0.3], start = 0, end = 2\n",
    "Output: 0.30000\n",
    "```\n",
    "Example 3:\n",
    "```\n",
    "Input: n = 3, edges = [[0,1]], succProb = [0.5], start = 0, end = 2\n",
    "Output: 0.00000\n",
    "Explanation: There is no path between 0 and 2.\n",
    "```\n",
    "### Constraint\n",
    "```text\n",
    "2 <= n <= 10^4\n",
    "0 <= start, end < n\n",
    "start != end\n",
    "0 <= a, b < n\n",
    "a != b\n",
    "0 <= succProb.length == edges.length <= 2*10^4\n",
    "0 <= succProb[i] <= 1\n",
    "There is at most one edge between every two nodes.\n",
    "```"
   ]
  },
  {
   "attachments": {},
   "cell_type": "markdown",
   "metadata": {},
   "source": [
    "## Analysis\n",
    "Three methods can be used for solving this shortest weighted path problems:\n",
    "- BFS\n",
    "- DFS\n",
    "- Dijkstra\n",
    "  - However, Dijkstra's algorithm is for DAG, how to use it for undirected graph?\n",
    "    - construct directed graph from undirected graph by treating it as bidirectional graph\n",
    "\n",
    "## Solution"
   ]
  },
  {
   "cell_type": "code",
   "execution_count": 7,
   "metadata": {},
   "outputs": [
    {
     "name": "stdout",
     "output_type": "stream",
     "text": [
      "0.25\n",
      "0\n"
     ]
    }
   ],
   "source": [
    "# Dijkstra's algorithm 1\n",
    "def maxProbability(n, edges, succProb, start, end):\n",
    "    # build a graph\n",
    "    graph = {}\n",
    "    prob = {}\n",
    "    for i in range(n):\n",
    "        graph[i] = []\n",
    "    for u, v in edges:\n",
    "        graph[u].append(v)\n",
    "        graph[v].append(u)\n",
    "    for i in range(len(edges)):\n",
    "        u, v = edges[i]\n",
    "        prob[(u, v)] = succProb[i]\n",
    "        prob[(v, u)] = succProb[i]\n",
    "    # dijkstra\n",
    "    distances = [0]*n \n",
    "    distances[start] = 1\n",
    "    # define a queue\n",
    "    queue = [(distances[start], start)]\n",
    "\n",
    "    while queue:\n",
    "        # pop the node\n",
    "        distance, node = queue.pop(0)\n",
    "\n",
    "        # explore the neighbors\n",
    "        for neighbor in graph[node]:\n",
    "            distance_neighbor = distance * prob[(node, neighbor)]\n",
    "            # enqueue the neighbor if the distance is larger\n",
    "            if distance_neighbor > distances[neighbor]:\n",
    "                distances[neighbor] = distance_neighbor\n",
    "                queue.append((distances[neighbor], neighbor))\n",
    "    \n",
    "    return distances[end]\n",
    "\n",
    "# test\n",
    "n = 3\n",
    "edges = [[0,1],[1,2],[0,2]]\n",
    "succProb = [0.5,0.5,0.2]\n",
    "start = 0\n",
    "end = 2\n",
    "print(maxProbability(n, edges, succProb, start, end))\n",
    "\n",
    "n = 3\n",
    "edges = [[0,1]]\n",
    "succProb = [0.5]\n",
    "start = 0\n",
    "end = 2\n",
    "print(maxProbability(n, edges, succProb, start, end))"
   ]
  },
  {
   "attachments": {},
   "cell_type": "markdown",
   "metadata": {},
   "source": [
    "The above code calculates the max probability for all the nodes, and then return the value for `end` node, which can be optimized by removing unneeded calculations.\n",
    "\n",
    "We have to rely on a max priority heap or max method to achieve this type of early returns. \n",
    "- if use `max`, the time complexity will be O(n), which lead to an overall complexity of O(n^2)\n",
    "- if use `max-heap`, the time complexity will be O(log(n)), and the overall complexity is O(nlog(n))\n"
   ]
  },
  {
   "cell_type": "code",
   "execution_count": 9,
   "metadata": {},
   "outputs": [
    {
     "name": "stdout",
     "output_type": "stream",
     "text": [
      "0.25\n",
      "0\n"
     ]
    }
   ],
   "source": [
    "def maxProbability(n, edges, succProb, start, end):\n",
    "    # build a graph\n",
    "    graph = {}\n",
    "    prob = {}\n",
    "    for i in range(n):\n",
    "        graph[i] = []\n",
    "    for u, v in edges:\n",
    "        graph[u].append(v)\n",
    "        graph[v].append(u)\n",
    "    for i in range(len(edges)):\n",
    "        u, v = edges[i]\n",
    "        prob[(u, v)] = succProb[i]\n",
    "        prob[(v, u)] = succProb[i]\n",
    "    \n",
    "    # dijkstra\n",
    "    distances = [0]*n\n",
    "    distances[start] = 1\n",
    "    # \n",
    "    queue = [(distances[start], start)]\n",
    "\n",
    "    while queue:\n",
    "        # pop the max prob node\n",
    "        distance, node = max(queue)\n",
    "        queue.remove((distance, node))\n",
    "\n",
    "        # early return\n",
    "        if node == end:\n",
    "            return distance\n",
    "\n",
    "        # explore the neighbors\n",
    "        for neighbor in graph[node]:\n",
    "            distance_neighbor = distance * prob[(node, neighbor)]\n",
    "            # enqueue the neighbor if the distance is larger\n",
    "            if distance_neighbor > distances[neighbor]:\n",
    "                distances[neighbor] = distance_neighbor\n",
    "                queue.append((distances[neighbor], neighbor))\n",
    "                \n",
    "    return distances[end]\n",
    "\n",
    "# test\n",
    "n = 3\n",
    "edges = [[0,1],[1,2],[0,2]]\n",
    "succProb = [0.5,0.5,0.2]\n",
    "start = 0\n",
    "end = 2\n",
    "print(maxProbability(n, edges, succProb, start, end))\n",
    "\n",
    "n = 3\n",
    "edges = [[0,1]]\n",
    "succProb = [0.5]\n",
    "start = 0\n",
    "end = 2\n",
    "print(maxProbability(n, edges, succProb, start, end))\n"
   ]
  },
  {
   "cell_type": "markdown",
   "metadata": {},
   "source": []
  }
 ],
 "metadata": {
  "kernelspec": {
   "display_name": "jupyterbook-py38",
   "language": "python",
   "name": "python3"
  },
  "language_info": {
   "codemirror_mode": {
    "name": "ipython",
    "version": 3
   },
   "file_extension": ".py",
   "mimetype": "text/x-python",
   "name": "python",
   "nbconvert_exporter": "python",
   "pygments_lexer": "ipython3",
   "version": "3.8.12"
  },
  "orig_nbformat": 4,
  "vscode": {
   "interpreter": {
    "hash": "577791f2da4ac3a13c44f20f0f30021788d0264a6d82c3224a80270143730ffe"
   }
  }
 },
 "nbformat": 4,
 "nbformat_minor": 2
}
