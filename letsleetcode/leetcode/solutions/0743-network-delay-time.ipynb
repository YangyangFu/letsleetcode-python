{
 "cells": [
  {
   "attachments": {},
   "cell_type": "markdown",
   "metadata": {},
   "source": [
    "# 0733. Network Delay Time\n",
    "\n",
    "Related Problem:\n",
    "\n",
    "- \n",
    "\n",
    "## Problem\n",
    "\n",
    "You are given a network of `n` nodes, labeled from `1` to `n`. You are also given times, a list of travel times as directed edges `times[i] = (ui, vi, wi)`, where `ui` is the source node, `vi` is the target node, and `wi` is the time it takes for a signal to travel from source to target.\n",
    "\n",
    "We will send a signal from a given node `k`. Return the minimum time it takes for all the `n` nodes to receive the signal. If it is impossible for all the `n` nodes to receive the signal, return `-1`.\n",
    "\n",
    "### Examples \n",
    "\n",
    "Example 1:\n",
    "```\n",
    "Input: times = [[2,1,1],[2,3,1],[3,4,1]], n = 4, k = 2\n",
    "Output: 2\n",
    "```\n",
    "\n",
    "Example 2:\n",
    "```\n",
    "Input: times = [[1,2,1]], n = 2, k = 1\n",
    "Output: 1\n",
    "```\n",
    "\n",
    "Example 3:\n",
    "```\n",
    "Input: times = [[1,2,1]], n = 2, k = 2\n",
    "Output: -1\n",
    "```\n",
    "\n",
    "### Constraints:\n",
    "\n",
    "```\n",
    "1 <= k <= n <= 100\n",
    "1 <= times.length <= 6000\n",
    "times[i].length == 3\n",
    "1 <= ui, vi <= n\n",
    "ui != vi\n",
    "0 <= wi <= 100\n",
    "All the pairs (ui, vi) are unique. (i.e., no multiple edges.)\n",
    "```"
   ]
  },
  {
   "attachments": {},
   "cell_type": "markdown",
   "metadata": {},
   "source": [
    "## Analysis\n",
    "\n",
    "- Shortest Path Problem using Dijkstra's algorithm \n"
   ]
  },
  {
   "cell_type": "markdown",
   "metadata": {},
   "source": [
    "## Solution"
   ]
  },
  {
   "cell_type": "code",
   "execution_count": 11,
   "metadata": {},
   "outputs": [
    {
     "name": "stdout",
     "output_type": "stream",
     "text": [
      "{1: [3, 5, 4, 2], 2: [1, 3, 5, 4], 3: [1, 4, 5, 2], 4: [2, 3, 1, 5], 5: [4, 3, 1, 2]}\n",
      "65\n"
     ]
    }
   ],
   "source": [
    "# why the following code is wrong? seems cannot deal wtih the case where there are multiple paths between two nodes\n",
    "def networkDelayTime(times, n, k):\n",
    "\n",
    "    def buildGraph(times):\n",
    "        graph = {}\n",
    "        weights = {}\n",
    "        for i in range(1, n+1):\n",
    "            graph[i] = []\n",
    "        for u, v, w in times:\n",
    "            graph[u].append(v)\n",
    "            weights[(u,v)] = w\n",
    "        return graph, weights\n",
    "\n",
    "    visited = set()\n",
    "    distance = {node: float('inf') for node in range(1, n+1)}\n",
    "    distance[k] = 0\n",
    "    graph, weights = buildGraph(times)\n",
    "\n",
    "    queue = [(distance[k], k)]\n",
    "    while queue:\n",
    "        dist, node = queue.pop()\n",
    "        visited.add(node)\n",
    "\n",
    "        for neighbor in graph[node]:\n",
    "            if neighbor not in visited:\n",
    "                queue.append((dist + weights[(node, neighbor)], neighbor))\n",
    "\n",
    "            distance[neighbor] = min(distance[neighbor], dist + weights[(node, neighbor)])        \n",
    "\n",
    "    maxDist = max(distance.values())\n",
    "    print(graph)\n",
    "    return maxDist if maxDist != float('inf') else -1\n",
    "\"\"\"\n",
    "# test\n",
    "# 2 \n",
    "times = [[2,1,1],[2,3,1],[3,4,1]]\n",
    "n = 4\n",
    "k = 2\n",
    "print(networkDelayTime(times, n, k))\n",
    "\n",
    "# 1\n",
    "times = [[1,2,1]]\n",
    "n = 2\n",
    "k = 1\n",
    "print(networkDelayTime(times, n, k))\n",
    "\n",
    "# -1 \n",
    "times = [[1,2,1]]\n",
    "n = 2\n",
    "k = 2\n",
    "print(networkDelayTime(times, n, k))\n",
    "\n",
    "# 3\n",
    "times = [[1,2,1],[2,3,2],[1,3,4]]\n",
    "n = 3\n",
    "k = 1\n",
    "print(networkDelayTime(times, n, k))\n",
    "\"\"\"\n",
    "# 59\n",
    "times = [[4,2,76],[1,3,79],[3,1,81],[4,3,30],[2,1,47],[1,5,61],[1,4,99],[3,4,68],[3,5,46],[4,1,6],[5,4,7],[5,3,44],[4,5,19],[2,3,13],[3,2,18],[1,2,0],[5,1,25],[2,5,58],[2,4,77],[5,2,74]]\n",
    "n = 5\n",
    "k = 3\n",
    "print(networkDelayTime(times, n, k))\n"
   ]
  }
 ],
 "metadata": {
  "kernelspec": {
   "display_name": "jupyterbook-py38",
   "language": "python",
   "name": "python3"
  },
  "language_info": {
   "codemirror_mode": {
    "name": "ipython",
    "version": 3
   },
   "file_extension": ".py",
   "mimetype": "text/x-python",
   "name": "python",
   "nbconvert_exporter": "python",
   "pygments_lexer": "ipython3",
   "version": "3.8.12"
  },
  "orig_nbformat": 4,
  "vscode": {
   "interpreter": {
    "hash": "577791f2da4ac3a13c44f20f0f30021788d0264a6d82c3224a80270143730ffe"
   }
  }
 },
 "nbformat": 4,
 "nbformat_minor": 2
}
