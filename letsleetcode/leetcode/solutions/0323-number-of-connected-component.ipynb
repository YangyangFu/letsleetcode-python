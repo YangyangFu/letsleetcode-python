{
 "cells": [
  {
   "attachments": {},
   "cell_type": "markdown",
   "metadata": {},
   "source": [
    "# 0323 Number of Connected Component in an Undirected Graph\n",
    "\n",
    "## Problem\n",
    "Given n nodes labeled from `0` to `n - 1` and a list of undirected edges (each edge is a pair of nodes), write a function to find the number of connected components in an undirected graph.\n",
    "\n",
    "### Examples \n",
    "Example 1:\n",
    "```\n",
    "Input: n = 5 and edges = [[0, 1], [1, 2], [3, 4]]\n",
    "\n",
    "     0          3\n",
    "     |          |\n",
    "     1 --- 2    4\n",
    "\n",
    "Output: 2\n",
    "```\n",
    "\n",
    "Example 2:\n",
    "```\n",
    "Input: n = 5 and edges = [[0, 1], [1, 2], [2, 3], [3, 4]]\n",
    "\n",
    "     0           4\n",
    "     |           |\n",
    "     1 --- 2 --- 3\n",
    "\n",
    "Output:  1\n",
    "```\n",
    "\n",
    "\n",
    "You can assume that no duplicate edges will appear in edges. Since all edges are undirected, `[0, 1]` is the same as `[1, 0]` and thus will not appear together in edges."
   ]
  },
  {
   "attachments": {},
   "cell_type": "markdown",
   "metadata": {},
   "source": [
    "## Analysis\n",
    "- This is a typical problem that can be solved using union-find algorithm.\n",
    "- This is also solvable using DFS/BFS method, as in number of islands problems.\n",
    "  \n",
    "## Solution"
   ]
  },
  {
   "attachments": {},
   "cell_type": "markdown",
   "metadata": {},
   "source": [
    "### DFS"
   ]
  },
  {
   "cell_type": "code",
   "execution_count": 1,
   "metadata": {},
   "outputs": [
    {
     "name": "stdout",
     "output_type": "stream",
     "text": [
      "2\n",
      "1\n"
     ]
    }
   ],
   "source": [
    "def numberOfConnectedComponents(n, edges):\n",
    "    # 1. construct graph\n",
    "    graph = {}\n",
    "    for i in range(n):\n",
    "        graph[i] = []\n",
    "    for edge in edges:\n",
    "        graph[edge[0]].append(edge[1])\n",
    "        graph[edge[1]].append(edge[0])\n",
    "    # 2. dfs\n",
    "    visited = set()\n",
    "    def dfs(node):\n",
    "        if node in visited:\n",
    "            return\n",
    "        visited.add(node)\n",
    "        for neighbor in graph[node]:\n",
    "            dfs(neighbor)\n",
    "    # 3. count\n",
    "    count = 0\n",
    "    for i in range(n):\n",
    "        if i not in visited:\n",
    "            dfs(i)\n",
    "            count += 1\n",
    "    return count\n",
    "\n",
    "# test\n",
    "n = 5\n",
    "edges = [[0, 1], [1, 2], [3, 4]]\n",
    "print(numberOfConnectedComponents(n, edges))\n",
    "\n",
    "n = 5\n",
    "edges = [[0, 1], [1, 2], [2, 3], [3, 4]]\n",
    "print(numberOfConnectedComponents(n, edges))"
   ]
  },
  {
   "attachments": {},
   "cell_type": "markdown",
   "metadata": {},
   "source": [
    "### BFS"
   ]
  },
  {
   "cell_type": "code",
   "execution_count": 4,
   "metadata": {},
   "outputs": [
    {
     "name": "stdout",
     "output_type": "stream",
     "text": [
      "2\n",
      "1\n"
     ]
    }
   ],
   "source": [
    "def numberOfConnectedComponents(n, edges):\n",
    "    # 1. construct graph\n",
    "    graph = {}\n",
    "    for i in range(n):\n",
    "        graph[i] = []\n",
    "    for edge in edges:\n",
    "        graph[edge[0]].append(edge[1])\n",
    "        graph[edge[1]].append(edge[0])\n",
    "    # 2. bfs\n",
    "    visited = set()\n",
    "    def bfs(graph, node):\n",
    "        queue = [node]\n",
    "        while queue:\n",
    "            node = queue.pop(0)\n",
    "            visited.add(node)\n",
    "            for neighbor in graph[node]:\n",
    "                if neighbor not in visited:\n",
    "                    queue.append(neighbor)\n",
    "    # 3. count\n",
    "    count = 0\n",
    "    for i in range(n):\n",
    "        if i not in visited:\n",
    "            bfs(graph, i)\n",
    "            count += 1\n",
    "    return count\n",
    "\n",
    "# test\n",
    "n = 5\n",
    "edges = [[0, 1], [1, 2], [3, 4]]\n",
    "print(numberOfConnectedComponents(n, edges))\n",
    "\n",
    "n = 5\n",
    "edges = [[0, 1], [1, 2], [2, 3], [3, 4]]\n",
    "print(numberOfConnectedComponents(n, edges))"
   ]
  },
  {
   "attachments": {},
   "cell_type": "markdown",
   "metadata": {},
   "source": [
    "### Union-Find\n"
   ]
  },
  {
   "cell_type": "code",
   "execution_count": 2,
   "metadata": {},
   "outputs": [
    {
     "name": "stdout",
     "output_type": "stream",
     "text": [
      "2\n",
      "1\n"
     ]
    }
   ],
   "source": [
    "class UnionFind():\n",
    "    def __init__(self, n):\n",
    "        # set parent for each node as itself\n",
    "        self.parent = [i for i in range(n)]\n",
    "        # set count as n\n",
    "        self.count = n\n",
    "\n",
    "    def find(self, node):\n",
    "        # find root for node, and compress path. This makes the find time complexity O(1)\n",
    "        if self.parent[node] != node:\n",
    "            self.parent[node] = self.find(self.parent[node])\n",
    "        return self.parent[node]\n",
    "    \n",
    "    def union(self, node1, node2):\n",
    "        # find root for node1 and node2\n",
    "        root1 = self.find(node1)\n",
    "        root2 = self.find(node2)\n",
    "        # if root1 != root2, union them\n",
    "        if root1 != root2:\n",
    "            self.parent[root1] = root2\n",
    "            self.count -= 1\n",
    "    def count(self):\n",
    "        return self.count\n",
    "\n",
    "def numberOfConnectedComponents(n, edges):\n",
    "    # 1. construct union find\n",
    "    uf = UnionFind(n)\n",
    "    # 2. union\n",
    "    for edge in edges:\n",
    "        uf.union(edge[0], edge[1])\n",
    "    # 3. return count\n",
    "    return uf.count\n",
    "\n",
    "# test\n",
    "n = 5\n",
    "edges = [[0, 1], [1, 2], [3, 4]]\n",
    "print(numberOfConnectedComponents(n, edges))\n",
    "\n",
    "n = 5\n",
    "edges = [[0, 1], [1, 2], [2, 3], [3, 4]]\n",
    "print(numberOfConnectedComponents(n, edges))"
   ]
  }
 ],
 "metadata": {
  "interpreter": {
   "hash": "577791f2da4ac3a13c44f20f0f30021788d0264a6d82c3224a80270143730ffe"
  },
  "kernelspec": {
   "display_name": "Python 3.8.12 ('jupyterbook-py38')",
   "language": "python",
   "name": "python3"
  },
  "language_info": {
   "codemirror_mode": {
    "name": "ipython",
    "version": 3
   },
   "file_extension": ".py",
   "mimetype": "text/x-python",
   "name": "python",
   "nbconvert_exporter": "python",
   "pygments_lexer": "ipython3",
   "version": "3.8.12"
  },
  "orig_nbformat": 4
 },
 "nbformat": 4,
 "nbformat_minor": 2
}
