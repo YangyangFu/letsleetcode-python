{
 "cells": [
  {
   "cell_type": "markdown",
   "metadata": {},
   "source": [
    "# 0206. Reversed Linked List\n",
    "\n",
    "## Problem\n",
    "\n",
    "Given the head of a singly linked list, reverse the list, and return the reversed list.\n",
    "\n",
    "### Examples \n",
    "\n",
    "Example 1:\n",
    "\n",
    "``` text\n",
    "Input: head = [1,2,3,4,5]\n",
    "Output: [5,4,3,2,1]\n",
    "```\n",
    "\n",
    "Example 2:\n",
    "\n",
    "```text\n",
    "Input: head = [1,2]\n",
    "Output: [2,1]\n",
    "```\n",
    "\n",
    "Example 3:\n",
    "\n",
    "```text\n",
    "Input: head = []\n",
    "Output: []\n",
    "``` \n",
    "\n",
    "### Constraints:\n",
    "\n",
    "```text\n",
    "The number of nodes in the list is the range [0, 5000].\n",
    "-5000 <= Node.val <= 5000\n",
    "\n",
    "```\n",
    " \n",
    "### Follow-up\n"
   ]
  },
  {
   "cell_type": "markdown",
   "metadata": {},
   "source": [
    "## Analysis\n",
    "If swaping values in the nodes are allowed, we dont need swap nodes that requires the update of `next` pointer.\n",
    "However, if the value in a node is not writable, then we will have to swap nodes.\n",
    "The following solutions swap nodes instead of only values.\n",
    "\n",
    "### Solution 1\n",
    "\n",
    "- create a empty linked list to store reversed list\n",
    "- attach each node iteratively to the reversed list\n",
    "  - the node is the head, pointing to the previous reversed list\n",
    "\n",
    "Example:\n",
    "``` text\n",
    "list = [1,2,3,4,5]\n",
    "\n",
    "step 0: new_head\n",
    "step 1: node = 1, new_head.next = node -> reversed_list = [1]\n",
    "step 2: node = 2, prev = new_head.next, new_head.next = node, node.next = prev -> reversed_list = [2, 1]\n",
    "...\n",
    "```\n",
    "\n",
    "### Solution 2\n",
    "\n",
    "- \n"
   ]
  },
  {
   "cell_type": "code",
   "execution_count": 9,
   "metadata": {},
   "outputs": [
    {
     "name": "stdout",
     "output_type": "stream",
     "text": [
      "[1, 2, 3, 4, 5]\n"
     ]
    }
   ],
   "source": [
    "# some definitions\n",
    "class ListNode:\n",
    "    def __init__(self, val=0, next=None):\n",
    "        self.val = val \n",
    "        self.next = next \n",
    "\n",
    "def list_to_linkedlist(list):\n",
    "    head = ListNode()\n",
    "    node = head\n",
    "    for v in list:\n",
    "        v_node = ListNode(v)\n",
    "        node.next = v_node\n",
    "        node = node.next\n",
    "\n",
    "    return head.next\n",
    "\n",
    "def print_linkedlist(linked_list):\n",
    "    res = []\n",
    "    while linked_list:\n",
    "        res.append(linked_list.val)\n",
    "        linked_list = linked_list.next\n",
    "    print(res)\n",
    "    \n",
    "list = [1,2,3,4,5]\n",
    "head = list_to_linkedlist(list)\n",
    "print_linkedlist(head)"
   ]
  },
  {
   "cell_type": "code",
   "execution_count": 25,
   "metadata": {},
   "outputs": [
    {
     "name": "stdout",
     "output_type": "stream",
     "text": [
      "[5, 4, 3, 2, 1]\n",
      "[5]\n",
      "[]\n",
      "[5, 2]\n"
     ]
    }
   ],
   "source": [
    "# solution 1: two pointers O(N) in time, and O(1) in space\n",
    "# one for current node, and the other for previous node\n",
    "# 1-2-3-4-5 -> 1-2-3-4-5 -> 2-1 3-4-5 -> 3-2-1 4-5 -> 4-3-2-1 5 -> 5-4-3-2-1\n",
    "\n",
    "def solution(head):\n",
    "    # initialize current and previous pointer\n",
    "    prev, cur = None, head\n",
    "\n",
    "    # main loop\n",
    "    while cur:\n",
    "        # save for future use as the original link between cur and cur.next will be destroied later.\n",
    "        next = cur.next \n",
    "        cur.next = prev\n",
    "\n",
    "        # move forward\n",
    "        prev = cur\n",
    "        cur = next \n",
    "\n",
    "    return prev\n",
    "\n",
    "#test\n",
    "list = list_to_linkedlist([1,2,3,4,5])\n",
    "print_linkedlist(solution(list))\n",
    "\n",
    "list = list_to_linkedlist([5])\n",
    "print_linkedlist(solution(list))\n",
    "\n",
    "list = list_to_linkedlist([])\n",
    "print_linkedlist(solution(list))\n",
    "\n",
    "list = list_to_linkedlist([2,5])\n",
    "print_linkedlist(solution(list))"
   ]
  },
  {
   "cell_type": "code",
   "execution_count": 32,
   "metadata": {},
   "outputs": [
    {
     "name": "stdout",
     "output_type": "stream",
     "text": [
      "[5, 4, 3, 2, 1]\n",
      "[5]\n",
      "[0]\n",
      "[5, 2]\n"
     ]
    }
   ],
   "source": [
    "# solution 2: how to use two pointer method with a dummy node\n",
    "# this method actually complicates the solution compared with solution 1\n",
    "\n",
    "def solution(head):\n",
    "    # add a dummy node the original list\n",
    "    dummy = ListNode(next=head)\n",
    "\n",
    "    prev, cur = dummy, dummy.next \n",
    "    tail = cur \n",
    "\n",
    "    while cur:\n",
    "        next = cur.next\n",
    "        cur.next = prev \n",
    "        prev = cur \n",
    "        cur = next \n",
    "    \n",
    "    if tail:\n",
    "        tail.next = cur \n",
    "\n",
    "    return prev\n",
    "\n",
    "#test\n",
    "list = list_to_linkedlist([1,2,3,4,5])\n",
    "print_linkedlist(solution(list))\n",
    "\n",
    "list = list_to_linkedlist([5])\n",
    "print_linkedlist(solution(list))\n",
    "\n",
    "list = list_to_linkedlist([])\n",
    "print_linkedlist(solution(list))\n",
    "\n",
    "list = list_to_linkedlist([2,5])\n",
    "print_linkedlist(solution(list))"
   ]
  },
  {
   "cell_type": "code",
   "execution_count": 28,
   "metadata": {},
   "outputs": [
    {
     "name": "stdout",
     "output_type": "stream",
     "text": [
      "[5, 4, 3, 2, 1]\n",
      "[5]\n",
      "[]\n",
      "[5, 2]\n"
     ]
    }
   ],
   "source": [
    "# solution 3: how to use a dummy node for this kind of problem O(N) in time and O(1)\n",
    "# iteratively add the first node in the orignal list to the dummay list as the second node\n",
    "\n",
    "def solution(head):\n",
    "    # add a dummy node for the linked list\n",
    "    # this is a typical approach when the head of the original list may be modified.\n",
    "    dummy = ListNode()\n",
    "\n",
    "    # initialize current and previous pointer\n",
    "    cur = head\n",
    "\n",
    "    # main loop\n",
    "    while cur:\n",
    "        # save for future use as the original link between cur and cur.next will be destroied later.\n",
    "        prev = dummy.next \n",
    "        dummy.next = cur\n",
    "        \n",
    "        # move forward\n",
    "        cur = cur.next\n",
    "        dummy.next.next = prev\n",
    "        \n",
    "    return dummy.next\n",
    "\n",
    "#test\n",
    "list = list_to_linkedlist([1,2,3,4,5])\n",
    "print_linkedlist(solution(list))\n",
    "\n",
    "list = list_to_linkedlist([5])\n",
    "print_linkedlist(solution(list))\n",
    "\n",
    "list = list_to_linkedlist([])\n",
    "print_linkedlist(solution(list))\n",
    "\n",
    "list = list_to_linkedlist([2,5])\n",
    "print_linkedlist(solution(list))"
   ]
  },
  {
   "cell_type": "code",
   "execution_count": 29,
   "metadata": {},
   "outputs": [
    {
     "name": "stdout",
     "output_type": "stream",
     "text": [
      "[5, 4, 3, 2, 1]\n",
      "[5]\n",
      "[]\n",
      "[5, 2]\n"
     ]
    }
   ],
   "source": [
    "# solution 2: iterative solution, which is same as previous solution except that the dummy node is not used here.\n",
    "# [1-2-3-4-5] -> 1 -> 2-1 -> 3-2-1 -> 4-3-2-1 -> 5-4-3-2-1\n",
    "def solution(head):\n",
    "    newHead = None\n",
    "\n",
    "    while head:\n",
    "        previous = newHead #4\n",
    "        newHead = head # 5\n",
    "        \n",
    "        # update iterator\n",
    "        head = head.next # this has to be ahead of the next code \n",
    "        newHead.next = previous # \n",
    "\n",
    "    return newHead \n",
    "\n",
    " #test\n",
    "list = list_to_linkedlist([1,2,3,4,5])\n",
    "print_linkedlist(solution(list))\n",
    "\n",
    "list = list_to_linkedlist([5])\n",
    "print_linkedlist(solution(list))\n",
    "\n",
    "list = list_to_linkedlist([])\n",
    "print_linkedlist(solution(list))\n",
    "\n",
    "list = list_to_linkedlist([2,5])\n",
    "print_linkedlist(solution(list))"
   ]
  },
  {
   "cell_type": "code",
   "execution_count": 18,
   "metadata": {},
   "outputs": [
    {
     "name": "stdout",
     "output_type": "stream",
     "text": [
      "[5, 4, 3, 2, 1]\n"
     ]
    }
   ],
   "source": [
    "# Solution 3; recursive solution\n",
    "# 1-2-3-4-5 -> 5 -> 5-4 -> 5-4-3 -> 5-4-3-2 -> 5-4-3-2-1\n",
    "def solution(head):\n",
    "    # return \n",
    "    if not head or not head.next:\n",
    "        return head\n",
    "\n",
    "    # update recusion\n",
    "    newHead = solution(head.next) # this newHead is always 5\n",
    "    head.next.next = head # why not newHead.next = next? because newHead is always 5, update newHead.NEXT will be liking removing the resest after 5.\n",
    "    head.next = None\n",
    "    \n",
    "    return newHead\n",
    "\n",
    " #test\n",
    "list = list_to_linkedlist([1,2,3,4,5])\n",
    "print_linkedlist(solution(list))  "
   ]
  }
 ],
 "metadata": {
  "interpreter": {
   "hash": "577791f2da4ac3a13c44f20f0f30021788d0264a6d82c3224a80270143730ffe"
  },
  "kernelspec": {
   "display_name": "Python 3.8.12 ('jupyterbook-py38')",
   "language": "python",
   "name": "python3"
  },
  "language_info": {
   "codemirror_mode": {
    "name": "ipython",
    "version": 3
   },
   "file_extension": ".py",
   "mimetype": "text/x-python",
   "name": "python",
   "nbconvert_exporter": "python",
   "pygments_lexer": "ipython3",
   "version": "3.8.12"
  },
  "orig_nbformat": 4
 },
 "nbformat": 4,
 "nbformat_minor": 2
}
