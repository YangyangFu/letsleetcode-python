{
 "cells": [
  {
   "attachments": {},
   "cell_type": "markdown",
   "metadata": {},
   "source": [
    "# 0797 All Paths From Source to Target\n",
    "\n",
    "## Problem\n",
    "\n",
    "Given a directed acyclic graph (DAG) of n nodes labeled from 0 to n - 1, find all possible paths from node 0 to node n - 1 and return them in any order.\n",
    "\n",
    "The graph is given as follows: graph[i] is a list of all nodes you can visit from node i (i.e., there is a directed edge from node i to node graph[i][j]).\n",
    "\n",
    "### Examples \n",
    "\n",
    "Example 1:\n",
    "```\n",
    "Input: graph = [[1,2],[3],[3],[]]\n",
    "Output: [[0,1,3],[0,2,3]]\n",
    "Explanation: There are two paths: 0 -> 1 -> 3 and 0 -> 2 -> 3.\n",
    "```\n",
    "\n",
    "Example 2:\n",
    "```\n",
    "Input: graph = [[4,3,1],[3,2,4],[3],[4],[]]\n",
    "Output: [[0,4],[0,3,4],[0,1,3,4],[0,1,2,3,4],[0,1,4]]\n",
    "```\n",
    "### Constraints:\n",
    "\n",
    "```\n",
    "n == graph.length\n",
    "2 <= n <= 15\n",
    "0 <= graph[i][j] < n\n",
    "graph[i][j] != i (i.e., there will be no self-loops).\n",
    "All the elements of graph[i] are unique.\n",
    "The input graph is guaranteed to be a DAG.\n",
    "```"
   ]
  },
  {
   "cell_type": "code",
   "execution_count": 25,
   "metadata": {},
   "outputs": [
    {
     "name": "stdout",
     "output_type": "stream",
     "text": [
      "[]\n",
      "[]\n",
      "[]\n",
      "[[0, 1]]\n",
      "[[0, 1, 2]]\n",
      "[[0, 1], [0, 1]]\n"
     ]
    }
   ],
   "source": [
    "res = []\n",
    "def allPathsSourceTarget(graph: list[list[int]]) -> list[list[int]]:\n",
    "    n = len(graph)\n",
    "    path = []\n",
    "    res = []\n",
    "\n",
    "    def dfs(graph, s, t, path):\n",
    "        print(res)\n",
    "        path.append(s)\n",
    "\n",
    "        # stop when s == t\n",
    "        if s == t:\n",
    "            # return results\n",
    "            res.append(path)\n",
    "\n",
    "            return res\n",
    "        \n",
    "        # recursion\n",
    "        for v in graph[s]:\n",
    "            dfs(graph, v, t, path)\n",
    "        \n",
    "        # remove node s from path\n",
    "        path.pop()\n",
    "    \n",
    "    dfs(graph, 0, n-1, path)\n",
    "\n",
    "    return res\n",
    "\n",
    "# test\n",
    "graph = [[1,2],[3],[3],[]]\n",
    "print(allPathsSourceTarget(graph))\n",
    "\n",
    "    "
   ]
  },
  {
   "cell_type": "code",
   "execution_count": 7,
   "metadata": {},
   "outputs": [
    {
     "name": "stdout",
     "output_type": "stream",
     "text": [
      "in node: 0\n",
      "[0]\n",
      "in node: 1\n",
      "[0, 1]\n",
      "in node: 3\n",
      "[0, 1, 3]\n",
      "s==t\n",
      "[[0, 1, 3]]\n",
      "in node: 2\n",
      "[0, 2]\n",
      "in node: 3\n",
      "[0, 2, 3]\n",
      "s==t\n",
      "[[0, 2, 3], [0, 2, 3]]\n",
      "[[], []]\n"
     ]
    }
   ],
   "source": [
    "res = []\n",
    "def allPathsSourceTarget(graph: list[list[int]]) -> list[list[int]]:\n",
    "    n = len(graph)\n",
    "    path = []\n",
    "\n",
    "    def dfs(graph, s, t):\n",
    "        print(\"in node:\",s)\n",
    "        path.append(s)\n",
    "        print(path)\n",
    "        # stop when s == t\n",
    "        if s == t:\n",
    "            # return results\n",
    "            res.append(path)\n",
    "            print(\"s==t\")\n",
    "            print(res)\n",
    "            #if we add return here, the result will be [].\n",
    "            #because we have pop() the node s from path, so the path is empty, \n",
    "            #and if we don't add return here, we will get the result [0,1,3] and [0,2,3]\n",
    "\n",
    "            \n",
    "        # recursion\n",
    "        for v in graph[s]:\n",
    "            dfs(graph, v, t)\n",
    "        \n",
    "        # remove node s from path\n",
    "        path.pop()\n",
    "\n",
    "    dfs(graph, 0, n-1)\n",
    "\n",
    "    return res\n",
    "\n",
    "# test\n",
    "graph = [[1,2],[3],[3],[]]\n",
    "print(allPathsSourceTarget(graph))"
   ]
  }
 ],
 "metadata": {
  "kernelspec": {
   "display_name": "base",
   "language": "python",
   "name": "python3"
  },
  "language_info": {
   "codemirror_mode": {
    "name": "ipython",
    "version": 3
   },
   "file_extension": ".py",
   "mimetype": "text/x-python",
   "name": "python",
   "nbconvert_exporter": "python",
   "pygments_lexer": "ipython3",
   "version": "3.9.13"
  },
  "orig_nbformat": 4,
  "vscode": {
   "interpreter": {
    "hash": "90719f7b22258a2d6ecf0c790deba7bc0adf8c63aef77a66bd3eb2b289913783"
   }
  }
 },
 "nbformat": 4,
 "nbformat_minor": 2
}
