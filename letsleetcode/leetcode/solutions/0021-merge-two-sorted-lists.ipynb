{
 "cells": [
  {
   "cell_type": "markdown",
   "metadata": {},
   "source": [
    "# 0021 Merge Two Sorted Lists\n",
    "\n",
    "## Problem\n",
    "You are given the heads of two sorted linked lists `list1` and `list2`.\n",
    "\n",
    "Merge the two lists in a one sorted list. The list should be made by splicing together the nodes of the first two lists.\n",
    "\n",
    "Return the head of the merged linked list.\n",
    "\n",
    "### Examples \n",
    "Example 1:\n",
    "```\n",
    "Input: list1 = [1,2,4], list2 = [1,3,4]\n",
    "Output: [1,1,2,3,4,4]\n",
    "```\n",
    "\n",
    "Example 2:\n",
    "```\n",
    "Input: list1 = [], list2 = []\n",
    "Output: []\n",
    "```\n",
    "\n",
    "Example 3:\n",
    "```\n",
    "Input: list1 = [], list2 = [0]\n",
    "Output: [0]\n",
    "```\n",
    "\n",
    "### Constraints\n",
    "```\n",
    "The number of nodes in both lists is in the range [0, 50].\n",
    "-100 <= Node.val <= 100\n",
    "Both list1 and list2 are sorted in non-decreasing order.\n",
    "```"
   ]
  },
  {
   "cell_type": "markdown",
   "metadata": {},
   "source": [
    "## Analysis\n",
    "\n",
    "\n",
    "\n",
    "## Solution"
   ]
  },
  {
   "cell_type": "code",
   "execution_count": 2,
   "metadata": {},
   "outputs": [],
   "source": [
    "class Node():\n",
    "    def __init__(self, val=0, next=None):\n",
    "        self.val = val\n",
    "        self.next = next\n",
    "\n",
    "def build(A):\n",
    "    dummy = Node()\n",
    "\n",
    "    if not A:\n",
    "        return dummy.next\n",
    "    \n",
    "    prev = dummy\n",
    "    for a in A:\n",
    "        cur = Node(a)\n",
    "        prev.next = cur \n",
    "        prev = cur\n",
    "    \n",
    "    return dummy.next \n",
    "\n",
    "def linkedListToList(head):\n",
    "    res = []\n",
    "    while head:\n",
    "        res.append(head.val)\n",
    "        head = head.next\n",
    "    return res\n"
   ]
  },
  {
   "cell_type": "code",
   "execution_count": 4,
   "metadata": {},
   "outputs": [
    {
     "name": "stdout",
     "output_type": "stream",
     "text": [
      "[1, 1, 2, 3, 4, 4]\n",
      "[]\n",
      "[0]\n"
     ]
    }
   ],
   "source": [
    "def mergeTwoLists(list1, list2):\n",
    "    dummy = Node(0)\n",
    "\n",
    "    p, p1, p2 = dummy, list1, list2\n",
    "    \n",
    "    while p1 and p2:\n",
    "        if p1.val <= p2.val:\n",
    "            p.next = p1\n",
    "            p1 = p1.next\n",
    "        else:\n",
    "            p.next = p2    \n",
    "            p2 = p2.next\n",
    "        p = p.next\n",
    "    \n",
    "    if not p1:\n",
    "        p.next = p2 \n",
    "    if not p2:\n",
    "        p.next = p1 \n",
    "    \n",
    "    return dummy.next\n",
    "\n",
    "# test\n",
    "list1 = build([1, 2, 4])\n",
    "list2 = build([1, 3, 4])\n",
    "merged = mergeTwoLists(list1, list2)\n",
    "print(linkedListToList(merged))\n",
    "\n",
    "list1 = build([])\n",
    "list2 = build([])\n",
    "merged = mergeTwoLists(list1, list2)\n",
    "print(linkedListToList(merged))\n",
    "\n",
    "list1 = build([])\n",
    "list2 = build([0])\n",
    "merged = mergeTwoLists(list1, list2)\n",
    "print(linkedListToList(merged))"
   ]
  }
 ],
 "metadata": {
  "interpreter": {
   "hash": "577791f2da4ac3a13c44f20f0f30021788d0264a6d82c3224a80270143730ffe"
  },
  "kernelspec": {
   "display_name": "Python 3.8.12 ('jupyterbook-py38')",
   "language": "python",
   "name": "python3"
  },
  "language_info": {
   "codemirror_mode": {
    "name": "ipython",
    "version": 3
   },
   "file_extension": ".py",
   "mimetype": "text/x-python",
   "name": "python",
   "nbconvert_exporter": "python",
   "pygments_lexer": "ipython3",
   "version": "3.8.12"
  },
  "orig_nbformat": 4
 },
 "nbformat": 4,
 "nbformat_minor": 2
}
