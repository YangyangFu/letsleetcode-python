{
 "cells": [
  {
   "cell_type": "markdown",
   "metadata": {},
   "source": []
  },
  {
   "cell_type": "markdown",
   "metadata": {},
   "source": [
    "# Lecture 13: The Dijkstra's Algorithm\n",
    "\n",
    "##  Overview\n",
    "- `Dijkstra’s algorithm` solves the single-source shortest-paths problem on a weighted, directed graph G D .V; E/ for the case in which all edge weights are nonnegative\n",
    "\n",
    " ## Dijkstra Algorithm\n",
    " - Dijkstra's algorithm maintain a set `S` of vetices whose final shortest-path weights from the source `s` have already been determined.\n",
    " - The algorithm repeatedly \n",
    "    - selects the vertex `u` in `V-S` with the minimum shortest-path estimate\n",
    "    - adds `u` to `S`\n",
    "    - relaxes all edges leaving `u`\n",
    "- The implememtation relies on min-priority queue `Q` of vertices, keyed by their `d` values.\n",
    "- The algorithm always chooses the \"closest\" vertex in `V-S` to add to set S, and therefore uses a greedy strategy. -> not always yield optimal results but can do the work.\n",
    "\n",
    " ```python\n",
    "    def Dijkstra(G, s):\n",
    "1        initialize_single_source(G,s)\n",
    "2        S = None                           # Initialize S\n",
    "3        Q = G.V                            # Initialize min-priority queue Q\n",
    "4        while Q not None:                  # \n",
    "5           u = delete_min(Q)               # Dequeue from min-priority Q\n",
    "6           S += u                          # Insert to S\n",
    "7           for v in G.Adj[u]:              # Relax adjacent vertice\n",
    "8               relax(u, v, w)\n",
    " ```\n",
    "\n",
    " - Example\n",
    "\n",
    " ![bellman-ford](./resources/l13-dijkstra.png)\n",
    " "
   ]
  },
  {
   "cell_type": "markdown",
   "metadata": {},
   "source": []
  }
 ],
 "metadata": {
  "language_info": {
   "name": "python"
  },
  "orig_nbformat": 4
 },
 "nbformat": 4,
 "nbformat_minor": 2
}
