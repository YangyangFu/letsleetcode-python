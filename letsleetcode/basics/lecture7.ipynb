{
 "cells": [
  {
   "cell_type": "markdown",
   "metadata": {},
   "source": []
  },
  {
   "cell_type": "markdown",
   "metadata": {},
   "source": [
    "# Lecture 6: Binary Trees - II\n",
    "\n",
    "## Review\n",
    "- binary tree - representing a set\n",
    "  - binary search tree = set binary tree\n",
    "\n",
    "## Height Balance\n",
    "- how to maintain height $h = O(logn)$ where n is the number of nodes in the tree?\n",
    "- a binrayr tree that maintains $O(logn)$ height under dynamic operations is called `balanced`.\n",
    "  - many algorithms\n",
    "  - such as `AVL` tree\n",
    "\n",
    "## Rotation\n",
    "- need reduce height of tree without changing its traversal order so that we represent the same sequence of items \n",
    "- Rotations!\n",
    "- A rotation relinks $O(1)$ ppinters to modify tree structure and maintains traversal order\n",
    "\n",
    "\n",
    "## AVL Tree\n",
    "- AVL Trees maintain height-balance\n",
    "  - A node is height-balanced if heights of its left and right subtrees differ by at most 1"
   ]
  },
  {
   "cell_type": "markdown",
   "metadata": {},
   "source": []
  }
 ],
 "metadata": {
  "language_info": {
   "name": "python"
  },
  "orig_nbformat": 4
 },
 "nbformat": 4,
 "nbformat_minor": 2
}
