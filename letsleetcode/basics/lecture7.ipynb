{
 "cells": [
  {
   "cell_type": "markdown",
   "metadata": {},
   "source": []
  },
  {
   "cell_type": "markdown",
   "metadata": {},
   "source": [
    "# Lecture 7: Binary Trees - II\n",
    "\n",
    "## Review\n",
    "- dynamic operations on binary search tree mostly requires $O(h)$ time\n",
    "- the minimum $h$ of a tree of $n$ nodes is $logn$\n",
    "- dynamic operations such as insertion may lead to the height of a tree way larger than $logn$, which then increase operation time\n",
    "  - the extreme case is that new items are being added in ascending order, the tree will be one long branch off to the right, with height of $n$\n",
    "- this lecture shows how to `balance the height` of binary tree\n",
    "\n",
    "## Height Balance\n",
    "- how to maintain height $h = O(logn)$ where n is the number of nodes in the tree?\n",
    "- a binrayr tree that maintains $O(logn)$ height under dynamic operations is called `balanced`.\n",
    "  - many algorithms\n",
    "  - such as `AVL` tree\n",
    "\n",
    "## Rotation\n",
    "- need reduce height of tree without changing its traversal order so that we represent the same sequence of items \n",
    "- Rotations!\n",
    "-   A rotation relinks $O(1)$ ppinters to modify tree structure and maintains traversal order\n",
    "\n",
    "\n",
    "## AVL Tree\n",
    "- AVL Trees maintain height-balance\n",
    "  - A node is height-balanced if heights of its left and right subtrees differ by at most 1\n",
    "  - let `skew` of a node be the `height of its right subtree minus that of its left subtree`\n",
    "  - then a node is height-balanced if its skew is -1, 0, or 1\n",
    "\n",
    "## Computing Height\n",
    "- how to tell wether a node is height-balanced? compute the height of subtrees!!\n",
    "- algorithm\n",
    "  - recusively compute the height of left subtree and right subtree of node \\<X\\>\n",
    "  - add 1 to the max of the two heights\n",
    "  - run in  $O(n)$ time since we recurse on every node\n",
    "- can we improve to $O(1)$? -> tree augumentation: augument each node with the height of its subtree !!\n",
    "- the height of \\<X\\> can be computed in $O(1)$ time from the heights of its children\n",
    "  - look up the stored height of left and right child in $O(1)$\n",
    "  - add 1 to the max of the two\n",
    "- during dynamic operaiton, the height and other augumentation of each node must be maintained as the tree changes shape\n",
    "  - update relinked nodes in a rotation operation in $O(1)$ time\n",
    "  - update all ancestors of an inserted or deleted node in $O(h)$ time by walking up the tree."
   ]
  },
  {
   "cell_type": "markdown",
   "metadata": {},
   "source": []
  }
 ],
 "metadata": {
  "language_info": {
   "name": "python"
  },
  "orig_nbformat": 4
 },
 "nbformat": 4,
 "nbformat_minor": 2
}
