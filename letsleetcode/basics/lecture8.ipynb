{
 "cells": [
  {
   "cell_type": "markdown",
   "metadata": {},
   "source": []
  },
  {
   "cell_type": "markdown",
   "metadata": {},
   "source": [
    "# Lecture 8: Binary Heap\n",
    "This lecture first introduces a new interface `priority queue interface` that is a special `set` interface. This interface provides a collection of methods that can keep track of many items, quickly access/remove the most important by such as `find_max()`, `delete_max()` etc.\n",
    "With this interface, any priority queue data structure can be easily translated into a sorting algorithm.\n",
    "\n",
    "Previous `set AVL Tree` is complicated and resulting sort is not in-place.\n",
    "\n",
    "## Priority Queue Interface"
   ]
  },
  {
   "cell_type": "markdown",
   "metadata": {},
   "source": []
  }
 ],
 "metadata": {
  "language_info": {
   "name": "python"
  },
  "orig_nbformat": 4
 },
 "nbformat": 4,
 "nbformat_minor": 2
}
