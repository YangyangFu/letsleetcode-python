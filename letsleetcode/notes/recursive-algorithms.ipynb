{
 "cells": [
  {
   "cell_type": "markdown",
   "metadata": {},
   "source": [
    "# Recursion\n",
    "\n",
    "## Introduction\n",
    "\n",
    "## Some Cases\n",
    "\n",
    "### Maximum/Minimum"
   ]
  },
  {
   "cell_type": "code",
   "execution_count": 4,
   "metadata": {},
   "outputs": [
    {
     "name": "stdout",
     "output_type": "stream",
     "text": [
      "9\n",
      "1\n"
     ]
    }
   ],
   "source": [
    "def maximum_recursion(A, i):\n",
    "    if i < 1: \n",
    "        return A[0]\n",
    "    else:\n",
    "        return max(maximum_recursion(A, i-1),A[i])\n",
    "\n",
    "A = [2,4,5,9,1]\n",
    "print(maximum_recursion(A,len(A)-1))\n",
    "\n",
    "A = [1, 1, 1, 1]\n",
    "print(maximum_recursion(A,len(A)-1))"
   ]
  },
  {
   "cell_type": "code",
   "execution_count": 11,
   "metadata": {},
   "outputs": [
    {
     "name": "stdout",
     "output_type": "stream",
     "text": [
      "dlrow olleh\n"
     ]
    }
   ],
   "source": [
    "def reverse(s):\n",
    "    \"\"\"Return a string in reverse order\"\"\"\n",
    "    res = ''\n",
    "    n = len(s)\n",
    "\n",
    "    if n <= 1: # base case\n",
    "        res = s\n",
    "    else:\n",
    "        r = reverse(s[:n-1])\n",
    "        res = s[n-1]+r\n",
    "    return res\n",
    "\n",
    "print(reverse(\"hello world\"))"
   ]
  },
  {
   "cell_type": "code",
   "execution_count": null,
   "metadata": {},
   "outputs": [],
   "source": []
  }
 ],
 "metadata": {
  "interpreter": {
   "hash": "577791f2da4ac3a13c44f20f0f30021788d0264a6d82c3224a80270143730ffe"
  },
  "kernelspec": {
   "display_name": "Python 3.8.12 ('jupyterbook-py38')",
   "language": "python",
   "name": "python3"
  },
  "language_info": {
   "codemirror_mode": {
    "name": "ipython",
    "version": 3
   },
   "file_extension": ".py",
   "mimetype": "text/x-python",
   "name": "python",
   "nbconvert_exporter": "python",
   "pygments_lexer": "ipython3",
   "version": "3.8.13"
  },
  "orig_nbformat": 4
 },
 "nbformat": 4,
 "nbformat_minor": 2
}
