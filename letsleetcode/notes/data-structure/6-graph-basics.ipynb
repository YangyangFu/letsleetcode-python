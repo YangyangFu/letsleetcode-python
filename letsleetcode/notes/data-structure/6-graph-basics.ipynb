{
 "cells": [
  {
   "attachments": {},
   "cell_type": "markdown",
   "metadata": {},
   "source": [
    "# 6 Graph\n"
   ]
  },
  {
   "attachments": {},
   "cell_type": "markdown",
   "metadata": {},
   "source": [
    "## 1. Build\n",
    "\n",
    "We can simply use Leetcode conventions to represent graph as nodes and its adjacent matrix, which can be implemented as a list of list in python."
   ]
  },
  {
   "cell_type": "code",
   "execution_count": 3,
   "metadata": {},
   "outputs": [
    {
     "name": "stdout",
     "output_type": "stream",
     "text": [
      "{0: [1, 2], 1: [2, 3], 2: [3, 4], 3: [], 4: []}\n"
     ]
    }
   ],
   "source": [
    "def buildGraph(n_nodes, connections):\n",
    "    graph = {}\n",
    "    for node in range(n_nodes):\n",
    "        graph[node] = []\n",
    "    \n",
    "    for node1, node2 in connections:\n",
    "        graph[node1].append(node2)\n",
    "        # if build an undirected graph, add the following line\n",
    "        # graph[node2].append(node1)\n",
    "    return graph\n",
    "\n",
    "# test\n",
    "n_nodes = 5\n",
    "connections = [[0, 1], [0, 2], [1, 2], [1, 3], [2, 3], [2, 4]]\n",
    "graph = buildGraph(n_nodes, connections)\n",
    "print(graph)"
   ]
  },
  {
   "attachments": {},
   "cell_type": "markdown",
   "metadata": {},
   "source": [
    "## 2. Traversal\n",
    "\n",
    "Traversal can solve problems like find paths given the source node and target node, and also the topological sorting sequences.\n",
    "- find paths:\n",
    "    - detect cycles in a graph `G`\n",
    "        - if no cycle, topological sort is a linear ordering of nodes along a horizontal line so that all directed edges go from left to right.\n",
    "        - if cycles are present, topological sorting is not possible.\n",
    "    - find all possible paths from `s` to `t`\n"
   ]
  },
  {
   "attachments": {},
   "cell_type": "markdown",
   "metadata": {},
   "source": [
    "### Depth-first Search\n",
    "\n",
    "- todo: implement using two approaches\n",
    "    - traversal approach -> similar to backtracking\n",
    "    - subporblem approach -> recusion with return value\n",
    "\n",
    "```\n",
    "visited = {}\n",
    "onPath = {}\n",
    "\n",
    "def traverse(G, s):\n",
    "    // if visited: DO SOMETHING\n",
    "    if visited[s]: return\n",
    "\n",
    "    // if not visisted, then mark as visited\n",
    "    visited[s] = true\n",
    "\n",
    "    // make a choice:\n",
    "    // mark s as onpath\n",
    "    onPath[s] = true\n",
    "\n",
    "    // recursion\n",
    "    for v in G.adj[s]:\n",
    "        traverse(G, v)\n",
    "    \n",
    "    // undo the choice: \n",
    "    // remove s from onpath\n",
    "    onPath[s] = false\n",
    "```"
   ]
  },
  {
   "attachments": {},
   "cell_type": "markdown",
   "metadata": {},
   "source": [
    "Depth-first search vs backtracking\n",
    "\n",
    "```\n",
    "// DFS, focus on node\n",
    "def dfs(root):\n",
    "    if not root:\n",
    "        reutrn\n",
    "    print(f\"enter node {root}\")\n",
    "    for child in root.children:\n",
    "        dfs(child)\n",
    "    print(f\"leave node {root}\")\n",
    "\n",
    "// Backtracking, focus on branch\n",
    "def backtrack(root):\n",
    "    if not root:\n",
    "        return\n",
    "\n",
    "    for child in root.children:\n",
    "        // make a choice\n",
    "\n",
    "        print(f\"from node {root} to node {child}\")\n",
    "        backtrack(child)\n",
    "        \n",
    "        //undo a choice\n",
    "        \n",
    "        print(f\"from node {child} to node {root}\")"
   ]
  },
  {
   "attachments": {},
   "cell_type": "markdown",
   "metadata": {},
   "source": [
    "## BFS\n",
    "\n"
   ]
  },
  {
   "cell_type": "code",
   "execution_count": 1,
   "metadata": {},
   "outputs": [],
   "source": [
    "# traverse a graph using BFS, which uses indegree to determine the order of traversal\n",
    "def bfs(G):\n",
    "    pass"
   ]
  },
  {
   "attachments": {},
   "cell_type": "markdown",
   "metadata": {},
   "source": [
    "## Shortest Path\n",
    "Shortest path is to find the shortest path between two vertex:\n",
    "- `single source shortest path`: find the shortest paths from a given source vertex `s` to each vertex `t`.\n",
    "- `single destination shortest path`: find the shortest paths from each source vertex `s` to the destination vertex `t`. We can reverse the direction of each edge, and formulate a `single-source shortest path` problem.\n",
    "- `single pair shortest path`: find the shortest path for a given pair (`s`, `v`). This problem usually requires to solve `single source shortest path` first.\n",
    "- `all pairs shortest paths`: find a shortest path from `s` to `t` for every pair of vertices `s` and `t`. Although we can solve this problem by running a single source algorithm once from each vertex, we usually can solve it faster using XXX.\n",
    "\n",
    "\n",
    "BFS is typically used for shortest paths problems.\n",
    "\n",
    "DFS is typically used for reacheability problems. When used for shortest path problems, DFS need go over all possible paths from given source and target, and then find the shortest one. \n"
   ]
  },
  {
   "cell_type": "code",
   "execution_count": 2,
   "metadata": {},
   "outputs": [],
   "source": [
    "def shortest_path_bfs(G, s):\n",
    "    pass"
   ]
  },
  {
   "attachments": {},
   "cell_type": "markdown",
   "metadata": {},
   "source": [
    "## Shortest Weighted Path\n",
    "\n",
    "`Dijkstra algorithm` is usually used for detecting the shortest path in a `DAG with nonnegative weights`. Dijkstra algorithm extends BFS for weighted DAG by introducing a `DP table` to store the distance between vertices.\n",
    "\n",
    "- initialization \n",
    "    - a distance table for recording the best distance found so far, and set to `infinity`\n",
    "    - base case: the distance from the source vertex `s` to itself is set to 0\n",
    "    - a priority queue to maintain the to-be-explored neighbor vertices, sorted based on their current distance to the given source `s`.\n",
    "- main loop:\n",
    "    - pop out the queue, and get the current vertex and its current distance\n",
    "    - explore its neighbors:\n",
    "        - for each neighbor vertex, calculate its current distance from the source `s`\n",
    "        - if the current distance < the best distance found so far in the distance table:\n",
    "            - update the distance table\n",
    "            - enqueue\n",
    "- return the distance table\n",
    "\n",
    "How to reconstruct the shortest paths based on distance table?"
   ]
  },
  {
   "attachments": {},
   "cell_type": "markdown",
   "metadata": {},
   "source": [
    "## Bipartition Graph\n",
    "\n",
    "Check if a graph is bipartition graph.\n",
    "\n",
    "See Leetcode\n",
    "- 0886\n",
    "- 0785"
   ]
  },
  {
   "attachments": {},
   "cell_type": "markdown",
   "metadata": {},
   "source": [
    "## Union Find\n",
    "\n",
    "see [here](https://labuladong.github.io/algo/di-yi-zhan-da78c/shou-ba-sh-03a72/bing-cha-j-323f3/).\n",
    "\n",
    "Leetcode:\n",
    "- 0323"
   ]
  },
  {
   "cell_type": "code",
   "execution_count": null,
   "metadata": {},
   "outputs": [],
   "source": [
    "class UnionFind():\n",
    "    def __init__(self, n):\n",
    "        # initialize the parent of each node to itself\n",
    "        self.parent = [i for i in range(n)]\n",
    "        # initialize the size of each set to 1\n",
    "        self.size = [1 for i in range(n)]\n",
    "        # initialize the number of disjoint sets to n\n",
    "        self.num_disjoint_sets = n\n",
    "    \n",
    "    def find(self, node):\n",
    "        # find the root of the node by traversing the parent\n",
    "        # add path compression to make sure find() is O(1)\n",
    "        # this recursion maintains the height of the tree to be 2 (root<-(node1, node2, ... node n)\n",
    "        if self.parent[node] != node:\n",
    "            # path compression: recusively set the parent of the node to the root\n",
    "            self.parent[node] = self.find(self.parent[node])\n",
    "        return self.parent[node]\n",
    "    \n",
    "    def union(self, node1 , node2):\n",
    "        # find the root of each node\n",
    "        root1 = self.find(node1)\n",
    "        root2 = self.find(node2)\n",
    "        \n",
    "        # if the two nodes are already in the same set, do nothing\n",
    "        if root1 == root2:\n",
    "            return\n",
    "        \n",
    "        # otherwise, merge the two sets\n",
    "        # here we dont merge the smaller set to the larger set for balancing purpose\n",
    "        # because we have compression path in find(), the height of the tree is always 2\n",
    "        self.parent[root1] = root2\n",
    "        self.size[root2] += self.size[root1]\n",
    "\n",
    "        # decrease the number of disjoint sets by 1\n",
    "        self.num_disjoint_sets -= 1\n",
    "    \n",
    "    def connected(self, node1, node2):\n",
    "        # check if two nodes are in the same set\n",
    "        return self.find(node1) == self.find(node2)\n",
    "    \n",
    "    def count(self):\n",
    "        # \n",
    "        return self.num_disjoint_sets"
   ]
  },
  {
   "attachments": {},
   "cell_type": "markdown",
   "metadata": {},
   "source": [
    "## Applications\n",
    "\n",
    "### All paths Problem\n",
    "\n",
    "Leetcode:\n",
    "\n",
    "- 0797\n",
    "\n",
    "### Cycle Detection\n",
    "\n",
    "Leetcode\n",
    "\n",
    "- 0207 "
   ]
  }
 ],
 "metadata": {
  "kernelspec": {
   "display_name": "base",
   "language": "python",
   "name": "python3"
  },
  "language_info": {
   "codemirror_mode": {
    "name": "ipython",
    "version": 3
   },
   "file_extension": ".py",
   "mimetype": "text/x-python",
   "name": "python",
   "nbconvert_exporter": "python",
   "pygments_lexer": "ipython3",
   "version": "3.9.13"
  },
  "orig_nbformat": 4,
  "vscode": {
   "interpreter": {
    "hash": "90719f7b22258a2d6ecf0c790deba7bc0adf8c63aef77a66bd3eb2b289913783"
   }
  }
 },
 "nbformat": 4,
 "nbformat_minor": 2
}
