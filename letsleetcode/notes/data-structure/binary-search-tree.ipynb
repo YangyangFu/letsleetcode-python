{
 "cells": [
  {
   "cell_type": "markdown",
   "metadata": {},
   "source": [
    "# Binary Search Tree\n",
    "Binary Search Tree (BST) is a node-based binary tree data structure which has the following properties: \n",
    "\n",
    "- The left subtree of a node contains only nodes with `keys less than the node’s key`.\n",
    "- The right subtree of a node contains only nodes with `keys greater than the node’s key`.\n",
    "- This means `everything to the left of the root is less than the value of the root and everything to the right of the root is greater than the value of the root`. Due to this performing, a binary search is very easy.\n",
    "- The left and right subtree each must also be a binary search tree.  \n",
    "- There must be no duplicate nodes (BST may have duplicate values with different handling approaches)\n",
    "\n",
    "**Terminology**\n",
    "- `traversal order`: the order of the nodes generated from a given traversal direction. \n",
    "- `preorder traversal`: repeatly traverse the node first, then the left and lastly the right. \n",
    "\n",
    "**Key Properties**\n",
    "- Keep track of the range of node value. -> can be used to check if a tree is a valid BST or construct a BST from given preorder traversal order.\n",
    "  "
   ]
  },
  {
   "cell_type": "code",
   "execution_count": 11,
   "metadata": {},
   "outputs": [],
   "source": [
    "class Node():\n",
    "    def __init__(self, val=0, left=None, right=None):\n",
    "        self.val = val \n",
    "        self.left = left\n",
    "        self.right = right\n",
    "\n",
    "def traverse_preorder(root: Node) -> list:\n",
    "    if not root:\n",
    "        return []\n",
    "    \n",
    "    res = [root.val]\n",
    "    if root.left:\n",
    "        res.extend(traverse_preorder(root.left))\n",
    "    if root.right:\n",
    "        res.extend(traverse_preorder(root.right))\n",
    "    \n",
    "    return res\n",
    "\n",
    "def printTree(root, method='preorder'):\n",
    "    traversal = []\n",
    "    if method == \"preorder\":\n",
    "        pass"
   ]
  },
  {
   "cell_type": "markdown",
   "metadata": {},
   "source": [
    "## Build\n",
    "\n",
    "How to build a BST from given preorder traversal? For example if the given preorder traversal is [10,5,1,7,40,50], then the BST has the following format:\n",
    "\n",
    "\n",
    "            10\n",
    "            / \\\n",
    "           5   40\n",
    "          / \\    \\\n",
    "         1   7   50\n",
    "\n",
    "\n",
    "\n",
    "\n",
    "**Important**\n",
    "- In `preorder` traversal, the root node always comes first.\n",
    "- The key is to find its left subtree and right subtree from a given root using the above principle.\n",
    "- Together with `inorder`, where left subtree always comes first, it is easy to reconstruct a binary tree.\n",
    "\n",
    "**Leetcode**\n",
    "- [1008](https://leetcode.com/problems/construct-binary-search-tree-from-preorder-traversal/)"
   ]
  },
  {
   "cell_type": "markdown",
   "metadata": {},
   "source": [
    "### Method 1\n",
    "- The first element of the preorder traversal `A` is always root. \n",
    "- Then we find the first element that is greater than the root, and get its index `i`. In 0-index language, any values between `1` and `i` shall be the left subtree, and values between `i` and `-1` shall be the right subtree.\n",
    "- Recursively cconstruct the left subtree using `A[1:i]` and right subtree using `A[i:]`.\n",
    "\n",
    "**Complexity**\n",
    "- time: $O(n^2)$\n"
   ]
  },
  {
   "cell_type": "code",
   "execution_count": 12,
   "metadata": {},
   "outputs": [
    {
     "name": "stdout",
     "output_type": "stream",
     "text": [
      "[10, 5, 1, 7, 40, 50]\n",
      "[]\n",
      "[1]\n"
     ]
    }
   ],
   "source": [
    "def build_preorder(A):\n",
    "    # return None if empty\n",
    "    if not A:\n",
    "        return None\n",
    "\n",
    "    # get root\n",
    "    root = Node(val = A[0])\n",
    "    n = len(A)\n",
    "\n",
    "    # get left subtree and right subtree\n",
    "    # using the first element of the right subtree\n",
    "    # or we can use inorder traversal here by sorting the preorder traversal\n",
    "    i = 1\n",
    "    while i < n and A[i] < A[0]:\n",
    "        i += 1\n",
    "    \n",
    "    # recurse\n",
    "    left = build_preorder(A[1:i])\n",
    "    right = build_preorder(A[i:])\n",
    "    \n",
    "    # combine \n",
    "    root.left = left \n",
    "    root.right = right \n",
    "\n",
    "    return root\n",
    "    \n",
    "# test\n",
    "A = [10,5,1,7,40,50]\n",
    "root = build_preorder(A)\n",
    "print(traverse_preorder(root))\n",
    "\n",
    "A = []\n",
    "root = build_preorder(A)\n",
    "print(traverse_preorder(root))\n",
    "\n",
    "A = [1]\n",
    "root = build_preorder(A)\n",
    "print(traverse_preorder(root))"
   ]
  },
  {
   "cell_type": "markdown",
   "metadata": {},
   "source": [
    "### Method 2\n",
    "\n",
    "Traverse each element in the preorder traversal, and compare its value with the root value\n",
    "- if the node value is less than the root value, change root to its left\n",
    "- if the node value is greater than the root value, change root to its right\n",
    "- recurse until the node is inserted correctly\n",
    "\n",
    "**Complexity**\n",
    "- time: $O(n^2)$\n"
   ]
  },
  {
   "cell_type": "code",
   "execution_count": 14,
   "metadata": {},
   "outputs": [
    {
     "name": "stdout",
     "output_type": "stream",
     "text": [
      "[10, 5, 1, 7, 40, 50]\n",
      "[]\n",
      "[1]\n"
     ]
    }
   ],
   "source": [
    "def buildBST(preorder):\n",
    "    if not A:\n",
    "        return None \n",
    "    \n",
    "    root = Node(preorder[0])\n",
    "\n",
    "    n = len(preorder)\n",
    "    if n == 1:\n",
    "        return root\n",
    "    \n",
    "    # insert\n",
    "    def insert(root, node):\n",
    "        # base case\n",
    "        if not root:\n",
    "            return node\n",
    "        \n",
    "        # insert to left tree or right tree\n",
    "        if node.val < root.val:\n",
    "            root.left = insert(root.left, node)\n",
    "        else:\n",
    "            root.right = insert(root.right, node)\n",
    "        \n",
    "        return root\n",
    "\n",
    "    for i in range(1,n):\n",
    "        root = insert(root, Node(preorder[i]))\n",
    "    \n",
    "    return root\n",
    "\n",
    "# test\n",
    "A = [10,5,1,7,40,50]\n",
    "root = buildBST(A)\n",
    "print(traverse_preorder(root))\n",
    "\n",
    "A = []\n",
    "root = buildBST(A)\n",
    "print(traverse_preorder(root))\n",
    "\n",
    "A = [1]\n",
    "root = buildBST(A)\n",
    "print(traverse_preorder(root))"
   ]
  },
  {
   "cell_type": "markdown",
   "metadata": {},
   "source": [
    "### Method 3\n",
    "The trick is to set a range `{min .. max}` for every node. \n",
    "Initialize the range as `{INT_MIN .. INT_MAX}`. \n",
    "The first node will definitely be in range, so create a root node. \n",
    "To construct the left subtree, set the range as `{INT_MIN …root.val}`. \n",
    "If a value is in the range `{INT_MIN .. root.val}`, the values are part of the left subtree. \n",
    "To construct the right subtree, set the range as `{root.val .. max .. INT_MAX}`. \n",
    "\n",
    "\n",
    "\n",
    "Below is the implementation of the above idea:\n"
   ]
  },
  {
   "cell_type": "code",
   "execution_count": 20,
   "metadata": {},
   "outputs": [
    {
     "ename": "UnboundLocalError",
     "evalue": "local variable 'i' referenced before assignment",
     "output_type": "error",
     "traceback": [
      "\u001b[0;31m---------------------------------------------------------------------------\u001b[0m",
      "\u001b[0;31mUnboundLocalError\u001b[0m                         Traceback (most recent call last)",
      "\u001b[1;32m/Users/yangyangfu/github/letsleetcode-python/letsleetcode/notes/data-structure/binary-search-tree.ipynb Cell 9\u001b[0m in \u001b[0;36m<cell line: 18>\u001b[0;34m()\u001b[0m\n\u001b[1;32m     <a href='vscode-notebook-cell:/Users/yangyangfu/github/letsleetcode-python/letsleetcode/notes/data-structure/binary-search-tree.ipynb#X15sZmlsZQ%3D%3D?line=15'>16</a>\u001b[0m \u001b[39m# test\u001b[39;00m\n\u001b[1;32m     <a href='vscode-notebook-cell:/Users/yangyangfu/github/letsleetcode-python/letsleetcode/notes/data-structure/binary-search-tree.ipynb#X15sZmlsZQ%3D%3D?line=16'>17</a>\u001b[0m A \u001b[39m=\u001b[39m [\u001b[39m10\u001b[39m,\u001b[39m5\u001b[39m,\u001b[39m1\u001b[39m,\u001b[39m7\u001b[39m,\u001b[39m40\u001b[39m,\u001b[39m50\u001b[39m]\n\u001b[0;32m---> <a href='vscode-notebook-cell:/Users/yangyangfu/github/letsleetcode-python/letsleetcode/notes/data-structure/binary-search-tree.ipynb#X15sZmlsZQ%3D%3D?line=17'>18</a>\u001b[0m root \u001b[39m=\u001b[39m buildBST(A)\n\u001b[1;32m     <a href='vscode-notebook-cell:/Users/yangyangfu/github/letsleetcode-python/letsleetcode/notes/data-structure/binary-search-tree.ipynb#X15sZmlsZQ%3D%3D?line=18'>19</a>\u001b[0m \u001b[39mprint\u001b[39m(traverse_preorder(root))\n\u001b[1;32m     <a href='vscode-notebook-cell:/Users/yangyangfu/github/letsleetcode-python/letsleetcode/notes/data-structure/binary-search-tree.ipynb#X15sZmlsZQ%3D%3D?line=20'>21</a>\u001b[0m A \u001b[39m=\u001b[39m []\n",
      "\u001b[1;32m/Users/yangyangfu/github/letsleetcode-python/letsleetcode/notes/data-structure/binary-search-tree.ipynb Cell 9\u001b[0m in \u001b[0;36mbuildBST\u001b[0;34m(preorder)\u001b[0m\n\u001b[1;32m     <a href='vscode-notebook-cell:/Users/yangyangfu/github/letsleetcode-python/letsleetcode/notes/data-structure/binary-search-tree.ipynb#X15sZmlsZQ%3D%3D?line=9'>10</a>\u001b[0m     root\u001b[39m.\u001b[39mright \u001b[39m=\u001b[39m build(A, bound)\n\u001b[1;32m     <a href='vscode-notebook-cell:/Users/yangyangfu/github/letsleetcode-python/letsleetcode/notes/data-structure/binary-search-tree.ipynb#X15sZmlsZQ%3D%3D?line=11'>12</a>\u001b[0m     \u001b[39mreturn\u001b[39;00m root\n\u001b[0;32m---> <a href='vscode-notebook-cell:/Users/yangyangfu/github/letsleetcode-python/letsleetcode/notes/data-structure/binary-search-tree.ipynb#X15sZmlsZQ%3D%3D?line=13'>14</a>\u001b[0m \u001b[39mreturn\u001b[39;00m build(A)\n",
      "\u001b[1;32m/Users/yangyangfu/github/letsleetcode-python/letsleetcode/notes/data-structure/binary-search-tree.ipynb Cell 9\u001b[0m in \u001b[0;36mbuildBST.<locals>.build\u001b[0;34m(A, bound)\u001b[0m\n\u001b[1;32m      <a href='vscode-notebook-cell:/Users/yangyangfu/github/letsleetcode-python/letsleetcode/notes/data-structure/binary-search-tree.ipynb#X15sZmlsZQ%3D%3D?line=3'>4</a>\u001b[0m \u001b[39mdef\u001b[39;00m \u001b[39mbuild\u001b[39m(A, bound\u001b[39m=\u001b[39m\u001b[39mfloat\u001b[39m(\u001b[39m'\u001b[39m\u001b[39minf\u001b[39m\u001b[39m'\u001b[39m)):\n\u001b[0;32m----> <a href='vscode-notebook-cell:/Users/yangyangfu/github/letsleetcode-python/letsleetcode/notes/data-structure/binary-search-tree.ipynb#X15sZmlsZQ%3D%3D?line=4'>5</a>\u001b[0m     \u001b[39mif\u001b[39;00m i \u001b[39m==\u001b[39m \u001b[39mlen\u001b[39m(A) \u001b[39mor\u001b[39;00m A[i] \u001b[39m>\u001b[39m bound:\n\u001b[1;32m      <a href='vscode-notebook-cell:/Users/yangyangfu/github/letsleetcode-python/letsleetcode/notes/data-structure/binary-search-tree.ipynb#X15sZmlsZQ%3D%3D?line=5'>6</a>\u001b[0m         \u001b[39mreturn\u001b[39;00m \u001b[39mNone\u001b[39;00m\n\u001b[1;32m      <a href='vscode-notebook-cell:/Users/yangyangfu/github/letsleetcode-python/letsleetcode/notes/data-structure/binary-search-tree.ipynb#X15sZmlsZQ%3D%3D?line=6'>7</a>\u001b[0m     root \u001b[39m=\u001b[39m Node(A[i])\n",
      "\u001b[0;31mUnboundLocalError\u001b[0m: local variable 'i' referenced before assignment"
     ]
    }
   ],
   "source": [
    "def buildBST(preorder):\n",
    "    global i \n",
    "    i = 0\n",
    "    def build(A, bound=float('inf')):\n",
    "        if i == len(A) or A[i] > bound:\n",
    "            return None\n",
    "        root = Node(A[i])\n",
    "        i += 1\n",
    "        root.left = build(A, root.val)\n",
    "        root.right = build(A, bound)\n",
    "        \n",
    "        return root\n",
    "\n",
    "    return build(A) \n",
    "\n",
    "# test\n",
    "A = [10,5,1,7,40,50]\n",
    "root = buildBST(A)\n",
    "print(traverse_preorder(root))\n",
    "\n",
    "A = []\n",
    "root = buildBST(A)\n",
    "print(traverse_preorder(root))\n",
    "\n",
    "A = [1]\n",
    "root = buildBST(A)\n",
    "print(traverse_preorder(root))"
   ]
  },
  {
   "cell_type": "markdown",
   "metadata": {},
   "source": [
    "## Traverse \n"
   ]
  },
  {
   "cell_type": "markdown",
   "metadata": {},
   "source": [
    "## Insertion"
   ]
  },
  {
   "cell_type": "markdown",
   "metadata": {},
   "source": [
    "## Deletion"
   ]
  },
  {
   "cell_type": "markdown",
   "metadata": {},
   "source": [
    "## Search\n"
   ]
  }
 ],
 "metadata": {
  "kernelspec": {
   "display_name": "Python 3.8.12 ('jupyterbook-py38')",
   "language": "python",
   "name": "python3"
  },
  "language_info": {
   "codemirror_mode": {
    "name": "ipython",
    "version": 3
   },
   "file_extension": ".py",
   "mimetype": "text/x-python",
   "name": "python",
   "nbconvert_exporter": "python",
   "pygments_lexer": "ipython3",
   "version": "3.8.12"
  },
  "orig_nbformat": 4,
  "vscode": {
   "interpreter": {
    "hash": "577791f2da4ac3a13c44f20f0f30021788d0264a6d82c3224a80270143730ffe"
   }
  }
 },
 "nbformat": 4,
 "nbformat_minor": 2
}
