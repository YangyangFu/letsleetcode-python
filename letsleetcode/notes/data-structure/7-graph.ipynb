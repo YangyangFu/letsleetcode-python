{
 "cells": [
  {
   "attachments": {},
   "cell_type": "markdown",
   "metadata": {},
   "source": [
    "# Chapter 6. Graph\n"
   ]
  },
  {
   "attachments": {},
   "cell_type": "markdown",
   "metadata": {},
   "source": [
    "## 1. Build\n",
    "\n",
    "We can simply use Leetcode conventions to represent graph as nodes and its adjacent matrix, which can be implemented as a list of list in python."
   ]
  },
  {
   "cell_type": "code",
   "execution_count": 9,
   "metadata": {},
   "outputs": [
    {
     "name": "stdout",
     "output_type": "stream",
     "text": [
      "{0: [1, 2], 1: [2, 3], 2: [3, 4], 3: [], 4: []}\n"
     ]
    }
   ],
   "source": [
    "def buildGraph(n_nodes, connections):\n",
    "    graph = {}\n",
    "    for node in range(n_nodes):\n",
    "        graph[node] = []\n",
    "    \n",
    "    for node1, node2 in connections:\n",
    "        graph[node1].append(node2)\n",
    "        # if build an undirected graph, add the following line\n",
    "        # graph[node2].append(node1)\n",
    "    return graph\n",
    "\n",
    "# test\n",
    "n_nodes = 5\n",
    "connections = [[0, 1], [0, 2], [1, 2], [1, 3], [2, 3], [2, 4]]\n",
    "graph = buildGraph(n_nodes, connections)\n",
    "print(graph)"
   ]
  },
  {
   "attachments": {},
   "cell_type": "markdown",
   "metadata": {},
   "source": [
    "## 2. Traversal\n",
    "\n",
    "Traversal can solve problems like find paths given the source node and target node, and also the topological sorting sequences.\n",
    "\n",
    "`valid-DAG problem`: check if a given DAG is valid\n",
    "- check if the DAG `G` has directed cycles\n",
    "- if no cycle, topological sort is a linear ordering of nodes along a horizontal line so that all directed edges go from left to right.\n",
    "- if cycles are present, topological sorting is not possible.\n",
    "\n",
    "`single-pair all paths problem`: \n",
    "- find all possible paths from `s` to `t`\n",
    "\n",
    "\n",
    "These two types of problems can be solved by traversing the graph. There are two different ways of traversing a graph:\n",
    "- `Breadth-first Search (BFS)`\n",
    "- `Depth-first Search (DFS)`\n"
   ]
  },
  {
   "attachments": {},
   "cell_type": "markdown",
   "metadata": {},
   "source": [
    "### 2.1. Valid DAG\n",
    "\n",
    "Check if a DAG is valid. There should have no directed cycles in the graph.\n",
    "\n",
    "The following graph is a DAG, because node `0` points to node `2`, node `1` points to node `0` and node `2`, node `2` points to nothing.\n",
    "Obviously, there is no directed cycle.\n",
    "```\n",
    "G = [[2], [0,2], []]\n",
    "```\n",
    "\n",
    "This is not a valid DAG, because there is a directed cycle, i.e., `node 0 -> node 2`, `node 2 -> node 1`, and `node 1 -> node 0`.\n",
    "```\n",
    "G = [[2], [0], [1]]\n",
    "```\n",
    "\n",
    "**Leetcode**\n",
    "- [0207](/letsleetcode/leetcode/solutions/0207-course-schedule.ipynb)\n",
    "  "
   ]
  },
  {
   "attachments": {},
   "cell_type": "markdown",
   "metadata": {},
   "source": [
    "#### 2.1.1. BFS\n",
    "\n",
    "The first logic that came to mind about using BFS is shown as follows:\n",
    "\n",
    "- use BFS to detect if there is a cycle\n",
    "    - initialize a queue, and a `visisted` set to track which node has been visited\n",
    "    - given node, travere its neighbor\n",
    "\n",
    "**This method, however, is not correct as its implementation.**\n",
    "- the `visited` store all the nodes that has been visited. \n",
    "- the case [[0,1], [0,2], [2,1]], has a cycle from undirected graph point of view, but no cycle from directed graph point of view \n",
    "- when traversing the node `0`, BFS will enqueue its dependency `[1,2]` and mark as visisted. \n",
    "- when going to the neighbor node `1`, its neighbor node `2` is enqueued. But at previous step the node `2` has already been marked as `visited`, which will be identified INCORRETLY as a `cycle`.\n",
    "\n",
    "The main reason is the `visited` set in this sense didn't store parent/children information during traversal. \n"
   ]
  },
  {
   "cell_type": "code",
   "execution_count": 10,
   "metadata": {},
   "outputs": [
    {
     "name": "stdout",
     "output_type": "stream",
     "text": [
      "False\n",
      "False\n"
     ]
    }
   ],
   "source": [
    "# the following code is only used for detecting cycles in a undirected graph\n",
    "# for directed graph, this will not work as directed cycle is not the same as undirected cycle\n",
    "def isValidDAG(graph):\n",
    "    # check if there is a cycle in the graph\n",
    "    def hasCycle(graph, source):\n",
    "        # initialize a set to store the visited nodes\n",
    "        visited = set()\n",
    "        # initialize a queue to store the nodes to be explored\n",
    "        queue = [source]\n",
    "        # loop until the queue is empty\n",
    "        while queue:\n",
    "            # pop the first node in the queue\n",
    "            node = queue.pop(0)\n",
    "            # if the node is already visited, then there is a cycle\n",
    "            if node in visited:\n",
    "                return True\n",
    "            \n",
    "            # mark the node as visited\n",
    "            visited.add(node)\n",
    "\n",
    "            # explore all the neighbors of the node\n",
    "            for neighbor in graph[node]:\n",
    "                queue.append(neighbor)\n",
    "\n",
    "        return False\n",
    "    \n",
    "    for i in graph.keys():\n",
    "        if hasCycle(graph, i):\n",
    "            return False \n",
    "\n",
    "    return True    \n",
    "\n",
    "# test\n",
    "# False\n",
    "nodes = 2\n",
    "connections = [[0, 1], [1, 0]]\n",
    "graph = buildGraph(nodes, connections)\n",
    "print(isValidDAG(graph))\n",
    "\n",
    "# True\n",
    "nodes = 5\n",
    "connections = [[0, 1], [0, 2], [1, 2], [1, 3], [2, 3], [2, 4]]\n",
    "graph = buildGraph(nodes, connections)\n",
    "print(isValidDAG(graph))\n"
   ]
  },
  {
   "attachments": {},
   "cell_type": "markdown",
   "metadata": {},
   "source": [
    "A `correct implementation` is to use a `indegree` set to record the indegree of each node. `Indegree` is the number of dependencies a node requires, the number of incoming connections.\n",
    "When do a topological sorting, we need start from a node with `0 indegree`, and such nodes are the starting point of a topological sort tree.\n",
    "\n",
    "**Algorithm**:\n",
    "- step 0: get the indegree for each node in the graph\n",
    "- step 1: find nodes with `indegree of 0`, and enqueue to a queue\n",
    "- step 2: dequeue the queue，and decrease the indegree of the connected nodes from the popped node by 1\n",
    "    - 可以想象成在graph中把该节点抹去，那么该节点指向的其他节点的indegree就减1了\n",
    "- repeat step 1 and 2 \n",
    "- the traversal order is the topological sort if there is no cycle detected\n",
    "- if the number of nodes that has been popped out from the queue equals to the number of courses, then there is no cycle. \n",
    "    - if there is a cycle, the number of nodes that have been popped out from the queue should be less than the toal number of courses."
   ]
  },
  {
   "cell_type": "code",
   "execution_count": 11,
   "metadata": {},
   "outputs": [
    {
     "name": "stdout",
     "output_type": "stream",
     "text": [
      "False\n",
      "True\n"
     ]
    }
   ],
   "source": [
    "def isValidDAG(graph):\n",
    "    indegree = {}\n",
    "    for node in graph.keys():\n",
    "        indegree[node] = 0\n",
    "    for node in graph.keys():\n",
    "        for edge in graph[node]:\n",
    "            indegree[edge] += 1\n",
    "        \n",
    "    def hasCycle(graph, indegree):\n",
    "        # initialize a queue to store the nodes with indegree 0\n",
    "        queue = []\n",
    "        for node in indegree.keys():\n",
    "            if indegree[node] == 0:\n",
    "                queue.append(node)\n",
    "        \n",
    "        # loop until the queue is empty\n",
    "        while queue:\n",
    "            # pop the first node in the queue\n",
    "            node = queue.pop(0)\n",
    "            # explore all the neighbors of the node\n",
    "            for neighbor in graph[node]:\n",
    "                indegree[neighbor] -= 1\n",
    "                if indegree[neighbor] == 0:\n",
    "                    queue.append(neighbor)\n",
    "        \n",
    "        # if there is a cycle, there will be a node with indegree > 0\n",
    "        for node in indegree.keys():\n",
    "            if indegree[node] > 0:\n",
    "                return True\n",
    "        \n",
    "        return False\n",
    "    \n",
    "    return not hasCycle(graph, indegree)\n",
    "\n",
    "# test\n",
    "# False\n",
    "nodes = 2\n",
    "connections = [[0, 1], [1, 0]]\n",
    "graph = buildGraph(nodes, connections)\n",
    "print(isValidDAG(graph))\n",
    "\n",
    "# True\n",
    "nodes = 5\n",
    "connections = [[0, 1], [0, 2], [1, 2], [1, 3], [2, 3], [2, 4]]\n",
    "graph = buildGraph(nodes, connections)\n",
    "print(isValidDAG(graph))"
   ]
  },
  {
   "attachments": {},
   "cell_type": "markdown",
   "metadata": {},
   "source": [
    "#### 2.1.2. Depth-first Search\n",
    "\n",
    "- todo: implement using two approaches\n",
    "    - traversal approach -> similar to backtracking\n",
    "    - subporblem approach -> recusion with return value\n"
   ]
  },
  {
   "attachments": {},
   "cell_type": "markdown",
   "metadata": {},
   "source": [
    "DFS approach is more straight-forward than BFS in terms of detecting a loop, as DFS uses recursions and if a node was visited before in the same recursion, then there is a cycle. \n",
    "\n",
    "Simply check if a node is visited or not. If it is visited, then there is a loop in the graph.\n",
    "\n",
    "**FOLLOW UP**: \n",
    "\n",
    "if we want to know the path of the loop, \n",
    "- we can use a `parent` dictionary to keep track of the parent of each node. Then we can use the parent dictionary to trace back the path of the loop.\n",
    "- add a path parameter to the dfs function, and append the current node to the path. If there is a loop, then the path will contain the loop.\n",
    "\n",
    "\n",
    "**NOTES**\n",
    "\n",
    "think about when and how to use `visited` or `path`.\n",
    "\n",
    "- `visited`: the visited records all the nodes that have been visited, and explored. If during the recursion, the node marked as `visited` is visited again, there is no need to further do the calculation as it's been done before.\n",
    "    - or we can understand it as: `visited` is for the global graph point of view to make sure the traversal is not performed twice for the same node. \n",
    "- `path`: the traced record all the nodes that are currently on the recursion path, which might not be visited/finished. \n",
    "        - or we can understand it as: `path` is the current recursion path, and can be used to see if current path has loop."
   ]
  },
  {
   "cell_type": "code",
   "execution_count": 12,
   "metadata": {},
   "outputs": [
    {
     "name": "stdout",
     "output_type": "stream",
     "text": [
      "False\n",
      "True\n"
     ]
    }
   ],
   "source": [
    "def isValidDAG(graph):\n",
    "\n",
    "    # initialize a set to store the visited nodes and a set to store the nodes in the current path\n",
    "    visited = set()\n",
    "    path = set()\n",
    "    def hasCycle(graph, source):\n",
    "        # if the node is already in path, then there is a cycle\n",
    "        if source in path:\n",
    "            return True\n",
    "        # if the node is already visited, then there is no cycle\n",
    "        if source in visited:\n",
    "            return False\n",
    "        \n",
    "        # add the node to the path\n",
    "        path.add(source)\n",
    "        # add the node to visited\n",
    "        visited.add(source)\n",
    "\n",
    "        # explore all neighbors of the node\n",
    "        for neighbor in graph[source]:\n",
    "            if hasCycle(graph, neighbor):\n",
    "                return True\n",
    "        # remove the node from the path after recursion to restore the path to the state before the function call\n",
    "        path.remove(source)\n",
    "        \n",
    "    # loop through all nodes in the graph in case the graph is not connected\n",
    "    for i in graph.keys():\n",
    "        if hasCycle(graph, i):\n",
    "            return False \n",
    "\n",
    "    return True\n",
    "\n",
    "# test\n",
    "# False\n",
    "nodes = 2\n",
    "connections = [[0, 1], [1, 0]]\n",
    "graph = buildGraph(nodes, connections)\n",
    "print(isValidDAG(graph))\n",
    "\n",
    "# True\n",
    "nodes = 5\n",
    "connections = [[0, 1], [0, 2], [1, 2], [1, 3], [2, 3], [2, 4]]\n",
    "graph = buildGraph(nodes, connections)\n",
    "print(isValidDAG(graph))"
   ]
  },
  {
   "attachments": {},
   "cell_type": "markdown",
   "metadata": {},
   "source": [
    "**DFS vs Backtracking**\n",
    "DFS aims to operate on the node itself, and backtracking operates on branch (from node to another node).\n",
    "See the following code differences.\n",
    "\n",
    "```\n",
    "    // DFS, focus on node\n",
    "    def dfs(root):\n",
    "        if not root:\n",
    "            reutrn\n",
    "        print(f\"enter node {root}\")\n",
    "        for child in root.children:\n",
    "            dfs(child)\n",
    "        print(f\"leave node {root}\")\n",
    "\n",
    "    // Backtracking, focus on branch\n",
    "    def backtrack(root):\n",
    "        if not root:\n",
    "            return\n",
    "\n",
    "        for child in root.children:\n",
    "            // make a choice\n",
    "\n",
    "            print(f\"from node {root} to node {child}\")\n",
    "            backtrack(child)\n",
    "            \n",
    "            //undo a choice\n",
    "            \n",
    "            print(f\"from node {child} to node {root}\")\n",
    "```"
   ]
  },
  {
   "attachments": {},
   "cell_type": "markdown",
   "metadata": {},
   "source": [
    "### 2.2 Single Pair All Paths Problem\n",
    "Given a directed acyclic graph (DAG) of `n` nodes labeled from `0` to `n - 1`, find all possible paths from node `0` to node `n - 1` and return them in any order.\n",
    "\n",
    "\n",
    "**Leetcode**\n",
    "- [0797](/letsleetcode/leetcode/solutions/0797-all-paths-source-target.ipynb)\n"
   ]
  },
  {
   "attachments": {},
   "cell_type": "markdown",
   "metadata": {},
   "source": [
    "#### 2.2.1 BFS\n"
   ]
  },
  {
   "cell_type": "code",
   "execution_count": 3,
   "metadata": {},
   "outputs": [
    {
     "name": "stdout",
     "output_type": "stream",
     "text": [
      "[[0, 1, 3], [0, 2, 3]]\n"
     ]
    }
   ],
   "source": [
    "# BFS\n",
    "def allPaths(graph, source, target):\n",
    "    # initialize results\n",
    "    paths = []\n",
    "    # initialize a queue to store the paths\n",
    "    queue = [[source]]\n",
    "    \n",
    "    # loop until the queue is empty\n",
    "    while queue:\n",
    "        # pop the first path in the queue\n",
    "        path = queue.pop(0)\n",
    "        # get the last node in the path\n",
    "        node = path[-1]\n",
    "\n",
    "        # if the node is the target, then return the path\n",
    "        if node == target:\n",
    "            paths.append(path)\n",
    "\n",
    "        # explore all the neighbors of the node\n",
    "        for neighbor in graph[node]:\n",
    "            queue.append(path + [neighbor])\n",
    "    return paths\n",
    "\n",
    "graph = [[1,2],[3],[3],[]]\n",
    "print(allPaths(graph, 0, 3))"
   ]
  },
  {
   "attachments": {},
   "cell_type": "markdown",
   "metadata": {},
   "source": [
    "#### 2.2.2 DFS\n",
    "\n",
    "DFS uses `path` to store the nodes in current recursion.\n",
    "We can add a terminating case, where the targeted end node is reached."
   ]
  },
  {
   "cell_type": "code",
   "execution_count": 17,
   "metadata": {},
   "outputs": [
    {
     "name": "stdout",
     "output_type": "stream",
     "text": [
      "[[0, 1, 3], [0, 2, 3]]\n"
     ]
    }
   ],
   "source": [
    "def allPaths(graph, source, target):\n",
    "    # initialize a list to store all the paths\n",
    "    paths =[]\n",
    "    # initialize a list to store the current path\n",
    "    path = []\n",
    "\n",
    "    def dfs(graph, source, target):\n",
    "        if source == target:\n",
    "            # if the source is the target, add the current path to the list of paths\n",
    "            paths.append(path + [source])\n",
    "            return\n",
    "        \n",
    "        path.append(source)\n",
    "        for neighbor in graph[source]:\n",
    "            dfs(graph, neighbor, target)\n",
    "        path.pop()\n",
    "\n",
    "    dfs(graph, source, target)\n",
    "\n",
    "    return paths\n",
    "\n",
    "# test\n",
    "graph = [[1,2],[3],[3],[]]\n",
    "print(allPaths(graph, 0, 3))"
   ]
  },
  {
   "attachments": {},
   "cell_type": "markdown",
   "metadata": {},
   "source": [
    "### 2.3 Topological Sorting\n",
    "Only a valid DAG can do topological sorting.\n",
    "\n",
    "**Leetcode**\n"
   ]
  },
  {
   "attachments": {},
   "cell_type": "markdown",
   "metadata": {},
   "source": [
    "## 3 Shortest Path Problems\n",
    "Shortest path is to find the shortest path between two vertex:\n",
    "- `single source shortest path`: find the shortest paths from a given source vertex `s` to each vertex `t`.\n",
    "- `single destination shortest path`: find the shortest paths from each source vertex `s` to the destination vertex `t`. We can reverse the direction of each edge, and formulate a `single-source shortest path` problem.\n",
    "- `single pair shortest path`: find the shortest path for a given pair (`s`, `v`). This problem usually requires to solve `single source shortest path` first.\n",
    "- `all pairs shortest paths`: find a shortest path from `s` to `t` for every pair of vertices `s` and `t`. Although we can solve this problem by running a single source algorithm once from each vertex, we usually can solve it faster using XXX.\n",
    "\n",
    "\n",
    "BFS is typically used for shortest paths problems.\n",
    "\n",
    "DFS is typically used for reacheability problems. When used for shortest path problems, DFS need go over all possible paths from given source and target, and then find the shortest one. \n"
   ]
  },
  {
   "attachments": {},
   "cell_type": "markdown",
   "metadata": {},
   "source": [
    "### 3.1 BFS"
   ]
  },
  {
   "cell_type": "code",
   "execution_count": 2,
   "metadata": {},
   "outputs": [
    {
     "name": "stdout",
     "output_type": "stream",
     "text": [
      "[[0], [0, 1], [0, 2], [0, 1, 3]]\n",
      "[[0], [0, 1], [0, 2], [0, 3]]\n"
     ]
    }
   ],
   "source": [
    "def shortestPaths(graph, source):\n",
    "    # initialize shortest paths\n",
    "    paths = []\n",
    "    # initialize a set to store the visited nodes\n",
    "    visited = set()\n",
    "    # initialize path\n",
    "    path = [source]\n",
    "    # initialize a queue to store the paths\n",
    "    queue = [path]\n",
    "    # loop until the queue is empty\n",
    "    while queue:\n",
    "        # pop the first path in the queue\n",
    "        path = queue.pop(0)\n",
    "        # get the last node in the path\n",
    "        node = path[-1]\n",
    "        # save the shortest path between the source and the node\n",
    "        paths.append(path)\n",
    "        # explore all the neighbors of the node\n",
    "        for neighbor in graph[node]:\n",
    "            # if the neighbor is not visited, add it to the visited and the path to the queue\n",
    "            if neighbor not in visited:\n",
    "                visited.add(neighbor)\n",
    "                queue.append(path + [neighbor])\n",
    "    return paths\n",
    "\n",
    "# test\n",
    "graph = [[1,2],[3],[3],[]]\n",
    "print(shortestPaths(graph, 0))\n",
    "\n",
    "graph = [[1,2,3],[3],[3],[]]\n",
    "print(shortestPaths(graph, 0))"
   ]
  },
  {
   "attachments": {},
   "cell_type": "markdown",
   "metadata": {},
   "source": [
    "### 3.2 DFS\n",
    "\n",
    "we can also use DFS, but this might not be efficient:\n",
    "- use DFS to find all reachable paths from given pair\n",
    "- choose the path with minimum weights"
   ]
  },
  {
   "attachments": {},
   "cell_type": "markdown",
   "metadata": {},
   "source": [
    "## 4 Shortest Weighted Path\n",
    "\n",
    "`Dijkstra algorithm` is usually used for detecting the shortest path in a `DAG with nonnegative weights`. Dijkstra algorithm extends BFS for weighted DAG by introducing a `DP table` to store the distance between vertices.\n",
    "\n",
    "- initialization \n",
    "    - a distance table for recording the best distance found so far, and set to `infinity`\n",
    "    - base case: the distance from the source vertex `s` to itself is set to 0\n",
    "    - a priority queue to maintain the to-be-explored neighbor vertices, sorted based on their current distance to the given source `s`.\n",
    "- main loop:\n",
    "    - pop out the queue, and get the current vertex and its current distance\n",
    "    - explore its neighbors:\n",
    "        - for each neighbor vertex, calculate its current distance from the source `s`\n",
    "        - if the current distance < the best distance found so far in the distance table:\n",
    "            - update the distance table\n",
    "            - enqueue\n",
    "- return the distance table\n",
    "- **Note:** usually no need to use `visited` set to track which node should be in the queue, because the distance table can be used\n",
    "  \n",
    "**How to reconstruct the shortest paths based on distance table?**\n",
    "\n",
    "**Leetcode**\n",
    "- [0743]()\n",
    "- [1514]()\n",
    "- [1631]()"
   ]
  },
  {
   "cell_type": "code",
   "execution_count": 9,
   "metadata": {},
   "outputs": [
    {
     "name": "stdout",
     "output_type": "stream",
     "text": [
      "({0: 0, 1: 1, 2: 2, 3: 3}, {0: None, 1: 0, 2: 0, 3: 0})\n",
      "({0: 0, 1: 2, 2: 1, 3: 1}, {0: None, 2: 0, 3: 0, 1: 2})\n"
     ]
    }
   ],
   "source": [
    "# This code is generated by Copilot.\n",
    "def Dijkstra(graph, weights, source):\n",
    "    # initialize a set to store the visited nodes\n",
    "    visited = set()\n",
    "    # initialize a dictionary to store the shortest distance from the source to each node\n",
    "    distance = {}\n",
    "    # initialize a dictionary to store the previous node of each node\n",
    "    previous = {}\n",
    "    # initialize the distance of the source to itself as 0\n",
    "    distance[source] = 0\n",
    "    # initialize the distance of all other nodes to infinity\n",
    "    for node in graph.keys():\n",
    "        if node != source:\n",
    "            distance[node] = float('inf')\n",
    "    # initialize the previous node of the source as None\n",
    "    previous[source] = None\n",
    "    # initialize a queue to store the nodes\n",
    "    queue = [source]\n",
    "    # loop until the queue is empty\n",
    "    while queue:\n",
    "        # pop the first node in the queue\n",
    "        node = queue.pop(0)\n",
    "        visited.add(node)\n",
    "        # explore all the neighbors of the node\n",
    "        for neighbor in graph[node]:\n",
    "            # if the neighbor is not visited, add it to the queue\n",
    "            if neighbor not in visited:\n",
    "                queue.append(neighbor)\n",
    "            # update the distance and previous node of the neighbor\n",
    "            if distance[node] + weights[(node, neighbor)] < distance[neighbor]:\n",
    "                distance[neighbor] = distance[node] + weights[(node, neighbor)]\n",
    "                previous[neighbor] = node\n",
    "    return distance, previous\n",
    "\n",
    "# test\n",
    "graph = {0: [1, 2, 3], 1: [3], 2: [3], 3: []}\n",
    "weights = {(0, 1): 1, (0, 2): 2, (0, 3): 3, (1, 3): 4, (2, 3): 5}\n",
    "print(Dijkstra(graph, weights, 0))\n",
    "\n",
    "graph = {0: [2,3], 1: [2,3], 2: [0,1,3], 3: [0,1,2]}\n",
    "weights = {(0, 2): 1, (0, 3): 1, (1, 2): 1, (1, 3): 1, (2, 0): 1, (2, 1): 1, (2, 3): 1, (3, 0): 1, (3, 1): 1, (3, 2): 1}\n",
    "print(Dijkstra(graph, weights, 0))"
   ]
  },
  {
   "cell_type": "code",
   "execution_count": 1,
   "metadata": {},
   "outputs": [
    {
     "name": "stdout",
     "output_type": "stream",
     "text": [
      "({0: 0, 1: 1, 2: 2, 3: 3}, {0: None, 1: 0, 2: 0, 3: 0}, {0: [0], 1: [0, 1], 2: [0, 2], 3: [0, 3]})\n",
      "({0: 0, 1: 2, 2: 1, 3: 1}, {0: None, 2: 0, 3: 0, 1: 2}, {0: [0], 2: [0, 2], 3: [0, 3], 1: [0, 2, 1]})\n"
     ]
    }
   ],
   "source": [
    "# This version outputs the shortest path from the source to each node\n",
    "\n",
    "def Dijkstra(graph, weights, source):\n",
    "\n",
    "    # initialize a dictionary to store the shortest distance from the source to each node\n",
    "    distance = {}\n",
    "    # initialize a dictionary to store the previous node of each node\n",
    "    previous = {}\n",
    "    # initialize a dictionary to store the shortest path from the source to each node\n",
    "    paths = {}\n",
    "\n",
    "    # initialize the distance of all other nodes to infinity\n",
    "    distance = {node: float('inf') for node in graph.keys()}\n",
    "    # initialize the distance of the source to itself as 0\n",
    "    distance[source] = 0\n",
    "\n",
    "    # initialize the previous node of the source as None\n",
    "    previous[source] = None\n",
    "    \n",
    "    # initialize the path of the source to itself as [source]\n",
    "    paths[source] = [source]\n",
    "    # initialize a queue to store the nodes\n",
    "    queue = [(distance[source], paths[source])]\n",
    "\n",
    "    # loop until the queue is empty\n",
    "    while queue:\n",
    "        # pop the path and its last node in the queue\n",
    "        min_dist, path = queue.pop(0)\n",
    "        node = path[-1]\n",
    "\n",
    "        # this is very important, because the node may have been visited before\n",
    "        # if the distance of the node is not the shortest, skip it\n",
    "        if min_dist > distance[node]:\n",
    "            continue\n",
    "\n",
    "        # explore all the neighbors of the node\n",
    "        for neighbor in graph[node]:\n",
    "            # update the distance and previous node of the neighbor\n",
    "            dist_neighbor = distance[node] + weights[(node, neighbor)]\n",
    "            if dist_neighbor < distance[neighbor]:\n",
    "                distance[neighbor] = dist_neighbor\n",
    "                previous[neighbor] = node\n",
    "                paths[neighbor] = path + [neighbor]\n",
    "                queue.append((dist_neighbor, path + [neighbor]))\n",
    "\n",
    "    return distance, previous, paths\n",
    "\n",
    "# test\n",
    "graph = {0: [1, 2, 3], 1: [3], 2: [3], 3: []}\n",
    "weights = {(0, 1): 1, (0, 2): 2, (0, 3): 3, (1, 3): 4, (2, 3): 5}\n",
    "print(Dijkstra(graph, weights, 0))\n",
    "\n",
    "graph = {0: [2,3], 1: [2,3], 2: [0,1,3], 3: [0,1,2]}\n",
    "weights = {(0, 2): 1, (0, 3): 1, (1, 2): 1, (1, 3): 1, (2, 0): 1, (2, 1): 1, (2, 3): 1, (3, 0): 1, (3, 1): 1, (3, 2): 1}\n",
    "print(Dijkstra(graph, weights, 0))"
   ]
  },
  {
   "attachments": {},
   "cell_type": "markdown",
   "metadata": {},
   "source": [
    "## 5 Bipartition Graph\n",
    "\n",
    "Check if a graph is bipartition graph.\n",
    "We just need traverse the graph, and color the nodes with two colors.\n",
    "If any two adjacent nodes in the resulting graph have different colors, then the graph is bipartitional.\n",
    "\n",
    "**Algorithm**\n",
    "- BFS\n",
    "  - maintain a queue that stores nodes at the same breadth yet not visited\n",
    "  - pop out the nodes one by one\n",
    "  - examine its neighbors\n",
    "    - if the neighbor is not visited, color them with a different color than the node itself\n",
    "    - if the neighbor is visited, and has the same color as its parent, then not a valid bipartition graph\n",
    "- DFS\n",
    "  - traverse all the neighbors of the node\n",
    "  - if the neighbor is not visited, color them with a different color than the node itself\n",
    "  - if the node is already visited, and has the same color as its parent, then not a valid bipartition graph\n",
    "  \n",
    "**Leetcode**\n",
    "- [0886](/letsleetcode/leetcode/solutions/0886-possible-bipartition.ipynb)\n",
    "- 0785"
   ]
  },
  {
   "attachments": {},
   "cell_type": "markdown",
   "metadata": {},
   "source": [
    "### 5.1 BFS\n"
   ]
  },
  {
   "cell_type": "code",
   "execution_count": 2,
   "metadata": {},
   "outputs": [
    {
     "name": "stdout",
     "output_type": "stream",
     "text": [
      "True\n",
      "False\n"
     ]
    }
   ],
   "source": [
    "def isValidBipartitionGraph(graph):\n",
    "    # initialize a set to store the visited nodes\n",
    "    visited = set()\n",
    "    # initialize a dictionary to store the colors of the nodes\n",
    "    colors = {}\n",
    "\n",
    "    def bfs(graph, source):\n",
    "        # if the source is visited, then the graph is bipartite\n",
    "        if source in visited:\n",
    "            return True\n",
    "\n",
    "        # initialize a queue to store the nodes\n",
    "        queue = [source]\n",
    "        # initialize the color of the source\n",
    "        colors[source] = 0\n",
    "        # loop until the queue is empty\n",
    "        while queue:\n",
    "            # pop the first node in the queue\n",
    "            node = queue.pop(0)\n",
    "            # add the node to the visited set\n",
    "            visited.add(node)\n",
    "            # explore all the neighbors of the node\n",
    "            for neighbor in graph[node]:\n",
    "                # if the neighbor is not visited, add it to the queue\n",
    "                if neighbor not in visited:\n",
    "                    queue.append(neighbor)\n",
    "                    # color the neighbor with the opposite color of the node\n",
    "                    colors[neighbor] = 1 - colors[node]\n",
    "                # if the neighbor is visited and has the same color as the node, then the graph is not bipartite\n",
    "                elif colors[neighbor] == colors[node]:\n",
    "                    return False\n",
    "        return True\n",
    "\n",
    "    # loop through all nodes in the graph in case the graph is not connected\n",
    "    for i in graph.keys():\n",
    "        if not bfs(graph, i):\n",
    "            return False\n",
    "            \n",
    "    # otherwise, the graph is bipartite\n",
    "    return True\n",
    "\n",
    "# test\n",
    "graph = {0: [1, 3], 1: [0, 2], 2: [1, 3], 3: [0, 2]}\n",
    "print(isValidBipartitionGraph(graph))\n",
    "\n",
    "graph = {0: [1, 2, 3], 1: [0, 2], 2: [0, 1, 3], 3: [0, 2]}\n",
    "print(isValidBipartitionGraph(graph))"
   ]
  },
  {
   "attachments": {},
   "cell_type": "markdown",
   "metadata": {},
   "source": [
    "### 5.2 DFS"
   ]
  },
  {
   "cell_type": "code",
   "execution_count": 4,
   "metadata": {},
   "outputs": [
    {
     "name": "stdout",
     "output_type": "stream",
     "text": [
      "True\n",
      "False\n"
     ]
    }
   ],
   "source": [
    "def isValidBipartitionGraph(graph):\n",
    "    # initialize a set to store the visited nodes\n",
    "    visited = set()\n",
    "    # initialize a dictionary to store the colors of the nodes\n",
    "    colors = {}\n",
    "\n",
    "    # define a recursive function to explore the graph\n",
    "    def dfs(graph, source, color):\n",
    "        # if the source is visited, then the graph is bipartite\n",
    "        if source in visited:\n",
    "            return True\n",
    "        # otherwise add the source to the visited set\n",
    "        visited.add(source)\n",
    "        # color the source\n",
    "        colors[source] = color\n",
    "        # explore all the neighbors of the source\n",
    "        for v in graph[source]:\n",
    "            # if the neighbor is not visited, color it with the opposite color of the source\n",
    "            if v not in visited: \n",
    "                dfs(graph, v, 1 - color)\n",
    "            elif colors[v] == color:\n",
    "                return False\n",
    "        return True\n",
    "\n",
    "    for i in graph.keys():\n",
    "        color = 0 if i not in colors else colors[i]\n",
    "        if not dfs(graph, i, color):\n",
    "            return False\n",
    "    return True\n",
    "\n",
    "graph = {0: [1, 3], 1: [0, 2], 2: [1, 3], 3: [0, 2]}\n",
    "print(isValidBipartitionGraph(graph))\n",
    "\n",
    "graph = {0: [1, 2, 3], 1: [0, 2], 2: [0, 1, 3], 3: [0, 2]}\n",
    "print(isValidBipartitionGraph(graph))"
   ]
  },
  {
   "attachments": {},
   "cell_type": "markdown",
   "metadata": {},
   "source": [
    "## 6 Union Find\n",
    "\n",
    "see [here](https://labuladong.github.io/algo/di-yi-zhan-da78c/shou-ba-sh-03a72/bing-cha-j-323f3/).\n",
    "\n",
    "Leetcode:\n",
    "- [0323](/letsleetcode/leetcode/solutions/0323-number-of-connected-component.ipynb)"
   ]
  },
  {
   "cell_type": "code",
   "execution_count": 14,
   "metadata": {},
   "outputs": [],
   "source": [
    "class UnionFind():\n",
    "    def __init__(self, n):\n",
    "        # initialize the parent of each node to itself\n",
    "        self.parent = [i for i in range(n)]\n",
    "        # initialize the size of each set to 1\n",
    "        self.size = [1 for i in range(n)]\n",
    "        # initialize the number of disjoint sets to n\n",
    "        self.num_disjoint_sets = n\n",
    "    \n",
    "    def find(self, node):\n",
    "        # find the root of the node by traversing the parent\n",
    "        # add path compression to make sure find() is O(1)\n",
    "        # this recursion maintains the height of the tree to be 2 (root<-(node1, node2, ... node n)\n",
    "        if self.parent[node] != node:\n",
    "            # path compression: recusively set the parent of the node to the root\n",
    "            self.parent[node] = self.find(self.parent[node])\n",
    "        return self.parent[node]\n",
    "    \n",
    "    def union(self, node1 , node2):\n",
    "        # find the root of each node\n",
    "        root1 = self.find(node1)\n",
    "        root2 = self.find(node2)\n",
    "        \n",
    "        # if the two nodes are already in the same set, do nothing\n",
    "        if root1 == root2:\n",
    "            return\n",
    "        \n",
    "        # otherwise, merge the two sets\n",
    "        # here we dont merge the smaller set to the larger set for balancing purpose\n",
    "        # because we have compression path in find(), the height of the tree is always 2\n",
    "        self.parent[root1] = root2\n",
    "        self.size[root2] += self.size[root1]\n",
    "\n",
    "        # decrease the number of disjoint sets by 1\n",
    "        self.num_disjoint_sets -= 1\n",
    "    \n",
    "    def connected(self, node1, node2):\n",
    "        # check if two nodes are in the same set\n",
    "        return self.find(node1) == self.find(node2)\n",
    "    \n",
    "    def count(self):\n",
    "        # \n",
    "        return self.num_disjoint_sets"
   ]
  },
  {
   "attachments": {},
   "cell_type": "markdown",
   "metadata": {},
   "source": [
    "## 7 Minimum Spanning Tree\n",
    "\n",
    "Suppose we wish to connect all the computers in a new office building using the least amount of cable.  \n",
    "We can model this problem using an undirected, weighted graph `G` whose  vertices  represent  the  computers,  and  whose  edges  represent  all the possible pairs `(u,v)` of computers,  where the weight `w(u,v)` of `edge(u,v)` is equal to the amount of cable needed to connect computer `u` to computer `v`.\n",
    "Rather than computing a shortest-path tree from some particular vertex `v`, we are interested instead in finding a tree `T` that contains all the vertices of `G` and has the minimum total weight over all such trees. \n",
    "Algorithms for finding such a tree are the focus of this section.\n",
    "\n",
    "A tree, such as this, that contains every vertex of a connected graph `G` is said to be a `spanning tree`, and the problem of computing a spanning tree `T` with smallest total weight is known as the `minimum spanning tree(MST)` problem.\n",
    "\n",
    "Two algorithms are popular to solve this problem: Prim's algorithm and Kruskal's algorithm.\n",
    "These two algorithms are both `greedy` algorithms, as at each step of iteration, they choose the object that is the best at the moment. \n",
    "Such a strategy doesn't always ganrantee that it will always find globally optimal solutions to problems.\n",
    "However, for a `MST` problem, we can prove that certain greedy strategies do yield a spanning tree with minimum weight.\n",
    "\n",
    "**Leetcode**\n",
    "- [1584](/letsleetcode/leetcode/solutions/1584-min-cost-connect-all-points.ipynb)\n",
    "- [1135]()\n",
    "- [0261]()"
   ]
  },
  {
   "attachments": {},
   "cell_type": "markdown",
   "metadata": {},
   "source": [
    "### 7.1 Prim's Algorithm\n",
    "\n",
    "Prim's algorithm operates similarly as Dijkstra's algorithm. \n",
    "\n",
    "```python\n",
    "def Prim(G, r)\n",
    "    # Initialize a distance table and parent table for all vertice in G\n",
    "    for each u in G.V\n",
    "        u.d = infinity\n",
    "        u.p = None\n",
    "    # Initialize distance for root node\n",
    "    r.d = 0\n",
    "\n",
    "    # Initialize a priority queue for all vertice based on distance\n",
    "    Q = PriorityQueue(G.V)\n",
    "\n",
    "    # \n",
    "    while Q:\n",
    "        # Extract the vertex with the minimum distance in Q\n",
    "        u = Q.extract_min()\n",
    "        # Explore its neighbor\n",
    "        for v in G.adj[u]:\n",
    "            # If the neighbor has not finished and the weight of edge (u,v) is smaller than its current key\n",
    "            if v in Q and G.W[(u,v)] < v.d:\n",
    "                # Track its parent\n",
    "                v.p = u\n",
    "                # Reset distance key using smaller weight\n",
    "                v.d = G.W[(u,v)]\n",
    "```\n"
   ]
  },
  {
   "attachments": {},
   "cell_type": "markdown",
   "metadata": {},
   "source": [
    "A naive implementation could be:\n"
   ]
  },
  {
   "cell_type": "code",
   "execution_count": 9,
   "metadata": {},
   "outputs": [
    {
     "name": "stdout",
     "output_type": "stream",
     "text": [
      "[(0, 1), (0, 2), (0, 3)]\n"
     ]
    }
   ],
   "source": [
    "import heapq\n",
    "def Prim(graph, weight):\n",
    "    nodes = graph.keys()\n",
    "    n = len(nodes)    \n",
    "    # initialize a distanace table and parent table for MST\n",
    "    distance = [float('inf') for node in nodes]\n",
    "    source = list(nodes)[0]\n",
    "    distance[source] = 0\n",
    "    parent = [None for node in nodes]\n",
    "    \n",
    "    # initialize a MST\n",
    "    MST = []\n",
    "\n",
    "    # initialize a set to store the visited nodes\n",
    "    visited = set()\n",
    "\n",
    "    # initialize a priority queue to store the nodes\n",
    "    pq = [(distance[source], source)]\n",
    "\n",
    "    # loop until the queue is empty\n",
    "    while pq:\n",
    "        # pop the node with the smallest distance\n",
    "        dist, node = heapq.heappop(pq)\n",
    "        # if the node is visited, then skip\n",
    "        if node in visited:\n",
    "            continue\n",
    "        # otherwise, add the node to the visited set\n",
    "        visited.add(node)\n",
    "        # explore all the neighbors of the node\n",
    "        for neighbor in graph[node]:\n",
    "            # if the neighbor is not visited and the weight of the edge is smaller than the current distance, update the distance and parent\n",
    "            if neighbor not in visited and weight[(node, neighbor)] < distance[neighbor]:\n",
    "                distance[neighbor] = weight[(node, neighbor)]\n",
    "                parent[neighbor] = node\n",
    "                MST.append((parent[neighbor], neighbor))\n",
    "                heapq.heappush(pq, (distance[neighbor], neighbor))\n",
    "\n",
    "    return MST\n",
    "\n",
    "graph = {0: [1, 2, 3], 1: [0, 2], 2: [0, 1, 3], 3: [0, 2]}\n",
    "weight = {(0, 1): 1, (0, 2): 2, (0, 3): 3, (1, 2): 4, (2, 3): 5}\n",
    "print(Prim(graph, weight))\n"
   ]
  },
  {
   "attachments": {},
   "cell_type": "markdown",
   "metadata": {},
   "source": [
    "### 7.2 Kruskal's Algorithm\n",
    "Kruskal's algorithm is based on `union find` algorithm.\n",
    "\n",
    "While the `Prim's algorithm` builds the MST by growing a single treeuntil it spans the graph, `Kruskal’s algorithm` maintains a forest of clusters, repeatedly merging pairs of clusters until a single cluster spans the graph.\n",
    "Initially, each vertex is by itself in a singleton cluster.   \n",
    "The algorithm then considers each edge in turn, ordered by increasing weight.\n",
    "If an edge `e` connects two different clusters, then `e` is added to the set of edges of the minimum spanning tree, and the two clusters connected by `e` are merged into a single cluster. \n",
    "If, on the other hand, `e` connects two vertices that are already in the same cluster, then `e` is discarded.\n",
    "Once the algorithm has added enough edges to form a spanning tree, it terminates and outputs this tree as the minimum spanning tree.\n",
    "\n",
    "\n",
    "```python\n",
    "def Kruskal(G):\n",
    "    # Initialize a forest - more precisely, it should be a forest\n",
    "    T = []\n",
    "\n",
    "    # Initialize a union-find disjoints for the vertices in the graph\n",
    "    UnionFind(G.V):\n",
    "\n",
    "    # Put all edges in `G.E` to a min priority queue sorted by the weight `G.W[e]` for each edge `e (u, v)`\n",
    "    Q = PriorityQueue((G.W[e], e))\n",
    "    \n",
    "    # Traverse each edge in the priority queue\n",
    "    for (we, e)  in Q:\n",
    "        # Unzip to get the two nodes from an edge\n",
    "        u, v = e\n",
    "        \n",
    "        # If two nodes are not connected in the union-find disjoints\n",
    "        # Then connect them and add the edge to the tree\n",
    "        if not UnionFind.connected(u, v):\n",
    "            UnionFind.connect(u, v)\n",
    "            A.append(e)\n",
    "    \n",
    "    # return a MST\n",
    "    return A\n",
    "```"
   ]
  }
 ],
 "metadata": {
  "kernelspec": {
   "display_name": "jupyterbook-py38",
   "language": "python",
   "name": "python3"
  },
  "language_info": {
   "codemirror_mode": {
    "name": "ipython",
    "version": 3
   },
   "file_extension": ".py",
   "mimetype": "text/x-python",
   "name": "python",
   "nbconvert_exporter": "python",
   "pygments_lexer": "ipython3",
   "version": "3.8.12"
  },
  "orig_nbformat": 4,
  "vscode": {
   "interpreter": {
    "hash": "577791f2da4ac3a13c44f20f0f30021788d0264a6d82c3224a80270143730ffe"
   }
  }
 },
 "nbformat": 4,
 "nbformat_minor": 2
}
