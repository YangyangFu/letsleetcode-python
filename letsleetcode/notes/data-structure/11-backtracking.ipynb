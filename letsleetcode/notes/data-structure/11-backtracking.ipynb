{
 "cells": [
  {
   "attachments": {},
   "cell_type": "markdown",
   "metadata": {},
   "source": [
    "# Chapter 11 Backtracking\n",
    "\n",
    "Backtracking is similar to DFS, and a greedy approach.\n",
    "The difference between backtracing and DFS is `backtracking algorithm traverses the branch of a recursion tree, while DFS traverses the node of the recursion tree.`\n",
    "\n",
    "`Backtrack` is typically used for a problem that requires 1) all possible solutions, 2) no duplicated subproblems, such as permutation, `N-Queen` problem.\n"
   ]
  },
  {
   "attachments": {},
   "cell_type": "markdown",
   "metadata": {},
   "source": [
    "## 1. Template\n",
    "\n",
    "The code template of `backtrack` follows:\n",
    "\n",
    "```python\n",
    "result = []\n",
    "def backtrack(paths, choices):\n",
    "    # if terminal conditions are met, then update results\n",
    "    if terminal:\n",
    "        result.add(paths)\n",
    "        return\n",
    "\n",
    "    for choice in choices:\n",
    "        # do the choice, update paths and choices\n",
    "        do(choice)\n",
    "        # backtrack\n",
    "        backtrack(paths, choices)\n",
    "        # undo the choice, go back to previous paths and choices\n",
    "        undo(choice)\n",
    "```"
   ]
  },
  {
   "attachments": {},
   "cell_type": "markdown",
   "metadata": {},
   "source": [
    "## 2. Permutation\n",
    "\n",
    "Given an array `nums`, return the permutations of all the number. \n",
    "We can assume there is no duplicated number in `nums`, such as `nums=[1,2,3]`\n",
    "\n",
    "- `path`: current path of traversing the numbers, such as [1]\n",
    "- `choices`: the available choices on the current path. For example, on the path `[1]`, we can choose `2`, or `3` next.\n",
    "  \n",
    "\n",
    "Leetcode:\n",
    "- 0046"
   ]
  },
  {
   "cell_type": "code",
   "execution_count": 3,
   "metadata": {},
   "outputs": [
    {
     "name": "stdout",
     "output_type": "stream",
     "text": [
      "[[1, 2, 3], [1, 3, 2], [2, 1, 3], [2, 3, 1], [3, 1, 2], [3, 2, 1]]\n"
     ]
    }
   ],
   "source": [
    "def permutation(nums):\n",
    "    res = []\n",
    "    def backtrack(path, choices):\n",
    "        if not choices:\n",
    "            # we have to use path[:] to copy the path, otherwise the path will be changed after pop()\n",
    "            res.append(path[:])\n",
    "            return\n",
    "        for i in range(len(choices)):\n",
    "            path += [choices[i]]\n",
    "            backtrack(path, choices[:i]+choices[i+1:])\n",
    "            path.pop()\n",
    "\n",
    "    backtrack([], nums)\n",
    "    return res\n",
    "\n",
    "# test\n",
    "nums = [1,2,3]\n",
    "print(permutation(nums))"
   ]
  },
  {
   "attachments": {},
   "cell_type": "markdown",
   "metadata": {},
   "source": [
    "## 3. N-Queen Problem\n",
    "\n",
    "The `n-queens` puzzle is the problem of placing `n` queens on an `n x n` chessboard such that no two queens attack each other.\n",
    "\n",
    "Given an integer `n`, return all distinct solutions to the `n-queens` puzzle. You may return the answer in any order.\n",
    "\n",
    "- `path`: current path of putting Q on the row\n",
    "- `choice`: choice of putting Q on the column\n",
    "\n",
    "Leetcode:\n",
    "- 0051"
   ]
  },
  {
   "cell_type": "code",
   "execution_count": 5,
   "metadata": {},
   "outputs": [
    {
     "name": "stdout",
     "output_type": "stream",
     "text": [
      "[[0]]\n",
      "[[1, 3, 0, 2], [2, 0, 3, 1]]\n"
     ]
    }
   ],
   "source": [
    "def solveQueen(n):\n",
    "    res = []\n",
    "    def isValid(path, choice):\n",
    "        for i in range(len(path)):\n",
    "            if path[i] == choice or abs(path[i] - choice) == abs(i - len(path)):\n",
    "                return False\n",
    "        return True\n",
    "    \n",
    "    def backtrack(path, choices):\n",
    "        if len(path) == n:\n",
    "            res.append(path[:])\n",
    "            return\n",
    "        for choice in choices:\n",
    "            if isValid(path, choice):\n",
    "                path.append(choice)\n",
    "                backtrack(path, choices)\n",
    "                path.pop()\n",
    "\n",
    "    backtrack([], range(n))\n",
    "    return res\n",
    "\n",
    "# test\n",
    "n = 1\n",
    "print(solveQueen(n))\n",
    "\n",
    "n = 4\n",
    "print(solveQueen(n))"
   ]
  },
  {
   "attachments": {},
   "cell_type": "markdown",
   "metadata": {},
   "source": [
    "## Reference\n",
    "[1] https://labuladong.github.io/algo/di-san-zha-24031/bao-li-sou-96f79/hui-su-sua-c26da/."
   ]
  }
 ],
 "metadata": {
  "kernelspec": {
   "display_name": "jupyterbook-py38",
   "language": "python",
   "name": "python3"
  },
  "language_info": {
   "codemirror_mode": {
    "name": "ipython",
    "version": 3
   },
   "file_extension": ".py",
   "mimetype": "text/x-python",
   "name": "python",
   "nbconvert_exporter": "python",
   "pygments_lexer": "ipython3",
   "version": "3.8.12"
  },
  "orig_nbformat": 4,
  "vscode": {
   "interpreter": {
    "hash": "577791f2da4ac3a13c44f20f0f30021788d0264a6d82c3224a80270143730ffe"
   }
  }
 },
 "nbformat": 4,
 "nbformat_minor": 2
}
