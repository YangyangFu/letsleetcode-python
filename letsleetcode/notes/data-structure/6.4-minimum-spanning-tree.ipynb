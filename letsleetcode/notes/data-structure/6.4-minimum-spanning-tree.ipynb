{
 "cells": [
  {
   "attachments": {},
   "cell_type": "markdown",
   "metadata": {},
   "source": [
    "# 6.4 Minimum Spanning Tree\n",
    "\n",
    "Suppose we wish to connect all the computers in a new office building using the least amount of cable.  \n",
    "We can model this problem using an undirected, weighted graph `G` whose  vertices  represent  the  computers,  and  whose  edges  represent  all the possible pairs `(u,v)` of computers,  where the weight `w(u,v)` of `edge(u,v)` is equal to the amount of cable needed to connect computer `u` to computer `v`.\n",
    "Rather than computing a shortest-path tree from some particular vertex `v`, we are interested instead in finding a tree `T` that contains all the vertices of `G` and has the minimum total weight over all such trees. \n",
    "Algorithms for finding such a tree are the focus of this section.\n",
    "\n",
    "A tree, such as this, that contains every vertex of a connected graph `G` is said to be a `spanning tree`, and the problem of computing a spanning tree `T` with smallest total weight is known as the `minimum spanning tree(MST)` problem.\n",
    "\n",
    "Two algorithms are popular to solve this problem: Prim's algorithm and Kruskal's algorithm.\n",
    "These two algorithms are both `greedy` algorithms, as at each step of iteration, they choose the object that is the best at the moment. \n",
    "Such a strategy doesn't always ganrantee that it will always find globally optimal solutions to problems.\n",
    "However, for a `MST` problem, we can prove that certain greedy strategies do yield a spanning tree with minimum weight.\n"
   ]
  },
  {
   "attachments": {},
   "cell_type": "markdown",
   "metadata": {},
   "source": [
    "## 1. Prim's Algorithm\n",
    "\n",
    "Prim's algorithm operates similarly as Dijkstra's algorithm. \n",
    "\n",
    "```python\n",
    "def Prim(G, r)\n",
    "    # Initialize a distance table and parent table for all vertice in G\n",
    "    for each u in G.V\n",
    "        u.d = infinity\n",
    "        u.p = None\n",
    "    # Initialize distance for root node\n",
    "    r.d = 0\n",
    "\n",
    "    # Initialize a priority queue for all vertice based on distance\n",
    "    Q = PriorityQueue(G.V)\n",
    "\n",
    "    # \n",
    "    while Q:\n",
    "        # Extract the vertex with the minimum distance in Q\n",
    "        u = Q.extract_min()\n",
    "        # Explore its neighbor\n",
    "        for v in G.adj[u]:\n",
    "            # If the neighbor has not finished and the weight of edge (u,v) is smaller than its current key\n",
    "            if v in Q and G.W[(u,v)] < v.d:\n",
    "                # Track its parent\n",
    "                v.p = u\n",
    "                # Reset distance key using smaller weight\n",
    "                v.d = G.W[(u,v)]\n",
    "```\n"
   ]
  },
  {
   "attachments": {},
   "cell_type": "markdown",
   "metadata": {},
   "source": [
    "### Leetcode\n",
    "- [1584](/letsleetcode/leetcode/solutions/1584-min-cost-connect-all-points.ipynb)\n",
    "- [1135]()\n",
    "- [0261]()"
   ]
  },
  {
   "attachments": {},
   "cell_type": "markdown",
   "metadata": {},
   "source": [
    "## 2. Kruskal's Algorithm\n",
    "Kruskal's algorithm is based on `union find` algorithm.\n",
    "\n",
    "While the `Prim's algorithm` builds the MST by growing a single treeuntil it spans the graph, `Kruskal’s algorithm` maintains a forest of clusters, repeatedly merging pairs of clusters until a single cluster spans the graph.\n",
    "Initially, each vertex is by itself in a singleton cluster.   \n",
    "The algorithm then considers each edge in turn, ordered by increasing weight.\n",
    "If an edge `e` connects two different clusters, then `e` is added to the set of edges of the minimum spanning tree, and the two clusters connected by `e` are merged into a single cluster. \n",
    "If, on the other hand, `e` connects two vertices that are already in the same cluster, then `e` is discarded.\n",
    "Once the algorithm has added enough edges to form a spanning tree, it terminates and outputs this tree as the minimum spanning tree.\n",
    "\n",
    "\n",
    "```python\n",
    "def Kruskal(G):\n",
    "    # Initialize a forest - more precisely, it should be a forest\n",
    "    T = []\n",
    "\n",
    "    # Initialize a union-find disjoints for the vertices in the graph\n",
    "    UnionFind(G.V):\n",
    "\n",
    "    # Put all edges in `G.E` to a min priority queue sorted by the weight `G.W[e]` for each edge `e (u, v)`\n",
    "    Q = PriorityQueue((G.W[e], e))\n",
    "    \n",
    "    # Traverse each edge in the priority queue\n",
    "    for (we, e)  in Q:\n",
    "        # Unzip to get the two nodes from an edge\n",
    "        u, v = e\n",
    "        \n",
    "        # If two nodes are not connected in the union-find disjoints\n",
    "        # Then connect them and add the edge to the tree\n",
    "        if not UnionFind.connected(u, v):\n",
    "            UnionFind.connect(u, v)\n",
    "            A.append(e)\n",
    "    \n",
    "    # return a MST\n",
    "    return A\n",
    "```"
   ]
  },
  {
   "attachments": {},
   "cell_type": "markdown",
   "metadata": {},
   "source": [
    "### Leetcode\n",
    "\n",
    "- [1584](/letsleetcode/leetcode/solutions/1584-min-cost-connect-all-points.ipynb)\n"
   ]
  }
 ],
 "metadata": {
  "kernelspec": {
   "display_name": "base",
   "language": "python",
   "name": "python3"
  },
  "language_info": {
   "codemirror_mode": {
    "name": "ipython",
    "version": 3
   },
   "file_extension": ".py",
   "mimetype": "text/x-python",
   "name": "python",
   "nbconvert_exporter": "python",
   "pygments_lexer": "ipython3",
   "version": "3.9.13"
  },
  "orig_nbformat": 4,
  "vscode": {
   "interpreter": {
    "hash": "90719f7b22258a2d6ecf0c790deba7bc0adf8c63aef77a66bd3eb2b289913783"
   }
  }
 },
 "nbformat": 4,
 "nbformat_minor": 2
}
