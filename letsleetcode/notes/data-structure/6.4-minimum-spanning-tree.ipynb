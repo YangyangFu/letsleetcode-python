{
 "cells": [
  {
   "attachments": {},
   "cell_type": "markdown",
   "metadata": {},
   "source": [
    "# 6.4 Minimum Spanning Tree\n",
    "\n",
    "Suppose we wish to connect all the computers in a new office building using the least amount of cable.  \n",
    "We can model this problem using an undirected, weighted graph `G` whose  vertices  represent  the  computers,  and  whose  edges  represent  all the possible pairs `(u,v)` of computers,  where the weight `w(u,v)` of `edge(u,v)` is equal to the amount of cable needed to connect computer `u` to computer `v`.\n",
    "Rather than computing a shortest-path tree from some particular vertex `v`, we are interested instead in finding a tree `T` that contains all the vertices of `G` and has the minimum total weight over all such trees. \n",
    "Algorithms for finding such a tree are the focus of this section.\n",
    "\n",
    "A tree, such as this, that contains every vertex of a connected graph `G` is said to be a `spanning tree`, and the problem of computing a spanning tree `T` with smallest total weight is known as the `minimum spanning tree(MST)` problem.\n",
    "\n",
    "Two algorithms are popular to solve this problem: Prim's algorithm and Kruskal's algorithm.\n",
    "These two algorithms are both `greedy` algorithms, as at each step of iteration, they choose the object that is the best at the moment. \n",
    "Such a strategy doesn't always ganrantee that it will always find globally optimal solutions to problems.\n",
    "However, for a `MST` problem, we can prove that certain greedy strategies do yield a spanning tree with minimum weight.\n"
   ]
  },
  {
   "attachments": {},
   "cell_type": "markdown",
   "metadata": {},
   "source": [
    "## 1. Prim's Algorithm\n",
    "\n",
    "Prim's algorithm operates similarly as Dijkstra's algorithm. \n",
    "\n",
    "```Python\n",
    "def Prim(G, r)\n",
    "    # Initialize a distance table and parent table for all vertice in G\n",
    "    for each u in G.V\n",
    "        u.d = infinity\n",
    "        u.p = None\n",
    "    # Initialize distance for root node\n",
    "    r.d = 0\n",
    "\n",
    "    # Initialize a priority queue for all vertice based on distance\n",
    "    Q = PriorityQueue(G.V)\n",
    "\n",
    "    # \n",
    "    while Q:\n",
    "        # Extract the vertex with the minimum distance in Q\n",
    "        u = Q.extract_min()\n",
    "        # Explore its neighbor\n",
    "        for v in G.adj[u]:\n",
    "            # If the neighbor has not finished and the weight of edge (u,v) is smaller than its current key\n",
    "            if v in Q and G.W[(u,v)] < v.d:\n",
    "                # Track its parent\n",
    "                v.p = u\n",
    "                # Reset distance key using smaller weight\n",
    "                v.d = G.W[(u,v)]\n",
    "```\n"
   ]
  },
  {
   "attachments": {},
   "cell_type": "markdown",
   "metadata": {},
   "source": [
    "### Leetcode\n",
    "- [1584](/letsleetcode/leetcode/solutions/1584-min-cost-connect-all-points.ipynb)\n",
    "- [1135]()\n",
    "- [0261]()"
   ]
  },
  {
   "attachments": {},
   "cell_type": "markdown",
   "metadata": {},
   "source": [
    "## 2. Kruskal's Algorithm\n",
    "Kruskal's algorithm is based on union find algorithm."
   ]
  }
 ],
 "metadata": {
  "kernelspec": {
   "display_name": "jupyterbook-py38",
   "language": "python",
   "name": "python3"
  },
  "language_info": {
   "codemirror_mode": {
    "name": "ipython",
    "version": 3
   },
   "file_extension": ".py",
   "mimetype": "text/x-python",
   "name": "python",
   "nbconvert_exporter": "python",
   "pygments_lexer": "ipython3",
   "version": "3.8.12 (default, Oct 12 2021, 06:23:56) \n[Clang 10.0.0 ]"
  },
  "orig_nbformat": 4,
  "vscode": {
   "interpreter": {
    "hash": "577791f2da4ac3a13c44f20f0f30021788d0264a6d82c3224a80270143730ffe"
   }
  }
 },
 "nbformat": 4,
 "nbformat_minor": 2
}
