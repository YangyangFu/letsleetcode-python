{
 "cells": [
  {
   "attachments": {},
   "cell_type": "markdown",
   "metadata": {},
   "source": [
    "# Graph\n"
   ]
  },
  {
   "attachments": {},
   "cell_type": "markdown",
   "metadata": {},
   "source": [
    "## Build\n",
    "\n",
    "We can simply use Leetcode conventions to represent graph as nodes and its adjacent matrix, which can be implemented as a list of list in python."
   ]
  },
  {
   "attachments": {},
   "cell_type": "markdown",
   "metadata": {},
   "source": [
    "## Traversal\n",
    "\n",
    "\n",
    "### Depth-first Search\n",
    "\n",
    "```\n",
    "visited = {}\n",
    "onPath = {}\n",
    "\n",
    "def traverse(G, s):\n",
    "    // if visited: DO SOMETHING\n",
    "    if visited[s]: return\n",
    "\n",
    "    // if not visisted, then mark as visited\n",
    "    visited[s] = true\n",
    "\n",
    "    // make a choice:\n",
    "    // mark s as onpath\n",
    "    onPath[s] = true\n",
    "\n",
    "    // recursion\n",
    "    for v in G.adj[s]:\n",
    "        traverse(G, v)\n",
    "    \n",
    "    // undo the choice: \n",
    "    // remove s from onpath\n",
    "    onPath[s] = false\n",
    "```"
   ]
  },
  {
   "attachments": {},
   "cell_type": "markdown",
   "metadata": {},
   "source": [
    "Depth-first search vs backtracking\n",
    "\n",
    "```\n",
    "// DFS, focus on node\n",
    "def dfs(root):\n",
    "    if not root:\n",
    "        reutrn\n",
    "    print(f\"enter node {root}\")\n",
    "    for child in root.children:\n",
    "        dfs(child)\n",
    "    print(f\"leave node {root}\")\n",
    "\n",
    "// Backtracking, focus on branch\n",
    "def backtrack(root):\n",
    "    if not root:\n",
    "        return\n",
    "\n",
    "    for child in root.children:\n",
    "        // make a choice\n",
    "\n",
    "        print(f\"from node {root} to node {child}\")\n",
    "        backtrack(child)\n",
    "        \n",
    "        //undo a choice\n",
    "        \n",
    "        print(f\"from node {child} to node {root}\")"
   ]
  },
  {
   "attachments": {},
   "cell_type": "markdown",
   "metadata": {},
   "source": [
    "## BFS"
   ]
  },
  {
   "attachments": {},
   "cell_type": "markdown",
   "metadata": {},
   "source": [
    "## Applications\n",
    "\n",
    "### All paths Problem\n",
    "\n",
    "Leetcode:\n",
    "\n",
    "- 0797\n",
    "\n",
    "### Cycle Detection\n",
    "\n",
    "Leetcode\n",
    "\n",
    "- 0207 "
   ]
  }
 ],
 "metadata": {
  "kernelspec": {
   "display_name": "jupyterbook-py38",
   "language": "python",
   "name": "python3"
  },
  "language_info": {
   "name": "python",
   "version": "3.8.12 (default, Oct 12 2021, 06:23:56) \n[Clang 10.0.0 ]"
  },
  "orig_nbformat": 4,
  "vscode": {
   "interpreter": {
    "hash": "577791f2da4ac3a13c44f20f0f30021788d0264a6d82c3224a80270143730ffe"
   }
  }
 },
 "nbformat": 4,
 "nbformat_minor": 2
}
