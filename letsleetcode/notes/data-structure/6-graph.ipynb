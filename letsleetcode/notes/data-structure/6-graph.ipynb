{
 "cells": [
  {
   "attachments": {},
   "cell_type": "markdown",
   "metadata": {},
   "source": [
    "# Graph\n"
   ]
  },
  {
   "attachments": {},
   "cell_type": "markdown",
   "metadata": {},
   "source": [
    "## Traversal\n",
    "\n",
    "### Depth-first Search\n",
    "\n",
    "```\n",
    "visited = {}\n",
    "onPath = {}\n",
    "\n",
    "def traverse(G, s):\n",
    "    // if visited\n",
    "    if visited[s]: return\n",
    "\n",
    "    // if not visisted, then mark as visited\n",
    "    visited[s] = true\n",
    "\n",
    "    // make a choice:\n",
    "    // mark s as onpath\n",
    "    onPath[s] = true\n",
    "\n",
    "    // recursion\n",
    "    for v in G.adj[s]:\n",
    "        traverse(G, v)\n",
    "    \n",
    "    // undo the choice: \n",
    "    // remove s from onpath\n",
    "    onPath[s] = false\n",
    "```"
   ]
  },
  {
   "attachments": {},
   "cell_type": "markdown",
   "metadata": {},
   "source": [
    "Depth-first search vs backtracking\n",
    "\n",
    "```\n",
    "// DFS, focus on node\n",
    "def dfs(root):\n",
    "    if not root:\n",
    "        reutrn\n",
    "    print(f\"enter node {root}\")\n",
    "    for child in root.children:\n",
    "        dfs(child)\n",
    "    print(f\"leave node {root}\")\n",
    "\n",
    "// Backtracking, focus on branch\n",
    "def backtrack(root):\n",
    "    if not root:\n",
    "        return\n",
    "\n",
    "    for child in root.children:\n",
    "        // make a choice\n",
    "\n",
    "        print(f\"from node {root} to node {child}\")\n",
    "        backtrack(child)\n",
    "        \n",
    "        //undo a choice\n",
    "        \n",
    "        print(f\"from node {child} to node {root}\")"
   ]
  }
 ],
 "metadata": {
  "kernelspec": {
   "display_name": "base",
   "language": "python",
   "name": "python3"
  },
  "language_info": {
   "name": "python",
   "version": "3.9.13 (main, Aug 25 2022, 23:51:50) [MSC v.1916 64 bit (AMD64)]"
  },
  "orig_nbformat": 4,
  "vscode": {
   "interpreter": {
    "hash": "90719f7b22258a2d6ecf0c790deba7bc0adf8c63aef77a66bd3eb2b289913783"
   }
  }
 },
 "nbformat": 4,
 "nbformat_minor": 2
}
