{
 "cells": [
  {
   "attachments": {},
   "cell_type": "markdown",
   "metadata": {},
   "source": [
    "# Graph\n"
   ]
  },
  {
   "attachments": {},
   "cell_type": "markdown",
   "metadata": {},
   "source": [
    "## Build\n",
    "\n",
    "We can simply use Leetcode conventions to represent graph as nodes and its adjacent matrix, which can be implemented as a list of list in python."
   ]
  },
  {
   "attachments": {},
   "cell_type": "markdown",
   "metadata": {},
   "source": [
    "## Traversal\n",
    "\n",
    "Traversal can solve problems like find paths given the source node and target node, and also the topological sorting sequences.\n",
    "- find paths:\n",
    "    - detect cycles in a graph `G`\n",
    "        - if no cycle, topological sort is a linear ordering of nodes along a horizontal line so that all directed edges go from left to right.\n",
    "        - if cycles are present, topological sorting is not possible.\n",
    "    - find all possible paths from `s` to `t`\n"
   ]
  },
  {
   "attachments": {},
   "cell_type": "markdown",
   "metadata": {},
   "source": [
    "### Depth-first Search\n",
    "\n",
    "- todo: implement using two approaches\n",
    "    - traversal approach -> similar to backtracking\n",
    "    - subporblem approach -> recusion with return value\n",
    "\n",
    "```\n",
    "visited = {}\n",
    "onPath = {}\n",
    "\n",
    "def traverse(G, s):\n",
    "    // if visited: DO SOMETHING\n",
    "    if visited[s]: return\n",
    "\n",
    "    // if not visisted, then mark as visited\n",
    "    visited[s] = true\n",
    "\n",
    "    // make a choice:\n",
    "    // mark s as onpath\n",
    "    onPath[s] = true\n",
    "\n",
    "    // recursion\n",
    "    for v in G.adj[s]:\n",
    "        traverse(G, v)\n",
    "    \n",
    "    // undo the choice: \n",
    "    // remove s from onpath\n",
    "    onPath[s] = false\n",
    "```"
   ]
  },
  {
   "attachments": {},
   "cell_type": "markdown",
   "metadata": {},
   "source": [
    "Depth-first search vs backtracking\n",
    "\n",
    "```\n",
    "// DFS, focus on node\n",
    "def dfs(root):\n",
    "    if not root:\n",
    "        reutrn\n",
    "    print(f\"enter node {root}\")\n",
    "    for child in root.children:\n",
    "        dfs(child)\n",
    "    print(f\"leave node {root}\")\n",
    "\n",
    "// Backtracking, focus on branch\n",
    "def backtrack(root):\n",
    "    if not root:\n",
    "        return\n",
    "\n",
    "    for child in root.children:\n",
    "        // make a choice\n",
    "\n",
    "        print(f\"from node {root} to node {child}\")\n",
    "        backtrack(child)\n",
    "        \n",
    "        //undo a choice\n",
    "        \n",
    "        print(f\"from node {child} to node {root}\")"
   ]
  },
  {
   "attachments": {},
   "cell_type": "markdown",
   "metadata": {},
   "source": [
    "## BFS\n",
    "\n"
   ]
  },
  {
   "cell_type": "code",
   "execution_count": null,
   "metadata": {},
   "outputs": [],
   "source": [
    "# traverse a graph using BFS, which uses indegree to determine the order of traversal\n",
    "def bfs(G):\n",
    "    pass"
   ]
  },
  {
   "attachments": {},
   "cell_type": "markdown",
   "metadata": {},
   "source": [
    "## Shortest Path\n",
    "Shortest path is to find the shortest path between two vertex:\n",
    "- `single source shortest path`: find the shortest paths from a given source vertex `s` to each vertex `t`.\n",
    "- `single destination shortest path`: find the shortest paths from each source vertex `s` to the destination vertex `t`. We can reverse the direction of each edge, and formulate a `single-source shortest path` problem.\n",
    "- `single pair shortest path`: find the shortest path for a given pair (`s`, `v`). This problem usually requires to solve `single source shortest path` first.\n",
    "- `all pairs shortest paths`: find a shortest path from `s` to `t` for every pair of vertices `s` and `t`. Although we can solve this problem by running a single source algorithm once from each vertex, we usually can solve it faster using XXX.\n",
    "\n",
    "\n",
    "BFS is typically used for shortest paths problems.\n",
    "\n",
    "DFS is typically used for reacheability problems. When used for shortest path problems, DFS need go over all possible paths from given source and target, and then find the shortest one. \n"
   ]
  },
  {
   "cell_type": "code",
   "execution_count": null,
   "metadata": {},
   "outputs": [],
   "source": [
    "def shortest_path_bfs(G, s):\n",
    "    pass"
   ]
  },
  {
   "attachments": {},
   "cell_type": "markdown",
   "metadata": {},
   "source": [
    "## Shortest Weighted Path\n",
    "\n",
    "Dijkstra algorithm is usually used for detecting the shortest path in a `DAG with nonnegative weights`. Dijkstra algorithm extends BFS for weighted DAG by introducing a `DP table` to store the distance between vertices.\n",
    "\n",
    "- initialization \n",
    "    - a distance table for recording the best distance found so far, and set to `infinity`\n",
    "    - base case: the distance from the source vertex `s` to itself is set to 0\n",
    "    - a priority queue to maintain the to-be-explored neighbor vertices, sorted based on their current distance to the given source `s`.\n",
    "- main loop:\n",
    "    - pop out the queue, and get the current vertex and its current distance\n",
    "    - explore its neighbors:\n",
    "        - for each neighbor vertex, calculate its current distance from the source `s`\n",
    "        - if the current distance < the best distance found so far in the distance table:\n",
    "            - update the distance table\n",
    "            - enqueue\n",
    "- return the distance table"
   ]
  },
  {
   "attachments": {},
   "cell_type": "markdown",
   "metadata": {},
   "source": [
    "## Applications\n",
    "\n",
    "### All paths Problem\n",
    "\n",
    "Leetcode:\n",
    "\n",
    "- 0797\n",
    "\n",
    "### Cycle Detection\n",
    "\n",
    "Leetcode\n",
    "\n",
    "- 0207 "
   ]
  }
 ],
 "metadata": {
  "kernelspec": {
   "display_name": "jupyterbook-py38",
   "language": "python",
   "name": "python3"
  },
  "language_info": {
   "name": "python",
   "version": "3.8.12 (default, Oct 12 2021, 06:23:56) \n[Clang 10.0.0 ]"
  },
  "orig_nbformat": 4,
  "vscode": {
   "interpreter": {
    "hash": "577791f2da4ac3a13c44f20f0f30021788d0264a6d82c3224a80270143730ffe"
   }
  }
 },
 "nbformat": 4,
 "nbformat_minor": 2
}
