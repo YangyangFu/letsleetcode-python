{
 "cells": [
  {
   "cell_type": "markdown",
   "metadata": {},
   "source": [
    "# Stack\n",
    "\n",
    "A stack or LIFO (last in, first out) is an abstract data type that serves as a collection of elements, with two principal operations: \n",
    "- push, which adds an element to the collection, and \n",
    "- pop, which removes the last element that was added. \n",
    " \n",
    "In stack both the operations of push and pop take place at the same end that is top of the stack. It can be implemented by using both array and linked list.  \n",
    "\n",
    "Stacks are used for maintaining function calls (the last called function must finish execution first), `we can always remove recursion with the help of stacks`. \n",
    "Stacks are also used in cases where we have to `reverse a word`, `check for balanced parenthesis`, and in editors where the word you typed the last is the first to be removed when you use undo operation. Similarly, to implement back functionality in web browsers.\n"
   ]
  },
  {
   "cell_type": "markdown",
   "metadata": {},
   "source": [
    "## Stack in Python\n",
    "\n",
    "There are three ways to implement stack in python:\n",
    "- list\n",
    "- collections.deque\n",
    "- queue.LifoQueue"
   ]
  },
  {
   "cell_type": "markdown",
   "metadata": {},
   "source": [
    "### List\n",
    "Using dynamic array `list` to implement `stack` can directly take use of the built-in method `append()` and `pop` to implement `push` and `pop` for stack.\n",
    "\n",
    "The shortcomings:\n",
    "- `list` is a dynamic array. `insertion` and `deletion` at the end only take `O(1)` time, but when the allocated memoery is not enough when do the inseration at the end, new memory will be allocated. This will take a long time if the stack is big enough."
   ]
  },
  {
   "cell_type": "code",
   "execution_count": 30,
   "metadata": {},
   "outputs": [
    {
     "data": {
      "text/plain": [
       "1"
      ]
     },
     "execution_count": 30,
     "metadata": {},
     "output_type": "execute_result"
    }
   ],
   "source": [
    "stack = []\n",
    "stack.append(1) # push\n",
    "stack.pop() # pop "
   ]
  },
  {
   "cell_type": "markdown",
   "metadata": {},
   "source": [
    "### collection.deque\n",
    "Python `collection.deque` is a generailization of stacks and queues, and its name is short for `double-ended queue`. Deques support thread-safe, memory efficient appends and pops `from either side` of the deque with approximately the same O(1) performance in either direction.\n"
   ]
  },
  {
   "cell_type": "code",
   "execution_count": 31,
   "metadata": {},
   "outputs": [
    {
     "data": {
      "text/plain": [
       "1"
      ]
     },
     "execution_count": 31,
     "metadata": {},
     "output_type": "execute_result"
    }
   ],
   "source": [
    "from collections import deque\n",
    "\n",
    "stack = deque()\n",
    "stack.append(1)\n",
    "stack.pop()\n"
   ]
  },
  {
   "cell_type": "markdown",
   "metadata": {},
   "source": [
    "### queue.LifoQueue\n"
   ]
  },
  {
   "cell_type": "code",
   "execution_count": 32,
   "metadata": {},
   "outputs": [
    {
     "name": "stdout",
     "output_type": "stream",
     "text": [
      "0\n",
      "1\n"
     ]
    },
    {
     "data": {
      "text/plain": [
       "1"
      ]
     },
     "execution_count": 32,
     "metadata": {},
     "output_type": "execute_result"
    }
   ],
   "source": [
    "from queue import LifoQueue\n",
    "\n",
    "stack = LifoQueue(maxsize=1)\n",
    "print(stack.qsize()) # check size\n",
    "stack.put(1) # push\n",
    "print(stack.qsize()) # check size\n",
    "stack.get() # pop"
   ]
  },
  {
   "cell_type": "markdown",
   "metadata": {},
   "source": [
    "### Linked List\n",
    "We implement a stack using linked list here."
   ]
  },
  {
   "cell_type": "code",
   "execution_count": 33,
   "metadata": {},
   "outputs": [
    {
     "name": "stdout",
     "output_type": "stream",
     "text": [
      "stack: 3->2->1->\n",
      "stack: 1->\n"
     ]
    }
   ],
   "source": [
    "class Node():\n",
    "    def __init__(self, val, next = None):\n",
    "        self.val = val\n",
    "        self.next = next\n",
    "\n",
    "class Stack():\n",
    "    # initialize a stack\n",
    "    # use a dummy node\n",
    "    def __init__(self):\n",
    "        self.head = Node('head') \n",
    "        self._size = 0\n",
    "    \n",
    "    # get current size\n",
    "    def size(self):\n",
    "        return self._size\n",
    "    \n",
    "    # check if is empty\n",
    "    def isEmpty(self):\n",
    "        return self._size == 0\n",
    "    \n",
    "    # push a value into the stack\n",
    "    def push(self, val):\n",
    "        node = Node(val)\n",
    "        # add to head\n",
    "        tail = self.head.next\n",
    "        self.head.next = node \n",
    "        node.next = tail\n",
    "\n",
    "        # update size\n",
    "        self._size += 1\n",
    "    \n",
    "    # pop the last added element\n",
    "    def pop(self):\n",
    "        if self.isEmpty():\n",
    "            raise Exception(\"Poping from an empty stack !\")\n",
    "        tail = self.head.next.next\n",
    "        removed = self.head.next \n",
    "        self.head.next = tail \n",
    "        # update size\n",
    "        self._size -= 1\n",
    "\n",
    "        return removed.val\n",
    "    \n",
    "    # string representation of current stack\n",
    "    def __str__(self):\n",
    "        cur = self.head.next\n",
    "        out = \"\" \n",
    "        while cur:\n",
    "            out += str(cur.val) +'->'\n",
    "            cur = cur.next \n",
    "        return out\n",
    "\n",
    "# test\n",
    "stack = Stack()\n",
    "stack.push(1)\n",
    "stack.push(2)\n",
    "stack.push(3)\n",
    "print(f\"stack: {stack}\")\n",
    "\n",
    "stack.pop()\n",
    "stack.pop()\n",
    "print(f\"stack: {stack}\")\n"
   ]
  },
  {
   "cell_type": "markdown",
   "metadata": {},
   "source": [
    "## Special Stack \n",
    "The above stack are standard stack structure, which can easily perform standard operations such as `push`, `pop` and `size`.\n",
    "For special operations, such as `getMiddle`, `popMiddle`, special stacks are needed.\n",
    "\n",
    "how to implement a stack that will support the following operations in `O(1)` time complexity:\n",
    "- push()\n",
    "- pop()\n",
    "- findMiddle(), which will return the middle element of the stack\n",
    "- deleteMiddle(), which will delete the middle element of the stack"
   ]
  },
  {
   "cell_type": "markdown",
   "metadata": {},
   "source": [
    "### Method 1: Double Linked List\n",
    "\n",
    "The important question is, `whether to use a linked list or array for the implementation of the stack?`\n",
    "\n",
    "Please note that we need to find and delete the middle element. Deleting an element from the middle is not O(1) for the array. Also, we may need to move the middle pointer up when we push an element and move down when we pop(). In a singly linked list, moving the middle pointer in both directions is not possible. \n",
    "\n",
    "The idea is to use a Doubly Linked List (DLL). We can delete the middle element in `O(1)` time by maintaining mid pointer. We can move the mid pointer in both directions using previous and next pointers. \n",
    "\n",
    "Following is implementation of `push()`, `pop()` and `findMiddle()` operations. If there are even elements in stack, `findMiddle()` returns the second middle element. For example, if stack contains {1, 2, 3, 4}, then findMiddle() would return 3. "
   ]
  },
  {
   "cell_type": "code",
   "execution_count": 34,
   "metadata": {},
   "outputs": [
    {
     "name": "stdout",
     "output_type": "stream",
     "text": [
      "1\n",
      "2\n",
      "2\n",
      "3\n",
      "stack: -5-4-3-2-1-\n",
      "3\n",
      "2\n",
      "stack: -3-2-1-\n",
      "2\n",
      "3\n",
      "stack: -3-1-\n"
     ]
    }
   ],
   "source": [
    "class DLLNode():\n",
    "    def __init__(self, val, prev = None, next = None):\n",
    "        self.prev = prev \n",
    "        self.val = val \n",
    "        self.next = next \n",
    "\n",
    "class Stack():\n",
    "    def __init__(self):\n",
    "        self.head = None \n",
    "        self.mid = None \n",
    "        self.size = 0\n",
    "    \n",
    "    def push(self, val):\n",
    "        # construct node\n",
    "        node = DLLNode(val)\n",
    "\n",
    "        # push to head: the prev is always None\n",
    "        if not self.head:\n",
    "            # assign node to head if head is none\n",
    "            self.head = node\n",
    "        else:\n",
    "            # put node in front of head\n",
    "            self.head.prev = node\n",
    "            node.next = self.head\n",
    "        # update size \n",
    "        self.size += 1\n",
    "        \n",
    "        # update middle pointer\n",
    "        # 1. if stack is empty\n",
    "        # 2. number of nodes is odd\n",
    "        if not self.mid:\n",
    "            self.mid = node\n",
    "        \n",
    "        if self.size > 0 and (self.size % 2 == 0):\n",
    "            self.mid = self.mid.prev\n",
    "\n",
    "        # update head\n",
    "        self.head = node\n",
    "\n",
    "    def pop(self):\n",
    "        removed = self.head \n",
    "        tail = self.head.next \n",
    "        tail.prev = None\n",
    "\n",
    "        # update mid pointer\n",
    "        if self.size % 2 == 0:\n",
    "            self.mid = self.mid.next\n",
    "\n",
    "        # update head\n",
    "        self.head = tail\n",
    "        \n",
    "        # update size \n",
    "        self.size -= 1\n",
    "\n",
    "        return removed.val\n",
    "\n",
    "    # find middle\n",
    "    def findMiddle(self):\n",
    "        return self.mid.val \n",
    "    \n",
    "    # remove middle\n",
    "    def popMiddle(self):\n",
    "        mid = self.mid\n",
    "\n",
    "        # remove mid by connecting prev and next\n",
    "        prev = mid.prev \n",
    "        next = mid.next \n",
    "\n",
    "        prev.next = next \n",
    "        next.prev = prev \n",
    "\n",
    "        # update mid pointer\n",
    "        if self.size % 2 == 0:\n",
    "            self.mid = next\n",
    "        else:\n",
    "            self.mid = prev\n",
    "        # update size\n",
    "        self.size -= 1\n",
    "\n",
    "        return mid.val \n",
    "\n",
    "    # string representation\n",
    "    def __str__(self):\n",
    "        cur = self.head\n",
    "        out = \"-\"\n",
    "        while cur:\n",
    "            out += str(cur.val) + '-'\n",
    "            cur = cur.next\n",
    "        return out \n",
    "\n",
    "# test \n",
    "stack = Stack()\n",
    "stack.push(1)\n",
    "print(stack.mid.val)\n",
    "stack.push(2)\n",
    "print(stack.mid.val)\n",
    "stack.push(3)\n",
    "print(stack.mid.val)\n",
    "stack.push(4)\n",
    "stack.push(5)\n",
    "print(stack.mid.val)\n",
    "print(f\"stack: {stack}\")\n",
    "\n",
    "\n",
    "stack.pop()\n",
    "print(stack.mid.val)\n",
    "stack.pop()\n",
    "print(stack.mid.val)\n",
    "print(f\"stack: {stack}\")\n",
    "\n",
    "# pop middle \n",
    "print(stack.popMiddle())\n",
    "print(stack.mid.val)\n",
    "print(f\"stack: {stack}\")\n"
   ]
  },
  {
   "cell_type": "markdown",
   "metadata": {},
   "source": [
    "### Method 2: Use a standard stack and a deque\n",
    "We will use a standard stack to store half of the elements and the other half of the elements which were added recently will be present in the deque."
   ]
  }
 ],
 "metadata": {
  "kernelspec": {
   "display_name": "Python 3.8.12 ('jupyterbook-py38')",
   "language": "python",
   "name": "python3"
  },
  "language_info": {
   "codemirror_mode": {
    "name": "ipython",
    "version": 3
   },
   "file_extension": ".py",
   "mimetype": "text/x-python",
   "name": "python",
   "nbconvert_exporter": "python",
   "pygments_lexer": "ipython3",
   "version": "3.8.12"
  },
  "orig_nbformat": 4,
  "vscode": {
   "interpreter": {
    "hash": "577791f2da4ac3a13c44f20f0f30021788d0264a6d82c3224a80270143730ffe"
   }
  }
 },
 "nbformat": 4,
 "nbformat_minor": 2
}
