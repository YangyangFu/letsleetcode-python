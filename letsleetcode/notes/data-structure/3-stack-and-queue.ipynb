{
 "cells": [
  {
   "cell_type": "markdown",
   "metadata": {},
   "source": [
    "# Stack\n",
    "\n",
    "A stack or LIFO (last in, first out) is an abstract data type that serves as a collection of elements, with two principal operations: \n",
    "- push, which adds an element to the collection, and \n",
    "- pop, which removes the last element that was added. \n",
    " \n",
    "In stack both the operations of push and pop take place at the same end that is top of the stack. It can be implemented by using both array and linked list.  \n",
    "\n",
    "Stacks are used for maintaining function calls (the last called function must finish execution first), `we can always remove recursion with the help of stacks`. \n",
    "Stacks are also used in cases where we have to `reverse a word`, `check for balanced parenthesis`, and in editors where the word you typed the last is the first to be removed when you use undo operation. Similarly, to implement back functionality in web browsers.\n"
   ]
  },
  {
   "cell_type": "markdown",
   "metadata": {},
   "source": [
    "## Stack in Python\n",
    "\n",
    "There are three ways to implement stack in python:\n",
    "- list\n",
    "- collections.deque\n",
    "- queue.LifoQueue"
   ]
  },
  {
   "cell_type": "markdown",
   "metadata": {},
   "source": [
    "### List\n",
    "Using dynamic array `list` to implement `stack` can directly take use of the built-in method `append()` and `pop` to implement `push` and `pop` for stack.\n",
    "\n",
    "The shortcomings:\n",
    "- `list` is a dynamic array. `insertion` and `deletion` at the end only take `O(1)` time, but when the allocated memoery is not enough when do the inseration at the end, new memory will be allocated. This will take a long time if the stack is big enough."
   ]
  },
  {
   "cell_type": "code",
   "execution_count": 30,
   "metadata": {},
   "outputs": [
    {
     "data": {
      "text/plain": [
       "1"
      ]
     },
     "execution_count": 30,
     "metadata": {},
     "output_type": "execute_result"
    }
   ],
   "source": [
    "stack = []\n",
    "stack.append(1) # push\n",
    "stack.pop() # pop "
   ]
  },
  {
   "cell_type": "markdown",
   "metadata": {},
   "source": [
    "### collection.deque\n",
    "Python `collection.deque` is a generailization of stacks and queues, and its name is short for `double-ended queue`. Deques support thread-safe, memory efficient appends and pops `from either side` of the deque with approximately the same O(1) performance in either direction.\n"
   ]
  },
  {
   "cell_type": "code",
   "execution_count": 31,
   "metadata": {},
   "outputs": [
    {
     "data": {
      "text/plain": [
       "1"
      ]
     },
     "execution_count": 31,
     "metadata": {},
     "output_type": "execute_result"
    }
   ],
   "source": [
    "from collections import deque\n",
    "\n",
    "stack = deque()\n",
    "stack.append(1)\n",
    "stack.pop()\n"
   ]
  },
  {
   "cell_type": "markdown",
   "metadata": {},
   "source": [
    "### queue.LifoQueue\n"
   ]
  },
  {
   "cell_type": "code",
   "execution_count": 32,
   "metadata": {},
   "outputs": [
    {
     "name": "stdout",
     "output_type": "stream",
     "text": [
      "0\n",
      "1\n"
     ]
    },
    {
     "data": {
      "text/plain": [
       "1"
      ]
     },
     "execution_count": 32,
     "metadata": {},
     "output_type": "execute_result"
    }
   ],
   "source": [
    "from queue import LifoQueue\n",
    "\n",
    "stack = LifoQueue(maxsize=1)\n",
    "print(stack.qsize()) # check size\n",
    "stack.put(1) # push\n",
    "print(stack.qsize()) # check size\n",
    "stack.get() # pop"
   ]
  },
  {
   "cell_type": "markdown",
   "metadata": {},
   "source": [
    "### Linked List\n",
    "We implement a stack using linked list here."
   ]
  },
  {
   "cell_type": "code",
   "execution_count": 33,
   "metadata": {},
   "outputs": [
    {
     "name": "stdout",
     "output_type": "stream",
     "text": [
      "stack: 3->2->1->\n",
      "stack: 1->\n"
     ]
    }
   ],
   "source": [
    "class Node():\n",
    "    def __init__(self, val, next = None):\n",
    "        self.val = val\n",
    "        self.next = next\n",
    "\n",
    "class Stack():\n",
    "    # initialize a stack\n",
    "    # use a dummy node\n",
    "    def __init__(self):\n",
    "        self.head = Node('head') \n",
    "        self._size = 0\n",
    "    \n",
    "    # get current size\n",
    "    def size(self):\n",
    "        return self._size\n",
    "    \n",
    "    # check if is empty\n",
    "    def isEmpty(self):\n",
    "        return self._size == 0\n",
    "    \n",
    "    # push a value into the stack\n",
    "    def push(self, val):\n",
    "        node = Node(val)\n",
    "        # add to head\n",
    "        tail = self.head.next\n",
    "        self.head.next = node \n",
    "        node.next = tail\n",
    "\n",
    "        # update size\n",
    "        self._size += 1\n",
    "    \n",
    "    # pop the last added element\n",
    "    def pop(self):\n",
    "        if self.isEmpty():\n",
    "            raise Exception(\"Poping from an empty stack !\")\n",
    "        tail = self.head.next.next\n",
    "        removed = self.head.next \n",
    "        self.head.next = tail \n",
    "        # update size\n",
    "        self._size -= 1\n",
    "\n",
    "        return removed.val\n",
    "    \n",
    "    # string representation of current stack\n",
    "    def __str__(self):\n",
    "        cur = self.head.next\n",
    "        out = \"\" \n",
    "        while cur:\n",
    "            out += str(cur.val) +'->'\n",
    "            cur = cur.next \n",
    "        return out\n",
    "\n",
    "# test\n",
    "stack = Stack()\n",
    "stack.push(1)\n",
    "stack.push(2)\n",
    "stack.push(3)\n",
    "print(f\"stack: {stack}\")\n",
    "\n",
    "stack.pop()\n",
    "stack.pop()\n",
    "print(f\"stack: {stack}\")\n"
   ]
  },
  {
   "cell_type": "markdown",
   "metadata": {},
   "source": [
    "## Special Stack \n",
    "The above stack are standard stack structure, which can easily perform standard operations such as `push`, `pop` and `size`.\n",
    "For special operations, such as `getMiddle`, `popMiddle`, special stacks are needed.\n",
    "\n",
    "how to implement a stack that will support the following operations in `O(1)` time complexity:\n",
    "- push()\n",
    "- pop()\n",
    "- findMiddle(), which will return the middle element of the stack\n",
    "- deleteMiddle(), which will delete the middle element of the stack"
   ]
  },
  {
   "cell_type": "markdown",
   "metadata": {},
   "source": [
    "### Method 1: Double Linked List\n",
    "\n",
    "The important question is, `whether to use a linked list or array for the implementation of the stack?`\n",
    "\n",
    "Please note that we need to find and delete the middle element. Deleting an element from the middle is not `O(1)` for the array. Also, we may need to move the middle pointer up when we push an element and move down when we pop(). In a singly linked list, moving the middle pointer in both directions is not possible. \n",
    "\n",
    "The idea is to use a Doubly Linked List (DLL). We can delete the middle element in `O(1)` time by maintaining mid pointer. We can move the mid pointer in both directions using previous and next pointers. \n",
    "\n",
    "Following is implementation of `push()`, `pop()` and `findMiddle()` operations. If there are even elements in stack, `findMiddle()` returns the second middle element. For example, if stack contains {1, 2, 3, 4}, then findMiddle() would return 3. "
   ]
  },
  {
   "cell_type": "code",
   "execution_count": 34,
   "metadata": {},
   "outputs": [
    {
     "name": "stdout",
     "output_type": "stream",
     "text": [
      "1\n",
      "2\n",
      "2\n",
      "3\n",
      "stack: -5-4-3-2-1-\n",
      "3\n",
      "2\n",
      "stack: -3-2-1-\n",
      "2\n",
      "3\n",
      "stack: -3-1-\n"
     ]
    }
   ],
   "source": [
    "class DLLNode():\n",
    "    def __init__(self, val, prev = None, next = None):\n",
    "        self.prev = prev \n",
    "        self.val = val \n",
    "        self.next = next \n",
    "\n",
    "class Stack():\n",
    "    def __init__(self):\n",
    "        self.head = None \n",
    "        self.mid = None \n",
    "        self.size = 0\n",
    "    \n",
    "    def push(self, val):\n",
    "        # construct node\n",
    "        node = DLLNode(val)\n",
    "\n",
    "        # push to head: the prev is always None\n",
    "        if not self.head:\n",
    "            # assign node to head if head is none\n",
    "            self.head = node\n",
    "        else:\n",
    "            # put node in front of head\n",
    "            self.head.prev = node\n",
    "            node.next = self.head\n",
    "        # update size \n",
    "        self.size += 1\n",
    "        \n",
    "        # update middle pointer\n",
    "        # 1. if stack is empty\n",
    "        # 2. number of nodes is odd\n",
    "        if not self.mid:\n",
    "            self.mid = node\n",
    "        \n",
    "        if self.size > 0 and (self.size % 2 == 0):\n",
    "            self.mid = self.mid.prev\n",
    "\n",
    "        # update head\n",
    "        self.head = node\n",
    "\n",
    "    def pop(self):\n",
    "        removed = self.head \n",
    "        tail = self.head.next \n",
    "        tail.prev = None\n",
    "\n",
    "        # update mid pointer\n",
    "        if self.size % 2 == 0:\n",
    "            self.mid = self.mid.next\n",
    "\n",
    "        # update head\n",
    "        self.head = tail\n",
    "        \n",
    "        # update size \n",
    "        self.size -= 1\n",
    "\n",
    "        return removed.val\n",
    "\n",
    "    # find middle\n",
    "    def findMiddle(self):\n",
    "        return self.mid.val \n",
    "    \n",
    "    # remove middle\n",
    "    def popMiddle(self):\n",
    "        mid = self.mid\n",
    "\n",
    "        # remove mid by connecting prev and next\n",
    "        prev = mid.prev \n",
    "        next = mid.next \n",
    "\n",
    "        prev.next = next \n",
    "        next.prev = prev \n",
    "\n",
    "        # update mid pointer\n",
    "        if self.size % 2 == 0:\n",
    "            self.mid = next\n",
    "        else:\n",
    "            self.mid = prev\n",
    "        # update size\n",
    "        self.size -= 1\n",
    "\n",
    "        return mid.val \n",
    "\n",
    "    # string representation\n",
    "    def __str__(self):\n",
    "        cur = self.head\n",
    "        out = \"-\"\n",
    "        while cur:\n",
    "            out += str(cur.val) + '-'\n",
    "            cur = cur.next\n",
    "        return out \n",
    "\n",
    "# test \n",
    "stack = Stack()\n",
    "stack.push(1)\n",
    "print(stack.mid.val)\n",
    "stack.push(2)\n",
    "print(stack.mid.val)\n",
    "stack.push(3)\n",
    "print(stack.mid.val)\n",
    "stack.push(4)\n",
    "stack.push(5)\n",
    "print(stack.mid.val)\n",
    "print(f\"stack: {stack}\")\n",
    "\n",
    "\n",
    "stack.pop()\n",
    "print(stack.mid.val)\n",
    "stack.pop()\n",
    "print(stack.mid.val)\n",
    "print(f\"stack: {stack}\")\n",
    "\n",
    "# pop middle \n",
    "print(stack.popMiddle())\n",
    "print(stack.mid.val)\n",
    "print(f\"stack: {stack}\")\n"
   ]
  },
  {
   "cell_type": "markdown",
   "metadata": {},
   "source": [
    "### Method 2: Use a standard stack and a deque\n",
    "We will use a standard stack to store half of the elements and the other half of the elements which were added recently will be present in the deque."
   ]
  },
  {
   "cell_type": "markdown",
   "metadata": {},
   "source": [
    "## Standard Problems on Stack\n",
    "\n",
    "### Infix, Prefix, and Postfix Expression\n",
    "\n",
    "How do computers deal with math equation expressions, such as `a + b*c + d`?\n",
    "\n",
    "**Some Preliminary**\n",
    "- Operator and Operand: operator is the math manipulation of operands. `+`, `*` are operators, and `a, b, c, d` are operands. One special operand is the parentesis group. An expression enclosed in parentheses is typically recursively evaluated to be treated as a single operand on the next evaluation level.\n",
    "- Properties of operator\n",
    "  - Each operator is given a position, precedence, and an associativity.\n",
    "  - Position: an operator may be prefix, postfix or infix.\n",
    "    - Prefix: a prefix operator immediately precedes its operand, as in `-x`.\n",
    "    - Postfix: a postfix operatpr immediately succcedes its operand, as in `x!`.\n",
    "    - Infix: an infix operator is positioned in between a left and a right operand.\n",
    "  - Precedence: \n",
    "    - which operator takes an operand that is surrounded by two operators of different precedence or priority \n",
    "    - e.g., multipication has higher priority than addition\n",
    "  - Associativity: associativity is only needed when the operators surrounding a operand have the same precedence.\n",
    "    - left associativity: `+`, `-`, `*`, `/` are usually left-associative, which means evaluation should be from left to right\n",
    "      - e.g., `7 - 4 + 2 = (7 - 4) + 2 = 5`. if use right associtivity, the expression will lead to 7 - (4 + 2) = 1.\n",
    "    - right associativity: `exp`, `assignment` and `function evaluation` are usually right-associative\n",
    "      - e.g., `5^2^3 = 5^(2^3)` \n",
    "- Expression: see [here](https://web.stonehill.edu/compsci/CS104/Stuff/Infix%20and%20%20postfix%20expressions.pdf) and [here](https://runestone.academy/ns/books/published/pythonds/BasicDS/InfixPrefixandPostfixExpressions.html)\n",
    "  - The connection between operators and operands\n",
    "  - Infix expression: an operators is `in-between` every pair of operands, e.g., `a * (b+c) - d`\n",
    "    - easy for humand to understand\n",
    "  - Postfix expression: an operator follows every pair of operands, e.g., `abc+*d-`\n",
    "    - no parenthesis is needed\n",
    "    - precedence and associativity disappear, which makse it easy for computer to process\n",
    "    - operations are performed in the order in which thery written\n",
    "    - compiler evaulation algorithm\n",
    "      - scan the expression, left to right, \n",
    "        - when you encounter an operand, push it on the stack\n",
    "        - when your encounter an operator `@`, pop the corresponding operands off the stack\n",
    "        - perform the operation `@`. The operands precede the operator: `bc+ = b+c`. \n",
    "        - push the computed result back on the stack\n",
    "        - repeat the process untill no more operators\n",
    "  - Prefix expression: an operator precedes every pair of operands, e.g, `-*a+bcd`\n",
    "    - precedence and associativity disappear, which makse it easy for computer to process\n",
    "    - prefix notation has more overheads of parenthesis compared with postfix\n",
    "\n",
    "\n",
    "***How to convert infix to postfix ?***\n",
    "- initiate a stack\n",
    "- scan the infix, left to right\n",
    "  - if the scanned character is an operand, output it\n",
    "  - else\n",
    "    - if the precedence and associativity of the scanned operator are greater than the precedence and associativity of the top operator in the stack, or the stack has a left parenthesis `(`, then push it to the stack\n",
    "    - else, pop all the operators from the stack which are greater than or equal to in precedence than that of the scanned operator. Then push the scanned operator to the stack.\n",
    "      - special: if encoutering a parathesis during popping, then stop there and push the scanned operator in the stack\n",
    "  - if the scanned character is a `(`, push it to the stack\n",
    "  - if the scanned charecter is a `)`, pop the stack and output it until a `(` is encountered. Discard both parentheses.\n",
    "  - repeat till the infix is scanned  "
   ]
  },
  {
   "cell_type": "code",
   "execution_count": 22,
   "metadata": {},
   "outputs": [
    {
     "name": "stdout",
     "output_type": "stream",
     "text": [
      "['a', 'b', 'c', '*', '+', 'd', '-']\n",
      "['a', 'b', 'c', 'd', '+', '*', '-']\n",
      "['a', 'b', 'c', 'd', '^', 'e', '-', 'f', 'g', 'h', '*', '+', '^', '*', '+', 'i', '-']\n"
     ]
    }
   ],
   "source": [
    "\n",
    "class Conversion():\n",
    "    def __init__(self):\n",
    "        self.precedence={'+': 0, '-':0, \"*\":1, \"/\":1, \"^\":2}\n",
    "\n",
    "    # check if a given character is an operand\n",
    "    def isOperand(self, ch):\n",
    "        return ch.isalpha()\n",
    "    \n",
    "    # conver from infix expr to postfix expr\n",
    "    def infixToPostfix(self, expr):\n",
    "        # initialize a stack and output\n",
    "        stack = []\n",
    "        output = []\n",
    "\n",
    "        # scan the expr\n",
    "        for s in expr:\n",
    "            # if is an operand, store to output\n",
    "            if self.isOperand(s):\n",
    "                output.append(s)\n",
    "            # if \"(\"\n",
    "            elif s == '(':\n",
    "                stack.append(s)\n",
    "            # if \")\", the pop all elements in the stack until \"(\" is met\n",
    "            elif s == ')':\n",
    "                so = stack.pop()\n",
    "                while len(stack) > 0 and so != '(':\n",
    "                    output.append(so)\n",
    "                    so = stack.pop()\n",
    "            # else an operator is met\n",
    "            else:\n",
    "                # if scanned operator has no greater precedence over the top operator in the stack, then output\n",
    "                while len(stack)>0 and ((stack[-1] != '(') and (self.precedence[s] <= self.precedence[stack[-1]])):\n",
    "                    so = stack.pop()\n",
    "                    if so != '(' and so != ')':\n",
    "                        output.append(so)\n",
    "\n",
    "                stack.append(s)\n",
    "\n",
    "        while stack:\n",
    "            output.append(stack.pop())\n",
    "\n",
    "        return output\n",
    "\n",
    "# test \n",
    "expr = \"a+b*c-d\"\n",
    "c = Conversion() \n",
    "print(c.infixToPostfix(expr))               \n",
    "\n",
    "expr = \"a-b*(c+d)\"\n",
    "c = Conversion() \n",
    "print(c.infixToPostfix(expr))   \n",
    "\n",
    "expr = \"a+b*(c^d-e)^(f+g*h)-i\"\n",
    "c = Conversion() \n",
    "print(c.infixToPostfix(expr))   "
   ]
  },
  {
   "attachments": {},
   "cell_type": "markdown",
   "metadata": {},
   "source": [
    "### Stock Span Problem\n",
    "\n",
    "The stock span problem is a financial problem where we have a series of `n` daily price quotes for a stock and we need to calculate the span of the stock’s price for all `n` days. \n",
    "The span `Si` of the stock’s price on a given day `i` is defined as the maximum number of consecutive days just before the given day, for which the price of the stock on the current day is less than its price on the given day. \n",
    "\n",
    "**Examples**\n",
    "```\n",
    "Input: N = 7, price[] = [100 80 60 70 60 75 85]\n",
    "Output: 1 1 1 2 1 4 6\n",
    "Explanation: Traversing the given input span for 100 will be 1, 80 is smaller than 100 so the span is 1, 60 is smaller than 80 so the span is 1, 70 is greater than 60 so the span is 2 and so on. Hence the output will be 1 1 1 2 1 4 6.\n",
    "\n",
    "Input: N = 6, price[] = [10 4 5 90 120 80]\n",
    "Output:1 1 2 4 5 1\n",
    "Explanation: Traversing the given input span for 10 will be 1, 4 is smaller than 10 so the span will be 1, 5 is greater than 4 so the span will be 2 and so on. Hence, the output will be 1 1 2 4 5 1.\n",
    "```\n",
    "\n",
    "**Analysis**\n",
    "- this is very similar to the next question to find the index of the previous cloest greater element\n",
    "- algorithm:\n",
    "  - initiate a stack to store the index of the traversed value, a span with -1 to store the span value for each element\n",
    "  - traverse from left to right\n",
    "    - if the stack s is empty, then push current index to the stack\n",
    "    - if the current value < the value at the top index of the stack s, then previous closest greater value for current index is met. We can simply get the difference between these two indexes to get the span.\n",
    "      - push the current index to stack\n",
    "    - if the current value > the value at the top inddex of the stack s\n",
    "      - pop the stack until the current value < the value at the top index of the stack s or the stack is empty\n",
    "      - calculate the span based on index\n",
    "      - push the current index to the stack\n"
   ]
  },
  {
   "cell_type": "code",
   "execution_count": 24,
   "metadata": {},
   "outputs": [
    {
     "name": "stdout",
     "output_type": "stream",
     "text": [
      "[1, 1, 1, 2, 1, 4, 6]\n",
      "[1, 1, 2, 4, 5, 1]\n"
     ]
    }
   ],
   "source": [
    "def calculateSpan(price):\n",
    "    n = len(price)\n",
    "    span = [1]*n \n",
    "\n",
    "    # maintain a stack s to store the index of the closest element in the price before current index\n",
    "    s = [0]\n",
    "\n",
    "    for i in range(1, n):\n",
    "        \n",
    "        while len(s) > 0 and price[s[-1]] <= price[i]:\n",
    "            s.pop()\n",
    "        \n",
    "        if len(s) == 0:\n",
    "            span[i] = i + 1\n",
    "        else:\n",
    "            span[i] = i - s[-1]\n",
    "        \n",
    "        # push the element to stack\n",
    "        s.append(i)\n",
    "    \n",
    "    return span\n",
    "\n",
    "# test \n",
    "price = [100, 80, 60, 70, 60, 75, 85]\n",
    "print(calculateSpan(price))\n",
    "\n",
    "price = [10, 4, 5, 90, 120, 80]\n",
    "print(calculateSpan(price))\n"
   ]
  },
  {
   "cell_type": "markdown",
   "metadata": {},
   "source": [
    "### Check for Blanced Parentheses\n",
    "\n",
    "Given an expression string exp, write a program to examine whether the pairs and the orders of “{“, “}”, “(“, “)”, “[“, “]” are correct in the given expression."
   ]
  },
  {
   "cell_type": "code",
   "execution_count": 2,
   "metadata": {},
   "outputs": [
    {
     "name": "stdout",
     "output_type": "stream",
     "text": [
      "True\n",
      "False\n"
     ]
    }
   ],
   "source": [
    "def isBalanced(expr):\n",
    "    stack = []\n",
    "    pairs = {')':'(', '}':'{', ']':'['}\n",
    "    left = ['(', '{', '[']\n",
    "    for c in expr:\n",
    "        if c in left: \n",
    "            stack.append(c)\n",
    "        else:\n",
    "            if len(stack)>0 and pairs[c] == stack[-1]:\n",
    "                stack.pop()\n",
    "            else:\n",
    "                return False \n",
    "    return True\n",
    "\n",
    "# test\n",
    "expr = \"[()]{}{[()()]()}\" \n",
    "print(isBalanced(expr))\n",
    "\n",
    "expr =  \"[(])\"\n",
    "print(isBalanced(expr))"
   ]
  },
  {
   "cell_type": "markdown",
   "metadata": {},
   "source": [
    "### Next Greater Element in an array\n",
    "The Next greater Element for an element x is the first greater element on the right side of x in the array. Elements for which no greater element exist, consider the next greater element as -1. \n",
    "\n",
    "For example, for arry `[1, 12, 10, 5]`, the results should be `[12, -1, -1, -1]`.\n",
    "\n",
    "The brute force implementation is iteratively check elements between `[i, len(arr)]`, which is $0(N^2)$ in time.\n",
    "\n",
    "We can use a stack to reduce the time complexity to $O(N)$ but increase the space complexity to $O(N)$.\n",
    "- traverse from the end of the array to the starting\n",
    "  - if the current pointer is no greater than the topmost element in the stack\n",
    "    - then the next greater of the current pointer is the topmost element in the stack\n",
    "    - push current pointer to the stack\n",
    "  - else\n",
    "    - pop the stack until the topmost elemenet in the stack is greater than the current pointer or the stack is empty\n",
    "    - the topmost element is the next greater for the current pointer\n",
    "    - push the current pointer to the stack\n"
   ]
  },
  {
   "cell_type": "code",
   "execution_count": 8,
   "metadata": {},
   "outputs": [
    {
     "name": "stdout",
     "output_type": "stream",
     "text": [
      "[12, -1, -1, -1]\n",
      "[12, -1, 6, 5, 2, 5, 6, 4, 2, 4, 6, -1]\n"
     ]
    }
   ],
   "source": [
    "def nextGreaterElement(array):\n",
    "    n = len(array)\n",
    "    stack = []\n",
    "    out = array\n",
    "    # reverse traversal\n",
    "    for i in range(n-1, -1, -1):\n",
    "        curr = array[i]\n",
    "        # if current element is smaller than the topmost element in the stack\n",
    "        if len(stack) > 0 and curr < stack[-1]:\n",
    "            out[i] = stack[-1]\n",
    "            stack.append(curr)\n",
    "        else:\n",
    "            # pop the stack untill a greater element at the top of the stack or untill the stack is empty\n",
    "            while stack and stack[-1] <= curr:\n",
    "                stack.pop()\n",
    "            \n",
    "            if len(stack) == 0: \n",
    "                out[i] = -1\n",
    "            else:\n",
    "                out[i] = stack[-1]\n",
    "                \n",
    "            stack.append(curr)\n",
    "    return out\n",
    "\n",
    "# test\n",
    "array = [1, 12, 10, 5]\n",
    "print(nextGreaterElement(array))\n",
    "\n",
    "array = [4, 12, 5, 3, 1, 2, 5, 3, 1, 2, 4, 6]\n",
    "print(nextGreaterElement(array))"
   ]
  }
 ],
 "metadata": {
  "kernelspec": {
   "display_name": "Python 3.8.12 ('jupyterbook-py38')",
   "language": "python",
   "name": "python3"
  },
  "language_info": {
   "codemirror_mode": {
    "name": "ipython",
    "version": 3
   },
   "file_extension": ".py",
   "mimetype": "text/x-python",
   "name": "python",
   "nbconvert_exporter": "python",
   "pygments_lexer": "ipython3",
   "version": "3.8.12 (default, Oct 12 2021, 06:23:56) \n[Clang 10.0.0 ]"
  },
  "orig_nbformat": 4,
  "vscode": {
   "interpreter": {
    "hash": "577791f2da4ac3a13c44f20f0f30021788d0264a6d82c3224a80270143730ffe"
   }
  }
 },
 "nbformat": 4,
 "nbformat_minor": 2
}
