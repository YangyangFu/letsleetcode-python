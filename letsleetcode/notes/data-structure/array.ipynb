{
 "cells": [
  {
   "cell_type": "markdown",
   "metadata": {},
   "source": [
    "# Array and String\n",
    "\n"
   ]
  },
  {
   "cell_type": "markdown",
   "metadata": {},
   "source": [
    "## Two Pointer\n",
    "\n",
    "Two types of pointers are usually used for arrays.\n",
    "- slow and fast pointer\n",
    "- left and right pointer\n",
    "\n",
    "For all the two pointer related algorithm, we can refer to \n"
   ]
  },
  {
   "cell_type": "markdown",
   "metadata": {},
   "source": [
    "### Fast and Slow Pointer\n",
    "\n",
    "Fast and slow pointer can be used to modify the array in-place.\n",
    "\n",
    "**Leetcode**\n",
    "- Remove duplicates\n",
    "  - [0026](/letsleetcode/leetcode/0026-remove-duplicates.ipynb)\n",
    "- Remove given values\n",
    "  - [0027](/letsleetcode/leetcode/0027-remove-duplicates.ipynb)\n",
    "  - 0283"
   ]
  },
  {
   "cell_type": "markdown",
   "metadata": {},
   "source": [
    "### Sliding Window"
   ]
  },
  {
   "cell_type": "markdown",
   "metadata": {},
   "source": [
    "### Left and Right Pointer\n",
    "- Binary search\n",
    "  - [0704](/letsleetcode/leetcode/0704-binary-search.ipynb)\n",
    "- Sum of two\n",
    "  - [0001](/letsleetcode/leetcode/0001-two-sum.ipynb)\n",
    "  - [0015](/letsleetcode/leetcode/0015-three-sum.ipynb)\n",
    "  - [0016](/letsleetcode/leetcode/0016-three-sum-closest.ipynb)\n",
    "  - [0018](/letsleetcode/leetcode/0018-four-sum.ipynb)\n",
    "- Reverse array\n",
    "  - [0344](/letsleetcode/leetcode/0344-reverse-string.ipynb)\n",
    "- Palindromic string\n",
    "  - [0005](/letsleetcode/leetcode/0005-longest-palindromic-string.ipynb)"
   ]
  }
 ],
 "metadata": {
  "kernelspec": {
   "display_name": "Python 3.8.12 ('jupyterbook-py38')",
   "language": "python",
   "name": "python3"
  },
  "language_info": {
   "name": "python",
   "version": "3.8.12"
  },
  "orig_nbformat": 4,
  "vscode": {
   "interpreter": {
    "hash": "577791f2da4ac3a13c44f20f0f30021788d0264a6d82c3224a80270143730ffe"
   }
  }
 },
 "nbformat": 4,
 "nbformat_minor": 2
}
