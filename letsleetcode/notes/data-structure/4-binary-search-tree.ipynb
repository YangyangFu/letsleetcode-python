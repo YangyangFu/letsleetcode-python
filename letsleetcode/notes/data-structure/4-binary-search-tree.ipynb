{
 "cells": [
  {
   "cell_type": "markdown",
   "metadata": {},
   "source": [
    "# Binary Search Tree\n",
    "Binary Search Tree (BST) is a node-based binary tree data structure which has the following properties: \n",
    "\n",
    "- The left subtree of a node contains only nodes with `keys less than the node’s key`.\n",
    "- The right subtree of a node contains only nodes with `keys greater than the node’s key`.\n",
    "- This means `everything to the left of the root is less than the value of the root and everything to the right of the root is greater than the value of the root`. Due to this performing, a binary search is very easy.\n",
    "- The left and right subtree each must also be a binary search tree.  \n",
    "- There must be no duplicate nodes (BST may have duplicate values with different handling approaches)\n",
    "\n",
    "**Terminology**\n",
    "- `traversal order`: the order of the nodes generated from a given traversal direction. \n",
    "- `preorder traversal`: repeatly traverse the node first, then the left and lastly the right. \n",
    "\n",
    "**Key Properties**\n",
    "- Keep track of the range of node value. -> can be used to check if a tree is a valid BST or construct a BST from given preorder traversal order.\n",
    "  "
   ]
  },
  {
   "cell_type": "code",
   "execution_count": 59,
   "metadata": {},
   "outputs": [],
   "source": [
    "class Node():\n",
    "    def __init__(self, val=0, left=None, right=None):\n",
    "        self.val = val \n",
    "        self.left = left\n",
    "        self.right = right\n",
    "\n",
    "def traverse_preorder(root: Node) -> list:\n",
    "    if not root:\n",
    "        return []\n",
    "    \n",
    "    res = [root.val]\n",
    "    if root.left:\n",
    "        res.extend(traverse_preorder(root.left))\n",
    "    if root.right:\n",
    "        res.extend(traverse_preorder(root.right))\n",
    "    \n",
    "    return res\n",
    "\n",
    "def printTree(root, method='preorder'):\n",
    "    traversal = []\n",
    "    if method == \"preorder\":\n",
    "        pass"
   ]
  },
  {
   "cell_type": "markdown",
   "metadata": {},
   "source": [
    "## Build\n",
    "\n",
    "How to build a BST from given preorder traversal? For example if the given preorder traversal is [10,5,1,7,40,50], then the BST has the following format:\n",
    "\n",
    "\n",
    "            10\n",
    "            / \\\n",
    "           5   40\n",
    "          / \\    \\\n",
    "         1   7   50\n",
    "\n",
    "\n",
    "\n",
    "\n",
    "**Important**\n",
    "- In `preorder` traversal, the root node always comes first.\n",
    "- The key is to find its left subtree and right subtree from a given root using the above principle.\n",
    "- Together with `inorder`, where left subtree always comes first, it is easy to reconstruct a general binary tree.\n",
    "\n",
    "**Notes**\n",
    "- General BT construction needs both preorder and inorder traversals, but BST can be constructed from preorder traversal only or postorder traversal only. \n",
    "- BST cannot be constructed from inorder traveral only.\n",
    "\n",
    "**Leetcode**\n",
    "- [1008](https://leetcode.com/problems/construct-binary-search-tree-from-preorder-traversal/)"
   ]
  },
  {
   "cell_type": "markdown",
   "metadata": {},
   "source": [
    "### Method 1\n",
    "- The first element of the preorder traversal `A` is always root. \n",
    "- Then we find the first element that is greater than the root, and get its index `i`. In 0-index language, any values between `1` and `i` shall be the left subtree, and values between `i` and `-1` shall be the right subtree.\n",
    "- Recursively cconstruct the left subtree using `A[1:i]` and right subtree using `A[i:]`.\n",
    "\n",
    "**Complexity**\n",
    "- time: $O(n^2)$\n"
   ]
  },
  {
   "cell_type": "code",
   "execution_count": 60,
   "metadata": {},
   "outputs": [
    {
     "name": "stdout",
     "output_type": "stream",
     "text": [
      "[10, 5, 1, 7, 40, 50]\n",
      "[]\n",
      "[1]\n"
     ]
    }
   ],
   "source": [
    "def build_preorder(A):\n",
    "    # return None if empty\n",
    "    if not A:\n",
    "        return None\n",
    "\n",
    "    # get root\n",
    "    root = Node(val = A[0])\n",
    "    n = len(A)\n",
    "\n",
    "    # get left subtree and right subtree\n",
    "    # using the first element of the right subtree\n",
    "    # or we can use inorder traversal here by sorting the preorder traversal\n",
    "    i = 1\n",
    "    while i < n and A[i] < A[0]:\n",
    "        i += 1\n",
    "    \n",
    "    # recurse\n",
    "    left = build_preorder(A[1:i])\n",
    "    right = build_preorder(A[i:])\n",
    "    \n",
    "    # combine \n",
    "    root.left = left \n",
    "    root.right = right \n",
    "\n",
    "    return root\n",
    "    \n",
    "# test\n",
    "A = [10,5,1,7,40,50]\n",
    "root = build_preorder(A)\n",
    "print(traverse_preorder(root))\n",
    "\n",
    "A = []\n",
    "root = build_preorder(A)\n",
    "print(traverse_preorder(root))\n",
    "\n",
    "A = [1]\n",
    "root = build_preorder(A)\n",
    "print(traverse_preorder(root))"
   ]
  },
  {
   "cell_type": "markdown",
   "metadata": {},
   "source": [
    "### Method 2\n",
    "\n",
    "Traverse each element in the preorder traversal, and compare its value with the root value\n",
    "- if the node value is less than the root value, change root to its left\n",
    "- if the node value is greater than the root value, change root to its right\n",
    "- recurse until the node is inserted correctly\n",
    "\n",
    "**Complexity**\n",
    "- time: $O(n^2)$\n"
   ]
  },
  {
   "cell_type": "code",
   "execution_count": 61,
   "metadata": {},
   "outputs": [
    {
     "name": "stdout",
     "output_type": "stream",
     "text": [
      "[10, 5, 1, 7, 40, 50]\n",
      "[]\n",
      "[1]\n"
     ]
    }
   ],
   "source": [
    "def buildBST(preorder):\n",
    "    if not A:\n",
    "        return None \n",
    "    \n",
    "    root = Node(preorder[0])\n",
    "\n",
    "    n = len(preorder)\n",
    "    if n == 1:\n",
    "        return root\n",
    "    \n",
    "    # insert\n",
    "    def insert(root, node):\n",
    "        # base case\n",
    "        if not root:\n",
    "            return node\n",
    "        \n",
    "        # insert to left tree or right tree\n",
    "        if node.val < root.val:\n",
    "            root.left = insert(root.left, node)\n",
    "        else:\n",
    "            root.right = insert(root.right, node)\n",
    "        \n",
    "        return root\n",
    "\n",
    "    for i in range(1,n):\n",
    "        root = insert(root, Node(preorder[i]))\n",
    "    \n",
    "    return root\n",
    "\n",
    "# test\n",
    "A = [10,5,1,7,40,50]\n",
    "root = buildBST(A)\n",
    "print(traverse_preorder(root))\n",
    "\n",
    "A = []\n",
    "root = buildBST(A)\n",
    "print(traverse_preorder(root))\n",
    "\n",
    "A = [1]\n",
    "root = buildBST(A)\n",
    "print(traverse_preorder(root))"
   ]
  },
  {
   "cell_type": "markdown",
   "metadata": {},
   "source": [
    "### Method 3\n",
    "The information of the binary tree can be saved using preorder traversal and inorder traversal.\n",
    "\n",
    "The key idea here is:\n",
    "- preorder traversal preserves the node order in [root, left, right]\n",
    "- inorder traversal preserves the node order in [left, root, right]. For BST, the inorder traversal is sorted increasingly. \n",
    "  - we can get the inroder traversal of BST easily from sorting the preorder traversal.\n",
    "  - The first element in the preorder traversal is always the root, and the left slice of the inorder traversal to the root is the whole left subtree.\n",
    "  - Therefore, we just need to know the index of the root in the inorder traversal. \n",
    "\n",
    "**Complexity**\n",
    "- time: $O(n^2log(n))$\n",
    "- space: $O(n)$. Extra space for storing inorder traversal and recursive call stack, whose worst scenario is $O(n)$ when the tree is left-skewed.\n",
    "\n",
    "**This could be improved to $O(n)$ time**"
   ]
  },
  {
   "cell_type": "code",
   "execution_count": 62,
   "metadata": {},
   "outputs": [
    {
     "name": "stdout",
     "output_type": "stream",
     "text": [
      "[10, 1, 5, 7, 40, 50]\n"
     ]
    }
   ],
   "source": [
    "def buildBST(preorder):\n",
    "    # base case\n",
    "    if len(preorder) < 1:\n",
    "        return None\n",
    "    \n",
    "    root = Node(preorder[0])\n",
    "    # get inorder traversal of a BST\n",
    "    inorder = sorted(preorder)\n",
    "\n",
    "    # find root index in inorder traversal\n",
    "    ind = inorder.index(preorder[0])\n",
    "    \n",
    "    # build left\n",
    "    root.left = buildBST(inorder[:ind])\n",
    "    root.right = buildBST(inorder[ind+1:])\n",
    "\n",
    "    return root\n",
    "\n",
    "# test\n",
    "A = [10,5,1,7,40,50]\n",
    "root = buildBST(A)\n",
    "print(traverse_preorder(root))"
   ]
  },
  {
   "cell_type": "markdown",
   "metadata": {},
   "source": [
    "### Method 4\n",
    "See https://www.youtube.com/watch?v=UmJT3j26t1I.\n",
    " \n",
    "BST node has a property that determines the range of its subtree.\n",
    "The key idea here is use the upper bounds of each explored node to decide where a specific node should be inserted:\n",
    "- initialize the upper bound of the root as `INF`\n",
    "- for each node, recursively\n",
    "  - build the left subtree using upper bound `node.val`\n",
    "  - build the right subtree using upper bound the current node's parent upper bound\n",
    "\n",
    "**Complexity**\n",
    "- time: O(n). For each node, we at most visit 3 times, thus the worst scenario is $O(3n)$, which is $O(n)$\n",
    "- space: O(1). This recursive algorithm uses stack space. \n"
   ]
  },
  {
   "cell_type": "code",
   "execution_count": 63,
   "metadata": {},
   "outputs": [
    {
     "name": "stdout",
     "output_type": "stream",
     "text": [
      "A for left: [5, 1, 7, 40, 50]\n",
      "A for left: [1, 7, 40, 50]\n",
      "A for left: [7, 40, 50]\n",
      "A for right: [7, 40, 50]\n",
      "A for right: [7, 40, 50]\n",
      "A for left: [40, 50]\n",
      "A for right: [40, 50]\n",
      "A for right: [40, 50]\n",
      "A for left: [50]\n",
      "A for right: [50]\n",
      "A for left: []\n",
      "A for right: []\n",
      "[10, 5, 1, 7, 40, 50]\n"
     ]
    }
   ],
   "source": [
    "# The recusion is so beatiful here. Try to understand\n",
    "# The key point here is: \n",
    "# 1. A is globally changed by each recursion.\n",
    "# 2. The recusion always build left brach first. Until no left node is possible, it will build the right branch from the bottom of left subtree to the right subtree of the root.\n",
    "def buildBST(preorder):\n",
    "    def build(A, ub=float('inf')):\n",
    "        if not A or A[0] > ub: return None\n",
    "        #print(A)\n",
    "        root = Node(A.pop(0))\n",
    "\n",
    "        print(f\"A for left: {A}\")\n",
    "        root.left = build(A, root.val)\n",
    "        print(f\"A for right: {A}\")\n",
    "        root.right = build(A, ub)\n",
    "        \n",
    "        return root\n",
    "\n",
    "    return build(preorder) \n",
    "\n",
    "# test\n",
    "A = [10,5,1,7,40,50]\n",
    "root = buildBST(A)\n",
    "print(traverse_preorder(root))\n",
    "\n",
    "#A = []\n",
    "#root = buildBST(A)\n",
    "#print(traverse_preorder(root))\n",
    "\n",
    "#A = [1]\n",
    "#root = buildBST(A)\n",
    "#print(traverse_preorder(root))"
   ]
  },
  {
   "cell_type": "code",
   "execution_count": 64,
   "metadata": {},
   "outputs": [
    {
     "name": "stdout",
     "output_type": "stream",
     "text": [
      "[10, 5, 1, 7, 40, 50]\n"
     ]
    }
   ],
   "source": [
    "# A wrong implementation:\n",
    "# the index i is not global, which results the same node will be attached to both left and right if possible.\n",
    "def buildBST(preorder):\n",
    "    \n",
    "    def build(A, i, ub=float('inf')):\n",
    "        if i == len(A) or A[i] > ub:\n",
    "            return None\n",
    "        root = Node(A[i])\n",
    "        root.left = build(A, i+1, root.val)\n",
    "        root.right = build(A, i+1, ub)\n",
    "        \n",
    "        return root\n",
    "\n",
    "    return build(preorder, 0) \n",
    "\n",
    "# The following implementation fixes the above code\n",
    "def buildBST(preorder):\n",
    "    global i \n",
    "    i = 0\n",
    "    def build(A, ub=float('inf')):\n",
    "        global i\n",
    "        if i == len(A) or A[i] > ub:\n",
    "            return None\n",
    "        root = Node(A[i])\n",
    "        i += 1\n",
    "        root.left = build(A, root.val)\n",
    "        root.right = build(A, ub)\n",
    "        \n",
    "        return root\n",
    "\n",
    "    return build(preorder) \n",
    "\n",
    "# test\n",
    "A = [10,5,1,7,40,50]\n",
    "root = buildBST(A)\n",
    "print(traverse_preorder(root))"
   ]
  },
  {
   "cell_type": "markdown",
   "metadata": {},
   "source": [
    "## Traverse \n",
    "\n",
    "Traverse the BST node by node.\n",
    "\n"
   ]
  },
  {
   "cell_type": "markdown",
   "metadata": {},
   "source": [
    "### Preorder Traversal\n",
    "Preorder traversal is used to create a copy of the tree. Preorder traversal is also used to get prefix expressions on an expression tree.\n",
    "- visit the root\n",
    "- traverse the left subtree\n",
    "- traverse the right subtree"
   ]
  },
  {
   "cell_type": "code",
   "execution_count": 65,
   "metadata": {},
   "outputs": [
    {
     "name": "stdout",
     "output_type": "stream",
     "text": [
      "[10, 5, 1, 7, 40, 50]\n"
     ]
    }
   ],
   "source": [
    "def preorder(root):\n",
    "    # base case\n",
    "    if not root:\n",
    "        return []\n",
    "\n",
    "    # store node \n",
    "    order = [root.val]\n",
    "    # traverse the left subtree and right subtree\n",
    "    order.extend(preorder(root.left))\n",
    "    order.extend(preorder(root.right))\n",
    "    \n",
    "    # return\n",
    "    return order\n",
    "\n",
    "A = [10,5,1,7,40,50]\n",
    "root = buildBST(A)\n",
    "print(preorder(root))"
   ]
  },
  {
   "cell_type": "markdown",
   "metadata": {},
   "source": [
    "### Inorder\n",
    "In the case of BST, Inorder traversal gives nodes in non-decreasing order. To get nodes of BST in non-increasing order, a variation of Inorder traversal where Inorder traversal is reversed can be used. \n",
    "- traverse the left subtree\n",
    "- visit the root\n",
    "- traverse the rigth subtree\n",
    "\n",
    "\n",
    "**Recursive Implementation**"
   ]
  },
  {
   "cell_type": "code",
   "execution_count": 66,
   "metadata": {},
   "outputs": [
    {
     "name": "stdout",
     "output_type": "stream",
     "text": [
      "[1, 5, 7, 10, 40, 50]\n"
     ]
    }
   ],
   "source": [
    "## A recursive implementation\n",
    "def inorder(root):\n",
    "    # base case\n",
    "    if not root:\n",
    "        return []\n",
    "\n",
    "    order = []\n",
    "    # traverse left subtree\n",
    "    order.extend(inorder(root.left))\n",
    "    order.extend([root.val])\n",
    "    order.extend(inorder(root.right))\n",
    "\n",
    "    return order\n",
    "\n",
    "A = [10,5,1,7,40,50]\n",
    "root = buildBST(A)\n",
    "print(inorder(root))"
   ]
  },
  {
   "cell_type": "markdown",
   "metadata": {},
   "source": [
    "**Iterative Implementation Using Stack**\n",
    "1. Create an empty stack S.\n",
    "2. Initialize current node as root\n",
    "3. Push the current node to S and set `current = current.left` until current is NULL\n",
    "4. If current is NULL and stack is not empty then \n",
    "     - Pop the top item from stack.\n",
    "     - Print the popped item, set `current = popped_item.right` \n",
    "     - Go to step 3.\n",
    "5. If current is NULL and stack is empty then we are done\n",
    "\n",
    "     ```shell\n",
    "     ============================================================\n",
    "     Let us consider the below tree for example  \n",
    "\n",
    "     \n",
    "                 1\n",
    "               /   \\\n",
    "             2      3\n",
    "            /  \\\n",
    "          4     5\n",
    "\n",
    "     Step 1 Creates an empty stack: S = NULL\n",
    "\n",
    "     Step 2 sets current as address of root: current -> 1\n",
    "\n",
    "     Step 3 Pushes the current node and set current = current->left \n",
    "          until current is NULL\n",
    "          current -> 1\n",
    "          push 1: Stack S -> 1\n",
    "          current -> 2\n",
    "          push 2: Stack S -> 2, 1\n",
    "          current -> 4\n",
    "          push 4: Stack S -> 4, 2, 1\n",
    "          current = NULL\n",
    "\n",
    "     Step 4 pops from S\n",
    "          a) Pop 4: Stack S -> 2, 1\n",
    "          b) print \"4\"\n",
    "          c) current = NULL /*right of 4 */ and go to step 3\n",
    "     Since current is NULL step 3 doesn't do anything. \n",
    "\n",
    "     Step 4 pops again.\n",
    "          a) Pop 2: Stack S -> 1\n",
    "          b) print \"2\"\n",
    "          c) current -> 5/*right of 2 */ and go to step 3\n",
    "\n",
    "     Step 3 pushes 5 to stack and makes current NULL\n",
    "          Stack S -> 5, 1\n",
    "          current = NULL\n",
    "\n",
    "     Step 4 pops from S\n",
    "          a) Pop 5: Stack S -> 1\n",
    "          b) print \"5\"\n",
    "          c) current = NULL /*right of 5 */ and go to step 3\n",
    "     Since current is NULL step 3 doesn't do anything\n",
    "\n",
    "     Step 4 pops again.\n",
    "          a) Pop 1: Stack S -> NULL\n",
    "          b) print \"1\"\n",
    "          c) current -> 3 /*right of 1 */  \n",
    "\n",
    "     Step 3 pushes 3 to stack and makes current NULL\n",
    "          Stack S -> 3\n",
    "          current = NULL\n",
    "\n",
    "     Step 4 pops from S\n",
    "          a) Pop 3: Stack S -> NULL\n",
    "          b) print \"3\"\n",
    "          c) current = NULL /*right of 3 */  \n",
    "\n",
    "     Traversal is done now as stack S is empty and current is NULL.\n",
    "     ``` "
   ]
  },
  {
   "cell_type": "code",
   "execution_count": 97,
   "metadata": {},
   "outputs": [
    {
     "name": "stdout",
     "output_type": "stream",
     "text": [
      "[1, 5, 7, 10, 40]\n"
     ]
    }
   ],
   "source": [
    "## A iterative implementation: use a stack to store \n",
    "def inorder(root):\n",
    "    order = []\n",
    "    stack = [root] # if use stack=[root]\n",
    "    curr = root\n",
    "    # Note len([None]=1)\n",
    "    while stack:\n",
    "        # pop if current is none and stack is not empty\n",
    "        if not curr:\n",
    "            curr = stack.pop()\n",
    "            # get the order\n",
    "            order.append(curr.val)\n",
    "            # update current node\n",
    "            curr = curr.right\n",
    "        \n",
    "        # push all left nodes and then right node\n",
    "        while curr:\n",
    "            # avoid storing root twice\n",
    "            if curr.val != root.val:\n",
    "                stack.append(curr)\n",
    "            curr = curr.left\n",
    "\n",
    "    return order\n",
    "\n",
    "# Test\n",
    "A = [10,5,1,7,40]\n",
    "root = buildBST(A)\n",
    "print(inorder(root))"
   ]
  },
  {
   "cell_type": "markdown",
   "metadata": {},
   "source": [
    "**Iterative Implementation without Stack**\n",
    "\n",
    "This method is known as Morris Traversal.\n",
    "See [here](https://www.geeksforgeeks.org/inorder-tree-traversal-without-recursion-and-without-stack/?ref=lbp)."
   ]
  },
  {
   "cell_type": "markdown",
   "metadata": {},
   "source": [
    "### Postorder\n",
    "Postorder traversal is used to delete the tree. Please see the question for the deletion of a tree for details. Postorder traversal is also useful to get the postfix expression of an expression tree\n",
    "- traverse the left subtree\n",
    "- traverse the right subtree\n",
    "- visit the root\n",
    "  "
   ]
  },
  {
   "cell_type": "code",
   "execution_count": 70,
   "metadata": {},
   "outputs": [
    {
     "name": "stdout",
     "output_type": "stream",
     "text": [
      "[1, 5, 7, 10, 40, 50]\n",
      "[1, 7, 5, 50, 40, 10]\n"
     ]
    }
   ],
   "source": [
    "def postorder(root):\n",
    "    # base \n",
    "    if not root:\n",
    "        return []\n",
    "    \n",
    "    order = []\n",
    "    # traverse \n",
    "    order.extend(postorder(root.left))\n",
    "    order.extend(postorder(root.right))\n",
    "    order.extend([root.val])\n",
    "\n",
    "    # return\n",
    "    return order\n",
    "\n",
    "A = [10,5,1,7, 40, 50]\n",
    "root = buildBST(A)\n",
    "print(inorder(root))\n",
    "print(postorder(root))"
   ]
  },
  {
   "cell_type": "markdown",
   "metadata": {},
   "source": [
    "### Level Order Traversal\n",
    "\n",
    "Traverse the tree level by level\n"
   ]
  },
  {
   "cell_type": "code",
   "execution_count": 74,
   "metadata": {},
   "outputs": [
    {
     "name": "stdout",
     "output_type": "stream",
     "text": [
      "[1, 5, 7, 10, 40, 50]\n",
      "[10, 5, 40, 1, 7, 'null', 50]\n"
     ]
    }
   ],
   "source": [
    "def levelorder(root):\n",
    "    queue = [root]\n",
    "\n",
    "    order = []\n",
    "    while queue:\n",
    "        # dequeue\n",
    "        node = queue.pop(0)\n",
    "        # do something\n",
    "        if node:\n",
    "            order.append(node.val)\n",
    "        else:\n",
    "            order.append('null')\n",
    "        # enqueue\n",
    "        if node and (node.left or node.right):\n",
    "            queue.extend([node.left, node.right])\n",
    "    \n",
    "    return order\n",
    "\n",
    "A = [10,5,1,7, 40, 50]\n",
    "root = buildBST(A)\n",
    "print(inorder(root))\n",
    "print(levelorder(root))"
   ]
  },
  {
   "cell_type": "markdown",
   "metadata": {},
   "source": [
    "## Insertion\n",
    "\n",
    "A new key is always inserted at the leaf. We start searching for a key from the root until we hit a leaf node. Once a leaf node is found, the new node is added as a child of the leaf node.\n",
    "\n",
    "```text\n",
    "        Insert 3 to the following BST will lead to:\n",
    "\n",
    "             10                                              10\n",
    "            /  \\                     insert 3               /  \\\n",
    "           5   40                    ------->              5   40              \n",
    "          / \\    \\                                        / \\    \\\n",
    "         1  7    50                                      1   7   50\n",
    "                                                          \\\n",
    "                                                           3\n",
    "```"
   ]
  },
  {
   "cell_type": "code",
   "execution_count": 102,
   "metadata": {},
   "outputs": [
    {
     "name": "stdout",
     "output_type": "stream",
     "text": [
      "[1, 3, 5, 7, 10, 40, 50]\n",
      "[10, 5, 1, 3, 7, 40, 50]\n"
     ]
    }
   ],
   "source": [
    "# A recursion Implementation\n",
    "def insert(root, key):\n",
    "    node = Node(key)\n",
    "    # base case\n",
    "    if not root:\n",
    "        return node\n",
    "    \n",
    "    # insert recursively assuming no duplicates\n",
    "    if root.val > key:\n",
    "        root.left = insert(root.left, key)\n",
    "    else:\n",
    "        root.right = insert(root.right, key)\n",
    "    \n",
    "    return root\n",
    "\n",
    "A = [10,5,1,7, 40, 50]\n",
    "root = buildBST(A)\n",
    "root = insert(root, 3)\n",
    "print(inorder(root))    \n",
    "print(preorder(root))"
   ]
  },
  {
   "cell_type": "code",
   "execution_count": 103,
   "metadata": {},
   "outputs": [
    {
     "name": "stdout",
     "output_type": "stream",
     "text": [
      "[1, 3, 5, 7, 10, 40, 50]\n",
      "[10, 5, 1, 3, 7, 40, 50]\n"
     ]
    }
   ],
   "source": [
    "# An iterative implementation\n",
    "def insert(root, key):\n",
    "    node = Node(key)\n",
    "    cur = root \n",
    "    prev = None \n",
    "\n",
    "    while cur:\n",
    "        prev = cur\n",
    "        # go left\n",
    "        if cur.val > key:\n",
    "            cur = cur.left\n",
    "        else: # go right\n",
    "            cur = cur.right\n",
    "    \n",
    "    # specify connections\n",
    "    if prev.val > key:\n",
    "        prev.left = node \n",
    "    else:\n",
    "        prev.right = node\n",
    "    \n",
    "    return root\n",
    "\n",
    "A = [10,5,1,7, 40, 50]\n",
    "root = buildBST(A)\n",
    "root = insert(root, 3)\n",
    "print(inorder(root))    \n",
    "print(preorder(root))"
   ]
  },
  {
   "cell_type": "markdown",
   "metadata": {},
   "source": [
    "## Deletion\n",
    "When we delete a node, three possibilities arise. \n",
    "\n",
    "1) Node to be deleted is the leaf: Simply remove from the tree. \n",
    "\n",
    "```text\n",
    "              50                            50\n",
    "           /     \\         delete(20)      /   \\\n",
    "          30      70       --------->    30     70 \n",
    "         /  \\    /  \\                     \\    /  \\ \n",
    "       20   40  60   80                   40  60   80\n",
    "```\n",
    "\n",
    "2) Node to be deleted has only one child: Copy the child to the node and delete the child \n",
    "\n",
    "```text\n",
    "              50                            50\n",
    "           /     \\         delete(30)      /   \\\n",
    "          30      70       --------->    40     70 \n",
    "            \\    /  \\                          /  \\ \n",
    "            40  60   80                       60   80\n",
    "```\n",
    "3) Node to be deleted has two children: Find `inorder successor` of the node. Copy contents of the inorder successor to the node and delete the inorder successor. Note that `inorder predecessor` can also be used. \n",
    "\n",
    "```text\n",
    "              50                            60\n",
    "           /     \\         delete(50)      /   \\\n",
    "          40      70       --------->    40    70 \n",
    "                 /  \\                            \\ \n",
    "                60   80                           80\n",
    "```\n",
    "The important thing to note is, inorder successor is needed only when the right child is not empty. In this particular case, inorder successor can be obtained by finding the minimum value in the right child of the node.\n",
    "\n"
   ]
  },
  {
   "cell_type": "code",
   "execution_count": 107,
   "metadata": {},
   "outputs": [
    {
     "name": "stdout",
     "output_type": "stream",
     "text": [
      "[50, 30, 40, 70, 60, 80]\n",
      "[50, 40, 70, 60, 80]\n",
      "[60, 40, 70, 80]\n"
     ]
    }
   ],
   "source": [
    "def delete(root, key):\n",
    "\n",
    "    def successor(root):\n",
    "        \"\"\"find the inorder successor for a given node\n",
    "            - if root has no right child, return None\n",
    "            - else return the leftmost node in the right subtree\n",
    "        \"\"\"\n",
    "        if not root or not root.right:\n",
    "            return None \n",
    "        \n",
    "        node = root.right\n",
    "        while node.left:\n",
    "            node = node.left\n",
    "\n",
    "        return node\n",
    "\n",
    "    # base case\n",
    "    if not root:\n",
    "        return root \n",
    "    \n",
    "    # if key is smaller than the root's key then it lies in the left subtree\n",
    "    if key < root.val:\n",
    "        root.left = delete(root.left, key)\n",
    "    elif key > root.val:\n",
    "        root.right = delete(root.right, key)\n",
    "    # key is the same as the root key\n",
    "    else:\n",
    "        # root is a leaf\n",
    "        if not root.left and not root.right:\n",
    "            return None\n",
    "        # root has only one child - left \n",
    "        elif root.left and not root.right:\n",
    "            temp = root.left\n",
    "            root = None \n",
    "            return temp\n",
    "        # root has only one child - right\n",
    "        elif not root.left and root.right:\n",
    "            temp = root.right\n",
    "            root = None \n",
    "            return temp \n",
    "        \n",
    "        # root has two children\n",
    "        succ = successor(root)\n",
    "\n",
    "        # copy the content\n",
    "        #right = root.right # need reverse the right subtree before deletion\n",
    "        #left = root.left\n",
    "        root.val = succ.val\n",
    "\n",
    "        # delete the inorder successor\n",
    "        #root.left = left\n",
    "        root.right = delete(root.right, succ.val)\n",
    "\n",
    "    return root\n",
    "\n",
    "# test\n",
    "A = [50,30,20,40,70,60,80]\n",
    "root = buildBST(A)  \n",
    "root = delete(root, 20)\n",
    "print(preorder(root))\n",
    "\n",
    "A = [50,30,40,70,60,80]\n",
    "root = buildBST(A)  \n",
    "root = delete(root, 30)\n",
    "print(preorder(root))\n",
    "\n",
    "A = [50,40,70,60,80]\n",
    "root = buildBST(A)  \n",
    "root = delete(root, 50)\n",
    "print(preorder(root))"
   ]
  },
  {
   "cell_type": "markdown",
   "metadata": {},
   "source": [
    "## Search\n",
    "Search in binary tree is very simple which is the same as binary search."
   ]
  }
 ],
 "metadata": {
  "kernelspec": {
   "display_name": "base",
   "language": "python",
   "name": "python3"
  },
  "language_info": {
   "codemirror_mode": {
    "name": "ipython",
    "version": 3
   },
   "file_extension": ".py",
   "mimetype": "text/x-python",
   "name": "python",
   "nbconvert_exporter": "python",
   "pygments_lexer": "ipython3",
   "version": "3.9.13 (main, Aug 25 2022, 23:51:50) [MSC v.1916 64 bit (AMD64)]"
  },
  "orig_nbformat": 4,
  "vscode": {
   "interpreter": {
    "hash": "90719f7b22258a2d6ecf0c790deba7bc0adf8c63aef77a66bd3eb2b289913783"
   }
  }
 },
 "nbformat": 4,
 "nbformat_minor": 2
}
