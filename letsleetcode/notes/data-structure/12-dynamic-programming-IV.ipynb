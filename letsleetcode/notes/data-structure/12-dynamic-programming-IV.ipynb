{
 "cells": [
  {
   "cell_type": "markdown",
   "metadata": {},
   "source": [
    "# Dynamic Programming IV\n",
    "\n",
    "Strictly speaking, this section is not dynamic programming. \n"
   ]
  },
  {
   "cell_type": "markdown",
   "metadata": {},
   "source": [
    "## Intervals \n",
    "\n",
    "All intervals operation related problems such as interval merge, interval insert, interval delete, interval query, etc.\n",
    "\n",
    "Two techniques are typically used:\n",
    "1. sorting. we can sort the intervals by start or end, or sort the start increasingly and end decreasingly.\n",
    "2. draw the intervals to visualize the problem\n",
    "\n",
    "\n",
    "### Delete Interval\n",
    "\n",
    "- [1288](../../leetcode/solutions/1288-remove-covered-intervals.ipynb)\n",
    "\n",
    "\n",
    "### Merge Interval\n",
    "- [0056](../../leetcode/solutions/0056-merge-interval.ipynb)\n",
    "\n",
    "\n",
    "### Intersection of Interval\n",
    "- [0986]"
   ]
  },
  {
   "cell_type": "markdown",
   "metadata": {},
   "source": [
    "\n",
    "## Non-overlapping Intervals \n",
    "\n"
   ]
  },
  {
   "cell_type": "markdown",
   "metadata": {},
   "source": [
    "## Meeting Rooms"
   ]
  },
  {
   "cell_type": "markdown",
   "metadata": {},
   "source": [
    "## Video Stitching"
   ]
  }
 ],
 "metadata": {
  "language_info": {
   "name": "python"
  },
  "orig_nbformat": 4
 },
 "nbformat": 4,
 "nbformat_minor": 2
}
