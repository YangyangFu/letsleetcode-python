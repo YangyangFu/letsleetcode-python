{
 "cells": [
  {
   "cell_type": "markdown",
   "metadata": {},
   "source": [
    "# Big-O Complexity\n",
    "\n",
    "$O$ is known as the Big-Oh notion to comparatively analyze the time complexity of an algorithm.\n",
    "\n",
    "## Seven Functions\n",
    "\n",
    "$O(1)$: function with constant time complexity, which means the execution time of such a function is independent of its input sizes. \n",
    "An example in Python is the function `len(list)`.\n",
    "This is a very simple algorithm becausethelistclass maintains, for each list, an instance variable that records the currentlength of the list.  \n",
    "This allows it to immediately report that length, rather than taketime to iteratively count each of the elements in the list. \n",
    "Using asymptotic notation,we say that this function runs in $O(1)$ time. \n",
    "Another example is the indexing of a list in Python, such as `data[j]`.\n",
    "The indexing operation also has constant-time complexity.\n",
    "\n",
    "\n",
    "$O(logn)$: logarithm time \n",
    "\n",
    "\n",
    "$O(n)$: the time for the linear time algorithm to solve a problem linearly grows with the size of the problem. \n",
    "The following function `fun_max2` is used to find the maximum value from a given list. \n",
    "`L2` is an indexing operation and an assignment, and both operations are constant-time $O(1)$.\n",
    "`L3` is a for loop, which executes `n` times (`n` is the length of the given list), and needs $O(n)$ time during operation.\n",
    "Inside the loop, there is a comparison and a possible assignment operation, both of which require $O(1)$ time.\n",
    "Thus the whole loop requires $O(n)$ time.\n",
    "`L6` is a return operation, which needs $O(1)$ time.\n",
    "Therefore, in total, this complexity of this algorithm is $O(1)+O(n)*O(1)+O(1)$, which is $O(n)$.\n",
    "\n",
    "```python\n",
    "1   def find_max2(l):\n",
    "2       max_l = l[0]\n",
    "3       for element in l:\n",
    "4           if element>max_l:\n",
    "5                max_l = element\n",
    "6       return max_l\n",
    "```\n",
    "\n",
    "\n",
    "\n",
    "$O(nlogn)$: n-log-n time\n",
    "\n",
    "\n",
    "$O(n^2)$: quadratic time\n",
    "\n",
    "\n",
    "$O(n^3)$: cubic time\n",
    "\n",
    "\n",
    "$O(2^n)$: exponential time\n"
   ]
  },
  {
   "cell_type": "markdown",
   "metadata": {},
   "source": []
  }
 ],
 "metadata": {
  "language_info": {
   "name": "python"
  },
  "orig_nbformat": 4
 },
 "nbformat": 4,
 "nbformat_minor": 2
}
