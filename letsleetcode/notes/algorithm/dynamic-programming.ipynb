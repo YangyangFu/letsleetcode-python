{
 "cells": [
  {
   "attachments": {},
   "cell_type": "markdown",
   "metadata": {},
   "source": [
    "# Dynamic Programming\n"
   ]
  },
  {
   "attachments": {},
   "cell_type": "markdown",
   "metadata": {},
   "source": [
    "## Fibonacci Number\n",
    "\n",
    "Fibonacci number uses recursion to solve the subproblem first and then get to its original problem. Strictly speaking, this is not dynamic programming because no maximum/minimum problem is involved. But the idea is very similar.\n",
    "\n",
    "\n",
    "\\begin{align}\n",
    "f(n+2) &= f(n+1) + f(n) \\\\\n",
    "f(1) &= 1 \\\\\n",
    "f(2) &= 1\n",
    "\\end{align}\n"
   ]
  },
  {
   "attachments": {},
   "cell_type": "markdown",
   "metadata": {},
   "source": [
    "Naive recursion is not efficient as its time complexity is $O(n^2)$."
   ]
  },
  {
   "cell_type": "code",
   "execution_count": 6,
   "metadata": {},
   "outputs": [
    {
     "name": "stdout",
     "output_type": "stream",
     "text": [
      "1\n",
      "1\n",
      "102334155\n"
     ]
    }
   ],
   "source": [
    "def fibonacci(n):\n",
    "    if n<=2:\n",
    "        return 1\n",
    "\n",
    "    return fibonacci(n-1) + fibonacci(n-2)\n",
    "\n",
    "# test\n",
    "print(fibonacci(1))\n",
    "print(fibonacci(2))\n",
    "# this will take about 18 seconds\n",
    "print(fibonacci(40))\n"
   ]
  },
  {
   "attachments": {},
   "cell_type": "markdown",
   "metadata": {},
   "source": [
    "When we draw the recursion tree, it is easy to find out the reason, which is that there are duplicated subproblems.\n",
    "\n",
    "For example, when calculating `f(20)`, we have to calculate `f(18)` and `f(19)`. To calculate `f(19)`, we have to calculate `f(18)` and `f(17)`. In this way, the subproblem `f(18)` has been calculated twice.\n",
    "The time complexity of the naive implementation is $O(n^2)$, because there are $n$ subproblems, and each subproblem requires $O(n)$ time.\n",
    "\n",
    "For **`duplicated subproblems`**, we can create a memo, which reduces the complexity to $O(n)$\n",
    "- once the subproblem is done, we save its results to the memo \n",
    "- once the subproblem is needed, we go to the memo first before solving it directly.\n"
   ]
  },
  {
   "cell_type": "code",
   "execution_count": 9,
   "metadata": {},
   "outputs": [
    {
     "name": "stdout",
     "output_type": "stream",
     "text": [
      "1\n",
      "1\n",
      "102334155\n"
     ]
    }
   ],
   "source": [
    "def fibonacci(n):\n",
    "    \n",
    "    # initialize a memo\n",
    "    memo = {}\n",
    "    memo[1] = 1\n",
    "    memo[2] = 1\n",
    "\n",
    "    # define a recursive helper function\n",
    "    def helper(n):\n",
    "        # if n is not in memo, then calculate it\n",
    "        if n not in memo:\n",
    "            memo[n] = helper(n-1) + helper(n-2)\n",
    "        # return the value of n from memo\n",
    "        return memo[n]\n",
    "    \n",
    "    return helper(n)\n",
    "\n",
    "# test\n",
    "print(fibonacci(1))\n",
    "print(fibonacci(2))\n",
    "# this now is super fast\n",
    "print(fibonacci(40))   \n"
   ]
  },
  {
   "attachments": {},
   "cell_type": "markdown",
   "metadata": {},
   "source": [
    "Another method is using **`dynamic programming (DP) table`**. The idea is same as the memo.\n",
    "\n",
    "**`DP Table`** calculates `f(n)` from bottom to top, or from the smallest subproblem to the originam subproblem.\n",
    "For example, to calculate `f(20)`, `DP` calculates `f(1), f(2), ..., f(20)` in sequence."
   ]
  },
  {
   "cell_type": "code",
   "execution_count": 10,
   "metadata": {},
   "outputs": [
    {
     "name": "stdout",
     "output_type": "stream",
     "text": [
      "1\n",
      "1\n",
      "102334155\n"
     ]
    }
   ],
   "source": [
    "def fibonacci(n):\n",
    "    # intialize a dp table\n",
    "    dp = {i: 0 for i in range(1, n+1)}\n",
    "    dp[1] = 1\n",
    "    dp[2] = 1\n",
    "\n",
    "    # solve subproblem from small to large\n",
    "    for i in range(3, n+1):\n",
    "        dp[i] = dp[i-1] + dp[i-2]\n",
    "    \n",
    "    return dp[n]\n",
    "\n",
    "# test\n",
    "print(fibonacci(1))\n",
    "print(fibonacci(2))\n",
    "# this now is super fast\n",
    "print(fibonacci(40))"
   ]
  },
  {
   "attachments": {},
   "cell_type": "markdown",
   "metadata": {},
   "source": [
    "we can keep optimize the above method as only two values in the table are used at a time. There is no need to store all of them.\n"
   ]
  },
  {
   "cell_type": "code",
   "execution_count": 11,
   "metadata": {},
   "outputs": [
    {
     "name": "stdout",
     "output_type": "stream",
     "text": [
      "1\n",
      "1\n",
      "102334155\n"
     ]
    }
   ],
   "source": [
    "def fibonacci(n):\n",
    "    dp_1 = 1\n",
    "    dp_2 = 1\n",
    "\n",
    "    for i in range(3, n+1):\n",
    "        dp_1, dp_2 = dp_1 + dp_2, dp_1\n",
    "    \n",
    "    return dp_1\n",
    "\n",
    "# test\n",
    "print(fibonacci(1))\n",
    "print(fibonacci(2))\n",
    "# this now is super fast\n",
    "print(fibonacci(40))"
   ]
  },
  {
   "attachments": {},
   "cell_type": "markdown",
   "metadata": {},
   "source": [
    "## Coin Change\n",
    "\n",
    "You are given an integer array `coins` representing coins of different denominations and an integer `amount` representing a total amount of money.\n",
    "\n",
    "Return the fewest number of coins that you need to make up that amount. If that amount of money cannot be made up by any combination of the coins, return `-1`.\n",
    "\n",
    "You may assume that you have an infinite number of each kind of coin.\n",
    "\n",
    "Example 1:\n",
    "```\n",
    "Input: coins = [1,2,5], amount = 11\n",
    "Output: 3\n",
    "Explanation: 11 = 5 + 5 + 1\n",
    "```\n",
    "\n",
    "This could be treated as a DP problem, as each subproblem is independent."
   ]
  },
  {
   "attachments": {},
   "cell_type": "markdown",
   "metadata": {},
   "source": [
    "### Naive Recursion\n",
    "We can construct a recusion by recursively reducing the amount by the available coin in `coins`, which leads to a new `amount` as a subproblem. \n",
    "\n",
    "For a DP problem, we need:\n",
    "- **base case**: `amount` is 0, and if it's negative then the amount cannot be made up by any combinations of the `coins`.\n",
    "- **state, what will be changed in the origninal problem and its subproblem**: in this case, it is the `amount`\n",
    "- **choice, what are choices that lead to the state changes**: the selection of coins \n",
    "- **DP function/table definition**:\n",
    "  - from `top-to-down` recursion, we will use a `DP function`, which typically takes the state as an argument, and return what is required, such as the number of coins.\n",
    "  - from `bottom-to-up`, we will use a `DP table`, which serves as a memo to avoid duplicated calculations.\n",
    "\n",
    "\n",
    "The state change function can be:\n",
    "\n",
    "\\begin{align}\n",
    "  f(x) = \\begin{cases}\n",
    "              1 && x = 0 \\\\\n",
    "              -1 && x \\lt 0 \\\\\n",
    "              \\min \\{f(x - c) + 1| c \\in coins\\} && x > 0 \n",
    "              \\end{cases}\n",
    "\n",
    "\\end{align}"
   ]
  },
  {
   "cell_type": "code",
   "execution_count": 13,
   "metadata": {},
   "outputs": [
    {
     "name": "stdout",
     "output_type": "stream",
     "text": [
      "3\n",
      "-1\n",
      "0\n"
     ]
    }
   ],
   "source": [
    "def coinChange(coins, amount):\n",
    "\n",
    "    # dp function: get the minimum number of coins to make up amount\n",
    "    def dp(amount):\n",
    "        # if amount is 0, then return 0\n",
    "        if amount == 0:\n",
    "            return 0\n",
    "        # if amount is negative, then return -1\n",
    "        if amount < 0:\n",
    "            return -1\n",
    "        \n",
    "        min_coins = float('inf')\n",
    "        for coin in coins:\n",
    "            # subproblem: get the minimum number of coins to make up amount - coin\n",
    "            subproblem = dp(amount - coin)\n",
    "            # if subproblem is unsolvable (-1), then skip it\n",
    "            if subproblem == -1:\n",
    "                continue\n",
    "            # if subproblem is not -1, then update min_coins\n",
    "            min_coins = min(min_coins, subproblem + 1) \n",
    "        \n",
    "        return min_coins\n",
    "    \n",
    "    res = dp(amount)\n",
    "    return res if res != float('inf') else -1\n",
    "\n",
    "# test\n",
    "# 3\n",
    "print(coinChange([1,2,5], 11))\n",
    "# -1\n",
    "print(coinChange([2], 3))\n",
    "# 0\n",
    "print(coinChange([1], 0))"
   ]
  },
  {
   "attachments": {},
   "cell_type": "markdown",
   "metadata": {},
   "source": [
    "### Memoization\n",
    "\n",
    "Apparently, the above recursion has duplicated subproblems. We can use a memo to avoid duplicated calculations.\n"
   ]
  },
  {
   "cell_type": "code",
   "execution_count": 22,
   "metadata": {},
   "outputs": [
    {
     "name": "stdout",
     "output_type": "stream",
     "text": [
      "3\n",
      "-1\n",
      "0\n"
     ]
    }
   ],
   "source": [
    "def coinChange(coins, amount):\n",
    "    # initialize a memo to store the minimum number of coins to make up amount\n",
    "    memo = {}\n",
    "\n",
    "    # dp function: get the minimum number of coins to make up amount\n",
    "    def dp(amount):\n",
    "        # base cases\n",
    "        if amount == 0:\n",
    "            return 0\n",
    "        if amount < 0:\n",
    "            return -1\n",
    "\n",
    "        # \n",
    "        min_amount = float('inf')\n",
    "        # solve subproblems\n",
    "        for coin in coins:\n",
    "            # if amount - coin is not in memo, then calculate it and save it in memo\n",
    "            if amount - coin not in memo:\n",
    "                subproblem = dp(amount - coin)\n",
    "                memo[amount-coin] = subproblem\n",
    "            # if subproblem is unsolvable (-1), then skip it\n",
    "            if memo[amount-coin] == -1:\n",
    "                continue\n",
    "\n",
    "            # update min_amount - state transition\n",
    "            min_amount = min(min_amount, memo[amount-coin] + 1)\n",
    "\n",
    "        # return the min_coins that can make up amount   \n",
    "        memo[amount] = min_amount\n",
    "\n",
    "        return memo[amount]\n",
    "\n",
    "    res = dp(amount)\n",
    "    return res if res != float('inf') else -1 \n",
    "\n",
    "# test\n",
    "# 3\n",
    "print(coinChange([1,2,5], 11))\n",
    "# -1\n",
    "print(coinChange([2], 3))\n",
    "# 0\n",
    "print(coinChange([1], 0))     "
   ]
  },
  {
   "attachments": {},
   "cell_type": "markdown",
   "metadata": {},
   "source": [
    "### DP Tables\n",
    "\n",
    "We can use DP table to avoid duplicated calculations. The idea is same as the memo.\n"
   ]
  },
  {
   "cell_type": "code",
   "execution_count": 23,
   "metadata": {},
   "outputs": [
    {
     "name": "stdout",
     "output_type": "stream",
     "text": [
      "3\n",
      "-1\n",
      "0\n"
     ]
    }
   ],
   "source": [
    "def coinChange(coins, amount):\n",
    "    dp = {i: float('inf') for i in range(1, amount+1)}\n",
    "    dp[0] = 0\n",
    "\n",
    "    for i in range(1, amount+1):\n",
    "        for coin in coins:\n",
    "            if i - coin < 0:\n",
    "                continue\n",
    "            dp[i] = min(dp[i], dp[i-coin] + 1)\n",
    "    \n",
    "    return dp[amount] if dp[amount] != float('inf') else -1\n",
    "\n",
    "# test\n",
    "# 3\n",
    "print(coinChange([1,2,5], 11))\n",
    "# -1\n",
    "print(coinChange([2], 3))\n",
    "# 0\n",
    "print(coinChange([1], 0))     "
   ]
  }
 ],
 "metadata": {
  "kernelspec": {
   "display_name": "base",
   "language": "python",
   "name": "python3"
  },
  "language_info": {
   "codemirror_mode": {
    "name": "ipython",
    "version": 3
   },
   "file_extension": ".py",
   "mimetype": "text/x-python",
   "name": "python",
   "nbconvert_exporter": "python",
   "pygments_lexer": "ipython3",
   "version": "3.9.13"
  },
  "orig_nbformat": 4,
  "vscode": {
   "interpreter": {
    "hash": "90719f7b22258a2d6ecf0c790deba7bc0adf8c63aef77a66bd3eb2b289913783"
   }
  }
 },
 "nbformat": 4,
 "nbformat_minor": 2
}
