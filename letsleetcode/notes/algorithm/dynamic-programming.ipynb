{
 "cells": [
  {
   "attachments": {},
   "cell_type": "markdown",
   "metadata": {},
   "source": [
    "# Dynamic Programming\n"
   ]
  },
  {
   "attachments": {},
   "cell_type": "markdown",
   "metadata": {},
   "source": [
    "## Fibonacci Number\n",
    "\n",
    "Fibonacci number uses recursion to solve the subproblem first and then get to its original problem. Strictly speaking, this is not dynamic programming because no maximum/minimum problem is involved. But the idea is very similar.\n",
    "\n",
    "\n",
    "\\begin{align}\n",
    "f(n+2) &= f(n+1) + f(n) \\\\\n",
    "f(1) &= 1 \\\\\n",
    "f(2) &= 1\n",
    "\\end{align}\n"
   ]
  },
  {
   "attachments": {},
   "cell_type": "markdown",
   "metadata": {},
   "source": [
    "Naive recursion is not efficient as its time complexity is $O(n^2)$."
   ]
  },
  {
   "cell_type": "code",
   "execution_count": 6,
   "metadata": {},
   "outputs": [
    {
     "name": "stdout",
     "output_type": "stream",
     "text": [
      "1\n",
      "1\n",
      "102334155\n"
     ]
    }
   ],
   "source": [
    "def fibonacci(n):\n",
    "    if n<=2:\n",
    "        return 1\n",
    "\n",
    "    return fibonacci(n-1) + fibonacci(n-2)\n",
    "\n",
    "# test\n",
    "print(fibonacci(1))\n",
    "print(fibonacci(2))\n",
    "# this will take about 18 seconds\n",
    "print(fibonacci(40))\n"
   ]
  },
  {
   "attachments": {},
   "cell_type": "markdown",
   "metadata": {},
   "source": [
    "When we draw the recursion tree, it is easy to find out the reason, which is that there are duplicated subproblems.\n",
    "\n",
    "For example, when calculating `f(20)`, we have to calculate `f(18)` and `f(19)`. To calculate `f(19)`, we have to calculate `f(18)` and `f(17)`. In this way, the subproblem `f(18)` has been calculated twice.\n",
    "The time complexity of the naive implementation is $O(n^2)$, because there are $n$ subproblems, and each subproblem requires $O(n)$ time.\n",
    "\n",
    "For **`duplicated subproblems`**, we can create a memo, which reduces the complexity to $O(n)$\n",
    "- once the subproblem is done, we save its results to the memo \n",
    "- once the subproblem is needed, we go to the memo first before solving it directly.\n"
   ]
  },
  {
   "cell_type": "code",
   "execution_count": 9,
   "metadata": {},
   "outputs": [
    {
     "name": "stdout",
     "output_type": "stream",
     "text": [
      "1\n",
      "1\n",
      "102334155\n"
     ]
    }
   ],
   "source": [
    "def fibonacci(n):\n",
    "    \n",
    "    # initialize a memo\n",
    "    memo = {}\n",
    "    memo[1] = 1\n",
    "    memo[2] = 1\n",
    "\n",
    "    # define a recursive helper function\n",
    "    def helper(n):\n",
    "        # if n is not in memo, then calculate it\n",
    "        if n not in memo:\n",
    "            memo[n] = helper(n-1) + helper(n-2)\n",
    "        # return the value of n from memo\n",
    "        return memo[n]\n",
    "    \n",
    "    return helper(n)\n",
    "\n",
    "# test\n",
    "print(fibonacci(1))\n",
    "print(fibonacci(2))\n",
    "# this now is super fast\n",
    "print(fibonacci(40))   \n"
   ]
  },
  {
   "attachments": {},
   "cell_type": "markdown",
   "metadata": {},
   "source": [
    "Another method is using **`dynamic programming (DP) table`**. The idea is same as the memo.\n",
    "\n",
    "**`DP Table`** calculates `f(n)` from bottom to top, or from the smallest subproblem to the originam subproblem.\n",
    "For example, to calculate `f(20)`, `DP` calculates `f(1), f(2), ..., f(20)` in sequence."
   ]
  },
  {
   "cell_type": "code",
   "execution_count": 10,
   "metadata": {},
   "outputs": [
    {
     "name": "stdout",
     "output_type": "stream",
     "text": [
      "1\n",
      "1\n",
      "102334155\n"
     ]
    }
   ],
   "source": [
    "def fibonacci(n):\n",
    "    # intialize a dp table\n",
    "    dp = {i: 0 for i in range(1, n+1)}\n",
    "    dp[1] = 1\n",
    "    dp[2] = 1\n",
    "\n",
    "    # solve subproblem from small to large\n",
    "    for i in range(3, n+1):\n",
    "        dp[i] = dp[i-1] + dp[i-2]\n",
    "    \n",
    "    return dp[n]\n",
    "\n",
    "# test\n",
    "print(fibonacci(1))\n",
    "print(fibonacci(2))\n",
    "# this now is super fast\n",
    "print(fibonacci(40))"
   ]
  },
  {
   "attachments": {},
   "cell_type": "markdown",
   "metadata": {},
   "source": [
    "we can keep optimize the above method as only two values in the table are used at a time. There is no need to store all of them.\n"
   ]
  },
  {
   "cell_type": "code",
   "execution_count": 11,
   "metadata": {},
   "outputs": [
    {
     "name": "stdout",
     "output_type": "stream",
     "text": [
      "1\n",
      "1\n",
      "102334155\n"
     ]
    }
   ],
   "source": [
    "def fibonacci(n):\n",
    "    dp_1 = 1\n",
    "    dp_2 = 1\n",
    "\n",
    "    for i in range(3, n+1):\n",
    "        dp_1, dp_2 = dp_1 + dp_2, dp_1\n",
    "    \n",
    "    return dp_1\n",
    "\n",
    "# test\n",
    "print(fibonacci(1))\n",
    "print(fibonacci(2))\n",
    "# this now is super fast\n",
    "print(fibonacci(40))"
   ]
  },
  {
   "attachments": {},
   "cell_type": "markdown",
   "metadata": {},
   "source": [
    "## Coin Change\n",
    "\n",
    "You are given an integer array `coins` representing coins of different denominations and an integer `amount` representing a total amount of money.\n",
    "\n",
    "Return the fewest number of coins that you need to make up that amount. If that amount of money cannot be made up by any combination of the coins, return `-1`.\n",
    "\n",
    "You may assume that you have an infinite number of each kind of coin.\n",
    "\n",
    "Example 1:\n",
    "```\n",
    "Input: coins = [1,2,5], amount = 11\n",
    "Output: 3\n",
    "Explanation: 11 = 5 + 5 + 1\n",
    "```\n",
    "\n",
    "This could be treated as a DP problem, as each subproblem is independent."
   ]
  },
  {
   "attachments": {},
   "cell_type": "markdown",
   "metadata": {},
   "source": [
    "### Naive Recursion\n",
    "We can construct a recusion by recursively reducing the amount by the available coin in `coins`, which leads to a new `amount` as a subproblem. \n",
    "\n",
    "For a DP problem, we need:\n",
    "- **base case**: `amount` is 0, and if it's negative then the amount cannot be made up by any combinations of the `coins`.\n",
    "- **state, what will be changed in the origninal problem and its subproblem**: in this case, it is the `amount`\n",
    "- **choice, what are choices that lead to the state changes**: the selection of coins \n",
    "- **DP function/table definition**:\n",
    "  - from `top-to-down` recursion, we will use a `DP function`, which typically takes the state as an argument, and return what is required, such as the number of coins.\n",
    "  - from `bottom-to-up`, we will use a `DP table`, which serves as a memo to avoid duplicated calculations.\n",
    "\n",
    "\n",
    "The state change function can be:\n",
    "\n",
    "\\begin{align}\n",
    "  f(x) = \\begin{cases}\n",
    "              1 && x = 0 \\\\\n",
    "              -1 && x \\lt 0 \\\\\n",
    "              \\min \\{f(x - c) + 1| c \\in coins\\} && x > 0 \n",
    "              \\end{cases}\n",
    "\n",
    "\\end{align}"
   ]
  },
  {
   "cell_type": "code",
   "execution_count": 6,
   "metadata": {},
   "outputs": [
    {
     "name": "stdout",
     "output_type": "stream",
     "text": [
      "3\n",
      "-1\n",
      "0\n",
      "6\n"
     ]
    }
   ],
   "source": [
    "def coinChange(coins, amount):\n",
    "\n",
    "    # dp function: get the minimum number of coins to make up amount\n",
    "    def dp(amount):\n",
    "        # if amount is 0, then return 0\n",
    "        if amount == 0:\n",
    "            return 0\n",
    "        # if amount is negative, then return -1\n",
    "        if amount < 0:\n",
    "            return -1\n",
    "        \n",
    "        min_coins = float('inf')\n",
    "        for coin in coins:\n",
    "            # subproblem: get the minimum number of coins to make up amount - coin\n",
    "            subproblem = dp(amount - coin)\n",
    "            # if subproblem is unsolvable (-1), then skip it\n",
    "            if subproblem == -1:\n",
    "                continue\n",
    "            # if subproblem is not -1, then update min_coins\n",
    "            min_coins = min(min_coins, subproblem + 1) \n",
    "        \n",
    "        return min_coins\n",
    "    \n",
    "    res = dp(amount)\n",
    "    return res if res != float('inf') else -1\n",
    "\n",
    "# test\n",
    "# 3\n",
    "print(coinChange([1,2,5], 11))\n",
    "# -1\n",
    "print(coinChange([2], 3))\n",
    "# 0\n",
    "print(coinChange([1], 0))\n",
    "# this test will take a long time\n",
    "# 6\n",
    "print(coinChange([1,2,5], 30))"
   ]
  },
  {
   "attachments": {},
   "cell_type": "markdown",
   "metadata": {},
   "source": [
    "### Memoization\n",
    "\n",
    "Apparently, the above recursion has duplicated subproblems. We can use a memo to avoid duplicated calculations.\n"
   ]
  },
  {
   "cell_type": "code",
   "execution_count": 1,
   "metadata": {},
   "outputs": [
    {
     "name": "stdout",
     "output_type": "stream",
     "text": [
      "3\n",
      "-1\n",
      "0\n",
      "20\n"
     ]
    }
   ],
   "source": [
    "def coinChange(coins, amount):\n",
    "    # initialize a memo to store the minimum number of coins to make up amount\n",
    "    memo = {}\n",
    "\n",
    "    # dp function: get the minimum number of coins to make up amount\n",
    "    def dp(amount):\n",
    "        # base cases\n",
    "        if amount == 0:\n",
    "            return 0\n",
    "        if amount < 0:\n",
    "            return -1\n",
    "\n",
    "        # \n",
    "        min_amount = float('inf')\n",
    "        # solve subproblems\n",
    "        for coin in coins:\n",
    "            # if amount - coin is not in memo, then calculate it and save it in memo\n",
    "            if amount - coin not in memo:\n",
    "                subproblem = dp(amount - coin)\n",
    "                memo[amount-coin] = subproblem\n",
    "            # if subproblem is unsolvable (-1), then skip it\n",
    "            if memo[amount-coin] == -1:\n",
    "                continue\n",
    "\n",
    "            # update min_amount - state transition\n",
    "            min_amount = min(min_amount, memo[amount-coin] + 1)\n",
    "\n",
    "        # return the min_coins that can make up amount   \n",
    "        memo[amount] = min_amount\n",
    "\n",
    "        return memo[amount]\n",
    "\n",
    "    res = dp(amount)\n",
    "    return res if res != float('inf') else -1 \n",
    "\n",
    "# test\n",
    "# 3\n",
    "print(coinChange([1,2,5], 11))\n",
    "# -1\n",
    "print(coinChange([2], 3))\n",
    "# 0\n",
    "print(coinChange([1], 0))     \n",
    "# 20\n",
    "print(coinChange([1,2,5], 100))"
   ]
  },
  {
   "attachments": {},
   "cell_type": "markdown",
   "metadata": {},
   "source": [
    "### DP Tables\n",
    "\n",
    "We can use DP table to avoid duplicated calculations. The idea is same as the memo.\n"
   ]
  },
  {
   "cell_type": "code",
   "execution_count": 7,
   "metadata": {},
   "outputs": [
    {
     "name": "stdout",
     "output_type": "stream",
     "text": [
      "3\n",
      "-1\n",
      "0\n",
      "20\n"
     ]
    }
   ],
   "source": [
    "def coinChange(coins, amount):\n",
    "    dp = {i: float('inf') for i in range(1, amount+1)}\n",
    "    dp[0] = 0\n",
    "\n",
    "    for i in range(1, amount+1):\n",
    "        for coin in coins:\n",
    "            if i - coin < 0:\n",
    "                continue\n",
    "            dp[i] = min(dp[i], dp[i-coin] + 1)\n",
    "    \n",
    "    return dp[amount] if dp[amount] != float('inf') else -1\n",
    "\n",
    "# test\n",
    "# 3\n",
    "print(coinChange([1,2,5], 11))\n",
    "# -1\n",
    "print(coinChange([2], 3))\n",
    "# 0\n",
    "print(coinChange([1], 0))\n",
    "# 20\n",
    "print(coinChange([1,2,5], 100))"
   ]
  },
  {
   "attachments": {},
   "cell_type": "markdown",
   "metadata": {},
   "source": [
    "## Longest Increasing Subsequence\n",
    "\n",
    "Find the longest increasing subsequence in a given sequence. For example, for `nums = [10, 9, 2, 5, 3, 7, 101, 18]`, the output is 4 because the longest subsequence is `[2, 3, 7, 101]`."
   ]
  },
  {
   "attachments": {},
   "cell_type": "markdown",
   "metadata": {},
   "source": [
    "### DP Table\n",
    "\n",
    "we divide the problem as:\n",
    "- for i in range(n):\n",
    "  - `dp[i]` is the number of the longest subsequence in `nums[i:]`\n",
    "  - to calculate `dp[0]`, we need `dp[1], ...., dp[n-1]`.\n",
    "  - state transition: `dp[i] = dp[i+1] if nums[i] >= min(nums[i+1:] else dp[i+1] + 1`\n",
    "- **`base case`**: when `i = n - 1`, dp[i] = 1\n",
    "- **`choice`**: the choice that lead to subproblem for this problem is pretty simple by moving the pointer `i` forward\n",
    "- **`state`**: the length of the longest subsequence\n",
    "- **`state transition`**: \n",
    "  - if nums[i] < min(num[i+1:])\n",
    "    - `dp[i] = dp[i+1] + 1`\n",
    "  - else:\n",
    "    - `dp[i] = dp[i+1]`\n",
    "\n",
    "**This solution is not correct**:\n",
    "\n",
    "`nums = [1, 4, 3, 4, 2]` -> `dp = [2, 1, 1, 1, 1]` but the actual `dp = [3, 2, 2, 1, 1]`.\n",
    "\n",
    "\n",
    "**`Revisions`**\n",
    "- for i in range(n):\n",
    "  - `dp[i]` is the number of the longest subsequence in `nums[:i+1]`, which also ends with `nums[i]`\n",
    "  - to calculate `dp[i]`, we need `dp[i-1], ..., dp[0]`\n",
    "  - state transition `dp[i] = max(dp[j] + 1 for j in J such that nums[J] < nums[i])`\n",
    "- **`base case`**: `dp[0] = 1`\n",
    "- **`choice`**: the choice that lead to subproblem for this problem is pretty simple by moving the pointer `i` forward\n",
    "- **`state`**: dp[i] is the length of the longest subsequence that ends with `nums[i]`\n",
    "- **`state transition`**:\n",
    "  - for j in J such that nums[J] < nums[i] and J < i:\n",
    "    - dp[i] = max(dp[i], dp[j]+1))\n",
    "\n",
    "***========================**\n",
    "\n",
    "**`Note`**\n",
    "- the time complexity is $O(n^2)$"
   ]
  },
  {
   "cell_type": "code",
   "execution_count": 12,
   "metadata": {},
   "outputs": [
    {
     "name": "stdout",
     "output_type": "stream",
     "text": [
      "4\n",
      "1\n",
      "0\n"
     ]
    }
   ],
   "source": [
    "def longestIncreasingSubsequence(nums):\n",
    "    if not nums:\n",
    "        return 0\n",
    "\n",
    "    # initialize a dp table\n",
    "    dp = [1 for i in range(len(nums))]\n",
    "\n",
    "    # solve subproblem from small to large\n",
    "    for i in range(1, len(nums)):\n",
    "        # find index j that nums[j] < nums[i]\n",
    "        for j in range(i):\n",
    "            if nums[j] < nums[i]:\n",
    "                dp[i] = max(dp[i], dp[j]+1)\n",
    "    # return the max value in dp table\n",
    "    return max(dp)\n",
    "\n",
    "# test\n",
    "# 4\n",
    "print(longestIncreasingSubsequence([10,9,2,5,3,7,101,18]))\n",
    "# 1\n",
    "print(longestIncreasingSubsequence([7,7,7,7,7,7,7]))\n",
    "# 0\n",
    "print(longestIncreasingSubsequence([]))"
   ]
  },
  {
   "attachments": {},
   "cell_type": "markdown",
   "metadata": {},
   "source": [
    "## Russian Doll Envelopes\n",
    "\n",
    "Leetcode 0354\n",
    "\n",
    "- sort ascendingly the envelope by width\n",
    "- solve a longest subsequence problem "
   ]
  },
  {
   "attachments": {},
   "cell_type": "markdown",
   "metadata": {},
   "source": [
    "### DP Function"
   ]
  },
  {
   "attachments": {},
   "cell_type": "markdown",
   "metadata": {},
   "source": [
    "### DP Function with Memo"
   ]
  },
  {
   "attachments": {},
   "cell_type": "markdown",
   "metadata": {},
   "source": [
    "### DP Table"
   ]
  },
  {
   "cell_type": "code",
   "execution_count": 13,
   "metadata": {},
   "outputs": [
    {
     "name": "stdout",
     "output_type": "stream",
     "text": [
      "3\n"
     ]
    }
   ],
   "source": [
    "def dollEnvelopes(envelopes):\n",
    "    if not envelopes:\n",
    "        return 0\n",
    "\n",
    "    # sort the envelopes by width and height\n",
    "    envelopes.sort(key=lambda x: (x[0], x[1]))\n",
    "\n",
    "    # initialize a dp table that stores the max number of dolls that can be put into the ith envelope\n",
    "    dp = [1 for i in range(len(envelopes))]\n",
    "\n",
    "    # solve subproblem from small to large\n",
    "    for i in range(1, len(envelopes)):\n",
    "        # find index j that envelopes[j] < envelopes[i]\n",
    "        for j in range(i):\n",
    "            if envelopes[j][0] < envelopes[i][0] and envelopes[j][1] < envelopes[i][1]:\n",
    "                dp[i] = max(dp[i], dp[j]+1)\n",
    "    # return the max value in dp table\n",
    "    return max(dp)\n",
    "\n",
    "# test\n",
    "# 3\n",
    "print(dollEnvelopes([[5,4],[6,4],[6,7],[2,3]]))"
   ]
  },
  {
   "attachments": {},
   "cell_type": "markdown",
   "metadata": {},
   "source": [
    "## Edit Distance\n",
    "\n",
    "See Leetcode 0072\n",
    "\n",
    "Given two strings `word1` and `word2`, return the `minimum` number of operations required to convert `word1` to `word2`.\n",
    "\n",
    "You have the following three operations permitted on a word:\n",
    "- Insert a character\n",
    "- Delete a character\n",
    "- Replace a character\n",
    "\n",
    "Example 1:\n",
    "```\n",
    "Input: word1 = \"horse\", word2 = \"ros\"\n",
    "Output: 3\n",
    "Explanation: \n",
    "horse -> rorse (replace 'h' with 'r')\n",
    "rorse -> rose (remove 'r')\n",
    "rose -> ros (remove 'e')\n",
    "```\n",
    "\n",
    "\n",
    "**`Why is this a DP problem?`**\n",
    "- for two words, we usually need two pointers\n",
    "- finding the minimum edit distance between `word1[:i+1]` and `word2[:j+1]` can be converted to find the minimum edit distance between `word1[:i]` and `word[:j]` \n",
    "  - `e(i+1, j+1) = e(i, j) + de`\n",
    "  - `de`: the edit distance to make `word1[i+1]` and `word2[j+1]` the same\n",
    "    - `de = 1` if `word1[i+1] != word2[j]`\n",
    "      - insert\n",
    "      - replace\n",
    "      - delete\n",
    "    - `de = 0` if `word1[i+1] = word2[j]`\n",
    "\n",
    "operate from end to the start\n",
    "- **`base`**: pointer `i` or pointer `j` is done traversing, insert/delete the rest characters\n",
    "  - if `i < 0`: `i` is done, and insert the untraversed charecters in `word2` indexing from `0 to j` to `word1`\n",
    "  - if `j < 0`: `j` is done, delete the unvisited characters in `word1`\n",
    "- **`choice`**: different choices lead to different subproblems\n",
    "  - insert\n",
    "  - delete\n",
    "  - replace\n",
    "  - skip\n",
    "- **`state`**: the minimum number of edits based on current choice\n",
    "- **`state transition`**: \n",
    "\n"
   ]
  },
  {
   "attachments": {},
   "cell_type": "markdown",
   "metadata": {},
   "source": [
    "### DP Function"
   ]
  },
  {
   "cell_type": "code",
   "execution_count": 19,
   "metadata": {},
   "outputs": [
    {
     "name": "stdout",
     "output_type": "stream",
     "text": [
      "3\n",
      "5\n",
      "10\n"
     ]
    }
   ],
   "source": [
    "# DP function\n",
    "def minDistance(word1, word2):\n",
    "\n",
    "    # dp function: get the minimum number of operations to convert word1[:i] to word2[:j]\n",
    "    def dp(i, j):\n",
    "        # base cases\n",
    "        if i == -1:\n",
    "            return j+1\n",
    "        if j == -1:\n",
    "            return i+1\n",
    "        \n",
    "        # if the last characters of word1 and word2 are the same, then no operation is needed -> choose \"skip\"\n",
    "        if word1[i] == word2[j]:\n",
    "            return dp(i-1, j-1)\n",
    "        # if the last characters of word1 and word2 are different, then we need to do 1 operation -> choose \"insert\", \"delete\" or \"replace\"\n",
    "        # how to choose the operation? -> choose the operation that has the minimum number of operations\n",
    "        else:\n",
    "            return min(dp(i, j-1) + 1, # insert\n",
    "                       dp(i-1, j) + 1, # delete\n",
    "                       dp(i-1, j-1) + 1) # replace\n",
    "    \n",
    "    return dp(len(word1)-1, len(word2)-1)\n",
    "    \n",
    "# test\n",
    "# 3\n",
    "print(minDistance(\"horse\", \"ros\"))\n",
    "# 5\n",
    "print(minDistance(\"intention\", \"execution\"))\n"
   ]
  },
  {
   "attachments": {},
   "cell_type": "markdown",
   "metadata": {},
   "source": [
    "### DP Function with Memo\n",
    "\n",
    "Add a memo to avoid duplicated subproblems."
   ]
  },
  {
   "cell_type": "code",
   "execution_count": 23,
   "metadata": {},
   "outputs": [
    {
     "name": "stdout",
     "output_type": "stream",
     "text": [
      "3\n",
      "5\n",
      "10\n"
     ]
    }
   ],
   "source": [
    "# DP function\n",
    "def minDistance(word1, word2):\n",
    "    # initialize a memo to store the minimum number of operations to convert word1[:i] to word2[:j]\n",
    "    memo = {}\n",
    "\n",
    "    # dp function: get the minimum number of operations to convert word1[:i] to word2[:j]\n",
    "    def dp(i, j):\n",
    "        # base cases\n",
    "        if i == -1:\n",
    "            return j+1\n",
    "        if j == -1:\n",
    "            return i+1\n",
    "        # if the subproblem is already solved, then return the result from memo    \n",
    "        if (i, j) in memo:\n",
    "            return memo[(i, j)]\n",
    "\n",
    "        # save to memo if not solved\n",
    "        # if the last characters of word1 and word2 are the same, then no operation is needed -> choose \"skip\"\n",
    "        if word1[i] == word2[j]:\n",
    "            memo[(i, j)] = dp(i-1, j-1)\n",
    "        # if the last characters of word1 and word2 are different, then we need to do 1 operation -> choose \"insert\", \"delete\" or \"replace\"\n",
    "        # how to choose the operation? -> choose the operation that has the minimum number of operations\n",
    "        else:\n",
    "            memo[(i, j)] = min(dp(i, j-1) + 1, # insert\n",
    "                       dp(i-1, j) + 1, # delete\n",
    "                       dp(i-1, j-1) + 1) # replace\n",
    "        \n",
    "        return memo[(i, j)]\n",
    "\n",
    "    return dp(len(word1)-1, len(word2)-1)\n",
    "    \n",
    "# test\n",
    "# 3\n",
    "print(minDistance(\"horse\", \"ros\"))\n",
    "# 5\n",
    "print(minDistance(\"intention\", \"execution\"))\n",
    "# 10\n",
    "print(minDistance(\"zoologicoarchaeologist\", \"zoogeologist\"))"
   ]
  },
  {
   "attachments": {},
   "cell_type": "markdown",
   "metadata": {},
   "source": [
    "### DP Table\n",
    "\n",
    "Recursive solution with DP table. \n",
    "\n",
    "In DP function, the base case is `i, j = -1`. But for a table, `dp` has to start from index `i, j = 0`, therefore, `dp[0][0]` will represent the value `dp(-1, -1)`. Thus `dp[i][j]` should be be the same as `dp(i-1, j-1)`, which stores the minimum edit distance between `word1[:i]` and `word2[:j]`."
   ]
  },
  {
   "cell_type": "code",
   "execution_count": 4,
   "metadata": {},
   "outputs": [
    {
     "name": "stdout",
     "output_type": "stream",
     "text": [
      "3\n",
      "5\n",
      "10\n"
     ]
    }
   ],
   "source": [
    "def minDistance(word1, word2):\n",
    "    # define a dp table: dp[i][j] represents the minimum number of operations to convert word1[:i] to word2[:j]\n",
    "    m, n = len(word1), len(word2)\n",
    "    dp = [[0 for j in range(n+1)] for i in range(m+1)]\n",
    "    \n",
    "    for i in range(m+1):\n",
    "        for j in range(n+1):\n",
    "            # base cases\n",
    "            if i == 0:\n",
    "                dp[i][j] = j\n",
    "            elif j == 0:\n",
    "                dp[i][j] = i\n",
    "            # normal cases \n",
    "            else:\n",
    "                # if the last characters of word1 and word2 are the same, then no operation is needed -> choose \"skip\"\n",
    "                if word1[i-1] == word2[j-1]:\n",
    "                    dp[i][j] = dp[i-1][j-1]\n",
    "                # if the last characters of word1 and word2 are different, then we need to do 1 operation -> choose \"insert\", \"delete\" or \"replace\"\n",
    "                else:\n",
    "                    dp[i][j] = min(dp[i-1][j], dp[i][j-1], dp[i-1][j-1])+1\n",
    "    \n",
    "    return dp[m][n]\n",
    "\n",
    "# test\n",
    "# 3\n",
    "print(minDistance(\"horse\", \"ros\"))\n",
    "# 5\n",
    "print(minDistance(\"intention\", \"execution\"))\n",
    "# 10\n",
    "print(minDistance(\"zoologicoarchaeologist\", \"zoogeologist\"))"
   ]
  },
  {
   "attachments": {},
   "cell_type": "markdown",
   "metadata": {},
   "source": [
    "**`Think about how to perform the edit?`**\n",
    "\n",
    "In the above, we only know the minimum steps we need to perform, but what choices are used for each step and the order are not saved.\n"
   ]
  },
  {
   "attachments": {},
   "cell_type": "markdown",
   "metadata": {},
   "source": [
    "## Longest Common Subsequence\n",
    "\n",
    "Leetcode\n",
    "\n",
    "- 1143\n",
    "- 0583\n",
    "- 0712\n",
    "- 2207\n",
    "- 1092\n",
    "\n",
    "Given two strings text1 and text2, return the length of their longest common subsequence. If there is no common subsequence, return 0.\n",
    "\n",
    "Example 1:\n",
    "```\n",
    "Input: text1 = \"abcde\", text2 = \"ace\" \n",
    "Output: 3  \n",
    "Explanation: The longest common subsequence is \"ace\" and its length is 3.\n",
    "```\n"
   ]
  },
  {
   "attachments": {},
   "cell_type": "markdown",
   "metadata": {},
   "source": [
    "### DP Function"
   ]
  },
  {
   "cell_type": "code",
   "execution_count": 2,
   "metadata": {},
   "outputs": [
    {
     "name": "stdout",
     "output_type": "stream",
     "text": [
      "3\n",
      "3\n",
      "0\n"
     ]
    }
   ],
   "source": [
    "def longestCommonSubsequence(text1, text2):\n",
    "    m, n = len(text1), len(text2)\n",
    "\n",
    "    # define a dp function\n",
    "    def dp(i, j):\n",
    "        # base cases\n",
    "        if i == -1 or j == -1:\n",
    "            return 0\n",
    "        \n",
    "        # if the last characters of text1 and text2 are the same, then we can add 1 to the result of dp(i-1, j-1)\n",
    "        if text1[i] == text2[j]:\n",
    "            return dp(i-1, j-1) + 1\n",
    "        # if the last characters of text1 and text2 are different, then we need to choose the maximum result of dp(i-1, j) and dp(i, j-1)\n",
    "        else:\n",
    "            return max(dp(i-1, j), dp(i, j-1))\n",
    "\n",
    "    return dp(m-1, n-1)\n",
    "\n",
    "# test\n",
    "# 3\n",
    "print(longestCommonSubsequence(\"abcde\", \"ace\"))\n",
    "\n",
    "# 3\n",
    "print(longestCommonSubsequence(\"abc\", \"abc\"))\n",
    "\n",
    "# 0\n",
    "print(longestCommonSubsequence(\"abc\", \"def\"))\n"
   ]
  },
  {
   "attachments": {},
   "cell_type": "markdown",
   "metadata": {},
   "source": [
    "### DP Function with Memo"
   ]
  },
  {
   "cell_type": "code",
   "execution_count": 5,
   "metadata": {},
   "outputs": [
    {
     "name": "stdout",
     "output_type": "stream",
     "text": [
      "3\n",
      "3\n",
      "0\n"
     ]
    }
   ],
   "source": [
    "def longestCommonSubsequence(text1, text2):\n",
    "    memo = {}\n",
    "\n",
    "    # dp function returns the longest common subsequence of text1[:i+1] and text2[:j+1]\n",
    "    def dp(i, j):\n",
    "        if i == -1 or j == -1:\n",
    "            memo[(i,j)] = 0\n",
    "        \n",
    "        if (i,j) in memo:\n",
    "            return memo[(i,j)]\n",
    "        \n",
    "        if text1[i] == text2[j]:\n",
    "            memo[(i,j)] = dp(i-1, j-1) + 1\n",
    "        else:\n",
    "            memo[(i,j)] = max(dp(i-1, j), dp(i, j-1))\n",
    "\n",
    "        return memo[(i,j)]\n",
    "\n",
    "    return dp(len(text1)-1, len(text2)-1)\n",
    "    \n",
    "# test\n",
    "# 3\n",
    "print(longestCommonSubsequence(\"abcde\", \"ace\"))\n",
    "\n",
    "# 3\n",
    "print(longestCommonSubsequence(\"abc\", \"abc\"))\n",
    "\n",
    "# 0\n",
    "print(longestCommonSubsequence(\"abc\", \"def\"))\n"
   ]
  },
  {
   "attachments": {},
   "cell_type": "markdown",
   "metadata": {},
   "source": [
    "### DP Table\n",
    "DP table has a size of (m+1, n+1).\n",
    "\n",
    "Therefore, `dp[i][j]` stores the longest common subsequences for `text1[:i]` and `text2[:j]`"
   ]
  },
  {
   "cell_type": "code",
   "execution_count": 6,
   "metadata": {},
   "outputs": [
    {
     "name": "stdout",
     "output_type": "stream",
     "text": [
      "3\n",
      "3\n",
      "0\n"
     ]
    }
   ],
   "source": [
    "\n",
    "def longestCommonSubsequence(text1, text2):\n",
    "    # initialize a dp table that stores the longest common subsequence of text1[:i] and text2[:j]\n",
    "    m, n = len(text1), len(text2)\n",
    "    dp = [[0 for j in range(n+1)] for i in range(m+1)]\n",
    "\n",
    "    for i in range(m+1):\n",
    "        for j in range(n+1):\n",
    "            if i == 0 or j == 0:\n",
    "                dp[i][j] = 0\n",
    "            elif text1[i-1] == text2[j-1]:\n",
    "                dp[i][j] = dp[i-1][j-1] + 1\n",
    "            else:\n",
    "                dp[i][j] = max(dp[i-1][j], dp[i][j-1])\n",
    "    return dp[m][n]\n",
    "\n",
    "# test\n",
    "# 3\n",
    "print(longestCommonSubsequence(\"abcde\", \"ace\"))\n",
    "\n",
    "# 3\n",
    "print(longestCommonSubsequence(\"abc\", \"abc\"))\n",
    "\n",
    "# 0\n",
    "print(longestCommonSubsequence(\"abc\", \"def\"))\n",
    "    \n",
    "    "
   ]
  },
  {
   "attachments": {},
   "cell_type": "markdown",
   "metadata": {},
   "source": [
    "## 0-1 N-Pack Problem\n",
    "\n",
    "Assume we have N items and a bag that can only hold W weight of items. `vi = [v0, v1, ...]` and `wi = [w0, w1, ...]` are the value and weight for each item.\n",
    "Output the maximum value of the items that can be put into the bag.\n",
    "\n",
    "\n",
    "Leetcode\n",
    "\n",
    "- https://www.acwing.com/problem/content/2/\n",
    "- 0416\n",
    "- 0494\n",
    "- 0474\n",
    "- 1049\n",
    "\n",
    "**Analysis**\n",
    "This is actaully a integer linear programming problem, which can be solved using dynamic programming if the problem is simple.\n",
    "\n",
    "DP problem: the maximum value of the bag for storing the first `i` items is related to a subproblem, which is the maximum value of the bag for storing the first `i-1` items.\n",
    "\n",
    "- state input: weights of the bag, and the selectable items\n",
    "- state: maximum value for current state inputs\n",
    "- base case: weight is 0 and no selectable items\n",
    "- choices: put item `i` in the bag or not\n",
    "- state transition:\n",
    "  - if we cannot put item `i` in the bag: -> `wi > w`\n",
    "    - `dp[i][w] = dp[i-1][w]` -> the bag with weight `w` has been filled already with the `0,.., i-1` items, therefore, \n",
    "  - else we can:\n",
    "    - `dp[i][w]` = max of the choices\n",
    "      - do not put: `dp[i][w] = dp[i-1][w]`\n",
    "      - put: `dp[i-1, j]-wv[i][0]) + wv[i][1]` -> put item i into bag so that the weight makes up to the desired weight\n",
    "\n"
   ]
  },
  {
   "attachments": {},
   "cell_type": "markdown",
   "metadata": {},
   "source": [
    "### DP Function"
   ]
  },
  {
   "cell_type": "code",
   "execution_count": 5,
   "metadata": {},
   "outputs": [
    {
     "name": "stdout",
     "output_type": "stream",
     "text": [
      "22\n",
      "16\n",
      "6\n"
     ]
    }
   ],
   "source": [
    "def maxValue(wv, W):\n",
    "    # define a dp function that returns the maximum value of the items that can be put into a knapsack of capacity W\n",
    "    def dp(i, j):\n",
    "        # base cases\n",
    "        if i == -1 or j == 0:\n",
    "            return 0\n",
    "        # if the weight of the i-th item is greater than the capacity of the knapsack, then we cannot put the i-th item into the knapsack\n",
    "        if wv[i][0] > j:\n",
    "            return dp(i-1, j)\n",
    "        # if the weight of the i-th item is less than or equal to the capacity of the knapsack, then we can put the i-th item into the knapsack\n",
    "        else:\n",
    "            return max(dp(i-1, j), # do not put i-th item into the knapsack\n",
    "                    dp(i-1, j-wv[i][0]) + wv[i][1]) # put i-th item into the knapsack\n",
    "    \n",
    "    return dp(len(wv)-1, W)\n",
    "\n",
    "# test\n",
    "# 22\n",
    "print(maxValue([[1, 6], [2, 10], [3, 12]], 5))\n",
    "\n",
    "# 16\n",
    "print(maxValue([[1, 6], [2, 10], [3, 12]], 3))\n",
    "\n",
    "# 6\n",
    "print(maxValue([[2, 4], [1 ,2], [3, 3]], 4))"
   ]
  },
  {
   "cell_type": "code",
   "execution_count": 3,
   "metadata": {},
   "outputs": [
    {
     "name": "stdout",
     "output_type": "stream",
     "text": [
      "28\n",
      "28\n"
     ]
    }
   ],
   "source": [
    "# this solution is wrong, because it does not consider the case where the weight of the i-th item is greater than the capacity of the knapsack\n",
    "def maxValue(wv, W):\n",
    "    # define a dp function that returns the maximum value of the items that can be put into a knapsack of capacity W\n",
    "    def dp(i, j):\n",
    "        # base cases\n",
    "        if i == -1 or j == 0:\n",
    "            return 0\n",
    "        # if we can put item i into the knapsack, then we can choose to put it or not\n",
    "        if wv[i][0] <= 1:\n",
    "            return dp(i-1, j-1) + wv[i][1]\n",
    "        # if we cannot put item i into the knapsack, then we have to skip it\n",
    "        else:\n",
    "            return max(dp(i-1, j), dp(i, j-1))\n",
    "\n",
    "    return dp(len(wv)-1, W)\n",
    "\n",
    "# test\n",
    "# 22\n",
    "print(maxValue([[1, 6], [2, 10], [3, 12]], 5))\n",
    "\n",
    "# 12\n",
    "print(maxValue([[1, 6], [2, 10], [3, 12]], 3))"
   ]
  },
  {
   "attachments": {},
   "cell_type": "markdown",
   "metadata": {},
   "source": [
    "### DF Function with Memo"
   ]
  },
  {
   "cell_type": "code",
   "execution_count": 3,
   "metadata": {},
   "outputs": [
    {
     "name": "stdout",
     "output_type": "stream",
     "text": [
      "22\n",
      "16\n",
      "6\n"
     ]
    }
   ],
   "source": [
    "def maxValue(wv, W):\n",
    "    # initialize a memo\n",
    "    memo = {}\n",
    "    # define a dp function that returns the maximum value of 0th-ith items that can be put into a knapsack of capacity w\n",
    "    def dp(i, w):\n",
    "        # base cases\n",
    "        if i == -1 or w == 0:\n",
    "            memo[(i,w)] = 0\n",
    "        \n",
    "        # if we have already computed the result of dp(i, w), then we can directly return it\n",
    "        if (i, w) in memo:\n",
    "            return memo[(i, w)]\n",
    "        \n",
    "        # else we need to compute the result of dp(i, w)\n",
    "        # if the we cannot put the ith item into the knapsack, then we have to skip it\n",
    "        if wv[i][0] > w:\n",
    "            memo[(i,w)] = dp(i-1, w)\n",
    "        # if we can put the ith item into the knapsack, then we can choose to put it or not\n",
    "        else:\n",
    "            memo[(i, w)] = max(\n",
    "                dp(i-1, w), # do not put the ith item into the knapsack\n",
    "                dp(i-1, w-wv[i][0]) + wv[i][1] # put the ith item into the knapsack\n",
    "            )\n",
    "        return memo[(i, w)]\n",
    "\n",
    "    return dp(len(wv)-1, W)\n",
    "\n",
    "# test\n",
    "# 22\n",
    "print(maxValue([[1, 6], [2, 10], [3, 12]], 5))\n",
    "\n",
    "# 16\n",
    "print(maxValue([[1, 6], [2, 10], [3, 12]], 3))\n",
    "\n",
    "# 6\n",
    "print(maxValue([[2, 4], [1 ,2], [3, 3]], 4))"
   ]
  },
  {
   "attachments": {},
   "cell_type": "markdown",
   "metadata": {},
   "source": [
    "### DP Table\n"
   ]
  },
  {
   "cell_type": "code",
   "execution_count": 5,
   "metadata": {},
   "outputs": [
    {
     "name": "stdout",
     "output_type": "stream",
     "text": [
      "22\n",
      "16\n",
      "6\n"
     ]
    }
   ],
   "source": [
    "def maxValue(wv, W):\n",
    "    # define a dp table so that dp[i][w] stores the maximum value of the first i items that can be put into a knapsack of capacity w\n",
    "    n = len(wv) # number of items\n",
    "\n",
    "    # initialize the dp table\n",
    "    dp = [[0 for w in range(W+1)] for i in range(n+1)]\n",
    "\n",
    "    # fill the dp table\n",
    "    for i in range(n+1):\n",
    "        for w in range(W+1):\n",
    "            # base case: no items or capacity is 0: this is not necessary here as already defined during initialization\n",
    "            # keep it here for completeness.\n",
    "            if i == 0 or w == 0:\n",
    "                 dp[i][w] = 0\n",
    "            \n",
    "            # if we cannot put item i into pack\n",
    "            if wv[i-1][0] > w:\n",
    "                dp[i][w] = dp[i-1][w]\n",
    "            # else we can put item i into pack, but we want to the maximum value from 1) put and 2) not put\n",
    "            else:\n",
    "                dp[i][w] = max(wv[i-1][1] + dp[i-1][w-wv[i-1][0]],\n",
    "                                dp[i-1][w])\n",
    "    return dp[n][W]\n",
    "\n",
    "# test\n",
    "# 22\n",
    "print(maxValue([[1, 6], [2, 10], [3, 12]], 5))\n",
    "\n",
    "# 16\n",
    "print(maxValue([[1, 6], [2, 10], [3, 12]], 3))\n",
    "\n",
    "# 6\n",
    "print(maxValue([[2, 4], [1 ,2], [3, 3]], 4))"
   ]
  },
  {
   "attachments": {},
   "cell_type": "markdown",
   "metadata": {},
   "source": [
    "### DP Table with Space Optimization\n",
    "The above DP table has a size of `(n+1, W+1)`. But during the state transition for `[i][w]`, only `[i-1][w]` and `[i-1][w-wv[i-1][0]]` is needed. Therefore, there is no need to save other values.\n",
    "\n",
    "**We can simply use a `1-D` dp table to replace the `2-D` table.\n",
    "\n",
    "**Note: `the traverse order along W axis has to be from the end to beginning`**\n",
    "\n",
    "1.先看原来2D情况，dp[i][j]的值，都是仅依靠上一行dp[i-1][...]得出的。意思是我们要算当前dp[i]行的值，仅需要上一行dp[i-1]就好。所以可以将其转化为：原地更新1D数组问题；\n",
    "\n",
    "2.现在考虑降为1D，定义该1D数组为int[] dp。回忆原来2D情况，dp[i][j]的值都是依靠“其正上方的值dp[i-1][j]+左上方的值dp[i-1][j-nums[i]]”来更新。那么如果对1D进行正向遍历即从dp[0]->dp[n-1]填充，对于某一位例如dp[cur]的更新，势必会用到dp[pre]（pre<cur），因为是正向遍历，那么dp[pre]在当前轮次已经被更新过了，当在这种情况下计算的dp[cur]肯定不正确（其实说白了，就相当于2D情况下，使用了同一行的值。例如使用dp[i][j-nums[i]]来更新dp[i][j]）；\n",
    "\n",
    "3.现在解释对1D数组进行反向遍历即从dp[n-1]->dp[0]填充。同样，对于某一位例如dp[cur]的更新，势必会用到dp[pre]（pre<cur）。但注意，因为是从后往前进行遍历的，此时dp[pre]在当前轮次未被更新，所以就相当于2D情况下使用的上一行的值，这样计算就是正确的了。"
   ]
  },
  {
   "cell_type": "code",
   "execution_count": 9,
   "metadata": {},
   "outputs": [
    {
     "name": "stdout",
     "output_type": "stream",
     "text": [
      "22\n",
      "16\n",
      "6\n"
     ]
    }
   ],
   "source": [
    "def maxValue(wv, W):\n",
    "    n = len(wv)\n",
    "    # initialize a dp 1-D array\n",
    "    dp = [0 for i in range(W+1)]\n",
    "\n",
    "    # fill the dp table\n",
    "    for i in range(n):\n",
    "        # we have to use the inverse order here\n",
    "        for w in range(W, 0, -1):\n",
    "            # if we cannot put item i into the bag \n",
    "            if wv[i][0] > w:\n",
    "                dp[w] = dp[w]\n",
    "            else:\n",
    "                dp[w] = max(dp[w], wv[i][1] + dp[w - wv[i][0]])\n",
    "    return dp[W]\n",
    "# test\n",
    "# 22\n",
    "print(maxValue([[1, 6], [2, 10], [3, 12]], 5))\n",
    "\n",
    "# 16\n",
    "print(maxValue([[1, 6], [2, 10], [3, 12]], 3))\n",
    "\n",
    "# 6\n",
    "print(maxValue([[2, 4], [1 ,2], [3, 3]], 4))"
   ]
  },
  {
   "attachments": {},
   "cell_type": "markdown",
   "metadata": {},
   "source": [
    "Or we can use two 1-D array to store the maximum value for traversing the `i-1` row."
   ]
  },
  {
   "cell_type": "code",
   "execution_count": 11,
   "metadata": {},
   "outputs": [
    {
     "name": "stdout",
     "output_type": "stream",
     "text": [
      "22\n",
      "16\n",
      "6\n"
     ]
    }
   ],
   "source": [
    "def maxValue(wv, W):\n",
    "    n = len(wv)\n",
    "    # initialize a 1-D dp table for storing the max value when traversing row `i`\n",
    "    dp = [0 for i in range(W+1)]\n",
    "\n",
    "    # fill the 1-D dp table\n",
    "    for i in range(n):\n",
    "        dp_prev = dp[:]\n",
    "        for w in range(W+1):\n",
    "            # if we cannot put item i into pack\n",
    "            if wv[i][0] > w:\n",
    "                dp[w] = dp_prev[w]\n",
    "            else:\n",
    "                dp[w] = max(dp_prev[w],\n",
    "                                wv[i][1] + dp_prev[w - wv[i][0]])\n",
    "    return dp[W]\n",
    "\n",
    "# test\n",
    "# 22\n",
    "print(maxValue([[1, 6], [2, 10], [3, 12]], 5))\n",
    "\n",
    "# 16\n",
    "print(maxValue([[1, 6], [2, 10], [3, 12]], 3))\n",
    "\n",
    "# 6\n",
    "print(maxValue([[2, 4], [1 ,2], [3, 3]], 4))         "
   ]
  },
  {
   "attachments": {},
   "cell_type": "markdown",
   "metadata": {},
   "source": [
    "## Complete Pack\n",
    "\n",
    "Instead of outputing the minimum number of items that can be put into a bag with a capacity of W but gives the largest values, the other questions are:\n",
    "- can we put the items into the bag to make a target weight of W extactly?\n",
    "- if so, how many ways in total there will be?\n",
    "\n",
    "A similar Leetcode is `Coin Change II`, where given a target `amount=5` and `coins=[1,2,5]` with infinite number of each coin, how many ways there are to make up the target amount using these coins.\n",
    "\n",
    "Leetcode\n",
    "- 0518\n",
    "- 0115\n",
    "\n",
    "**Analysis**\n",
    "This is a complete pack problem, which needs to know all the possibile combinations of coins. \n",
    "Strictly speaking, this is not a dynamic programming problem as no optimality is requested, but this follows the subproblem structure with duplications, which could be solved using dynamic programming."
   ]
  },
  {
   "attachments": {},
   "cell_type": "markdown",
   "metadata": {},
   "source": [
    "### DP Function"
   ]
  },
  {
   "cell_type": "code",
   "execution_count": 6,
   "metadata": {},
   "outputs": [
    {
     "name": "stdout",
     "output_type": "stream",
     "text": [
      "4\n",
      "0\n"
     ]
    }
   ],
   "source": [
    "def change(amount, coins):\n",
    "\n",
    "    # dp function dp(i,j) returns the total number of ways to make up a target j from the the 1th-ith coin.\n",
    "    def dp(i, j):\n",
    "        # base case\n",
    "        # if no coins, we cannot make up any number\n",
    "        if i == 0 and j != 0:\n",
    "            return 0\n",
    "        # if we need make up of number of 0, there is always one way, that is do not choose any coin\n",
    "        if j == 0:\n",
    "            return 1\n",
    "        \n",
    "        # cannot use ith coin\n",
    "        if coins[i-1] > j:\n",
    "            return dp(i-1, j)\n",
    "        \n",
    "        else:\n",
    "            return dp(i-1, j) + dp(i, j-coins[i-1])\n",
    "        \n",
    "    return dp(len(coins), amount)\n",
    "\n",
    "# test\n",
    "# 4\n",
    "amount = 5\n",
    "coins = [1,2,5]\n",
    "print(change(amount, coins))\n",
    "\n",
    "# 0\n",
    "amount = 5\n",
    "coins = [3]\n",
    "print(change(amount, coins))"
   ]
  },
  {
   "attachments": {},
   "cell_type": "markdown",
   "metadata": {},
   "source": [
    "### DP Function with Memo"
   ]
  },
  {
   "cell_type": "code",
   "execution_count": 5,
   "metadata": {},
   "outputs": [
    {
     "name": "stdout",
     "output_type": "stream",
     "text": [
      "4\n",
      "0\n"
     ]
    }
   ],
   "source": [
    "def change(amount, coins):\n",
    "    # initialize a memo\n",
    "    memo = {}\n",
    "\n",
    "    # define a dp function to return the total number of ways to make up a target j from the the 1th-ith coin.\n",
    "    def dp(i, j):\n",
    "        # if in memo, return\n",
    "        if (i, j) in memo:\n",
    "            return memo[(i, j)]\n",
    "        # base case\n",
    "        if i == 0 and j != 0:\n",
    "            return 0\n",
    "        if j == 0:\n",
    "            return 1\n",
    "        \n",
    "        # if not in memo, then use dp to calculate memo\n",
    "        if coins[i-1] > j:\n",
    "            memo[(i, j)] = dp(i-1, j)\n",
    "        else:\n",
    "            memo[(i, j)] = dp(i-1, j) + dp(i, j-coins[i-1])\n",
    "        \n",
    "        return memo[(i, j)]\n",
    "    \n",
    "    return dp(len(coins), amount)\n",
    "\n",
    "# test\n",
    "# 4\n",
    "amount = 5\n",
    "coins = [1,2,5]\n",
    "print(change(amount, coins))\n",
    "\n",
    "# 0\n",
    "amount = 5\n",
    "coins = [3]\n",
    "print(change(amount, coins))\n",
    "    "
   ]
  },
  {
   "attachments": {},
   "cell_type": "markdown",
   "metadata": {},
   "source": [
    "### DP Table\n",
    "\n",
    "**Note**:\n",
    "we can simply optimize the dp table space use by compress the 2-D table to 1-D."
   ]
  },
  {
   "cell_type": "code",
   "execution_count": 4,
   "metadata": {},
   "outputs": [
    {
     "name": "stdout",
     "output_type": "stream",
     "text": [
      "4\n",
      "0\n"
     ]
    }
   ],
   "source": [
    "def change(amount, coins):\n",
    "    # number of choices\n",
    "    n = len(coins)\n",
    "    # initialize a dp table\n",
    "    # dp[i][j] stores the number of ways to make up the target j with the first i coins\n",
    "    dp = [[0 for j in range(amount+1)]]*(n+1)\n",
    "    for i in range(n+1):\n",
    "        # base case: without any coin, no target amount > 0 can be made; amount 0 can be made up without chosing any coins\n",
    "        dp[i][0] = 1\n",
    "    # state transition\n",
    "    for i in range(1, n+1):\n",
    "        for j in range(1, amount+1):\n",
    "            # 0-index: if the (i-1)th coin is not able to be put into the bag, the skip\n",
    "            if coins[i-1] > j:\n",
    "                dp[i][j] = dp[i-1][j]\n",
    "            # else: return the sum of 1) number of ways to make up target if we use coins[i-1] and 2) the number of ways to make up the target if we dont use coins[i-1]\n",
    "            else:\n",
    "                dp[i][j] = dp[i][j-coins[i-1]] + dp[i-1][j]\n",
    "    return dp[n][amount]\n",
    "\n",
    "# test\n",
    "# 4\n",
    "amount = 5\n",
    "coins = [1,2,5]\n",
    "print(change(amount, coins))\n",
    "\n",
    "# 0\n",
    "amount = 5\n",
    "coins = [3]\n",
    "print(change(amount, coins))"
   ]
  }
 ],
 "metadata": {
  "kernelspec": {
   "display_name": "jupyterbook-py38",
   "language": "python",
   "name": "python3"
  },
  "language_info": {
   "codemirror_mode": {
    "name": "ipython",
    "version": 3
   },
   "file_extension": ".py",
   "mimetype": "text/x-python",
   "name": "python",
   "nbconvert_exporter": "python",
   "pygments_lexer": "ipython3",
   "version": "3.8.12"
  },
  "orig_nbformat": 4,
  "vscode": {
   "interpreter": {
    "hash": "577791f2da4ac3a13c44f20f0f30021788d0264a6d82c3224a80270143730ffe"
   }
  }
 },
 "nbformat": 4,
 "nbformat_minor": 2
}
