{
 "cells": [
  {
   "cell_type": "markdown",
   "metadata": {},
   "source": [
    "# Recursion\n",
    "\n",
    "## Introduction\n",
    "\n",
    "Recussion generally follows Divide-Conquer algorithm:\n",
    "\n",
    "- `Divide` the problem into a number of subproblems that are smaller instances of the same problem.\n",
    "- `Conquer` the subproblems by solving them recursively. If the subproblem sizes are small enough, however, just solve the subproblems in a straightforward manner.\n",
    "- `Combine` the solutions to the subproblems into the solution for the original problem\n",
    "\n",
    "\n",
    "## Some Cases\n",
    "\n",
    "### Maximum/Minimum"
   ]
  },
  {
   "cell_type": "code",
   "execution_count": 4,
   "metadata": {},
   "outputs": [
    {
     "name": "stdout",
     "output_type": "stream",
     "text": [
      "9\n",
      "1\n"
     ]
    }
   ],
   "source": [
    "def maximum_recursion(A, i):\n",
    "    if i < 1: \n",
    "        return A[0]\n",
    "    else:\n",
    "        return max(maximum_recursion(A, i-1),A[i])\n",
    "\n",
    "A = [2,4,5,9,1]\n",
    "print(maximum_recursion(A,len(A)-1))\n",
    "\n",
    "A = [1, 1, 1, 1]\n",
    "print(maximum_recursion(A,len(A)-1))"
   ]
  },
  {
   "cell_type": "code",
   "execution_count": 11,
   "metadata": {},
   "outputs": [
    {
     "name": "stdout",
     "output_type": "stream",
     "text": [
      "dlrow olleh\n"
     ]
    }
   ],
   "source": [
    "def reverse(s):\n",
    "    \"\"\"Return a string in reverse order\"\"\"\n",
    "    res = ''\n",
    "    n = len(s)\n",
    "\n",
    "    if n <= 1: # base case\n",
    "        res = s\n",
    "    else:\n",
    "        r = reverse(s[:n-1])\n",
    "        res = s[n-1]+r\n",
    "    return res\n",
    "\n",
    "print(reverse(\"hello world\"))"
   ]
  },
  {
   "cell_type": "markdown",
   "metadata": {},
   "source": [
    "## Fibonacci Number"
   ]
  },
  {
   "cell_type": "code",
   "execution_count": 3,
   "metadata": {},
   "outputs": [
    {
     "name": "stdout",
     "output_type": "stream",
     "text": [
      "102334155\n"
     ]
    }
   ],
   "source": [
    "# using recurrence - duplicately recalculate f(n-2) - bad recurrence using binary recursion - O(2^n)\n",
    "def fibonacci(n):\n",
    "    if n <= 1:\n",
    "        return n\n",
    "    return fibonacci(n-1) + fibonacci(n-2)\n",
    "\n",
    "print(fibonacci(40))"
   ]
  },
  {
   "cell_type": "code",
   "execution_count": 4,
   "metadata": {},
   "outputs": [
    {
     "name": "stdout",
     "output_type": "stream",
     "text": [
      "(354224848179261915075, 218922995834555169026)\n"
     ]
    }
   ],
   "source": [
    "# using recurrence - good recurrence using linear recursion - O(n)\n",
    "def fibonacci(n):\n",
    "    if n <= 1:\n",
    "        return (n, 0)\n",
    "    else:\n",
    "        (a, b) = fibonacci(n-1)\n",
    "        return (a+b, a)\n",
    "\n",
    "print(fibonacci(100))"
   ]
  },
  {
   "cell_type": "code",
   "execution_count": 2,
   "metadata": {},
   "outputs": [
    {
     "name": "stdout",
     "output_type": "stream",
     "text": [
      "354224848179261915075\n"
     ]
    }
   ],
   "source": [
    "# using memoized recurrence - top-down dynamic programming O(n)\n",
    "def fibonacci(n, r = {}):\n",
    "    if n in r:\n",
    "        return r[n]\n",
    "    elif n <= 1:\n",
    "        r[n] = n\n",
    "    else:\n",
    "        r[n] = fibonacci(n-1, r) + fibonacci(n-2, r)\n",
    "\n",
    "    return r[n]\n",
    "\n",
    "print(fibonacci(100))"
   ]
  },
  {
   "cell_type": "code",
   "execution_count": 1,
   "metadata": {},
   "outputs": [
    {
     "name": "stdout",
     "output_type": "stream",
     "text": [
      "354224848179261915075\n"
     ]
    }
   ],
   "source": [
    "# using bottom-up dynamic programming O(n)\n",
    "def fibonacci(n):\n",
    "    r = [0.]*(n+1)\n",
    "    for j in range(n+1):\n",
    "        if j <= 1:\n",
    "            r[j] = j\n",
    "        else:\n",
    "            r[j] = r[j-1] + r[j-2]\n",
    "    return r[n]\n",
    "\n",
    "print(fibonacci(100))"
   ]
  }
 ],
 "metadata": {
  "interpreter": {
   "hash": "577791f2da4ac3a13c44f20f0f30021788d0264a6d82c3224a80270143730ffe"
  },
  "kernelspec": {
   "display_name": "Python 3.8.12 ('jupyterbook-py38')",
   "language": "python",
   "name": "python3"
  },
  "language_info": {
   "codemirror_mode": {
    "name": "ipython",
    "version": 3
   },
   "file_extension": ".py",
   "mimetype": "text/x-python",
   "name": "python",
   "nbconvert_exporter": "python",
   "pygments_lexer": "ipython3",
   "version": "3.8.12"
  },
  "orig_nbformat": 4
 },
 "nbformat": 4,
 "nbformat_minor": 2
}
