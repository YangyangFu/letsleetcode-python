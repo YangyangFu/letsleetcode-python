{
 "cells": [
  {
   "cell_type": "markdown",
   "metadata": {},
   "source": [
    "# Lecture 3: Set and Sorting\n",
    "\n",
    "## Set Interface\n",
    "\n",
    "| Type      | Function       | Note                                                   |\n",
    "| --------- | -------------- | ------------------------------------------------------ |\n",
    "| Container | `build(x)`     | given an iterable $x$, build set from items in $x$     |\n",
    "| --        | `len(x)`       | return the number of stored values                     |\n",
    "| Static    | `find(k)`      | return the stored item with key $k                     |\n",
    "| Dynamic   | `insert(x)`    | add $x$ to set                                         |\n",
    "| --        | `delete(k)`    | remove and return the stored item with key $k$         |\n",
    "| Order     | `iter_ord()`   | return the stored items one-by-one in key order        |\n",
    "| --        | `find_min()`   | return the item with smallest key                      |\n",
    "| --        | `find_max()`   | return the item with largest key                       |\n",
    "| --        | `find_next(k)` | return the item with smallest key larger than $k$      |\n",
    "| --        | `find_prev(k)` | return the stored item with largest key smaller than k |\n",
    "\n",
    "- storing items in an array in arbitrary order can implement a (`not so efficient`) set\n",
    "- stored items sorted increasing by key allows:\n",
    "  - faster find min/max (at first/last index of array)\n",
    "  - faster find via binary search: $O(logn)$\n",
    "- how to construct a sorted array?\n",
    "\n",
    "! **Confused**: set and sequence are two types of interface. So `array` as a data structure can have both interfaces?\n",
    "\n",
    "## Sorting\n",
    "\n",
    "- given a sorted array, we can leverage binary search to make an efficient set data structure\n",
    "- input: `static array` $A$ of $n$ numbers\n",
    "- output: `static array` $B$ of which is a sorted permutation of $A$\n",
    "- example: [8,2,4,9,3] -> [2,3,4,8,9]\n",
    "  \n",
    "## Permutation Sort\n",
    "\n",
    "- there are $n!$ permuations of $A$, at least one of which is sorted\n",
    "- for each permutation, check wether sorted, $\\Theta(n)$ time\n",
    "- `permulation_sort` analysis:\n",
    "  - try all possibilities - brute force\n",
    "  - running time $O(n!*n)$, which is `exponential`"
   ]
  },
  {
   "cell_type": "code",
   "execution_count": 1,
   "metadata": {},
   "outputs": [],
   "source": [
    "from itertools import permutations\n",
    "\n",
    "def permutation_sort(A):\n",
    "    '''Sort A'''\n",
    "    for B in permutations(A):               # O(n!)\n",
    "        if is_sorted(B):                    # O(n) this is a pesudo code\n",
    "            return B                        # O(1)"
   ]
  },
  {
   "cell_type": "markdown",
   "metadata": {},
   "source": [
    "## Recurrences\n",
    "\n",
    "- substitution:\n",
    "- recurrence tree: draw a tree representing the recursive calls and sum computation at nodes\n",
    "- master theorem:\n",
    "\n",
    "## Selection Sort\n",
    "- select the smallest (forward from 0 to n)/greatest (reverse from n to 0) element from the remaining elements and place it a the correct position\n",
    "- forward\n",
    "  - find a smallest number in the remaining array $A[i:]$ and swap it to $A[i]$\n",
    "  - example: [8,2,4,9,3] -> [2,8,4,9,3] -> [2,3,4,9,8] -> [2,3,4,9,8] -> [2,3,4,8,9]\n",
    "- reverse\n",
    "  - find the largest number in prefix $A[:i+1]$ and swap it to $A[i]$\n",
    "  - recursively sort prefix $A[:i]$\n",
    "  - example: [8,2,4,9,3] -> [8,2,4,3,9] -> [3,2,4,8,9] -> [3,2,4,8,9] -> [2,3,4,8,9]"
   ]
  },
  {
   "cell_type": "code",
   "execution_count": 2,
   "metadata": {},
   "outputs": [
    {
     "name": "stdout",
     "output_type": "stream",
     "text": [
      "[2, 6]\n",
      "[2, 3, 6, 8, 9]\n"
     ]
    }
   ],
   "source": [
    "def selection_sort(A, i):                           # T(i)\n",
    "    \"Sort A[:i+1]\"                                  \n",
    "    if i > 0:                                       # O(1)\n",
    "        # find maximum in A[:i] and return index j\n",
    "        j = find_max_prefix(A, i)                   # O(n)\n",
    "        # swap A[j] with A[i]\n",
    "        A[i], A[j] = A[j], A[i]                     # O(1)\n",
    "        selection_sort(A, i-1)                      # T(i-1)\n",
    "\n",
    "    return A\n",
    "\n",
    "def find_max_prefix(A, i):                          # S(i)\n",
    "    \"Find the maximum in prefix A[:i+1]\"\n",
    "    if i == 0:                                      # O(1)\n",
    "        return i                                    # O(1)\n",
    "    if i > 0:                                       # O(1)\n",
    "        j = find_max_prefix(A, i-1)                 # S(i-1)\n",
    "        if A[j] > A[i]:                             # O(1)\n",
    "            return j                                # O(1)\n",
    "        else:\n",
    "            return i                                # O(1)  \n",
    "\n",
    "A=[6,2]\n",
    "print(selection_sort(A, len(A)-1))\n",
    "\n",
    "A=[2,6,3,9,8]\n",
    "print(selection_sort(A, len(A)-1))"
   ]
  },
  {
   "cell_type": "markdown",
   "metadata": {},
   "source": [
    "\n",
    "- `prefix_max` analysis:\n",
    "  - idea: \n",
    "    - for an array $A$, with prefix $i$, the maximum of $A[:i+1]$ is either $A[i]$ or the maximum of $A[:i]$.\n",
    "    - recursion\n",
    "  - Induction: assume correct for $i$, maximum is either $A[i]$ or the maximum of $A[:i]$, returns correct index in either case.\n",
    "  - $S(1) = O(1), S(n) = S(n-1) + O(1)$\n",
    "    - substitution: $S(n) = O(n)$\n",
    "    - recurrence tree\n",
    "\n",
    "\n",
    "- `selection_sort` analysis:\n",
    "  - idea:\n",
    "    - recursively find the largest number in the prefix $A[:i+1], i = n, n-1, ..., 0$\n",
    "\n",
    "## Insertion Sort\n",
    "- build the final sorted array one item at a time by inserting the element into a particular position and shifting the remaining element. A good animation can be found at https://en.wikipedia.org/wiki/Insertion_sort.\n",
    "\n",
    "- procedure using recursion \n",
    "  - assume we have an array $A[:i+1]$, with the sorted prefix $A[:i]$, and the element $A[i]$, \n",
    "  - compare $A[i-1]$ and $A[i]$. \n",
    "    - if $A[i] >= A[i-1]$, then move forward the pointer $i$ by 1 and repeat the loop \n",
    "    - else swap $A[i]$ with $A[i-1]$, and using the same `insert_sort` procedure to sort $A[:i-1]$. This is necessary because the swapping will lead a unsorted $A[:i]$, See the last step in the following example.\n",
    "  \n",
    "      ``` python\n",
    "      [2, 9, 8, 4] -> [2, 9, 8, 4] -> [2, 8, 9, 4] -> [2, 4, 8, 9] \n",
    "      ```\n",
    "        The last step internally proceeds as follows:\n",
    "      ```python\n",
    "      [2, 8, 9, 4] -> [2, 8, 4, 9] -> [2, 4, 8, 9]\n",
    "      ```"
   ]
  },
  {
   "cell_type": "code",
   "execution_count": 3,
   "metadata": {},
   "outputs": [
    {
     "name": "stdout",
     "output_type": "stream",
     "text": [
      "[2, 3, 8, 9]\n",
      "[2, 3, 8, 9]\n",
      "[2, 3, 9, 8]\n",
      "[2, 3, 8, 9]\n"
     ]
    }
   ],
   "source": [
    "def insert_last(A, i):\n",
    "    '''Sort A[:i+1] assuming sorted A[:i]'''\n",
    "    if i > 0 and A[i] < A[i-1]:\n",
    "        A[i-1], A[i] = A[i], A[i-1]\n",
    "        insert_last(A, i-1)\n",
    "    return A\n",
    "\n",
    "def insert_sort(A, i):\n",
    "    '''Sort A[:i+1]'''\n",
    "    if i > 0:\n",
    "        insert_sort(A, i-1)\n",
    "        insert_last(A, i)\n",
    "    return A\n",
    "\n",
    "print(insert_last([2, 8, 9, 3], 3))\n",
    "print(insert_sort([2, 8, 9, 3], 3))\n",
    "\n",
    "print(insert_last([2, 9, 8, 3], 3)) \n",
    "print(insert_sort([2, 9, 8, 3], 3))\n"
   ]
  },
  {
   "cell_type": "markdown",
   "metadata": {},
   "source": [
    "\n",
    "- `insert_last` analysis\n",
    "  - base case: for $i=0$, array has one element so is sorted.\n",
    "  - induction: assume correct for $i$, if $A[i] > A[i-1]$, array is sorted. Otherwise swapping the last two elements allows up to sort $A[:i]$ by induction.\n",
    "  - $S(1) = O(1),S(n)=S(n-1)+O(1), S(n)=O(n)$\n",
    "\n",
    "- `insert_sort` analysi\n",
    "  - base case: for $i=0$, arrya has one element so is sorted\n",
    "  - induction: assume correct for $i$, algorithm sorts $A[:i]$ by induction, and then `insert_last` correctly sorts the rest as proved before\n",
    "  - $T(1)=O(1), T(n) = T(n-1) + S(n) = T(n-1) + O(n) \\rArr T(n)=O(n^2)$  \n",
    "\n",
    "## Merge Sort\n",
    "\n",
    "- recursively sort first half and second half\n",
    "- merge sorted halves into one sorted list (two-pointer algorithm)\n",
    "- example: $[7,1,5,6,2,4,9,3] \\rArr [1,7,5,6,2,4,3,9] \\rArr [1,5,6,7,2,3,4,9] \\rArr [1,2,3,4,5,6,7,9]$"
   ]
  },
  {
   "cell_type": "code",
   "execution_count": 4,
   "metadata": {},
   "outputs": [
    {
     "name": "stdout",
     "output_type": "stream",
     "text": [
      "[2, 3, 6, 8, 9]\n"
     ]
    }
   ],
   "source": [
    "def merge(L, R, A, i, j, a, b):\n",
    "    '''Merge sorted L[:i] and R[:j] into A[a:b] using two-pointer algorithm'''\n",
    "    if a < b:\n",
    "        if (j <= 0) or (i > 0 and L[i-1] > R[j-1]):\n",
    "            A[b-1] = L[i-1]\n",
    "            i = i - 1\n",
    "        else:\n",
    "            A[b-1] = R[j-1]\n",
    "            j = j -1\n",
    "        merge(L, R, A, i, j, a, b-1)\n",
    "\n",
    "def merge_sort(A, a , b):\n",
    "    '''Sort A[a:b]'''\n",
    "    if 1 < b - a:\n",
    "        c = (a + b + 1) // 2\n",
    "        merge_sort(A, a, c)\n",
    "        merge_sort(A, c, b)\n",
    "        L, R = A[a:c], A[c:b]\n",
    "        merge(L, R, A, len(L), len(R), a, b)\n",
    "        \n",
    "    return A\n",
    "\n",
    "A=[2,6,3,9,8]\n",
    "print(merge_sort(A, 0, len(A)))"
   ]
  },
  {
   "cell_type": "code",
   "execution_count": 21,
   "metadata": {},
   "outputs": [
    {
     "name": "stdout",
     "output_type": "stream",
     "text": [
      "[1, 2, 3, 4, 4, 6, 7]\n",
      "[1, 2, 3, 4, 4, 6, 7]\n"
     ]
    }
   ],
   "source": [
    "def merge(L, R):\n",
    "    \"\"\"Meger two sorted array L and R in a sorted array A \"\"\"\n",
    "    A = []\n",
    "    l, r = 0, 0\n",
    "\n",
    "    while l <= len(L) - 1 and r <= len(R) - 1:\n",
    "        if L[l] < R[r]:\n",
    "            A.append(L[l])\n",
    "            l += 1\n",
    "        elif L[l] > R[r]:\n",
    "            A.append(R[r])\n",
    "            r += 1\n",
    "        else:\n",
    "            A.append(L[l])\n",
    "            A.append(R[r])\n",
    "            l += 1\n",
    "            r += 1\n",
    "    # if one of the array reachs the end\n",
    "    if l == len(L):\n",
    "        A += R[r:]\n",
    "    elif r == len(R):\n",
    "        A += L[l:] \n",
    "\n",
    "    return A    \n",
    "\n",
    "def sort(A):\n",
    "    \"\"\"Sort A by merge sorting\"\"\"\n",
    "    if len(A) <= 1:\n",
    "        return A\n",
    "\n",
    "    l, r = 0, len(A) - 1\n",
    "    # be careful of mid pointer. special case is length of 2, m should be 1, not 0\n",
    "    m = (r + l) // 2 + 1 \n",
    "    \n",
    "    L = A[:m]\n",
    "    R = A[m:]\n",
    "    LS = sort(L)\n",
    "    RS = sort(R)\n",
    "\n",
    "    AS = merge(LS, RS)\n",
    "\n",
    "    return AS\n",
    "\n",
    "L = [1,4,6,7]\n",
    "R = [2,3,4]\n",
    "print(merge(L, R))\n",
    "\n",
    "A = L + R\n",
    "print(sort(A))"
   ]
  },
  {
   "cell_type": "markdown",
   "metadata": {},
   "source": [
    "## Summary\n",
    "\n",
    "- `insertion_sort`, `selection_sort`, `merge_sort` requires $O(n^2), O(n^2), O(nlogn)$ time on arrays. They may have different time complexity for other data strucutures, which depends on the operations of `get`, `set` and `compare`.\n",
    "  - `insertion_sort` requires $O(n^2)$ times of `get`, `set`, and `compare`. Static operations in arrays are $O(1)$ time, so this sorting on arrays uses $O(n^2)$ time.\n",
    "  - `selection_sort` requires $O(n^2)$ times of `get` and `compare`, and $O(n)$ times of `set`. So this sorting on arrays uses $O(n^2)$ time.\n",
    "  - `merge_sort` requires $O(nlogn)$ times of `get`, `set` and `compare`. So this sorting on arrays uses $O(nlogn)$ time.\n",
    "  - `insert_sort` and `selection_sort` are in-place sorting, which doesnt require additional space. `merge_sort` requires additional $O(n)$ space to merge two sorted sub-arrays."
   ]
  }
 ],
 "metadata": {
  "interpreter": {
   "hash": "577791f2da4ac3a13c44f20f0f30021788d0264a6d82c3224a80270143730ffe"
  },
  "kernelspec": {
   "display_name": "Python 3.8.12 ('jupyterbook-py38')",
   "language": "python",
   "name": "python3"
  },
  "language_info": {
   "codemirror_mode": {
    "name": "ipython",
    "version": 3
   },
   "file_extension": ".py",
   "mimetype": "text/x-python",
   "name": "python",
   "nbconvert_exporter": "python",
   "pygments_lexer": "ipython3",
   "version": "3.8.12"
  },
  "orig_nbformat": 4
 },
 "nbformat": 4,
 "nbformat_minor": 2
}
