{
 "cells": [
  {
   "cell_type": "markdown",
   "metadata": {},
   "source": [
    "# Lecture 5: Linear Sorting\n",
    "\n",
    "## Review\n",
    "\n",
    "- Direct access array is fast, but may use a lot of space $O(u)$\n",
    "- Solve space problem by mapping (hashing) key space $u$ down to $m=O(n)$\n",
    "- Hash table gives expected $O(1)$ time operations, amoritized if dynamic\n",
    "- `Merge Sort` can be $O(nlogn)$, but can we have even faster sorting algorithm?\n",
    "\n",
    "## Comparison Model based Sorting - Lower Bound Analysis\n",
    "\n",
    "- Comparison model implies that algorithm decision tree is binary (constant branching factor) \n",
    "- Requires `leaves L ≥ ` # possible outputs\n",
    "- Tree height lower bounded by $\\Omega(log L)$, so worst-case running time is $\\Omega(log L)$\n",
    "- To sort array of `n` elements, # outputs is `n!` permutations\n",
    "- Thus height lower bounded by $log(n!) ≥ log((n/2)n/2) = \\Omega(n log n)$ \n",
    "- So merge sort is optimal in comparison model\n",
    "- Can we exploit a direct access array to sort faster?\n",
    "\n",
    "## Direct Access Array (DAA) Sorting\n",
    "\n",
    "- make DAA, suppose all keys are unique non-negative integers in range `{0, ,1, 2, ..., u-1}`, so $n<u$ \n",
    "- store item `x` in index, `x.key`, using `set` data structure -> $n*O(1)$\n",
    "- walk down DAA and return item seem in order  -> $O(u)$\n"
   ]
  },
  {
   "cell_type": "code",
   "execution_count": 1,
   "metadata": {},
   "outputs": [],
   "source": [
    "def direct_access_sort(A):\n",
    "    \"Sort A assuming items have distinct non-negative keys\"\n",
    "    u= 1 + max([x.key for x in A])              # O(n) find maximum key\n",
    "    D= [None] * u                               # O(u) direct access array\n",
    "    for x in A:                                 # O(n) insert items\n",
    "        D[x.key] = x \n",
    "    i=0 \n",
    "    for key in range(u):                        # O(u) read out items in order\n",
    "        if D[key] is not None:\n",
    "            A[i] = D[key]\n",
    "            i += 1\n"
   ]
  },
  {
   "cell_type": "markdown",
   "metadata": {},
   "source": [
    "- what if keys are in larger range, like $u<n^2$?\n",
    "- represent each key $k$ by tuple $(a, b)$ where $ k = a*n + b$ and $0 \\le b < n$. \n",
    "- one way is to use `divmod` operators as in python: \n",
    "- Examples: [17, 3, 24, 22, 12] -> [(3,2), (0,3), (4,4), (4,2), (2,2)] -> [32, 03, 44, 42, 22] when $n=5$\n",
    "- How can we sort tuples?"
   ]
  },
  {
   "cell_type": "markdown",
   "metadata": {},
   "source": [
    "## Tuple Sort\n",
    "- Item keys are tuples of equal length, i.e., item `x.key = (x.k1, xk2, ...)`\n",
    "- The first key `k1` is most significant. \n",
    "- How to sort? -> sort separately each key \n",
    "- But in what order?\n",
    "  - most significant to least significant, first $k_1$ then $k_2$: $[\\bold{3}2, \\bold{0}3, \\bold{4}4, \\bold{4}2, \\bold{2}2]$ -> $[\\bold{0}3, \\bold{2}2, \\bold{3}2, \\bold{4}4, \\bold{4}2]$ -> $[\\bold{2}2, \\bold{3}2, \\bold{4}2, \\bold{0}3, \\bold{4}4]$  -> Too bad. The second sort totally ruined previous sort.\n",
    "  - least significant to most significant, first $k_2$ then $k_1$: $[3\\bold{2}, 0\\bold{3}, 4\\bold{4}, 4\\bold{2}, 2\\bold{2}]$ -> $[3\\bold{2}, 4\\bold{2}, 2\\bold{2}, 0\\bold{3}, 4\\bold{4}]$ -> $[0\\bold{3}, 2\\bold{2}, 3\\bold{2}, 4\\bold{2}, 4\\bold{4}]$  -> Good. But still may have problem with duplicated keys.\n",
    "- **Idea**: use tuple sort with auxiliary DAA sort to sort tuple (a, b).\n",
    "- Problem! Many integers could have the same a or b value, even if input keys distinct \n",
    "- Need sort allowing repeated keys which preserves input order\n",
    "- Want sort to be stable: repeated keys appear in output in same order as input\n",
    "- Direct access array sort cannot even sort arrays having repeated keys!\n",
    "- Can we modify direct access array sort to admit multiple keys in a way that is stable?"
   ]
  },
  {
   "cell_type": "code",
   "execution_count": null,
   "metadata": {},
   "outputs": [],
   "source": []
  }
 ],
 "metadata": {
  "interpreter": {
   "hash": "577791f2da4ac3a13c44f20f0f30021788d0264a6d82c3224a80270143730ffe"
  },
  "kernelspec": {
   "display_name": "Python 3.8.12 ('jupyterbook-py38')",
   "language": "python",
   "name": "python3"
  },
  "language_info": {
   "codemirror_mode": {
    "name": "ipython",
    "version": 3
   },
   "file_extension": ".py",
   "mimetype": "text/x-python",
   "name": "python",
   "nbconvert_exporter": "python",
   "pygments_lexer": "ipython3",
   "version": "3.8.12"
  },
  "orig_nbformat": 4
 },
 "nbformat": 4,
 "nbformat_minor": 2
}
