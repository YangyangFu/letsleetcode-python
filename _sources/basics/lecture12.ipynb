{
 "cells": [
  {
   "cell_type": "markdown",
   "metadata": {},
   "source": []
  },
  {
   "cell_type": "markdown",
   "metadata": {},
   "source": [
    "# Lecture 12: The Bellman-Ford Algorithm\n",
    "\n",
    "##  Overview\n",
    "- The `Bellman-Ford` algorithm solves the single-source shortest-paths problem in the general case in which `edge weights may be negative`.\n",
    "- The Bellman-Ford algorithm returns a boolean value indicating whether or not there is a negative-weight cycle that is reachable from the source. \n",
    "    - If there is such a cycle, the algorithm indicates that no solution exists. \n",
    "    - If there is no such cycle, the algorithm produces the shortest paths and their weights.\n",
    "\n",
    " ## Bellman-Ford Algorithm\n",
    " - Find the shortest paths from source $s$ to every vertex $v$ in a weighted graph. The weights may be negative\n",
    " - Algorithm: $O(VE)$ \n",
    " \n",
    " ```python\n",
    "    def bellman_ford(G, s):\n",
    "        initialize_single_source(G,s)\n",
    "        for i in range(len(G.V)-1):\n",
    "            for (u,v) in G.E:\n",
    "                relax(u,v,w)\n",
    "        for (u,v) in G.E:\n",
    "            if v.d > u.d + w(u,v):\n",
    "                return False\n",
    "        return True\n",
    " ```\n",
    "\n",
    " - Example\n",
    "\n",
    " ![bellman-ford](./l12-bellman-ford.png)\n",
    " "
   ]
  },
  {
   "cell_type": "markdown",
   "metadata": {},
   "source": []
  }
 ],
 "metadata": {
  "language_info": {
   "name": "python"
  },
  "orig_nbformat": 4
 },
 "nbformat": 4,
 "nbformat_minor": 2
}
