{
 "cells": [
  {
   "cell_type": "markdown",
   "metadata": {},
   "source": [
    "# 0001. Two Sum\n",
    "\n",
    "## Problem\n",
    "\n",
    "Given an array of integers nums and an integer target, return indices of the two numbers such that they add up to target.\n",
    "\n",
    "You may assume that each input would have exactly one solution, and you may not use the same element twice.\n",
    "\n",
    "You can return the answer in any order.\n",
    "\n",
    "## Examples \n",
    "\n",
    "Example 1:\n",
    "\n",
    "``` text\n",
    "Input: nums = [2,7,11,15], target = 9\n",
    "Output: [0,1]\n",
    "Explanation: Because nums[0] + nums[1] == 9, we return [0, 1].\n",
    "```\n",
    "\n",
    "Example 2:\n",
    "\n",
    "```text\n",
    "Input: nums = [3,2,4], target = 6\n",
    "Output: [1,2]\n",
    "```\n",
    "\n",
    "Example 3:\n",
    "\n",
    "```text\n",
    "Input: nums = [3,3], target = 6\n",
    "Output: [0,1]\n",
    "``` \n",
    "\n",
    "## Constraints:\n",
    "\n",
    "```text\n",
    "2 <= nums.length <= 104\n",
    "-109 <= nums[i] <= 109\n",
    "-109 <= target <= 109\n",
    "Only one valid answer exists.\n",
    "```\n",
    " \n",
    "## Follow-up\n",
    "\n",
    "Can you come up with an algorithm that is less than $O(n^2)$ time complexity?"
   ]
  },
  {
   "cell_type": "markdown",
   "metadata": {},
   "source": [
    "# Analysis\n",
    "\n",
    "The (index, value) pair related problem can be efficiently solved in $O(n)$ time using hashing table. \n",
    "\n",
    "- iterate over the sequence\n",
    "    - given index and value, find another set of (index, value)"
   ]
  },
  {
   "cell_type": "markdown",
   "metadata": {},
   "source": [
    "# Solution"
   ]
  },
  {
   "cell_type": "code",
   "execution_count": 20,
   "metadata": {},
   "outputs": [
    {
     "name": "stdout",
     "output_type": "stream",
     "text": [
      "[0, 1]\n",
      "[1, 2]\n",
      "[0, 1]\n",
      "[1, 3]\n",
      "[0, 1]\n",
      "[]\n"
     ]
    }
   ],
   "source": [
    "# Solution 1: naive solution O(n2)\n",
    "def two_sum(nums, target):\n",
    "    n = len(nums)\n",
    "    for i, v in enumerate(nums):\n",
    "        vnext = target - v\n",
    "        for j in range(i+1, n):\n",
    "            if nums[j] == vnext:\n",
    "                return [i,j]\n",
    "    return []\n",
    "    \n",
    "# test\n",
    "nums = [2, 7, 11, 15] \n",
    "target = 9\n",
    "print(two_sum(nums, target))\n",
    "\n",
    "nums = [3, 2, 4]\n",
    "target = 6\n",
    "print(two_sum(nums, target))\n",
    "\n",
    "nums = [3, 3]\n",
    "target = 6\n",
    "print(two_sum(nums, target))\n",
    "\n",
    "nums = [0, 8, 7, 3, 3, 4, 2]\n",
    "target = 11\n",
    "print(two_sum(nums, target))\n",
    "\n",
    "nums = [0, 1]\n",
    "target = 1\n",
    "print(two_sum(nums, target))\n",
    "\n",
    "nums = [0, 2]\n",
    "target = 3\n",
    "print(two_sum(nums, target))\n"
   ]
  },
  {
   "cell_type": "code",
   "execution_count": 21,
   "metadata": {},
   "outputs": [
    {
     "name": "stdout",
     "output_type": "stream",
     "text": [
      "[0, 1]\n",
      "[1, 2]\n",
      "[0, 1]\n",
      "[1, 3]\n",
      "[0, 1]\n",
      "[]\n"
     ]
    }
   ],
   "source": [
    "# Solution 2: hashing table O(n)\n",
    "# The main idea here is since in the previous solution, the first loop has already iterated over the whole data set, there is no need to go through the data set in the inner loop agian. This could be done by using hashing table.\n",
    "def two_num(nums, target):\n",
    "    tab = {}\n",
    "    for i, v in enumerate(nums):\n",
    "        vnext = target - v            \n",
    "        if vnext not in tab:\n",
    "            tab[v] = i\n",
    "        else:\n",
    "            return [tab[vnext], i]\n",
    "    return []\n",
    "    \n",
    "# test\n",
    "nums = [2, 7, 11, 15]\n",
    "target = 9\n",
    "print(two_sum(nums, target))\n",
    "\n",
    "nums = [3, 2, 4]\n",
    "target = 6\n",
    "print(two_sum(nums, target))\n",
    "\n",
    "nums = [3, 3]\n",
    "target = 6\n",
    "print(two_sum(nums, target))\n",
    "\n",
    "nums = [0, 8, 7, 3, 3, 4, 2]\n",
    "target = 11\n",
    "print(two_sum(nums, target))\n",
    "\n",
    "nums = [0, 1]\n",
    "target = 1\n",
    "print(two_sum(nums, target))\n",
    "\n",
    "nums = [0, 2]\n",
    "target = 3\n",
    "print(two_sum(nums, target))\n"
   ]
  }
 ],
 "metadata": {
  "interpreter": {
   "hash": "577791f2da4ac3a13c44f20f0f30021788d0264a6d82c3224a80270143730ffe"
  },
  "kernelspec": {
   "display_name": "Python 3.8.12 ('jupyterbook-py38')",
   "language": "python",
   "name": "python3"
  },
  "language_info": {
   "codemirror_mode": {
    "name": "ipython",
    "version": 3
   },
   "file_extension": ".py",
   "mimetype": "text/x-python",
   "name": "python",
   "nbconvert_exporter": "python",
   "pygments_lexer": "ipython3",
   "version": "3.8.12"
  },
  "orig_nbformat": 4
 },
 "nbformat": 4,
 "nbformat_minor": 2
}
