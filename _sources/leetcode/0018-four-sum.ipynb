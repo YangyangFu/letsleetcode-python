{
 "cells": [
  {
   "cell_type": "markdown",
   "metadata": {},
   "source": [
    "# 0018. Four Sum\n",
    "\n",
    "## Problem\n",
    "\n",
    "Given an array nums of `n` integers, return an array of all the unique quadruplets `[nums[a], nums[b], nums[c], nums[d]]` such that:\n",
    "```text\n",
    "0 <= a, b, c, d < n\n",
    "a, b, c, and d are distinct.\n",
    "nums[a] + nums[b] + nums[c] + nums[d] == target\n",
    "```\n",
    "You may return the answer in any order.\n",
    "\n",
    "### Examples \n",
    "\n",
    "Example 1:\n",
    "\n",
    "``` text\n",
    "Input: nums = [1,0,-1,0,-2,2], target = 0\n",
    "Output: [[-2,-1,1,2],[-2,0,0,2],[-1,0,0,1]]\n",
    "```\n",
    "\n",
    "Example 2:\n",
    "\n",
    "```text\n",
    "Input: nums = [2,2,2,2,2], target = 8\n",
    "Output: [[2,2,2,2]]\n",
    "```\n",
    "\n",
    "### Constraints:\n",
    "\n",
    "```text\n",
    "1 <= nums.length <= 200\n",
    "-109 <= nums[i] <= 109\n",
    "-109 <= target <= 109\n",
    "```"
   ]
  },
  {
   "cell_type": "markdown",
   "metadata": {},
   "source": [
    "## Analysis\n",
    "Trs is similar to [0015](./0015-three-sum.ipynb)."
   ]
  },
  {
   "cell_type": "markdown",
   "metadata": {},
   "source": [
    "## Solution"
   ]
  },
  {
   "cell_type": "code",
   "execution_count": 6,
   "metadata": {},
   "outputs": [
    {
     "name": "stdout",
     "output_type": "stream",
     "text": [
      "[[-2, -1, 1, 2], [-2, 0, 0, 2], [-1, 0, 0, 1]]\n"
     ]
    }
   ],
   "source": [
    "# Solution 1: two pointer \n",
    "def solution(nums, target=0):\n",
    "    nums.sort()\n",
    "    res = [] \n",
    "\n",
    "    for h, a in enumerate(nums[:-3]):\n",
    "        if h > 0 and a == nums[h - 1]: # if duplicate, pass\n",
    "            continue\n",
    "        # 3 sum\n",
    "        nums3 = nums[h+1:]\n",
    "        sum3_target = target - nums[h]\n",
    "        for i, b in enumerate(nums3):\n",
    "            if i > 0 and b == nums3[i - 1]: # if duplicate, pass\n",
    "                continue\n",
    "            # 2 sum\n",
    "            j, k = i+1, len(nums3)-1\n",
    "            sum2_target = sum3_target - nums3[i]\n",
    "            while j < k:\n",
    "                if nums3[j] + nums3[k] < sum2_target:\n",
    "                    j += 1\n",
    "                elif nums3[j] + nums3[k] > sum2_target:\n",
    "                    k += -1\n",
    "                else:\n",
    "                    res.append([nums[h], nums3[i], nums3[j], nums3[k]])\n",
    "                    j += 1\n",
    "                    while nums3[j] == nums3[j-1] and j < k: # skip duplicates\n",
    "                        j += 1\n",
    "    return res\n",
    "\n",
    "# test\n",
    "nums = [1,0,-1,0,-2,2]\n",
    "target = 0\n",
    "print(solution(nums))\n"
   ]
  },
  {
   "cell_type": "code",
   "execution_count": 9,
   "metadata": {},
   "outputs": [
    {
     "name": "stdout",
     "output_type": "stream",
     "text": [
      "[[-2, -1, 1, 2], [-2, 0, 0, 2], [-1, 0, 0, 1]]\n"
     ]
    }
   ],
   "source": [
    "# solution 2: k-sum\n",
    "def solution(nums, target):\n",
    "\n",
    "    def kSum(nums, target,  k):\n",
    "        res = []\n",
    "        \n",
    "        # If we have run out of numbers to add, return res.\n",
    "        if not nums:\n",
    "            return res\n",
    "        \n",
    "        # There are k remaining values to add to the sum. The \n",
    "        # average of these values is at least target // k.\n",
    "        average_value = target // k\n",
    "        \n",
    "        # We cannot obtain a sum of target if the smallest value\n",
    "        # in nums is greater than target // k or if the largest \n",
    "        # value in nums is smaller than target // k.\n",
    "        if average_value < nums[0] or nums[-1] < average_value:\n",
    "            return res\n",
    "        \n",
    "        if k == 2:\n",
    "            return twoSum(nums, target)\n",
    "\n",
    "        for i in range(len(nums)):\n",
    "            if i == 0 or nums[i - 1] != nums[i]:\n",
    "                for subset in kSum(nums[i + 1:], target - nums[i], k - 1):\n",
    "                    res.append([nums[i]] + subset)\n",
    "\n",
    "        return res\n",
    "\n",
    "    def twoSum(nums, target):\n",
    "        res = []\n",
    "        l, r = 0, len(nums) - 1\n",
    "\n",
    "        while (l < r):\n",
    "            curr_sum = nums[l] + nums[r]\n",
    "            if curr_sum < target or (l > 0 and nums[l] == nums[l - 1]):\n",
    "                l += 1\n",
    "            elif curr_sum > target or (r < len(nums) - 1 and nums[r] == nums[r + 1]):\n",
    "                r -= 1\n",
    "            else:\n",
    "                res.append([nums[l], nums[r]])\n",
    "                l += 1\n",
    "                r -= 1\n",
    "                                                        \n",
    "        return res\n",
    "\n",
    "    nums.sort()\n",
    "    return kSum(nums, target, 4)\n",
    "\n",
    "# test\n",
    "nums = [1,0,-1,0,-2,2]\n",
    "target = 0\n",
    "print(solution(nums, target))"
   ]
  },
  {
   "cell_type": "code",
   "execution_count": null,
   "metadata": {},
   "outputs": [],
   "source": []
  }
 ],
 "metadata": {
  "interpreter": {
   "hash": "577791f2da4ac3a13c44f20f0f30021788d0264a6d82c3224a80270143730ffe"
  },
  "kernelspec": {
   "display_name": "Python 3.8.12 ('jupyterbook-py38')",
   "language": "python",
   "name": "python3"
  },
  "language_info": {
   "codemirror_mode": {
    "name": "ipython",
    "version": 3
   },
   "file_extension": ".py",
   "mimetype": "text/x-python",
   "name": "python",
   "nbconvert_exporter": "python",
   "pygments_lexer": "ipython3",
   "version": "3.8.12"
  },
  "orig_nbformat": 4
 },
 "nbformat": 4,
 "nbformat_minor": 2
}
