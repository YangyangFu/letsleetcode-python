{
 "cells": [
  {
   "cell_type": "markdown",
   "metadata": {},
   "source": [
    "# 0018. Four Sum\n",
    "\n",
    "## Problem\n",
    "\n",
    "Given an array nums of `n` integers, return an array of all the unique quadruplets `[nums[a], nums[b], nums[c], nums[d]]` such that:\n",
    "```text\n",
    "0 <= a, b, c, d < n\n",
    "a, b, c, and d are distinct.\n",
    "nums[a] + nums[b] + nums[c] + nums[d] == target\n",
    "```\n",
    "You may return the answer in any order.\n",
    "\n",
    "### Examples \n",
    "\n",
    "Example 1:\n",
    "\n",
    "``` text\n",
    "Input: nums = [1,0,-1,0,-2,2], target = 0\n",
    "Output: [[-2,-1,1,2],[-2,0,0,2],[-1,0,0,1]]\n",
    "```\n",
    "\n",
    "Example 2:\n",
    "\n",
    "```text\n",
    "Input: nums = [2,2,2,2,2], target = 8\n",
    "Output: [[2,2,2,2]]\n",
    "```\n",
    "\n",
    "### Constraints:\n",
    "\n",
    "```text\n",
    "1 <= nums.length <= 200\n",
    "-109 <= nums[i] <= 109\n",
    "-109 <= target <= 109\n",
    "```"
   ]
  },
  {
   "cell_type": "markdown",
   "metadata": {},
   "source": [
    "## Analysis\n",
    "This is similar to [0015](./0015-three-sum.ipynb)."
   ]
  },
  {
   "cell_type": "markdown",
   "metadata": {},
   "source": [
    "## Solution"
   ]
  },
  {
   "cell_type": "code",
   "execution_count": 1,
   "metadata": {},
   "outputs": [
    {
     "name": "stdout",
     "output_type": "stream",
     "text": [
      "[]\n"
     ]
    }
   ],
   "source": [
    "# Solution 1: two pointer \n",
    "def solution(nums, target=0):\n",
    "    nums.sort()\n",
    "    res = [] \n",
    "    length = len(nums)\n",
    "\n",
    "    for h, a in enumerate(nums[:-2]):\n",
    "        if h > 0 and a == nums[h - 1]: # if duplicate, pass\n",
    "            continue\n",
    "        # 3 sum\n",
    "        nums3 = nums[h+1:]\n",
    "        sum3_target = target - nums[h]\n",
    "        for i, b in enumerate(nums3):\n",
    "            if h > 0 and a == nums[h - 1]: # if duplicate, pass\n",
    "                continue\n",
    "            # 2 sum\n",
    "            j, k = i+1, len(nums3)-1\n",
    "            sum2_target = sum3_target - nums[i]\n",
    "            while j < k:\n",
    "                if nums[j] + nums[k] < sum2_target:\n",
    "                    j += 1\n",
    "                elif nums[j] + nums[k] > sum2_target:\n",
    "                    k += -1\n",
    "                else:\n",
    "                    res.append([nums[i], nums[j], nums[k]])\n",
    "                    j += 1\n",
    "                    while nums[j] == nums[j-1] and j < k: # skip duplicates\n",
    "                        j += 1\n",
    "    return res\n",
    "\n",
    "# test\n",
    "nums = [1,0,-1,0,-2,2]\n",
    "target = 0\n",
    "print(solution(nums))\n"
   ]
  }
 ],
 "metadata": {
  "interpreter": {
   "hash": "577791f2da4ac3a13c44f20f0f30021788d0264a6d82c3224a80270143730ffe"
  },
  "kernelspec": {
   "display_name": "Python 3.8.12 ('jupyterbook-py38')",
   "language": "python",
   "name": "python3"
  },
  "language_info": {
   "codemirror_mode": {
    "name": "ipython",
    "version": 3
   },
   "file_extension": ".py",
   "mimetype": "text/x-python",
   "name": "python",
   "nbconvert_exporter": "python",
   "pygments_lexer": "ipython3",
   "version": "3.8.12"
  },
  "orig_nbformat": 4
 },
 "nbformat": 4,
 "nbformat_minor": 2
}
