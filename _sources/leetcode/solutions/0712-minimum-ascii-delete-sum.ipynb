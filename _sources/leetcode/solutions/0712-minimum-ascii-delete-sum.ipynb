{
 "cells": [
  {
   "attachments": {},
   "cell_type": "markdown",
   "metadata": {},
   "source": [
    "# 0712 Minimum ASCII Delete Sum for Two Strings\n",
    "\n",
    "## Problem\n",
    "Given two strings `s1` and `s2`, return the lowest ASCII sum of deleted characters to make two strings equal.\n",
    "\n",
    " \n",
    "## examples\n",
    "\n",
    "Example 1:\n",
    "```\n",
    "Input: s1 = \"sea\", s2 = \"eat\"\n",
    "Output: 231\n",
    "Explanation: Deleting \"s\" from \"sea\" adds the ASCII value of \"s\" (115) to the sum.\n",
    "Deleting \"t\" from \"eat\" adds 116 to the sum.\n",
    "At the end, both strings are equal, and 115 + 116 = 231 is the minimum sum possible to achieve this.\n",
    "```\n",
    "Example 2:\n",
    "```\n",
    "Input: s1 = \"delete\", s2 = \"leet\"\n",
    "Output: 403\n",
    "Explanation: Deleting \"dee\" from \"delete\" to turn the string into \"let\",\n",
    "adds 100[d] + 101[e] + 101[e] to the sum.\n",
    "Deleting \"e\" from \"leet\" adds 101[e] to the sum.\n",
    "At the end, both strings are equal to \"let\", and the answer is 100+101+101+101 = 403.\n",
    "If instead we turned both strings into \"lee\" or \"eet\", we would get answers of 433 or 417, which are higher.\n",
    "```\n",
    "### Constraint\n",
    "```text\n",
    "1 <= s1.length, s2.length <= 1000\n",
    "s1 and s2 consist of lowercase English letters.\n",
    "```"
   ]
  },
  {
   "attachments": {},
   "cell_type": "markdown",
   "metadata": {},
   "source": [
    "## Analysis\n",
    "A typical dynamic programming problem:\n",
    "  \n",
    "Define a DP table of size `(m+1, n+1)` so that `dp[i][j]` stores the minimum delete sum for `s1[:i]` and `s2[:j]`\n",
    "\n",
    "- base case: `dp[0][:]` and `dp[:][0]` \n",
    "- choice: delete `s1[i]` or delete `s2[j]` or skip\n",
    "- state: minimum delete sum\n",
    "- state change:\n",
    "\n",
    "\n",
    "For example:\n",
    "\n",
    "for s1 = \"sea', s2 = \"eat\", the `dp` table should be like:\n",
    "```\n",
    "        0     1     2      3\n",
    "        x     e     a      t\n",
    "0   x   0     e    e+a   e+a+t\n",
    "1   s   s    s+e  e+a+s e+a+t+s\n",
    "2   e  s+e    s    s+a   s+a+e\n",
    "3   a s+e+a  s+a    s     s+t\n",
    "```\n",
    "\n",
    "We can get state change as:\n",
    "\n",
    "``` python\n",
    "# if the ending characters are the same, then the skip editing (deletion)\n",
    "if s1[i-1] == s2[j-1]:\n",
    "    dp[i][j] = dp[i-1][j-1]\n",
    "# else select the minimum delete sum of all possible edits\n",
    "else:\n",
    "    dp[i][j] = min(\n",
    "                dp[i-1][j] + s1[i-1], # delete s1[i-1]\n",
    "                dp[i][j-1] + s2[j-1], # delete s2[j-1]\n",
    "    )\n",
    "```\n",
    "\n",
    "## Solution"
   ]
  },
  {
   "cell_type": "code",
   "execution_count": 1,
   "metadata": {},
   "outputs": [
    {
     "name": "stdout",
     "output_type": "stream",
     "text": [
      "231\n",
      "403\n"
     ]
    }
   ],
   "source": [
    "def minimumDeleteSum(s1, s2):\n",
    "    m, n = len(s1), len(s2)\n",
    "    dp = [[0] * (n + 1) for _ in range(m + 1)]\n",
    "    # base case\n",
    "    for i in range(1, m + 1):\n",
    "        dp[i][0] = dp[i - 1][0] + ord(s1[i - 1])\n",
    "    for j in range(1, n + 1):\n",
    "        dp[0][j] = dp[0][j - 1] + ord(s2[j - 1])\n",
    "    # iterative dp table\n",
    "    for i in range(1, m + 1):\n",
    "        for j in range(1, n + 1):\n",
    "            if s1[i-1] == s2[j-1]:\n",
    "                dp[i][j] = dp[i-1][j-1]\n",
    "            else:\n",
    "                dp[i][j] = min(dp[i-1][j] + ord(s1[i-1]), dp[i][j-1] + ord(s2[j-1]))\n",
    "    return dp[m][n]\n",
    "\n",
    "# test\n",
    "# 231\n",
    "s1 = \"sea\"\n",
    "s2 = \"eat\"\n",
    "print(minimumDeleteSum(s1, s2))\n",
    "\n",
    "# 403\n",
    "s1 = \"delete\"\n",
    "s2 = \"leet\"\n",
    "print(minimumDeleteSum(s1, s2))\n"
   ]
  }
 ],
 "metadata": {
  "kernelspec": {
   "display_name": "jupyterbook-py38",
   "language": "python",
   "name": "python3"
  },
  "language_info": {
   "codemirror_mode": {
    "name": "ipython",
    "version": 3
   },
   "file_extension": ".py",
   "mimetype": "text/x-python",
   "name": "python",
   "nbconvert_exporter": "python",
   "pygments_lexer": "ipython3",
   "version": "3.8.12"
  },
  "orig_nbformat": 4,
  "vscode": {
   "interpreter": {
    "hash": "577791f2da4ac3a13c44f20f0f30021788d0264a6d82c3224a80270143730ffe"
   }
  }
 },
 "nbformat": 4,
 "nbformat_minor": 2
}
