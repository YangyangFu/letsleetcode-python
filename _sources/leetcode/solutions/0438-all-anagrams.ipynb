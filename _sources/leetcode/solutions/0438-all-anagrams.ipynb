{
 "cells": [
  {
   "cell_type": "markdown",
   "metadata": {},
   "source": [
    "# 0438 Find All Anagrams in a String\n",
    "## Problem\n",
    "Given two strings `s` and `p`, return an array of all the start indices of `p`'s anagrams in `s`. You may return the answer in any order.\n",
    "\n",
    "An Anagram is a word or phrase formed by rearranging the letters of a different word or phrase, typically using all the original letters exactly once.\n",
    "\n",
    "### Examples \n",
    "Example 1:\n",
    "```\n",
    "Input: s = \"cbaebabacd\", p = \"abc\"\n",
    "Output: [0,6]\n",
    "Explanation:\n",
    "The substring with start index = 0 is \"cba\", which is an anagram of \"abc\".\n",
    "The substring with start index = 6 is \"bac\", which is an anagram of \"abc\".\n",
    "```\n",
    "\n",
    "Example 2:\n",
    "```\n",
    "Input: s = \"abab\", p = \"ab\"\n",
    "Output: [0,1,2]\n",
    "Explanation:\n",
    "The substring with start index = 0 is \"ab\", which is an anagram of \"ab\".\n",
    "The substring with start index = 1 is \"ba\", which is an anagram of \"ab\".\n",
    "The substring with start index = 2 is \"ab\", which is an anagram of \"ab\".\n",
    "```\n",
    "\n",
    "\n",
    "### Constraints\n",
    "```\n",
    "1 <= s.length, p.length <= 3 * 104\n",
    "s and p consist of lowercase English letters.\n",
    "```\n",
    "### Followup\n"
   ]
  },
  {
   "cell_type": "markdown",
   "metadata": {},
   "source": [
    "## Analysis\n",
    "This is very similar to [0567]. The difference is we need find out all the permutation substring of `p` in `s`.\n",
    "  \n",
    "## Solution"
   ]
  },
  {
   "cell_type": "code",
   "execution_count": 1,
   "metadata": {},
   "outputs": [
    {
     "name": "stdout",
     "output_type": "stream",
     "text": [
      "[0, 6]\n",
      "[0, 1, 2]\n"
     ]
    }
   ],
   "source": [
    "def findAnagrams(s,p):\n",
    "    p_map = {c:p.count(c) for c in p}\n",
    "    s_map = {}\n",
    "    np, ns = len(p), len(s)\n",
    "    left, right = 0, 0\n",
    "    \n",
    "    res = []\n",
    "    \n",
    "    while right < ns:\n",
    "        # update hash\n",
    "        c = s[right]\n",
    "        s_map[c] = s_map[c] + 1 if c in s_map else 1\n",
    "        right +=1 \n",
    "\n",
    "        # determine the permutation\n",
    "        while right - left >= np:\n",
    "            # check permutation\n",
    "            if s_map == p_map:\n",
    "                res.append(left)\n",
    "            \n",
    "            # if not, need explore window\n",
    "            c = s[left]\n",
    "            s_map[c] -= 1\n",
    "            if s_map[c] == 0: s_map.pop(c)\n",
    "            left += 1\n",
    "    \n",
    "    return res\n",
    "\n",
    "# test\n",
    "s = \"cbaebabacd\"\n",
    "p = \"abc\"\n",
    "print(findAnagrams(s, p))\n",
    "\n",
    "s = \"abab\"\n",
    "p = \"ab\"\n",
    "print(findAnagrams(s,p))\n"
   ]
  }
 ],
 "metadata": {
  "interpreter": {
   "hash": "577791f2da4ac3a13c44f20f0f30021788d0264a6d82c3224a80270143730ffe"
  },
  "kernelspec": {
   "display_name": "Python 3.8.12 ('jupyterbook-py38')",
   "language": "python",
   "name": "python3"
  },
  "language_info": {
   "codemirror_mode": {
    "name": "ipython",
    "version": 3
   },
   "file_extension": ".py",
   "mimetype": "text/x-python",
   "name": "python",
   "nbconvert_exporter": "python",
   "pygments_lexer": "ipython3",
   "version": "3.8.12"
  },
  "orig_nbformat": 4
 },
 "nbformat": 4,
 "nbformat_minor": 2
}
