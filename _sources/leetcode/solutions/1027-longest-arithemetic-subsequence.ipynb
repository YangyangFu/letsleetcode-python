{
 "cells": [
  {
   "attachments": {},
   "cell_type": "markdown",
   "metadata": {},
   "source": [
    "# 1027 Longest Arithmetic Subsequence\n",
    "\n",
    "## Problem\n",
    "\n",
    "Given an array `nums` of integers, return the length of the longest arithmetic subsequence in `nums`.\n",
    "\n",
    "Note that:\n",
    "\n",
    "- A subsequence is an array that can be derived from another array by deleting some or no elements without changing the order of the remaining elements.\n",
    "- A sequence seq is arithmetic if `seq[i + 1] - seq[i]` are all the same value (for `0 <= i < seq.length - 1`).\n",
    " \n",
    "\n",
    "### Examples \n",
    "\n",
    "Example 1:\n",
    "```\n",
    "Input: n = 4, dislikes = [[1,2],[1,3],[2,4]]\n",
    "Output: true\n",
    "Explanation: The first group has [1,4], and the second group has [2,3].\n",
    "```\n",
    "\n",
    "Example 2:\n",
    "```\n",
    "Input: n = 3, dislikes = [[1,2],[1,3],[2,3]]\n",
    "Output: false\n",
    "Explanation: We need at least 3 groups to divide them. We cannot put them in two groups.\n",
    "```\n",
    "### Constraints:\n",
    "\n",
    "```\n",
    "1 <= n <= 2000\n",
    "0 <= dislikes.length <= 104\n",
    "dislikes[i].length == 2\n",
    "1 <= ai < bi <= n\n",
    "All the pairs of dislikes are unique.\n",
    "```"
   ]
  },
  {
   "attachments": {},
   "cell_type": "markdown",
   "metadata": {},
   "source": [
    "Unlike the problem where the difference is given, here we need to find the difference. So we need to find the difference between each pair of numbers and then find the longest subsequence.\n",
    "\n",
    "2-D array as dp table with the first dimension as the index of the number and the second dimension as the difference. The value of the cell is the length of the subsequence. \n",
    "\n",
    "However, the difference can be negative, we can do two things:\n",
    "1. Add a LARGE ENOUGH number to the difference to make it positive\n",
    "2. Use a dictionary to store the difference and the length of the subsequence\n",
    "\n",
    "\n",
    "Here we implement method 2."
   ]
  },
  {
   "cell_type": "code",
   "execution_count": 2,
   "metadata": {},
   "outputs": [
    {
     "name": "stdout",
     "output_type": "stream",
     "text": [
      "4\n",
      "3\n",
      "4\n",
      "2\n"
     ]
    }
   ],
   "source": [
    "def longestArithemeticSubsequence(nums):\n",
    "    \"\"\"\n",
    "    :type nums: List[int]\n",
    "    :rtype: int\n",
    "    \"\"\"\n",
    "    dp = [{} for _ in range(len(nums))]\n",
    "    res = 0\n",
    "    for i in range(1, len(nums)):\n",
    "        for j in range(i):\n",
    "            diff = nums[i] - nums[j]\n",
    "            dp[i][diff] = dp[j].get(diff, 1) + 1\n",
    "            res = max(res, dp[i][diff])\n",
    "    return res\n",
    "\n",
    "# test\n",
    "# 4 \n",
    "nums = [3,6,9,12]\n",
    "print(longestArithemeticSubsequence(nums))\n",
    "# 3\n",
    "nums = [9,4,7,2,10]\n",
    "print(longestArithemeticSubsequence(nums))\n",
    "# 4\n",
    "nums = [20,1,15,3,10,5,8]\n",
    "print(longestArithemeticSubsequence(nums))\n",
    "# 2\n",
    "nums = [83,20,17,43,52,78,68,45]\n",
    "print(longestArithemeticSubsequence(nums))\n"
   ]
  }
 ],
 "metadata": {
  "kernelspec": {
   "display_name": "base",
   "language": "python",
   "name": "python3"
  },
  "language_info": {
   "codemirror_mode": {
    "name": "ipython",
    "version": 3
   },
   "file_extension": ".py",
   "mimetype": "text/x-python",
   "name": "python",
   "nbconvert_exporter": "python",
   "pygments_lexer": "ipython3",
   "version": "3.9.13"
  },
  "orig_nbformat": 4
 },
 "nbformat": 4,
 "nbformat_minor": 2
}
