{
 "cells": [
  {
   "cell_type": "markdown",
   "metadata": {},
   "source": [
    "# 1109 Flight Booking\n",
    "\n",
    "## Problem\n",
    "There are `n` flights that are labeled from `1` to `n`.\n",
    "\n",
    "You are given an array of flight bookings `bookings`, where `bookings[i] = [first_i, last_i, seats_i]` represents a booking for flights `first_i` through `last_i` (inclusive) with `seats_i` seats reserved for each flight in the range.\n",
    "\n",
    "Return an array answer of length `n`, where `answer[i]` is the total number of seats reserved for flight `i`.\n",
    "\n",
    "### Examples \n",
    "Example 1:\n",
    "```\n",
    "Input: bookings = [[1,2,10],[2,3,20],[2,5,25]], n = 5\n",
    "Output: [10,55,45,25,25]\n",
    "Explanation:\n",
    "Flight labels:       1   2   3   4   5\n",
    "Booking 1 reserved:  10  10\n",
    "Booking 2 reserved:  20  20\n",
    "Booking 3 reserved:  25  25  25  25\n",
    "Total seats:         10  55  45  25  25\n",
    "Hence, answer = [10,55,45,25,25]\n",
    "\n",
    "```\n",
    "Example 2:\n",
    "```\n",
    "Input: bookings = [[1,2,10],[2,2,15]], n = 2\n",
    "Output: [10,25]\n",
    "Explanation:\n",
    "Flight labels:        1   2\n",
    "Booking 1 reserved:  10  10\n",
    "Booking 2 reserved:  15\n",
    "Total seats:         10  25\n",
    "Hence, answer = [10,25]\n",
    "```\n",
    "\n",
    "### Constraint\n",
    "```text\n",
    "1 <= n <= 2 * 1E4\n",
    "1 <= bookings.length <= 2 * 1E4\n",
    "bookings[i].length == 3\n",
    "1 <= firsti <= lasti <= n\n",
    "1 <= seatsi <= 1E4\n",
    "\n",
    "```"
   ]
  },
  {
   "cell_type": "markdown",
   "metadata": {},
   "source": [
    "## Analysis\n",
    "\n",
    "  \n",
    "## Solution"
   ]
  },
  {
   "cell_type": "code",
   "execution_count": 3,
   "metadata": {},
   "outputs": [
    {
     "name": "stdout",
     "output_type": "stream",
     "text": [
      "[10, 55, 45, 25, 25]\n",
      "[10, 25]\n"
     ]
    }
   ],
   "source": [
    "def rangeAddition(length, bookings):\n",
    "    difference = [0 for i in range(length)]\n",
    "    for book in bookings:\n",
    "        # note this indexes are 1-based\n",
    "        start, end, addition = book\n",
    "        difference[start-1] += addition\n",
    "        if end < length:\n",
    "            difference[end] -= addition\n",
    "    \n",
    "    # reconstruct array\n",
    "    res = [0 for i in range(length)]\n",
    "    res[0] = difference[0]\n",
    "    i = 1\n",
    "    while i < length:\n",
    "        res[i] = res[i-1] + difference[i]\n",
    "        i += 1\n",
    "    return res\n",
    "\n",
    "length = 5\n",
    "bookings = [[1,2,10],[2,3,20],[2,5,25]]\n",
    "print(rangeAddition(length, bookings))\n",
    "\n",
    "length = 2\n",
    "bookings = [[1,2,10],[2,2,15]]\n",
    "print(rangeAddition(length, bookings))"
   ]
  }
 ],
 "metadata": {
  "interpreter": {
   "hash": "577791f2da4ac3a13c44f20f0f30021788d0264a6d82c3224a80270143730ffe"
  },
  "kernelspec": {
   "display_name": "Python 3.8.12 ('jupyterbook-py38')",
   "language": "python",
   "name": "python3"
  },
  "language_info": {
   "codemirror_mode": {
    "name": "ipython",
    "version": 3
   },
   "file_extension": ".py",
   "mimetype": "text/x-python",
   "name": "python",
   "nbconvert_exporter": "python",
   "pygments_lexer": "ipython3",
   "version": "3.8.12"
  },
  "orig_nbformat": 4
 },
 "nbformat": 4,
 "nbformat_minor": 2
}
