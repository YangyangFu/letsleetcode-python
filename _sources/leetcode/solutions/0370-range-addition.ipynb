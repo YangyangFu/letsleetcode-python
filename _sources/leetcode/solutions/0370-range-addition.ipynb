{
 "cells": [
  {
   "cell_type": "markdown",
   "metadata": {},
   "source": [
    "# 0370 Range Addition\n",
    "\n",
    "## Problem\n",
    "\n",
    "\n",
    "### Examples \n",
    "Example 1:\n",
    "```\n",
    "\n",
    "```\n",
    "\n",
    "### Constraint\n",
    "```text\n",
    "\n",
    "```"
   ]
  },
  {
   "cell_type": "markdown",
   "metadata": {},
   "source": [
    "## Analysis\n",
    "\n",
    "  \n",
    "## Solution"
   ]
  },
  {
   "cell_type": "code",
   "execution_count": 3,
   "metadata": {},
   "outputs": [
    {
     "name": "stdout",
     "output_type": "stream",
     "text": [
      "[-2, 0, 3, 5, 3]\n"
     ]
    }
   ],
   "source": [
    "def rangeAddition(length, updates):\n",
    "    difference = [0 for i in range(length)]\n",
    "    for update in updates:\n",
    "        start, end, addition = update\n",
    "        difference[start] += addition\n",
    "        if end + 1 < length:\n",
    "            difference[end+1] -= addition\n",
    "    \n",
    "    # reconstruct array\n",
    "    res = [0 for i in range(length)]\n",
    "    res[0] = difference[0]\n",
    "    i = 1\n",
    "    while i < length:\n",
    "        res[i] = res[i-1] + difference[i]\n",
    "        i += 1\n",
    "    return res\n",
    "\n",
    "length = 5\n",
    "updates = [[1,3,2], [2,4,3], [0, 2, -2]]\n",
    "print(rangeAddition(length, updates))\n"
   ]
  }
 ],
 "metadata": {
  "interpreter": {
   "hash": "577791f2da4ac3a13c44f20f0f30021788d0264a6d82c3224a80270143730ffe"
  },
  "kernelspec": {
   "display_name": "Python 3.8.12 ('jupyterbook-py38')",
   "language": "python",
   "name": "python3"
  },
  "language_info": {
   "codemirror_mode": {
    "name": "ipython",
    "version": 3
   },
   "file_extension": ".py",
   "mimetype": "text/x-python",
   "name": "python",
   "nbconvert_exporter": "python",
   "pygments_lexer": "ipython3",
   "version": "3.8.12"
  },
  "orig_nbformat": 4
 },
 "nbformat": 4,
 "nbformat_minor": 2
}
