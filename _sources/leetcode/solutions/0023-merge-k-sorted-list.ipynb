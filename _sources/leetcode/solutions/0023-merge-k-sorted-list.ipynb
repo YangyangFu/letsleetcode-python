{
 "cells": [
  {
   "cell_type": "markdown",
   "metadata": {},
   "source": [
    "# 0023 Merge k Sorted Lists\n",
    "\n",
    "## Problem\n",
    "You are given an array of `k` linked-lists lists, each linked-list is sorted in `ascending` order.\n",
    "\n",
    "Merge all the linked-lists into one sorted linked-list and return it.\n",
    "\n",
    "### Examples \n",
    "Example 1:\n",
    "```\n",
    "Input: lists = [[1,4,5],[1,3,4],[2,6]]\n",
    "Output: [1,1,2,3,4,4,5,6]\n",
    "Explanation: The linked-lists are:\n",
    "[\n",
    "  1->4->5,\n",
    "  1->3->4,\n",
    "  2->6\n",
    "]\n",
    "merging them into one sorted list:\n",
    "1->1->2->3->4->4->5->6\n",
    "```\n",
    "\n",
    "Example 2:\n",
    "```\n",
    "Input: lists = []\n",
    "Output: []\n",
    "```\n",
    "\n",
    "Example 3:\n",
    "```\n",
    "Input: lists = [[]]\n",
    "Output: []\n",
    "```\n",
    "\n",
    "### Constraints\n",
    "```\n",
    "k == lists.length\n",
    "0 <= k <= 104\n",
    "0 <= lists[i].length <= 500\n",
    "-104 <= lists[i][j] <= 104\n",
    "lists[i] is sorted in ascending order.\n",
    "The sum of lists[i].length will not exceed 104.\n",
    "```"
   ]
  },
  {
   "cell_type": "markdown",
   "metadata": {},
   "source": [
    "## Analysis\n",
    "This is similar to merge 2 sorted lists, but the difficulty is how to quickly get the minimum from k nodes.\n",
    "- one straightfoward way is to use `min heap tree` or `priority quque`\n",
    "\n",
    "\n",
    "## Solution"
   ]
  },
  {
   "cell_type": "code",
   "execution_count": 2,
   "metadata": {},
   "outputs": [],
   "source": [
    "class Node():\n",
    "    def __init__(self, val=0, next=None):\n",
    "        self.val = val\n",
    "        self.next = next\n",
    "\n",
    "def build(A):\n",
    "    dummy = Node()\n",
    "\n",
    "    if not A:\n",
    "        return dummy.next\n",
    "    \n",
    "    prev = dummy\n",
    "    for a in A:\n",
    "        cur = Node(a)\n",
    "        prev.next = cur \n",
    "        prev = cur\n",
    "    \n",
    "    return dummy.next \n",
    "\n",
    "def linkedListToList(head):\n",
    "    res = []\n",
    "    while head:\n",
    "        res.append(head.val)\n",
    "        head = head.next\n",
    "    return res\n"
   ]
  },
  {
   "cell_type": "code",
   "execution_count": 4,
   "metadata": {},
   "outputs": [
    {
     "name": "stdout",
     "output_type": "stream",
     "text": [
      "[1, 1, 2, 3, 4, 4]\n",
      "[]\n",
      "[0]\n"
     ]
    }
   ],
   "source": [
    "def mergeKLists(lists):\n",
    "    pass"
   ]
  }
 ],
 "metadata": {
  "interpreter": {
   "hash": "577791f2da4ac3a13c44f20f0f30021788d0264a6d82c3224a80270143730ffe"
  },
  "kernelspec": {
   "display_name": "Python 3.8.12 ('jupyterbook-py38')",
   "language": "python",
   "name": "python3"
  },
  "language_info": {
   "codemirror_mode": {
    "name": "ipython",
    "version": 3
   },
   "file_extension": ".py",
   "mimetype": "text/x-python",
   "name": "python",
   "nbconvert_exporter": "python",
   "pygments_lexer": "ipython3",
   "version": "3.8.12"
  },
  "orig_nbformat": 4
 },
 "nbformat": 4,
 "nbformat_minor": 2
}
