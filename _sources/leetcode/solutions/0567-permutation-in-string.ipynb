{
 "cells": [
  {
   "cell_type": "markdown",
   "metadata": {},
   "source": [
    "# 0567 Minimum Window Substring\n",
    "## Problem\n",
    "Given two strings `s1` and `s2`, return true if `s2` contains a permutation of `s1`, or false otherwise.\n",
    "\n",
    "In other words, return true if one of `s1`'s permutations is the substring of `s2`.\n",
    "\n",
    "### Examples \n",
    "Example 1:\n",
    "```\n",
    "Input: s1 = \"ab\", s2 = \"eidbaooo\"\n",
    "Output: true\n",
    "Explanation: s2 contains one permutation of s1 (\"ba\").\n",
    "```\n",
    "\n",
    "Example 2:\n",
    "```\n",
    "Input: s1 = \"ab\", s2 = \"eidboaoo\"\n",
    "Output: false\n",
    "```\n",
    "\n",
    "\n",
    "### Constraints\n",
    "```\n",
    "1 <= s1.length, s2.length <= 104\n",
    "s1 and s2 consist of lowercase English letters.\n",
    "```\n",
    "### Followup\n"
   ]
  },
  {
   "cell_type": "markdown",
   "metadata": {},
   "source": [
    "## Analysis\n",
    "- How to check if one is a permutation of the other?\n",
    "  - Method 1: brute force -> generate all the permutations\n",
    "  - Method 2: check if the occurrences of characters are the same\n",
    "  \n",
    "## Solution"
   ]
  },
  {
   "cell_type": "code",
   "execution_count": 6,
   "metadata": {},
   "outputs": [
    {
     "name": "stdout",
     "output_type": "stream",
     "text": [
      "True\n",
      "False\n"
     ]
    }
   ],
   "source": [
    "def checkPermutation(s1, s2):\n",
    "    ns1, ns2 = len(s1), len(s2)\n",
    "    # special case\n",
    "    if ns1 > ns2:\n",
    "        return False\n",
    "\n",
    "    # hash table for s1, storing character occurence\n",
    "    s1_map = {c:s1.count(c) for c in s1}\n",
    "    # initialize s1 map\n",
    "    s2_map = {}\n",
    "\n",
    "    # initialize a sliding window\n",
    "    left, right = 0, 0\n",
    "\n",
    "    # main\n",
    "    while right < ns2:\n",
    "        c = s2[right]\n",
    "        s2_map[c] = s2_map[c]+1 if c in s2_map else 1\n",
    "        right += 1\n",
    "\n",
    "        # maitain a fixed length of window\n",
    "        while right - left >= ns1:\n",
    "            # determine if s1 is a permutation of s1\n",
    "            if s1_map == s2_map:\n",
    "                return True\n",
    "            \n",
    "            # remove left char from s2_map\n",
    "            c = s2[left]\n",
    "            s2_map[c] -= 1\n",
    "            if s2_map[c] == 0: s2_map.pop(c)\n",
    "            \n",
    "            # shrink the window \n",
    "            left += 1\n",
    "\n",
    "    return False\n",
    "\n",
    "# test\n",
    "s1 = \"ab\" \n",
    "s2 = \"eidbaooo\"\n",
    "print(checkPermutation(s1, s2))\n",
    "\n",
    "s1 = \"ab\" \n",
    "s2 = \"eidboaoo\"\n",
    "print(checkPermutation(s1, s2))\n"
   ]
  }
 ],
 "metadata": {
  "interpreter": {
   "hash": "577791f2da4ac3a13c44f20f0f30021788d0264a6d82c3224a80270143730ffe"
  },
  "kernelspec": {
   "display_name": "Python 3.8.12 ('jupyterbook-py38')",
   "language": "python",
   "name": "python3"
  },
  "language_info": {
   "codemirror_mode": {
    "name": "ipython",
    "version": 3
   },
   "file_extension": ".py",
   "mimetype": "text/x-python",
   "name": "python",
   "nbconvert_exporter": "python",
   "pygments_lexer": "ipython3",
   "version": "3.8.12"
  },
  "orig_nbformat": 4
 },
 "nbformat": 4,
 "nbformat_minor": 2
}
