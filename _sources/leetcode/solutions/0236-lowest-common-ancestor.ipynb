{
 "cells": [
  {
   "attachments": {},
   "cell_type": "markdown",
   "metadata": {},
   "source": [
    "# 0236 Lowest Common Ancestor of a Binary Tree\n",
    "\n",
    "## Problem\n",
    "Given a binary tree, find the lowest common ancestor (LCA) of two given nodes in the tree.\n",
    "\n",
    "According to the definition of LCA on Wikipedia: “The lowest common ancestor is defined between two nodes p and q as the lowest node in T that has both p and q as descendants (where we allow a node to be a descendant of itself).”\n",
    "\n",
    "### Examples \n",
    "\n",
    "Example 1:\n",
    "\n",
    "``` text\n",
    "Input: root = [3,5,1,6,2,0,8,null,null,7,4], p = 5, q = 1\n",
    "Output: 3\n",
    "Explanation: The LCA of nodes 5 and 1 is 3.\n",
    "```\n",
    "\n",
    "Example 2:\n",
    "\n",
    "```text\n",
    "Input: root = [3,5,1,6,2,0,8,null,null,7,4], p = 5, q = 4\n",
    "Output: 5\n",
    "Explanation: The LCA of nodes 5 and 4 is 5, since a node can be a descendant of itself according to the LCA definition.\n",
    "```\n",
    "\n",
    "Example 3:\n",
    "```text\n",
    "Input: root = [1,2], p = 1, q = 2\n",
    "Output: 1\n",
    "```"
   ]
  },
  {
   "attachments": {},
   "cell_type": "markdown",
   "metadata": {},
   "source": [
    "### Analysis\n",
    "\n",
    "Typical binary tree or binary search tree problem:\n",
    "- traversal or recursion as subproblem: for this problem, it seems we cannot get the results if we just traverse the tree once. Then we divide the problem into subproblems and do recursion.\n",
    "- subproblem:\n",
    "  - for each node, what should know first?? \n",
    "    - if `p` or/and `q` are in the subtrees\n",
    "  - for each node, what to do??\n",
    "    - if `p` and `q` are in different subtrees (left and right), then root is an ancestor\n",
    "    - if `p` and `q` are in the same subtree (left or right), then the node of the subtree is an ancestor\n",
    "    - if root is `p` or `q`, and both nodes are in the subtree, then root is an ancestor\n",
    "    - otherwise, `p`, `q` are not in subtree, no ancestor in current subtree\n",
    "  - for each node, when to do it?? \n",
    "    - we need pass subtree information, it is easy to use post-order."
   ]
  }
 ],
 "metadata": {
  "kernelspec": {
   "display_name": "jupyterbook-py38",
   "language": "python",
   "name": "python3"
  },
  "language_info": {
   "name": "python",
   "version": "3.8.12 (default, Oct 12 2021, 06:23:56) \n[Clang 10.0.0 ]"
  },
  "orig_nbformat": 4,
  "vscode": {
   "interpreter": {
    "hash": "577791f2da4ac3a13c44f20f0f30021788d0264a6d82c3224a80270143730ffe"
   }
  }
 },
 "nbformat": 4,
 "nbformat_minor": 2
}
