{
 "cells": [
  {
   "attachments": {},
   "cell_type": "markdown",
   "metadata": {},
   "source": [
    "# 0547 Number of Provinces\n",
    "\n",
    "## Problem\n",
    "\n",
    "There are `n` cities. Some of them are connected, while some are not. If city `a` is connected directly with city `b`, and city `b` is connected directly with city `c`, then city `a` is connected indirectly with city `c`.\n",
    "\n",
    "A province is a group of directly or indirectly connected cities and no other cities outside of the group.\n",
    "\n",
    "You are given an `n x n` matrix `isConnected` where `isConnected[i][j] = 1` if the `i`th city and the `j`th city are directly connected, and `isConnected[i][j] = 0` otherwise.\n",
    "\n",
    "Return the total number of provinces.\n",
    "\n",
    "\n",
    "### Examples \n",
    "Example 1:\n",
    "```\n",
    "Input: isConnected = [[1,1,0],[1,1,0],[0,0,1]]\n",
    "Output: 2\n",
    "\n",
    "```\n",
    "Example 2:\n",
    "```\n",
    "Input: isConnected = [[1,0,0],[0,1,0],[0,0,1]]\n",
    "Output: 3\n",
    "```\n",
    "### Constraint\n",
    "```text\n",
    "1 <= n <= 200\n",
    "n == isConnected.length\n",
    "n == isConnected[i].length\n",
    "isConnected[i][j] is 1 or 0.\n",
    "isConnected[i][i] == 1\n",
    "isConnected[i][j] == isConnected[j][i]\n",
    "```"
   ]
  },
  {
   "attachments": {},
   "cell_type": "markdown",
   "metadata": {},
   "source": [
    "## Analysis\n",
    "\n",
    "It is really easy to mix this problem with problem that calculates the number of islands (see [0200](./0200-number-of-islands.ipynb)).\n",
    "\n",
    "When using the flood algorithm, we need `not only flood the directely connected nodes, but also flood the indirect connected nodes`. "
   ]
  },
  {
   "cell_type": "code",
   "execution_count": 2,
   "metadata": {},
   "outputs": [
    {
     "name": "stdout",
     "output_type": "stream",
     "text": [
      "2\n",
      "3\n"
     ]
    }
   ],
   "source": [
    "def findCircleNum(isConnected):\n",
    "    n = len(isConnected)\n",
    "    visited = [False] * n\n",
    "\n",
    "    def dfs(isConnected, visited, i):\n",
    "        for j in range(len(isConnected)):\n",
    "            if isConnected[i][j] == 1 and not visited[j]:\n",
    "                visited[j] = True\n",
    "                dfs(isConnected, visited, j)\n",
    "    \n",
    "    count = 0\n",
    "    for i in range(n):\n",
    "        if not visited[i]:\n",
    "            dfs(isConnected, visited, i)\n",
    "            count += 1\n",
    "    return count\n",
    "\n",
    "# test\n",
    "isConnected = [[1,1,0],[1,1,0],[0,0,1]]\n",
    "print(findCircleNum(isConnected))\n",
    "\n",
    "isConnected = [[1,0,0],[0,1,0],[0,0,1]]\n",
    "print(findCircleNum(isConnected))\n"
   ]
  }
 ],
 "metadata": {
  "kernelspec": {
   "display_name": "base",
   "language": "python",
   "name": "python3"
  },
  "language_info": {
   "codemirror_mode": {
    "name": "ipython",
    "version": 3
   },
   "file_extension": ".py",
   "mimetype": "text/x-python",
   "name": "python",
   "nbconvert_exporter": "python",
   "pygments_lexer": "ipython3",
   "version": "3.8.16"
  },
  "orig_nbformat": 4
 },
 "nbformat": 4,
 "nbformat_minor": 2
}
