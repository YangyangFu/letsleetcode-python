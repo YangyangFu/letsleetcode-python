{
 "cells": [
  {
   "attachments": {},
   "cell_type": "markdown",
   "metadata": {},
   "source": [
    "# 0300 Longest Increaseing Subsequence\n",
    "\n",
    "Given an integer array nums, return the length of the longest strictly increasing \n",
    "subsequence.\n",
    "```\n",
    "Example 1:\n",
    "\n",
    "Input: nums = [10,9,2,5,3,7,101,18]\n",
    "Output: 4\n",
    "Explanation: The longest increasing subsequence is [2,3,7,101], therefore the length is 4.\n",
    "```\n",
    "```\n",
    "Example 2:\n",
    "\n",
    "Input: nums = [0,1,0,3,2,3]\n",
    "Output: 4\n",
    "```\n",
    "\n",
    "```\n",
    "Example 3:\n",
    "\n",
    "Input: nums = [7,7,7,7,7,7,7]\n",
    "Output: 1\n",
    " \n",
    "```\n",
    "```\n",
    "Constraints:\n",
    "\n",
    "1 <= nums.length <= 2500\n",
    "-104 <= nums[i] <= 104\n",
    "```\n",
    "\n",
    "Follow up: Can you come up with an algorithm that runs in O(n log(n)) time complexity?"
   ]
  },
  {
   "attachments": {},
   "cell_type": "markdown",
   "metadata": {},
   "source": [
    "- Dynamic programming solves this problem in $O(n^2)$\n",
    "- Binary search can be used here to perform $O(n^2)$ operations."
   ]
  },
  {
   "cell_type": "code",
   "execution_count": 1,
   "metadata": {},
   "outputs": [
    {
     "name": "stdout",
     "output_type": "stream",
     "text": [
      "4\n",
      "6\n",
      "9\n",
      "1\n",
      "9\n"
     ]
    }
   ],
   "source": [
    "def lengthOfLIS(nums):\n",
    "    \"\"\"\n",
    "    :type nums: List[int]\n",
    "    :rtype: int\n",
    "    \"\"\"\n",
    "    if not nums:\n",
    "        return 0\n",
    "    dp = [1] * len(nums)\n",
    "    for i in range(len(nums)):\n",
    "        for j in range(i):\n",
    "            if nums[i] > nums[j]:\n",
    "                dp[i] = max(dp[i], dp[j]+1)\n",
    "    return max(dp)\n",
    "\n",
    "\n",
    "# test on typical cases\n",
    "print(lengthOfLIS([10,9,2,5,3,7,101,18]))\n",
    "print(lengthOfLIS([1,3,6,7,9,4,10,5,6]))\n",
    "print(lengthOfLIS([1,2,3,4,5,6,7,8,9]))\n",
    "print(lengthOfLIS([9,8,7,6,5,4,3,2,1]))\n",
    "print(lengthOfLIS([1,2,3,4,5,6,7,8,9,1,2,3,4,5,6,7,8,9]))"
   ]
  },
  {
   "cell_type": "code",
   "execution_count": 3,
   "metadata": {},
   "outputs": [
    {
     "name": "stdout",
     "output_type": "stream",
     "text": [
      "4\n",
      "6\n",
      "9\n",
      "1\n",
      "9\n"
     ]
    }
   ],
   "source": [
    "# use binary search within patience sort\n",
    "def lengthOfLIS(nums):\n",
    "    \"\"\"\n",
    "    :type nums: List[int]\n",
    "    :rtype: int\n",
    "    \"\"\"\n",
    "    if not nums:\n",
    "        return 0\n",
    "    # top of each pile in the patience sort\n",
    "    # dp is sorted in ascending order\n",
    "    dp = [nums[0]]\n",
    "    for i in range(1, len(nums)):\n",
    "        if nums[i] > dp[-1]:\n",
    "            dp.append(nums[i])\n",
    "        else:\n",
    "            # binary search to find the leftmost element (smallest) in piles that is larger than nums[i]\n",
    "            l, r = 0, len(dp)-1\n",
    "            while l <= r:\n",
    "                mid = (l+r)//2\n",
    "                # move right\n",
    "                if dp[mid] < nums[i]:\n",
    "                    l = mid + 1\n",
    "                # move left\n",
    "                else:\n",
    "                    r = mid - 1\n",
    "            dp[l] = nums[i]\n",
    "    return len(dp)\n",
    "\n",
    "# test\n",
    "print(lengthOfLIS([10,9,2,5,3,7,101,18]))\n",
    "print(lengthOfLIS([1,3,6,7,9,4,10,5,6]))\n",
    "print(lengthOfLIS([1,2,3,4,5,6,7,8,9]))\n",
    "print(lengthOfLIS([9,8,7,6,5,4,3,2,1]))\n",
    "print(lengthOfLIS([1,2,3,4,5,6,7,8,9,1,2,3,4,5,6,7,8,9]))"
   ]
  }
 ],
 "metadata": {
  "kernelspec": {
   "display_name": "base",
   "language": "python",
   "name": "python3"
  },
  "language_info": {
   "codemirror_mode": {
    "name": "ipython",
    "version": 3
   },
   "file_extension": ".py",
   "mimetype": "text/x-python",
   "name": "python",
   "nbconvert_exporter": "python",
   "pygments_lexer": "ipython3",
   "version": "2022.10.undefined"
  },
  "orig_nbformat": 4
 },
 "nbformat": 4,
 "nbformat_minor": 2
}
