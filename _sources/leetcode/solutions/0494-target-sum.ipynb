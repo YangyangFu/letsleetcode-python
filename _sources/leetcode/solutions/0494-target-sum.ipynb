{
 "cells": [
  {
   "attachments": {},
   "cell_type": "markdown",
   "metadata": {},
   "source": [
    "# 0494 Target Sum\n",
    "\n",
    "## Problem\n",
    "You are given an integer array `nums` and an integer `target`.\n",
    "\n",
    "You want to build an expression out of `nums` by adding one of the symbols `+` and `-` before each integer in `nums` and then concatenate all the integers.\n",
    "\n",
    "For example, if `nums = [2, 1]`, you can add a `+` before `2` and a `-` before `1` and concatenate them to build the expression `+2-1`.\n",
    "Return the number of different expressions that you can build, which evaluates to `target`.\n",
    "\n",
    "### Examples \n",
    "Example 1:\n",
    "```\n",
    "Input: nums = [1,1,1,1,1], target = 3\n",
    "Output: 5\n",
    "Explanation: There are 5 ways to assign symbols to make the sum of nums be target 3.\n",
    "-1 + 1 + 1 + 1 + 1 = 3\n",
    "+1 - 1 + 1 + 1 + 1 = 3\n",
    "+1 + 1 - 1 + 1 + 1 = 3\n",
    "+1 + 1 + 1 - 1 + 1 = 3\n",
    "+1 + 1 + 1 + 1 - 1 = 3\n",
    "\n",
    "```\n",
    "Example 2:\n",
    "```\n",
    "Input: nums = [1], target = 1\n",
    "Output: 1\n",
    "```\n",
    "### Constraint\n",
    "```text\n",
    "1 <= nums.length <= 20\n",
    "0 <= nums[i] <= 1000\n",
    "0 <= sum(nums[i]) <= 1000\n",
    "-1000 <= target <= 1000\n",
    "```"
   ]
  },
  {
   "attachments": {},
   "cell_type": "markdown",
   "metadata": {},
   "source": [
    "## Analysis\n",
    "This is a complete knapsack problem, which can be solved using\n",
    "- backtracking\n",
    "  - duplicated subproblems\n",
    "- dynamic programming\n",
    "\n",
    "  \n",
    "## Solution"
   ]
  },
  {
   "attachments": {},
   "cell_type": "markdown",
   "metadata": {},
   "source": [
    "### Backtrack\n",
    "\n",
    "Backtrack generates a complete search tree, which leads to the time complexity of $O(2^{len(nums)})$.\n"
   ]
  },
  {
   "cell_type": "code",
   "execution_count": 5,
   "metadata": {},
   "outputs": [
    {
     "name": "stdout",
     "output_type": "stream",
     "text": [
      "5\n",
      "1\n"
     ]
    }
   ],
   "source": [
    "# use backtracking to solve the complete knapsack problem\n",
    "def targetSum(nums, target):\n",
    "    # define a result\n",
    "    res = 0\n",
    "\n",
    "    # define a backtrack function that returns the number of ways to assign symbols to make sum of nums equal to target for given first i elements and a current sum\n",
    "    def backtrack(i, curr_sum):\n",
    "        nonlocal res\n",
    "        # base case: if we have reached the end of the nums\n",
    "        # return +1 if the curr_sum is equal to target, skip otherwise\n",
    "        if i == len(nums):\n",
    "            res += 1 if curr_sum == target else 0\n",
    "            return\n",
    "\n",
    "        # backtrack(path, choices)\n",
    "        choices = [-nums[i], nums[i]]\n",
    "        for choice in choices:\n",
    "            # make a choice\n",
    "            curr_sum += choice\n",
    "            # backtrack\n",
    "            backtrack(i+1, curr_sum)\n",
    "            # undo the choice\n",
    "            curr_sum -= choice \n",
    "    \n",
    "    backtrack(0, 0)\n",
    "    return res\n",
    "\n",
    "# test\n",
    "# 5\n",
    "nums = [1, 1, 1, 1, 1]\n",
    "target = 3\n",
    "print(targetSum(nums, target))\n",
    "\n",
    "# 1\n",
    "nums = [1]\n",
    "target = 1\n",
    "print(targetSum(nums, target))"
   ]
  },
  {
   "attachments": {},
   "cell_type": "markdown",
   "metadata": {},
   "source": [
    "### Dynamic Programming"
   ]
  },
  {
   "cell_type": "code",
   "execution_count": 13,
   "metadata": {},
   "outputs": [
    {
     "name": "stdout",
     "output_type": "stream",
     "text": [
      "5\n",
      "1\n"
     ]
    }
   ],
   "source": [
    "# dp function: \n",
    "def targetSum(nums, target):\n",
    "\n",
    "    # dp function: dp[i][j] represents the number of ways to assign symbols to make sum of nums equal to j for given first i elements\n",
    "    # i = 0 means no element\n",
    "    # i = 1 means the first element\n",
    "    def dp(i, remain):\n",
    "        # base case\n",
    "        if i == 0:\n",
    "            return 1 if remain == 0 else 0\n",
    "\n",
    "        return dp(i-1, remain-nums[i-1]) + dp(i-1, remain+nums[i-1])\n",
    "    \n",
    "    return dp(len(nums), target)\n",
    "\n",
    "# test\n",
    "# 5\n",
    "nums = [1, 1, 1, 1, 1]\n",
    "target = 3\n",
    "print(targetSum(nums, target))\n",
    "\n",
    "# 1\n",
    "nums = [1]\n",
    "target = 1\n",
    "print(targetSum(nums, target))"
   ]
  },
  {
   "cell_type": "code",
   "execution_count": 15,
   "metadata": {},
   "outputs": [
    {
     "name": "stdout",
     "output_type": "stream",
     "text": [
      "5\n",
      "1\n"
     ]
    }
   ],
   "source": [
    "# DP Function with memo\n",
    "def targetSum(nums, target):\n",
    "    memo = {}\n",
    "\n",
    "    def dp(i, remain):\n",
    "        # base\n",
    "        if i == 0:\n",
    "            return 1 if remain == 0 else 0\n",
    "\n",
    "        # if in memo\n",
    "        if (i, remain) in memo:\n",
    "            return memo[(i, remain)]\n",
    "\n",
    "        # if not, then update memo: \"+nums[i-1]\" and \"-nums[i-1]\"\n",
    "        memo[(i, remain)] = dp(i-1, remain - nums[i-1]) + dp(i-1, remain + nums[i-1])\n",
    "\n",
    "        return memo[(i, remain)]\n",
    "    \n",
    "    return dp(len(nums), target)\n",
    "\n",
    "# test\n",
    "# 5\n",
    "nums = [1, 1, 1, 1, 1]\n",
    "target = 3\n",
    "print(targetSum(nums, target))\n",
    "\n",
    "# 1\n",
    "nums = [1]\n",
    "target = 1\n",
    "print(targetSum(nums, target))"
   ]
  }
 ],
 "metadata": {
  "kernelspec": {
   "display_name": "jupyterbook-py38",
   "language": "python",
   "name": "python3"
  },
  "language_info": {
   "codemirror_mode": {
    "name": "ipython",
    "version": 3
   },
   "file_extension": ".py",
   "mimetype": "text/x-python",
   "name": "python",
   "nbconvert_exporter": "python",
   "pygments_lexer": "ipython3",
   "version": "3.8.12"
  },
  "orig_nbformat": 4,
  "vscode": {
   "interpreter": {
    "hash": "577791f2da4ac3a13c44f20f0f30021788d0264a6d82c3224a80270143730ffe"
   }
  }
 },
 "nbformat": 4,
 "nbformat_minor": 2
}
