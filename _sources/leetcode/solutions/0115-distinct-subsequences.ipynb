{
 "cells": [
  {
   "attachments": {},
   "cell_type": "markdown",
   "metadata": {},
   "source": [
    "# 0115 Distinct Subsequences\n",
    "\n",
    "## Problem\n",
    "Given two strings `s` and `t`, return the number of distinct \n",
    "subsequences of `s` which equals `t`.\n",
    "\n",
    "The test cases are generated so that the answer fits on a `32-bit` signed integer.\n",
    "\n",
    "### Examples \n",
    "Example 1:\n",
    "Input: s = \"rabbbit\", t = \"rabbit\"\n",
    "Output: 3\n",
    "Explanation:\n",
    "As shown below, there are 3 ways you can generate \"rabbit\" from s.\n",
    "rabbbit\n",
    "rabbbit\n",
    "rabbbit\n",
    "\n",
    "```\n",
    "Example 2:\n",
    "```\n",
    "Input: s = \"babgbag\", t = \"bag\"\n",
    "Output: 5\n",
    "Explanation:\n",
    "As shown below, there are 5 ways you can generate \"bag\" from s.\n",
    "babgbag\n",
    "babgbag\n",
    "babgbag\n",
    "babgbag\n",
    "babgbag\n",
    "```\n",
    "### Constraint\n",
    "```text\n",
    "1 <= s.length, t.length <= 1000\n",
    "s and t consist of English letters.\n",
    "```"
   ]
  },
  {
   "attachments": {},
   "cell_type": "markdown",
   "metadata": {},
   "source": [
    "## Analysis\n",
    "This could be a permutation/arrangement problem.\n",
    "\n",
    "How many ways to make `s` (balls) into `t` (baskets)?\n",
    "\n",
    "## Solution\n",
    "This is a complete problem, which can be solved by:\n",
    "- Backtracking\n",
    "- Dynamic Programming\n"
   ]
  },
  {
   "attachments": {},
   "cell_type": "markdown",
   "metadata": {},
   "source": [
    "- `dp[i,j]`: the number of ways to generate `t[j:]` from `s[i:]`\n",
    "- `state`: i, j\n",
    "- `choices`: \n",
    "- `state transition`:\n",
    "  - if `s[i] != t[j]`: the first character is the not same\n",
    "    - only one choice, which is we cannot put `s[i]` in the bag\n",
    "      - `dp[i,j] = dp[i+1, j]`\n",
    "  - if `s[i] == t[j]`: \n",
    "    - there are two choices: put `s[i]` in the bag, or not\n",
    "      - `dp[i,j] = dp[i+1,j+1] + dp[i+1, j]`\n",
    "- `base case`:\n",
    "  - `j=len(t)`, where `t[j:]` is empty. this always one way, which is `not do anything`.\n",
    "  - `s` shorter than `t`: return 0 "
   ]
  },
  {
   "cell_type": "code",
   "execution_count": 1,
   "metadata": {},
   "outputs": [
    {
     "name": "stdout",
     "output_type": "stream",
     "text": [
      "3\n",
      "5\n"
     ]
    }
   ],
   "source": [
    "# DP Function\n",
    "def distinctSubsequences(s,t):\n",
    "\n",
    "    # dp(i,j) return the number of distinct subsequences of t[j:] in s[i:]\n",
    "    def dp(i, j):\n",
    "        # base case 1\n",
    "        if j == len(t):\n",
    "            return 1\n",
    "        # base case 2\n",
    "        if len(s[i:]) < len(t[j:]):\n",
    "            return 0\n",
    "        # if the current characters do not match\n",
    "        if s[i] != t[j]:\n",
    "            return dp(i+1, j)\n",
    "        else:\n",
    "            return dp(i+1, j+1) + dp(i+1,j)\n",
    "    \n",
    "    return dp(0,0)\n",
    "\n",
    "# test case\n",
    "# 3\n",
    "s = \"rabbbit\"\n",
    "t = \"rabbit\"\n",
    "print(distinctSubsequences(s,t))\n",
    "# 5\n",
    "s = \"babgbag\"\n",
    "t = \"bag\"\n",
    "print(distinctSubsequences(s,t))\n"
   ]
  },
  {
   "cell_type": "code",
   "execution_count": 2,
   "metadata": {},
   "outputs": [
    {
     "name": "stdout",
     "output_type": "stream",
     "text": [
      "3\n",
      "5\n"
     ]
    }
   ],
   "source": [
    "# DP Function with memo\n",
    "def distinctSubsequences(s,t):\n",
    "    memo = {}\n",
    "\n",
    "    # dp(i,j) return the number of distinct subsequences of t[j:] in s[i:]\n",
    "    def dp(i, j):\n",
    "        # base case 1\n",
    "        if j == len(t):\n",
    "            return 1\n",
    "        # base case 2\n",
    "        if len(s[i:]) < len(t[j:]):\n",
    "            return 0\n",
    "        \n",
    "        if (i,j) in memo:\n",
    "            return memo[(i,j)]\n",
    "        # if the current characters do not match\n",
    "        if s[i] != t[j]:\n",
    "            memo[(i, j)] = dp(i+1, j)\n",
    "        else:\n",
    "            memo[(i,j)] = dp(i+1, j+1) + dp(i+1,j)\n",
    "        return memo[(i,j)]\n",
    "        \n",
    "    return dp(0,0)\n",
    "\n",
    "# test case\n",
    "# 3\n",
    "s = \"rabbbit\"\n",
    "t = \"rabbit\"\n",
    "print(distinctSubsequences(s,t))\n",
    "# 5\n",
    "s = \"babgbag\"\n",
    "t = \"bag\"\n",
    "print(distinctSubsequences(s,t))"
   ]
  },
  {
   "cell_type": "code",
   "execution_count": 3,
   "metadata": {},
   "outputs": [
    {
     "name": "stdout",
     "output_type": "stream",
     "text": [
      "3\n",
      "5\n"
     ]
    }
   ],
   "source": [
    "# DP table\n",
    "def distinctSubsequences(s,t):\n",
    "    m, n = len(s), len(t)\n",
    "    dp = [[0] * (n+1) for _ in range(m+1)]\n",
    "\n",
    "    # base case\n",
    "    for i in range(m+1):\n",
    "        dp[i][n] = 1\n",
    "    for j in range(n):\n",
    "        dp[m][j] = 0\n",
    "    \n",
    "    for i in range(m-1,-1,-1):\n",
    "        for j in range(n-1, -1, -1):\n",
    "            if s[i] != t[j]:\n",
    "                dp[i][j] = dp[i+1][j]\n",
    "            else:\n",
    "                dp[i][j] = dp[i+1][j+1] + dp[i+1][j]\n",
    "    return dp[0][0]\n",
    "\n",
    "# test case\n",
    "# 3\n",
    "s = \"rabbbit\"\n",
    "t = \"rabbit\"\n",
    "print(distinctSubsequences(s,t))\n",
    "# 5\n",
    "s = \"babgbag\"\n",
    "t = \"bag\"\n",
    "print(distinctSubsequences(s,t))"
   ]
  }
 ],
 "metadata": {
  "kernelspec": {
   "display_name": "jupyterbook-py38",
   "language": "python",
   "name": "python3"
  },
  "language_info": {
   "codemirror_mode": {
    "name": "ipython",
    "version": 3
   },
   "file_extension": ".py",
   "mimetype": "text/x-python",
   "name": "python",
   "nbconvert_exporter": "python",
   "pygments_lexer": "ipython3",
   "version": "3.8.12"
  },
  "orig_nbformat": 4,
  "vscode": {
   "interpreter": {
    "hash": "577791f2da4ac3a13c44f20f0f30021788d0264a6d82c3224a80270143730ffe"
   }
  }
 },
 "nbformat": 4,
 "nbformat_minor": 2
}
