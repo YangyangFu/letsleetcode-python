{
 "cells": [
  {
   "attachments": {},
   "cell_type": "markdown",
   "metadata": {},
   "source": [
    "# 1631 Path With Minimum Effort\n",
    "\n",
    "## Problem\n",
    "You are a hiker preparing for an upcoming hike. You are given heights, a `2D` array of size `rows x columns`, where `heights[row][col]` represents the height of cell `(row, col)`. You are situated in the top-left cell, `(0, 0)`, and you hope to travel to the bottom-right cell, `(rows-1, columns-1)` (i.e., 0-indexed). You can move up, down, left, or right, and you wish to find a route that requires the minimum effort.\n",
    "\n",
    "A route's effort is the maximum absolute difference in heights between two consecutive cells of the route.\n",
    "\n",
    "Return the minimum effort required to travel from the top-left cell to the bottom-right cell.\n",
    "\n",
    "### Examples \n",
    "Example 1:\n",
    "```\n",
    "Input: heights = [[1,2,2],[3,8,2],[5,3,5]]\n",
    "Output: 2\n",
    "Explanation: The route of [1,3,5,3,5] has a maximum absolute difference of 2 in consecutive cells.\n",
    "This is better than the route of [1,2,2,2,5], where the maximum absolute difference is 3.\n",
    "\n",
    "```\n",
    "Example 2:\n",
    "```\n",
    "Input: heights = [[1,2,3],[3,8,4],[5,3,5]]\n",
    "Output: 1\n",
    "Explanation: The route of [1,2,3,4,5] has a maximum absolute difference of 1 in consecutive cells, which is better than route [1,3,5,3,5].\n",
    "```\n",
    "Example 3:\n",
    "```\n",
    "Input: heights = [[1,2,1,1,1],[1,2,1,2,1],[1,2,1,2,1],[1,2,1,2,1],[1,1,1,2,1]]\n",
    "Output: 0\n",
    "Explanation: This route does not require any effort.\n",
    "```\n",
    "### Constraint\n",
    "```text\n",
    "rows == heights.length\n",
    "columns == heights[i].length\n",
    "1 <= rows, columns <= 100\n",
    "1 <= heights[i][j] <= 106\n",
    "```"
   ]
  },
  {
   "attachments": {},
   "cell_type": "markdown",
   "metadata": {},
   "source": [
    "## Analysis\n",
    "Single pair shortest weighted path problem can be solved using Dijkstra's algorithm and DFS\n",
    "  \n",
    "## Solution"
   ]
  },
  {
   "cell_type": "code",
   "execution_count": 1,
   "metadata": {},
   "outputs": [
    {
     "name": "stdout",
     "output_type": "stream",
     "text": [
      "2\n",
      "1\n",
      "0\n",
      "1\n"
     ]
    }
   ],
   "source": [
    "def minEffort(heights):\n",
    "\n",
    "    neighbors = [(0, 1), (0, -1), (1, 0), (-1, 0)]\n",
    "    m, n = len(heights), len(heights[0])\n",
    "    \n",
    "    distances = [[float('inf')] * n for _ in range(m)]\n",
    "    distances[0][0] = 0\n",
    "\n",
    "    queue = [(0, (0,0))]\n",
    "\n",
    "    while queue:\n",
    "        distance, (i, j) = queue.pop()\n",
    "        for di, dj in neighbors:\n",
    "            ni, nj = i + di, j + dj\n",
    "            if 0 <= ni < m and 0 <= nj < n:\n",
    "                distance_ni_nj = max(distances[i][j], heights[ni][nj] - heights[i][j])\n",
    "                if distance_ni_nj < distances[ni][nj]:\n",
    "                    distances[ni][nj] = distance_ni_nj\n",
    "                    queue.append((distance_ni_nj, (ni, nj)))\n",
    "    return distances[-1][-1]\n",
    "\n",
    "# test \n",
    "heights = [[1,2,2],[3,8,2],[5,3,5]]\n",
    "print(minEffort(heights))\n",
    "\n",
    "heights = [[1,2,3],[3,8,4],[5,3,5]]\n",
    "print(minEffort(heights))\n",
    "\n",
    "heights = [[1,2,1,1,1],[1,2,1,2,1],[1,2,1,2,1],[1,2,1,2,1],[1,1,1,2,1]]\n",
    "print(minEffort(heights))\n",
    "\n",
    "# 6\n",
    "heights = [[10,8],[10,8],[1,2],[10,3],[1,3],[6,3],[5,2]]\n",
    "print(minEffort(heights))"
   ]
  }
 ],
 "metadata": {
  "kernelspec": {
   "display_name": "jupyterbook-py38",
   "language": "python",
   "name": "python3"
  },
  "language_info": {
   "codemirror_mode": {
    "name": "ipython",
    "version": 3
   },
   "file_extension": ".py",
   "mimetype": "text/x-python",
   "name": "python",
   "nbconvert_exporter": "python",
   "pygments_lexer": "ipython3",
   "version": "3.8.12"
  },
  "orig_nbformat": 4,
  "vscode": {
   "interpreter": {
    "hash": "577791f2da4ac3a13c44f20f0f30021788d0264a6d82c3224a80270143730ffe"
   }
  }
 },
 "nbformat": 4,
 "nbformat_minor": 2
}
