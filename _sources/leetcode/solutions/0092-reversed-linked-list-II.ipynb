{
 "cells": [
  {
   "cell_type": "markdown",
   "metadata": {},
   "source": [
    "# 0092. Reversed Linked List ii\n",
    "\n",
    "## Problem\n",
    "\n",
    "Given the `head` of a singly linked list and two integers `left` and `right` where `left <= right`, reverse the nodes of the list from position `left` to position `right`, and return the `reversed` list.\n",
    "\n",
    "### Examples \n",
    "\n",
    "Example 1:\n",
    "\n",
    "``` text\n",
    "Input: head = [1,2,3,4,5], left = 2, right = 4\n",
    "Output: [1,4,3,2,5]\n",
    "```\n",
    "\n",
    "Example 2:\n",
    "\n",
    "```text\n",
    "Input: head = [5], left = 1, right = 1\n",
    "Output: [5]\n",
    "```\n",
    "\n",
    "### Constraints:\n",
    "\n",
    "```text\n",
    "The number of nodes in the list is n.\n",
    "1 <= n <= 500\n",
    "-500 <= Node.val <= 500\n",
    "1 <= left <= right <= n\n",
    "\n",
    "```\n",
    " \n",
    "### Follow-up\n"
   ]
  },
  {
   "cell_type": "markdown",
   "metadata": {},
   "source": [
    "## Analysis\n",
    " "
   ]
  },
  {
   "cell_type": "code",
   "execution_count": 2,
   "metadata": {},
   "outputs": [
    {
     "name": "stdout",
     "output_type": "stream",
     "text": [
      "[1, 2, 3, 4, 5]\n"
     ]
    }
   ],
   "source": [
    "# some definitions\n",
    "class ListNode:\n",
    "    def __init__(self, val=0, next=None):\n",
    "        self.val = val \n",
    "        self.next = next \n",
    "\n",
    "def list_to_linkedlist(list):\n",
    "    head = ListNode()\n",
    "    node = head\n",
    "    for v in list:\n",
    "        v_node = ListNode(v)\n",
    "        node.next = v_node\n",
    "        node = node.next\n",
    "\n",
    "    return head.next\n",
    "\n",
    "def print_linkedlist(linked_list):\n",
    "    res = []\n",
    "    while linked_list:\n",
    "        res.append(linked_list.val)\n",
    "        linked_list = linked_list.next\n",
    "    print(res)\n",
    "    \n",
    "list = [1,2,3,4,5]\n",
    "head = list_to_linkedlist(list)\n",
    "print_linkedlist(head)"
   ]
  },
  {
   "cell_type": "code",
   "execution_count": 3,
   "metadata": {},
   "outputs": [
    {
     "name": "stdout",
     "output_type": "stream",
     "text": [
      "[1, 4, 3, 2, 5]\n",
      "[5]\n",
      "[5, 2]\n"
     ]
    }
   ],
   "source": [
    "# solution 1: two pointers O(N) in time, and O(1) in space\n",
    "# one for current node, and the other for previous node\n",
    "# 1-2-3-4-5-6 -> 1-2-3-4-5 -> 2-1 3-4-5 -> 3-2-1 4-5 -> 4-3-2-1 5 -> 5-4-3-2-1\n",
    "# find and save the left node \n",
    "# move pointer right until the right node is found\n",
    "# reverse the nodes from left to right\n",
    "def solution(head, left, right):\n",
    "    \n",
    "    # empty list\n",
    "\n",
    "    # move two pointers till the left node\n",
    "    prev, cur = None, head\n",
    "    while left > 1:\n",
    "        prev = cur\n",
    "        cur = cur.next\n",
    "        left -= 1\n",
    "        right -= 1\n",
    "    \n",
    "    # find the left node and save two pointers for final use\n",
    "    hea = prev\n",
    "    tail = cur \n",
    "\n",
    "    # reverse\n",
    "    while right > 0:\n",
    "        next = cur.next # save the next node as cur.next will be swaped\n",
    "        cur.next = prev\n",
    "\n",
    "        # move forward\n",
    "        prev = cur \n",
    "        cur = next\n",
    "        right -= 1\n",
    "\n",
    "    # connect the previous \"left\" node, the reversed nodes from \"left\" to \"right\", and the \"right\" nodes\n",
    "    if hea:\n",
    "        hea.next = prev \n",
    "    else:\n",
    "        head = prev\n",
    "    if tail:\n",
    "        tail.next = cur \n",
    "\n",
    "    return head\n",
    "\n",
    "#test\n",
    "list = list_to_linkedlist([1,2,3,4,5])\n",
    "left = 2\n",
    "right = 4\n",
    "print_linkedlist(solution(list, left, right))\n",
    "\n",
    "list = list_to_linkedlist([5])\n",
    "left = 1\n",
    "right = 1\n",
    "print_linkedlist(solution(list, left, right))\n",
    "\n",
    "\n",
    "list = list_to_linkedlist([2,5])\n",
    "left = 1\n",
    "right = 2\n",
    "print_linkedlist(solution(list, left, right))"
   ]
  }
 ],
 "metadata": {
  "interpreter": {
   "hash": "577791f2da4ac3a13c44f20f0f30021788d0264a6d82c3224a80270143730ffe"
  },
  "kernelspec": {
   "display_name": "Python 3.8.12 ('jupyterbook-py38')",
   "language": "python",
   "name": "python3"
  },
  "language_info": {
   "codemirror_mode": {
    "name": "ipython",
    "version": 3
   },
   "file_extension": ".py",
   "mimetype": "text/x-python",
   "name": "python",
   "nbconvert_exporter": "python",
   "pygments_lexer": "ipython3",
   "version": "3.8.12"
  },
  "orig_nbformat": 4
 },
 "nbformat": 4,
 "nbformat_minor": 2
}
