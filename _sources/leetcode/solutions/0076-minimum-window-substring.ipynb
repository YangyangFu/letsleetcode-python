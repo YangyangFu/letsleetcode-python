{
 "cells": [
  {
   "cell_type": "markdown",
   "metadata": {},
   "source": [
    "# 0076 Minimum Window Substring\n",
    "## Problem\n",
    "Given two strings `s` and `t` of lengths `m` and `n` respectively, return the minimum window substring of `s` such that every character in `t` (including duplicates) is included in the window. If there is no such substring, return the empty string `\"\"`.\n",
    "\n",
    "The testcases will be generated such that the answer is unique.\n",
    "\n",
    "A substring is a contiguous sequence of characters within the string.\n",
    "\n",
    "### Examples \n",
    "Example 1:\n",
    "```\n",
    "Input: s = \"ADOBECODEBANC\", t = \"ABC\"\n",
    "Output: \"BANC\"\n",
    "Explanation: The minimum window substring \"BANC\" includes 'A', 'B', and 'C' from string t.\n",
    "```\n",
    "\n",
    "Example 2:\n",
    "```\n",
    "Input: s = \"a\", t = \"a\"\n",
    "Output: \"a\"\n",
    "Explanation: The entire string s is the minimum window.\n",
    "```\n",
    "\n",
    "Example 3:\n",
    "```\n",
    "Input: s = \"a\", t = \"aa\"\n",
    "Output: \"\"\n",
    "Explanation: Both 'a's from t must be included in the window.\n",
    "Since the largest window of s only has one 'a', return empty string.\n",
    "```\n",
    "### Constraints\n",
    "```\n",
    "m == s.length\n",
    "n == t.length\n",
    "1 <= m, n <= 105\n",
    "s and t consist of uppercase and lowercase English letters.\n",
    "```\n",
    "### Followup\n",
    "\n",
    "Could you find an algorithm that runs in `O(m + n)` time?"
   ]
  },
  {
   "cell_type": "markdown",
   "metadata": {},
   "source": [
    "## Analysis\n",
    "\n",
    "  \n",
    "## Solution"
   ]
  },
  {
   "cell_type": "code",
   "execution_count": 12,
   "metadata": {},
   "outputs": [
    {
     "name": "stdout",
     "output_type": "stream",
     "text": [
      "BANC\n",
      "a\n",
      "\n"
     ]
    }
   ],
   "source": [
    "def minWindow(s, t):\n",
    "    # initialize some hash map\n",
    "    map_t = {c:t.count(c) for c in set(t)}\n",
    "    map_s = {}\n",
    "\n",
    "    # two pointer for sliding window\n",
    "    left, right = 0, 0\n",
    "    # record minimum string start index and length\n",
    "    start, min_length = 0, len(s) + 1\n",
    "\n",
    "    # define a helper function\n",
    "    def isValidSubset(map_t, map_s):\n",
    "        # check if map_t is a valid subset of map_s\n",
    "        for key in map_t.keys():\n",
    "            if key not in map_s or map_s[key] < map_t[key]:\n",
    "                return False\n",
    "        return True\n",
    "\n",
    "    # main algorithm\n",
    "    while right < len(s):\n",
    "        # character at right pointer\n",
    "        c = s[right]\n",
    "        # enlarge window\n",
    "        right += 1\n",
    "        # save to map\n",
    "        if c in map_s:\n",
    "            map_s[c] += 1\n",
    "        else:\n",
    "            map_s[c] = 1\n",
    "\n",
    "        # shrink window if current window has all the target characters\n",
    "        # keys of target are in s, and occurences in target should be less than that in the source map \n",
    "        while isValidSubset(map_t, map_s):\n",
    "            # update substring length\n",
    "            # note the right pointers has moved forward by 1 step\n",
    "            length = right - left\n",
    "            if length < min_length:\n",
    "                min_length = length\n",
    "                start = left \n",
    "\n",
    "            # remove left char\n",
    "            c = s[left]\n",
    "            # shrink window\n",
    "            left += 1\n",
    "            # remove occurence in map_s\n",
    "            map_s[c] -= 1\n",
    "            if map_s[c] == 0:\n",
    "                map_s.pop(c)\n",
    "\n",
    "    # return\n",
    "    return s[start:start+min_length] if min_length <= len(s) else \"\"\n",
    "\n",
    "# test\n",
    "s = \"ADOBECODEBANC\" \n",
    "t = \"ABC\"\n",
    "print(minWindow(s, t))\n",
    "\n",
    "s = \"a\" \n",
    "t = \"a\"\n",
    "print(minWindow(s, t))\n",
    "\n",
    "s = \"a\" \n",
    "t = \"aa\"\n",
    "print(minWindow(s, t))\n"
   ]
  }
 ],
 "metadata": {
  "interpreter": {
   "hash": "577791f2da4ac3a13c44f20f0f30021788d0264a6d82c3224a80270143730ffe"
  },
  "kernelspec": {
   "display_name": "Python 3.8.12 ('jupyterbook-py38')",
   "language": "python",
   "name": "python3"
  },
  "language_info": {
   "codemirror_mode": {
    "name": "ipython",
    "version": 3
   },
   "file_extension": ".py",
   "mimetype": "text/x-python",
   "name": "python",
   "nbconvert_exporter": "python",
   "pygments_lexer": "ipython3",
   "version": "3.8.12"
  },
  "orig_nbformat": 4
 },
 "nbformat": 4,
 "nbformat_minor": 2
}
