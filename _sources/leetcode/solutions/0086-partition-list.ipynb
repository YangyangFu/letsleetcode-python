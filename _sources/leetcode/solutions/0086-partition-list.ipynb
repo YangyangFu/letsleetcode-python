{
 "cells": [
  {
   "cell_type": "markdown",
   "metadata": {},
   "source": [
    "# 0086 Partition List\n",
    "\n",
    "## Problem\n",
    "Given the head of a linked list and a value `x`, partition it such that all nodes less than `x` come before nodes greater than or equal to `x`.\n",
    "\n",
    "You should preserve the original relative order of the nodes in each of the two partitions.\n",
    "\n",
    "### Examples \n",
    "Example 1:\n",
    "```\n",
    "Input: head = [1,4,3,2,5,2], x = 3\n",
    "Output: [1,2,2,4,3,5]\n",
    "```\n",
    "\n",
    "Example 2:\n",
    "```\n",
    "Input: head = [2,1], x = 2\n",
    "Output: [1,2]\n",
    "```\n",
    "\n",
    "### Constraints\n",
    "```\n",
    "The number of nodes in the list is in the range [0, 200].\n",
    "-100 <= Node.val <= 100\n",
    "-200 <= x <= 200\n",
    "```"
   ]
  },
  {
   "cell_type": "markdown",
   "metadata": {},
   "source": [
    "## Analysis\n",
    "\n",
    "\n",
    "\n",
    "## Solution"
   ]
  },
  {
   "cell_type": "code",
   "execution_count": 1,
   "metadata": {},
   "outputs": [],
   "source": [
    "class Node():\n",
    "    def __init__(self, val=0, next=None):\n",
    "        self.val = val\n",
    "        self.next = next\n",
    "\n",
    "def build(A):\n",
    "    dummy = Node()\n",
    "\n",
    "    if not A:\n",
    "        return dummy.next\n",
    "    \n",
    "    prev = dummy\n",
    "    for a in A:\n",
    "        cur = Node(a)\n",
    "        prev.next = cur \n",
    "        prev = cur\n",
    "    \n",
    "    return dummy.next \n",
    "\n",
    "def linkedListToList(head):\n",
    "    res = []\n",
    "    while head:\n",
    "        res.append(head.val)\n",
    "        head = head.next\n",
    "    return res\n"
   ]
  },
  {
   "cell_type": "code",
   "execution_count": 3,
   "metadata": {},
   "outputs": [
    {
     "name": "stdout",
     "output_type": "stream",
     "text": [
      "[1, 2, 2, 4, 3, 5]\n",
      "[1, 2]\n"
     ]
    }
   ],
   "source": [
    "def partitionList(head, x):\n",
    "    dummy1 = Node(0)\n",
    "    dummy2 = Node(0)\n",
    "    \n",
    "    p, p1, p2 = head, dummy1, dummy2\n",
    "    while p:\n",
    "        if p.val < x:\n",
    "            p1.next = p \n",
    "            p1 = p1.next \n",
    "        else:\n",
    "            p2.next = p\n",
    "            p2 = p2.next \n",
    "        # both p1 and p2 should have none next pointer after update\n",
    "        # which means p.next should be none\n",
    "        temp = p.next\n",
    "        p.next = None\n",
    "        # advance \n",
    "        p = temp\n",
    "    \n",
    "    # combine\n",
    "    p1.next = dummy2.next\n",
    "\n",
    "    return dummy1.next \n",
    "\n",
    "# test\n",
    "head = build([1,4,3,2,5,2])\n",
    "x = 3\n",
    "newhead = partitionList(head, x)\n",
    "print(linkedListToList(newhead))\n",
    "\n",
    "head = build([2, 1])\n",
    "x = 2\n",
    "newhead = partitionList(head, x)\n",
    "print(linkedListToList(newhead))\n"
   ]
  }
 ],
 "metadata": {
  "interpreter": {
   "hash": "577791f2da4ac3a13c44f20f0f30021788d0264a6d82c3224a80270143730ffe"
  },
  "kernelspec": {
   "display_name": "Python 3.8.12 ('jupyterbook-py38')",
   "language": "python",
   "name": "python3"
  },
  "language_info": {
   "codemirror_mode": {
    "name": "ipython",
    "version": 3
   },
   "file_extension": ".py",
   "mimetype": "text/x-python",
   "name": "python",
   "nbconvert_exporter": "python",
   "pygments_lexer": "ipython3",
   "version": "3.8.12"
  },
  "orig_nbformat": 4
 },
 "nbformat": 4,
 "nbformat_minor": 2
}
