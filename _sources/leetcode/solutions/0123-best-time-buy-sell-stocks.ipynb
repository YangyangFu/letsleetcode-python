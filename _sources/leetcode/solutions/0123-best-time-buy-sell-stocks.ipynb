{
 "cells": [
  {
   "attachments": {},
   "cell_type": "markdown",
   "metadata": {},
   "source": [
    "# 0123 Best Time to Buy and Sell Stock III\n",
    "\n",
    "You are given an array prices where prices[i] is the price of a given stock on the ith day.\n",
    "\n",
    "Find the maximum profit you can achieve. You may complete at most two transactions.\n",
    "\n",
    "Note: You may not engage in multiple transactions simultaneously (i.e., you must sell the stock before you buy again).\n",
    "\n",
    " \n",
    "```\n",
    "Example 1:\n",
    "\n",
    "Input: prices = [3,3,5,0,0,3,1,4]\n",
    "Output: 6\n",
    "Explanation: Buy on day 4 (price = 0) and sell on day 6 (price = 3), profit = 3-0 = 3.\n",
    "Then buy on day 7 (price = 1) and sell on day 8 (price = 4), profit = 4-1 = 3.\n",
    "\n",
    "Example 2:\n",
    "\n",
    "Input: prices = [1,2,3,4,5]\n",
    "Output: 4\n",
    "Explanation: Buy on day 1 (price = 1) and sell on day 5 (price = 5), profit = 5-1 = 4.\n",
    "Note that you cannot buy on day 1, buy on day 2 and sell them later, as you are engaging multiple transactions at the same time. You must sell before buying again.\n",
    "Example 3:\n",
    "\n",
    "Input: prices = [7,6,4,3,1]\n",
    "Output: 0\n",
    "Explanation: In this case, no transaction is done, i.e. max profit = 0.\n",
    "```\n",
    "\n",
    "Constraints:\n",
    "```\n",
    "1 <= prices.length <= 105\n",
    "0 <= prices[i] <= 105\n",
    "```"
   ]
  },
  {
   "cell_type": "code",
   "execution_count": 2,
   "metadata": {},
   "outputs": [
    {
     "data": {
      "text/plain": [
       "6"
      ]
     },
     "execution_count": 2,
     "metadata": {},
     "output_type": "execute_result"
    }
   ],
   "source": [
    "def maxProfit(prices):\n",
    "\n",
    "    # 1. Define the state\n",
    "    # dp[i][j][k] represents the max profit at day i, with j transactions, and k stocks in hand\n",
    "    # j = 0, 1, 2\n",
    "    # k = 0, 1\n",
    "    # 0 <= i < len(prices)\n",
    "    dp = [[[0 for _ in range(2)] for _ in range(3)] for _ in range(len(prices))]\n",
    "\n",
    "    # 2. Initialize the state\n",
    "    # dp[0][0][0] = 0\n",
    "    # dp[0][0][1] = -prices[0]\n",
    "    # dp[0][1][0] = 0\n",
    "    # dp[0][1][1] = -prices[0]\n",
    "    # dp[0][2][0] = 0\n",
    "    # dp[0][2][1] = -prices[0]\n",
    "    for j in range(3):\n",
    "        # profit at day 0 with j transactions and 0 stock in hand is 0\n",
    "        dp[0][j][0] = 0\n",
    "        # profit at day 0 with j transactions and 1 stock in hand is -prices[0]\n",
    "        dp[0][j][1] = -prices[0]\n",
    "\n",
    "    # 3. Define the loop\n",
    "    for i in range(1, len(prices)):\n",
    "        for j in range(1, 3):\n",
    "            # no stock in hand at day i with j transactions: sell stock at day i-1 or do nothing\n",
    "            dp[i][j][0] = max(dp[i-1][j][0], dp[i-1][j][1] + prices[i])\n",
    "            # stock in hand at day i with j transactions: buy stock at day i-1 or do nothing\n",
    "            dp[i][j][1] = max(dp[i-1][j][1], dp[i-1][j-1][0] - prices[i])\n",
    "    \n",
    "    # 4. Return the final state\n",
    "    return dp[len(prices)-1][2][0]\n",
    "\n",
    "# test  \n",
    "prices = [3,3,5,0,0,3,1,4]\n",
    "maxProfit(prices)\n",
    "\n"
   ]
  }
 ],
 "metadata": {
  "kernelspec": {
   "display_name": "base",
   "language": "python",
   "name": "python3"
  },
  "language_info": {
   "codemirror_mode": {
    "name": "ipython",
    "version": 3
   },
   "file_extension": ".py",
   "mimetype": "text/x-python",
   "name": "python",
   "nbconvert_exporter": "python",
   "pygments_lexer": "ipython3",
   "version": "3.8.16"
  },
  "orig_nbformat": 4
 },
 "nbformat": 4,
 "nbformat_minor": 2
}
