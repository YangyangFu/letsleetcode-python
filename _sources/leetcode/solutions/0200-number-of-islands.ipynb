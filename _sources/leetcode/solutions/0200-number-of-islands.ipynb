{
 "cells": [
  {
   "cell_type": "markdown",
   "metadata": {},
   "source": [
    "# 0200. Number of islands\n",
    "\n",
    "## Problem\n",
    "\n",
    "Given an `m x n` 2D binary grid grid which represents a map of `'1'`s (land) and `'0'`s (water), return the number of islands.\n",
    "\n",
    "An island is surrounded by water and is formed by connecting adjacent lands horizontally or vertically. You may assume all four edges of the grid are all surrounded by water.\n",
    "\n",
    "### Examples \n",
    "\n",
    "Example 1:\n",
    "```\n",
    "Input: grid = [\n",
    "  [\"1\",\"1\",\"1\",\"1\",\"0\"],\n",
    "  [\"1\",\"1\",\"0\",\"1\",\"0\"],\n",
    "  [\"1\",\"1\",\"0\",\"0\",\"0\"],\n",
    "  [\"0\",\"0\",\"0\",\"0\",\"0\"]\n",
    "]\n",
    "Output: 1\n",
    "```\n",
    "\n",
    "Example 2:\n",
    "```\n",
    "Input: grid = [\n",
    "  [\"1\",\"1\",\"0\",\"0\",\"0\"],\n",
    "  [\"1\",\"1\",\"0\",\"0\",\"0\"],\n",
    "  [\"0\",\"0\",\"1\",\"0\",\"0\"],\n",
    "  [\"0\",\"0\",\"0\",\"1\",\"1\"]\n",
    "]\n",
    "Output: 3\n",
    "```\n",
    "### Constraints:\n",
    "\n",
    "```\n",
    "m == grid.length\n",
    "n == grid[i].length\n",
    "1 <= m, n <= 300\n",
    "grid[i][j] is '0' or '1'.\n",
    "```"
   ]
  },
  {
   "cell_type": "markdown",
   "metadata": {},
   "source": [
    "## Analysis\n",
    "\n",
    "- DFS:\n"
   ]
  },
  {
   "cell_type": "markdown",
   "metadata": {},
   "source": [
    "## Solution"
   ]
  },
  {
   "cell_type": "code",
   "execution_count": 1,
   "metadata": {},
   "outputs": [
    {
     "name": "stdout",
     "output_type": "stream",
     "text": [
      "1\n",
      "3\n"
     ]
    }
   ],
   "source": [
    "\"\"\"A solution using DFS\"\"\"\n",
    "def solution(grid):\n",
    "\n",
    "        R, C = len(grid), len(grid[0])\n",
    "        seen = []\n",
    "        \n",
    "        def dfs(grid, sr, sc):\n",
    "            \n",
    "            if grid[sr][sc]==\"1\" and (sr, sc) not in seen:\n",
    "                seen.append((sr, sc))\n",
    "  \n",
    "                # move pointer\n",
    "                if sr > 0:\n",
    "                    dfs(grid, sr - 1, sc)\n",
    "                if sr < R - 1:\n",
    "                    dfs(grid, sr + 1, sc)\n",
    "                if sc > 0:\n",
    "                    dfs(grid, sr, sc - 1)\n",
    "                if sc < C - 1:\n",
    "                    dfs(grid, sr, sc + 1)\n",
    "        \n",
    "        num_island = 0\n",
    "        for r in range(R):\n",
    "            for c in range(C):\n",
    "                if grid[r][c]==\"1\" and (r,c) not in seen:\n",
    "                    dfs(grid, r, c)\n",
    "                    num_island += 1\n",
    "        \n",
    "        return num_island\n",
    "\n",
    "# tests\n",
    "grid = [\n",
    "  [\"1\",\"1\",\"1\",\"1\",\"0\"],\n",
    "  [\"1\",\"1\",\"0\",\"1\",\"0\"],\n",
    "  [\"1\",\"1\",\"0\",\"0\",\"0\"],\n",
    "  [\"0\",\"0\",\"0\",\"0\",\"0\"]\n",
    "]\n",
    "print(solution(grid))\n",
    "\n",
    "grid = [\n",
    "  [\"1\",\"1\",\"0\",\"0\",\"0\"],\n",
    "  [\"1\",\"1\",\"0\",\"0\",\"0\"],\n",
    "  [\"0\",\"0\",\"1\",\"0\",\"0\"],\n",
    "  [\"0\",\"0\",\"0\",\"1\",\"1\"]\n",
    "]\n",
    "print(solution(grid))\n"
   ]
  },
  {
   "cell_type": "markdown",
   "metadata": {},
   "source": [
    "The above implementation has an extra O(m*n) complexity, which fails to pass in the leetcode test. \n",
    "The reason is an extra list is introduced to store the seen land cell.\n",
    "If modifying the original array is allowed, we can avoid creating an extra space for storing seen elements by modifying its values in-place.\n",
    "The improved implementation is shown as next.\n",
    "\n"
   ]
  },
  {
   "cell_type": "code",
   "execution_count": 2,
   "metadata": {},
   "outputs": [
    {
     "name": "stdout",
     "output_type": "stream",
     "text": [
      "1\n",
      "3\n"
     ]
    }
   ],
   "source": [
    "\"\"\"A solution using DFS to avoid extra O(n) space using seen\"\"\"\n",
    "def solution(grid):\n",
    "\n",
    "        R, C = len(grid), len(grid[0])\n",
    "        seen = \"2\"\n",
    "        def dfs(grid, sr, sc):\n",
    "            \n",
    "            if grid[sr][sc]==\"1\":\n",
    "                grid[sr][sc] = seen\n",
    "  \n",
    "                # move pointer\n",
    "                if sr > 0:\n",
    "                    dfs(grid, sr - 1, sc)\n",
    "                if sr < R - 1:\n",
    "                    dfs(grid, sr + 1, sc)\n",
    "                if sc > 0:\n",
    "                    dfs(grid, sr, sc - 1)\n",
    "                if sc < C - 1:\n",
    "                    dfs(grid, sr, sc + 1)\n",
    "        \n",
    "        num_island = 0\n",
    "        for r in range(R):\n",
    "            for c in range(C):\n",
    "                if grid[r][c]==\"1\":\n",
    "                    dfs(grid, r, c)\n",
    "                    num_island += 1\n",
    "        \n",
    "        return num_island\n",
    "\n",
    "# tests\n",
    "grid = [\n",
    "  [\"1\",\"1\",\"1\",\"1\",\"0\"],\n",
    "  [\"1\",\"1\",\"0\",\"1\",\"0\"],\n",
    "  [\"1\",\"1\",\"0\",\"0\",\"0\"],\n",
    "  [\"0\",\"0\",\"0\",\"0\",\"0\"]\n",
    "]\n",
    "print(solution(grid))\n",
    "\n",
    "grid = [\n",
    "  [\"1\",\"1\",\"0\",\"0\",\"0\"],\n",
    "  [\"1\",\"1\",\"0\",\"0\",\"0\"],\n",
    "  [\"0\",\"0\",\"1\",\"0\",\"0\"],\n",
    "  [\"0\",\"0\",\"0\",\"1\",\"1\"]\n",
    "]\n",
    "print(solution(grid))\n"
   ]
  }
 ],
 "metadata": {
  "interpreter": {
   "hash": "577791f2da4ac3a13c44f20f0f30021788d0264a6d82c3224a80270143730ffe"
  },
  "kernelspec": {
   "display_name": "Python 3.8.12 ('jupyterbook-py38')",
   "language": "python",
   "name": "python3"
  },
  "language_info": {
   "codemirror_mode": {
    "name": "ipython",
    "version": 3
   },
   "file_extension": ".py",
   "mimetype": "text/x-python",
   "name": "python",
   "nbconvert_exporter": "python",
   "pygments_lexer": "ipython3",
   "version": "3.8.12"
  },
  "orig_nbformat": 4
 },
 "nbformat": 4,
 "nbformat_minor": 2
}
