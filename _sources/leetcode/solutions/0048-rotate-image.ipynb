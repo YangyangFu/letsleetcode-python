{
 "cells": [
  {
   "cell_type": "markdown",
   "metadata": {},
   "source": [
    "# 0048 Rotate Image\n",
    "\n",
    "## Problem\n",
    "You are given an `n x n` 2D matrix representing an image, rotate the image by `90 degrees (clockwise)`.\n",
    "\n",
    "You have to rotate the image `in-place`, which means you have to modify the input 2D matrix directly. DO NOT allocate another 2D matrix and do the rotation.\n",
    "\n",
    "### Examples \n",
    "Example 1:\n",
    "```\n",
    "Input: matrix = [[1,2,3],[4,5,6],[7,8,9]]\n",
    "Output: [[7,4,1],[8,5,2],[9,6,3]]\n",
    "```\n",
    "\n",
    "Example 2:\n",
    "```\n",
    "Input: matrix = [[5,1,9,11],[2,4,8,10],[13,3,6,7],[15,14,12,16]]\n",
    "Output: [[15,13,2,5],[14,3,4,1],[12,6,8,9],[16,7,10,11]]\n",
    "```\n",
    "### Constraints\n",
    "```\n",
    "n == matrix.length == matrix[i].length\n",
    "1 <= n <= 20\n",
    "-1000 <= matrix[i][j] <= 1000"
   ]
  },
  {
   "cell_type": "markdown",
   "metadata": {},
   "source": [
    "## Analysis\n",
    "- Clockwise Rotation $90 \\degree$:\n",
    "  - swap elements along the left diagnoal\n",
    "  - reverse elements column by column\n",
    "- Clockwise Rotation $180\\degree$:\n",
    "  - reverse each row\n",
    "  - reverse eacg column\n",
    "- Clockwise Rotation $270\\degree$\n",
    "  - swap elements along the right diagonal\n",
    "  - reverse each column\n",
    "\n",
    "## Solution"
   ]
  },
  {
   "cell_type": "code",
   "execution_count": 3,
   "metadata": {},
   "outputs": [
    {
     "name": "stdout",
     "output_type": "stream",
     "text": [
      "[[7, 4, 1], [8, 5, 2], [9, 6, 3]]\n",
      "[[15, 13, 2, 5], [14, 3, 4, 1], [12, 6, 8, 9], [16, 7, 10, 11]]\n"
     ]
    }
   ],
   "source": [
    "def rotate90(image):\n",
    "    # swap along left diagnoal\n",
    "    n = len(image)\n",
    "    if n == 1:\n",
    "        return image\n",
    "\n",
    "    # row-wise\n",
    "    for i in range(n):\n",
    "        # column-wise\n",
    "        for j in range(n-1-i):\n",
    "            image[i][j], image[n-1-j][n-1-i] = image[n-1-j][n-1-i], image[i][j]\n",
    "    \n",
    "    # reverse each column\n",
    "    for c in range(n):\n",
    "        u, l = 0, n - 1\n",
    "        while u <= l:\n",
    "            image[u][c], image[l][c] = image[l][c], image[u][c]\n",
    "            u += 1\n",
    "            l -= 1\n",
    "\n",
    "    return image\n",
    "\n",
    "# test\n",
    "image = [[1,2,3],[4,5,6],[7,8,9]]\n",
    "print(rotate90(image))\n",
    "\n",
    "image = [[5,1,9,11],[2,4,8,10],[13,3,6,7],[15,14,12,16]]\n",
    "print(rotate90(image))"
   ]
  }
 ],
 "metadata": {
  "interpreter": {
   "hash": "577791f2da4ac3a13c44f20f0f30021788d0264a6d82c3224a80270143730ffe"
  },
  "kernelspec": {
   "display_name": "Python 3.8.12 ('jupyterbook-py38')",
   "language": "python",
   "name": "python3"
  },
  "language_info": {
   "codemirror_mode": {
    "name": "ipython",
    "version": 3
   },
   "file_extension": ".py",
   "mimetype": "text/x-python",
   "name": "python",
   "nbconvert_exporter": "python",
   "pygments_lexer": "ipython3",
   "version": "3.8.12"
  },
  "orig_nbformat": 4
 },
 "nbformat": 4,
 "nbformat_minor": 2
}
