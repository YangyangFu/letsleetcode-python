{
 "cells": [
  {
   "cell_type": "markdown",
   "metadata": {},
   "source": [
    "# 0054 Spiral Matrix\n",
    "\n",
    "## Problem\n",
    "Given an `m x n` matrix, return all elements of the matrix in `spiral order`.\n",
    "\n",
    "### Examples \n",
    "Example 1:\n",
    "```\n",
    "Input: matrix = [[1,2,3],[4,5,6],[7,8,9]]\n",
    "Output: [1,2,3,6,9,8,7,4,5]\n",
    "```\n",
    "\n",
    "Example 2:\n",
    "```\n",
    "Input: matrix = [[1,2,3,4],[5,6,7,8],[9,10,11,12]]\n",
    "Output: [1,2,3,4,8,12,11,10,9,5,6,7]\n",
    "```\n",
    "### Constraints\n",
    "```\n",
    "m == matrix.length\n",
    "n == matrix[i].length\n",
    "1 <= m, n <= 10\n",
    "-100 <= matrix[i][j] <= 100"
   ]
  },
  {
   "cell_type": "markdown",
   "metadata": {},
   "source": [
    "## Analysis\n",
    "- define 4 boundaries \n",
    "- traverse along the boundary clockwise until reach out of bounds\n",
    "- shrink the bounds\n",
    "  \n",
    "## Solution"
   ]
  },
  {
   "cell_type": "code",
   "execution_count": 8,
   "metadata": {},
   "outputs": [
    {
     "name": "stdout",
     "output_type": "stream",
     "text": [
      "[1, 2, 3, 6, 9, 8, 7, 4, 5]\n",
      "[1, 2, 3, 4, 8, 12, 11, 10, 9, 5, 6, 7]\n",
      "[1, 2, 3, 4, 5]\n",
      "[1, 2, 3, 4, 5]\n"
     ]
    }
   ],
   "source": [
    "def spiralOrder(matrix):\n",
    "    m, n = len(matrix), len(matrix[0])\n",
    "    l, r, u, d = 0, n-1, 0, m-1\n",
    "\n",
    "    res = []\n",
    "    while u <= d and l <= r:\n",
    "        # move along upper boud from left to right\n",
    "        for i in range(l, r+1):\n",
    "            res.append(matrix[u][i])\n",
    "        u += 1    \n",
    "        \n",
    "        # move along right bound from up to down\n",
    "        for j in range(u, d+1):\n",
    "            res.append(matrix[j][r])\n",
    "        r -= 1\n",
    "\n",
    "        # move along lower bound from right to left \n",
    "        if u <= d: # avoid traverse again \n",
    "            for i in range(r, l-1, -1):\n",
    "                res.append(matrix[d][i])\n",
    "            d -= 1\n",
    "\n",
    "        # move along left bound from down to up\n",
    "        if l <= r:\n",
    "            for j in range(d, u-1, -1):\n",
    "                res.append(matrix[j][l])\n",
    "            l += 1\n",
    "\n",
    "    return res\n",
    "\n",
    "# test\n",
    "matrix = [[1,2,3],[4,5,6],[7,8,9]]\n",
    "print(spiralOrder(matrix))\n",
    "\n",
    "matrix = [[1,2,3,4],[5,6,7,8],[9,10,11,12]]\n",
    "print(spiralOrder(matrix))\n",
    "\n",
    "matrix = [[1,2,3,4,5]]\n",
    "print(spiralOrder(matrix))\n",
    "\n",
    "matrix = [[1], [2], [3], [4], [5]]\n",
    "print(spiralOrder(matrix))"
   ]
  }
 ],
 "metadata": {
  "interpreter": {
   "hash": "577791f2da4ac3a13c44f20f0f30021788d0264a6d82c3224a80270143730ffe"
  },
  "kernelspec": {
   "display_name": "Python 3.8.12 ('jupyterbook-py38')",
   "language": "python",
   "name": "python3"
  },
  "language_info": {
   "codemirror_mode": {
    "name": "ipython",
    "version": 3
   },
   "file_extension": ".py",
   "mimetype": "text/x-python",
   "name": "python",
   "nbconvert_exporter": "python",
   "pygments_lexer": "ipython3",
   "version": "3.8.12"
  },
  "orig_nbformat": 4
 },
 "nbformat": 4,
 "nbformat_minor": 2
}
