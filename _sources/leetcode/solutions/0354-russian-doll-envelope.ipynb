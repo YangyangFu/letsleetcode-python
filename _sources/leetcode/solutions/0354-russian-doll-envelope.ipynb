{
 "cells": [
  {
   "attachments": {},
   "cell_type": "markdown",
   "metadata": {},
   "source": [
    "# 0354 Russian Doll Envelope\n",
    "\n",
    "You are given a 2D array of integers envelopes where envelopes[i] = [wi, hi] represents the width and the height of an envelope.\n",
    "\n",
    "One envelope can fit into another if and only if both the width and height of one envelope are greater than the other envelope's width and height.\n",
    "\n",
    "Return the maximum number of envelopes you can Russian doll (i.e., put one inside the other).\n",
    "\n",
    "Note: You cannot rotate an envelope.\n",
    "\n",
    " \n",
    "```\n",
    "Example 1:\n",
    "\n",
    "Input: envelopes = [[5,4],[6,4],[6,7],[2,3]]\n",
    "Output: 3\n",
    "Explanation: The maximum number of envelopes you can Russian doll is 3 ([2,3] => [5,4] => [6,7]).\n",
    "\n",
    "Example 2:\n",
    "\n",
    "Input: envelopes = [[1,1],[1,1],[1,1]]\n",
    "Output: 1\n",
    "``` \n",
    "\n",
    "Constraints:\n",
    "```\n",
    "1 <= envelopes.length <= 105\n",
    "envelopes[i].length == 2\n",
    "1 <= wi, hi <= 105"
   ]
  },
  {
   "attachments": {},
   "cell_type": "markdown",
   "metadata": {},
   "source": [
    "- Dynamic programming\n",
    "- Patience sort"
   ]
  },
  {
   "cell_type": "code",
   "execution_count": 3,
   "metadata": {},
   "outputs": [
    {
     "name": "stdout",
     "output_type": "stream",
     "text": [
      "3\n",
      "1\n",
      "5\n",
      "9\n",
      "10000\n"
     ]
    }
   ],
   "source": [
    "def maxEnvelopes(envelopes):\n",
    "    # O(N2) cannot pass due to time limit\n",
    "    n = len(envelopes)\n",
    "\n",
    "    # dp table\n",
    "    dp = [1]*n\n",
    "\n",
    "    # sort the envelopes in ascending order\n",
    "    envelopes.sort(key=lambda x: (x[0], -x[1]))\n",
    "\n",
    "    # fill dp\n",
    "    for i in range(1, n):\n",
    "        for j in range(i):\n",
    "            if envelopes[i][0] > envelopes[j][0] and envelopes[i][1] > envelopes[j][1]:\n",
    "                dp[i] = max(dp[i], dp[j]+1)\n",
    "    \n",
    "    return max(dp)\n",
    "\n",
    "# test\n",
    "envelopes = [[5,4],[6,4],[6,7],[2,3]]\n",
    "print(maxEnvelopes(envelopes))\n",
    "\n",
    "envelopes = [[1,1],[1,1],[1,1]]\n",
    "print(maxEnvelopes(envelopes))\n",
    "\n",
    "envelopes = [[1,1],[2,2],[3,3],[4,4],[5,5]]\n",
    "print(maxEnvelopes(envelopes))\n",
    "\n",
    "envelopes = [[1,1],[2,2],[3,3],[4,4],[5,5],[5,6],[6,7],[7,8],[8,9],[9,10]]\n",
    "print(maxEnvelopes(envelopes))\n",
    "\n",
    "# add a length 0f 10000 test case\n",
    "envelopes = [[i, i] for i in range(10000)]\n",
    "print(maxEnvelopes(envelopes))"
   ]
  },
  {
   "cell_type": "code",
   "execution_count": 6,
   "metadata": {},
   "outputs": [
    {
     "name": "stdout",
     "output_type": "stream",
     "text": [
      "3\n",
      "1\n",
      "5\n",
      "9\n",
      "10000\n"
     ]
    }
   ],
   "source": [
    "def maxEnvelopes(envelopes):\n",
    "    # O(nlogn) solution\n",
    "    # sort the envelopes in ascending order of width, and descending order of height\n",
    "    # then find the longest increasing subsequence of heights\n",
    "    # the time complexity is O(nlogn) + O(nlogn) = O(nlogn)\n",
    "    # the space complexity is O(n)\n",
    "    n = len(envelopes)\n",
    "\n",
    "    # sort the envelopes\n",
    "    envelopes.sort(key=lambda x: (x[0], -x[1]))\n",
    "\n",
    "    # find the longest increasing subsequence of heights\n",
    "    heights = [envelope[1] for envelope in envelopes]\n",
    "    dp = []\n",
    "    dp.append(heights[0])\n",
    "\n",
    "    for i in range(1, n):\n",
    "        num = heights[i]\n",
    "        # if num is greater than the last element in dp, append it to dp\n",
    "        if num > dp[-1]:\n",
    "            dp.append(num)\n",
    "        # if num is smaller than the last element in dp, find the first element in dp that is greater than num using binary search\n",
    "        else:\n",
    "            l, r = 0, len(dp)-1\n",
    "            while l < r:\n",
    "                mid = l + (r-l)//2\n",
    "                # if the mid element is smaller than num, search the right half\n",
    "                if dp[mid] < num:\n",
    "                    l = mid +1\n",
    "                elif dp[mid] > num:\n",
    "                    r = mid\n",
    "                else:\n",
    "                    # if the mid element is equal to num, search the left half because we want to find the first element that is no less than than num \n",
    "                    r = mid\n",
    "            dp[l] = num\n",
    "\n",
    "    return len(dp)\n",
    "\n",
    "# test\n",
    "envelopes = [[5,4],[6,4],[6,7],[2,3]]\n",
    "print(maxEnvelopes(envelopes))\n",
    "\n",
    "envelopes = [[1,1],[1,1],[1,1]]\n",
    "print(maxEnvelopes(envelopes))\n",
    "\n",
    "envelopes = [[1,1],[2,2],[3,3],[4,4],[5,5]]\n",
    "print(maxEnvelopes(envelopes))\n",
    "\n",
    "envelopes = [[1,1],[2,2],[3,3],[4,4],[5,5],[5,6],[6,7],[7,8],[8,9],[9,10]]\n",
    "print(maxEnvelopes(envelopes))\n",
    "\n",
    "# add a length 0f 10000 test case\n",
    "envelopes = [[i, i] for i in range(10000)]\n",
    "print(maxEnvelopes(envelopes))"
   ]
  }
 ],
 "metadata": {
  "kernelspec": {
   "display_name": "base",
   "language": "python",
   "name": "python3"
  },
  "language_info": {
   "codemirror_mode": {
    "name": "ipython",
    "version": 3
   },
   "file_extension": ".py",
   "mimetype": "text/x-python",
   "name": "python",
   "nbconvert_exporter": "python",
   "pygments_lexer": "ipython3",
   "version": "3.8.16"
  },
  "orig_nbformat": 4
 },
 "nbformat": 4,
 "nbformat_minor": 2
}
