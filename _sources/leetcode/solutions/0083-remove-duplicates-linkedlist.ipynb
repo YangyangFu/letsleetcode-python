{
 "cells": [
  {
   "cell_type": "markdown",
   "metadata": {},
   "source": [
    "# 0083 Remove Duplicates From Sorted List\n",
    "\n",
    "## Problem\n",
    "Given the head of a sorted linked list, delete all duplicates such that each element appears only once. Return the linked list sorted as well.\n",
    "\n",
    "### Examples \n",
    "Example 1:\n",
    "```\n",
    "Input: head = [1,1,2]\n",
    "Output: [1,2]\n",
    "```\n",
    "\n",
    "Example 2:\n",
    "```\n",
    "Input: head = [1,1,2,3,3]\n",
    "Output: [1,2,3]\n",
    "```\n",
    "### Constraints\n",
    "- The number of nodes in the list is in the range [0, 300].\n",
    "- -100 <= Node.val <= 100\n",
    "- The list is guaranteed to be sorted in ascending order.\n"
   ]
  },
  {
   "cell_type": "markdown",
   "metadata": {},
   "source": [
    "## Analysis\n",
    "- The key constraint here is we need remove duplicates in-place.\n",
    "- Use fast and slow pointer:\n",
    "  - The fast pointer moves forward, and find a non-duplicated element \n",
    "  - Then assign the non-duplicate to the slow pointer, and move slow pointer one step forward\n",
    "  - This makes sure that `nums[0:slow]` are nonduplicated.\n",
    "\n",
    "## Solution"
   ]
  },
  {
   "cell_type": "code",
   "execution_count": 6,
   "metadata": {},
   "outputs": [],
   "source": [
    "class Node():\n",
    "    def __init__(self, val = 0, next = None):\n",
    "        self.val = val\n",
    "        self.next = next\n",
    "\n",
    "def build(nums):\n",
    "    dummy = Node()\n",
    "    node = dummy\n",
    "    while nums:\n",
    "        val = nums.pop(0)\n",
    "        node.next = Node(val)\n",
    "        node = node.next \n",
    "\n",
    "    return dummy.next \n",
    "def LinkedListToList(head):\n",
    "    res = []\n",
    "    while head:\n",
    "        res.append(head.val)\n",
    "        head = head.next\n",
    "    return res    "
   ]
  },
  {
   "cell_type": "code",
   "execution_count": 7,
   "metadata": {},
   "outputs": [
    {
     "name": "stdout",
     "output_type": "stream",
     "text": [
      "[1, 2]\n",
      "[0, 1, 2, 3, 4]\n"
     ]
    }
   ],
   "source": [
    "def removeDuplicates(head):\n",
    "    if not head:\n",
    "        return head\n",
    "\n",
    "    slow, fast = head, head\n",
    "    while fast:\n",
    "        if slow.val != fast.val:\n",
    "            # move slow forward and swap with fast so that no duplicates before slow\n",
    "            slow.next = fast\n",
    "            slow = slow.next\n",
    "\n",
    "        fast = fast.next\n",
    "    return head\n",
    "\n",
    "# test\n",
    "nums = [1,1,2]\n",
    "head = build(nums)\n",
    "head = removeDuplicates(head)\n",
    "print(LinkedListToList(head))\n",
    "\n",
    "nums = [0,0,1,1,1,2,2,3,3,4]\n",
    "head = build(nums)\n",
    "head = removeDuplicates(head)\n",
    "print(LinkedListToList(head))\n",
    "\n"
   ]
  }
 ],
 "metadata": {
  "interpreter": {
   "hash": "577791f2da4ac3a13c44f20f0f30021788d0264a6d82c3224a80270143730ffe"
  },
  "kernelspec": {
   "display_name": "Python 3.8.12 ('jupyterbook-py38')",
   "language": "python",
   "name": "python3"
  },
  "language_info": {
   "codemirror_mode": {
    "name": "ipython",
    "version": 3
   },
   "file_extension": ".py",
   "mimetype": "text/x-python",
   "name": "python",
   "nbconvert_exporter": "python",
   "pygments_lexer": "ipython3",
   "version": "3.8.12"
  },
  "orig_nbformat": 4
 },
 "nbformat": 4,
 "nbformat_minor": 2
}
