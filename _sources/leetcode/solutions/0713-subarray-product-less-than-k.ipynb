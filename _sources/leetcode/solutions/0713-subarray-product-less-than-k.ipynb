{
 "cells": [
  {
   "cell_type": "markdown",
   "metadata": {},
   "source": []
  },
  {
   "cell_type": "code",
   "execution_count": 8,
   "metadata": {},
   "outputs": [
    {
     "name": "stdout",
     "output_type": "stream",
     "text": [
      "[[10], [5], [10, 5], [2], [5, 2], [6], [5, 2, 6], [2, 6], [6]]\n"
     ]
    }
   ],
   "source": [
    "def numSubarrayProductLessThanK(nums, k):\n",
    "    # moving window\n",
    "    # cannot use sort because of the order of number matters here\n",
    "    n = len(nums)\n",
    "    res = []\n",
    "    \n",
    "    # initialize at each step\n",
    "    l, r = 0, 0\n",
    "    prod = nums[l]\n",
    "\n",
    "    # moving window\n",
    "    while r < n:\n",
    "        # update result\n",
    "        if prod < k:\n",
    "            if len(list(nums[l:r+1]))>0:\n",
    "                res.append(list(nums[l:r+1])) \n",
    "        \n",
    "        # expand window\n",
    "        if prod < k:\n",
    "            # move window\n",
    "            r += 1\n",
    "\n",
    "            # update window state\n",
    "            if r < n:\n",
    "                prod *= nums[r]\n",
    "\n",
    "                if nums[r] < k:\n",
    "                    res.append([nums[r]])\n",
    "        else:\n",
    "            # shrink window\n",
    "            while prod >= k:\n",
    "                l += 1\n",
    "                # update window state\n",
    "                prod = prod / nums[l-1]\n",
    "\n",
    "    # in case the last subarrays are less than k\n",
    "    if l < n and prod < k:\n",
    "        while l < n-1:\n",
    "            l += 1\n",
    "            res.append(list(nums[l:]))\n",
    "\n",
    "    return len(res)\n",
    "\n",
    "\n",
    "print(numSubarrayProductLessThanK([10,5,2,6], 100))\n",
    "            "
   ]
  }
 ],
 "metadata": {
  "kernelspec": {
   "display_name": "base",
   "language": "python",
   "name": "python3"
  },
  "language_info": {
   "codemirror_mode": {
    "name": "ipython",
    "version": 3
   },
   "file_extension": ".py",
   "mimetype": "text/x-python",
   "name": "python",
   "nbconvert_exporter": "python",
   "pygments_lexer": "ipython3",
   "version": "3.8.16"
  },
  "orig_nbformat": 4
 },
 "nbformat": 4,
 "nbformat_minor": 2
}
