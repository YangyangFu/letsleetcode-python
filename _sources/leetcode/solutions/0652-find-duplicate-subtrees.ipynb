{
 "cells": [
  {
   "attachments": {},
   "cell_type": "markdown",
   "metadata": {},
   "source": [
    "# 0652 Find Duplicate Subtrees\n",
    "\n",
    "## Problem\n",
    "Given the root of a binary tree, return all duplicate subtrees.\n",
    "\n",
    "For each kind of duplicate subtrees, you only need to return the root node of any one of them.\n",
    "\n",
    "Two trees are duplicate if they have the same structure with the same node values.\n",
    "\n",
    "## Examples\n",
    "\n",
    "```\n",
    "Example 1:\n",
    "\n",
    "Input: root = [1,2,3,4,null,2,4,null,null,4]\n",
    "Output: [[2,4],[4]]\n",
    "\n",
    "Example 2:\n",
    "\n",
    "Input: root = [2,1,1]\n",
    "Output: [[1]]\n",
    "\n",
    "Example 3:\n",
    "\n",
    "Input: root = [2,2,2,3,null,3,null]\n",
    "Output: [[2,3],[3]]\n",
    "```\n"
   ]
  },
  {
   "attachments": {},
   "cell_type": "markdown",
   "metadata": {},
   "source": [
    "## Analysis\n",
    "\n",
    "- leaf node是最简单的子树\n",
    "- 可以把后序遍历到的子树以serialize, 存放在hash map里面，并记录frequency\n",
    "  - 问题： 为什么不能中序或者前序？\n",
    "- 输出所以frequency大于1的子树\n"
   ]
  },
  {
   "cell_type": "code",
   "execution_count": 9,
   "metadata": {},
   "outputs": [],
   "source": [
    "class Node():\n",
    "    def __init__(self, val=0, left=None, right=None):\n",
    "        self.val = val \n",
    "        self.left = left\n",
    "        self.right = right\n",
    "\n",
    "# some helper function\n",
    "def buildFromPreorderSerialization(s):\n",
    "    ss = s.split(',')\n",
    "\n",
    "    # do preorder traverse\n",
    "    def traverse():\n",
    "\n",
    "        node_val = ss.pop(0)\n",
    "        if node_val == \"null\":\n",
    "            return None\n",
    "        # \n",
    "        node = Node(int(node_val))\n",
    "\n",
    "        # traverse left\n",
    "        node.left = traverse()\n",
    "        # traverse right\n",
    "        node.right = traverse()\n",
    "\n",
    "        return node\n",
    "    \n",
    "    return traverse()\n",
    "\n",
    "def preorder(root):\n",
    "    # base case\n",
    "    if not root:\n",
    "        return []\n",
    "\n",
    "    # store node \n",
    "    order = [root.val]\n",
    "    # traverse the left subtree and right subtree\n",
    "    order.extend(preorder(root.left))\n",
    "    order.extend(preorder(root.right))\n",
    "    \n",
    "    # return\n",
    "    return order"
   ]
  },
  {
   "cell_type": "code",
   "execution_count": 20,
   "metadata": {},
   "outputs": [
    {
     "name": "stdout",
     "output_type": "stream",
     "text": [
      "[1, 2, 4, 3, 2, 4, 4]\n",
      "[[4], [2, 4]]\n"
     ]
    }
   ],
   "source": [
    "def findDuplicateSubtree(root):\n",
    "\n",
    "    res = []\n",
    "    hashmap = {}\n",
    "\n",
    "    # traverse helper function\n",
    "    def traverse(root):\n",
    "        if not root:\n",
    "            return \"null\"\n",
    "        \n",
    "        left = traverse(root.left)\n",
    "        right = traverse(root.right)\n",
    "\n",
    "        # serialize subtree in postorder:\n",
    "        subtree = str(root.val) + ',' + left + ',' + right\n",
    "        \n",
    "        # record frequency in hashmap\n",
    "        # if key not found, return 0\n",
    "        freq = hashmap.get(subtree,0)\n",
    "\n",
    "        # if duplicate, then append current root\n",
    "        # why cannot we use >0 here!!!!!\n",
    "        if freq == 1:\n",
    "            res.append(root)\n",
    "        \n",
    "        # update frequency\n",
    "        hashmap[subtree] = freq + 1\n",
    "\n",
    "        # return subtree\n",
    "        return subtree\n",
    "\n",
    "    traverse(root)\n",
    "    return res\n",
    "\n",
    "# test\n",
    "s = '1,2,4,null,null,null,3,2,4,null,null,null,4,null,null'\n",
    "root = buildFromPreorderSerialization(s)\n",
    "print(preorder(root))\n",
    "res = findDuplicateSubtree(root)\n",
    "res_list = []\n",
    "\n",
    "for r in res:\n",
    "    res_list.append(preorder(r))\n",
    "\n",
    "print(res_list)\n"
   ]
  }
 ],
 "metadata": {
  "kernelspec": {
   "display_name": "jupyterbook-py38",
   "language": "python",
   "name": "python3"
  },
  "language_info": {
   "codemirror_mode": {
    "name": "ipython",
    "version": 3
   },
   "file_extension": ".py",
   "mimetype": "text/x-python",
   "name": "python",
   "nbconvert_exporter": "python",
   "pygments_lexer": "ipython3",
   "version": "3.8.12"
  },
  "orig_nbformat": 4,
  "vscode": {
   "interpreter": {
    "hash": "577791f2da4ac3a13c44f20f0f30021788d0264a6d82c3224a80270143730ffe"
   }
  }
 },
 "nbformat": 4,
 "nbformat_minor": 2
}
