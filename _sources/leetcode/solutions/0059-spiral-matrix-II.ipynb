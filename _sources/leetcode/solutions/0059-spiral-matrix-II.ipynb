{
 "cells": [
  {
   "cell_type": "markdown",
   "metadata": {},
   "source": [
    "# 0059 Spiral Matrix II\n",
    "\n",
    "## Problem\n",
    "Given a positive integer `n`, generate an `n x n` matrix filled with elements from 1 to $n^2$ in spiral order.\n",
    "\n",
    "### Examples \n",
    "Example 1:\n",
    "```\n",
    "Input: n = 3\n",
    "Output: [[1,2,3],[8,9,4],[7,6,5]]\n",
    "```\n",
    "\n",
    "Example 2:\n",
    "```\n",
    "Input: n = 1\n",
    "Output: [[1]]\n",
    "```\n",
    "### Constraints\n",
    "```\n",
    "1 <= n <= 20"
   ]
  },
  {
   "cell_type": "markdown",
   "metadata": {},
   "source": [
    "## Analysis\n",
    "- define 4 boundaries \n",
    "- traverse along the boundary clockwise until reach out of bounds\n",
    "- shrink the bounds\n",
    "  \n",
    "## Solution"
   ]
  },
  {
   "cell_type": "code",
   "execution_count": 4,
   "metadata": {},
   "outputs": [
    {
     "name": "stdout",
     "output_type": "stream",
     "text": [
      "[[1]]\n",
      "[[1, 2, 3], [8, 9, 4], [7, 6, 5]]\n",
      "[[1, 2, 3, 4], [12, 13, 14, 5], [11, 16, 15, 6], [10, 9, 8, 7]]\n"
     ]
    }
   ],
   "source": [
    "def spiralOrder(n):\n",
    "    \n",
    "    l, r, u, d = 0, n-1, 0, n-1\n",
    "    nums = list(range(n*n, 0, -1))\n",
    "    matrix = [[0 for _ in range(n)] for _ in range(n)]\n",
    "\n",
    "    while nums:\n",
    "        # traverse upper bound from left to right\n",
    "        if u <= d:\n",
    "            for i in range(l, r+1):\n",
    "                ele = nums.pop()\n",
    "                matrix[u][i] = ele \n",
    "            u += 1\n",
    "        # traverse right bound from upper to down\n",
    "        if l <= r:\n",
    "            for j in range(u, d+1):\n",
    "                ele = nums.pop()\n",
    "                matrix[j][r] = ele \n",
    "            r -= 1\n",
    "        # traverse down bound from right to left\n",
    "        if u <= d:\n",
    "            for i in range(r, l-1, -1):\n",
    "                ele = nums.pop()\n",
    "                matrix[d][i] = ele \n",
    "            d -= 1\n",
    "        # traverse left bound from down to up\n",
    "        if l <= r:\n",
    "            for j in range(d, u-1, -1):\n",
    "                ele = nums.pop()\n",
    "                matrix[j][l] = ele \n",
    "            l += 1\n",
    "    \n",
    "    return matrix\n",
    "\n",
    "# test\n",
    "n = 1\n",
    "print(spiralOrder(n))\n",
    "\n",
    "n = 3\n",
    "print(spiralOrder(n))\n",
    "\n",
    "n = 4\n",
    "print(spiralOrder(n))"
   ]
  }
 ],
 "metadata": {
  "interpreter": {
   "hash": "577791f2da4ac3a13c44f20f0f30021788d0264a6d82c3224a80270143730ffe"
  },
  "kernelspec": {
   "display_name": "Python 3.8.12 ('jupyterbook-py38')",
   "language": "python",
   "name": "python3"
  },
  "language_info": {
   "codemirror_mode": {
    "name": "ipython",
    "version": 3
   },
   "file_extension": ".py",
   "mimetype": "text/x-python",
   "name": "python",
   "nbconvert_exporter": "python",
   "pygments_lexer": "ipython3",
   "version": "3.8.12"
  },
  "orig_nbformat": 4
 },
 "nbformat": 4,
 "nbformat_minor": 2
}
