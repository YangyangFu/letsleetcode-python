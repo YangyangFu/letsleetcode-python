{
 "cells": [
  {
   "cell_type": "markdown",
   "metadata": {},
   "source": [
    "# 0304 Range Sum Query - 2D\n",
    "\n",
    "## Problem\n",
    "Given a 2D matrix matrix, handle multiple queries of the following type:\n",
    "\n",
    "Calculate the sum of the elements of matrix inside the rectangle defined by its upper left corner `(row1, col1)` and lower right corner `(row2, col2)`.\n",
    "\n",
    "Implement the `NumMatrix` class:\n",
    "\n",
    "`NumMatrix(int[][] matrix)` Initializes the object with the integer matrix matrix.\n",
    "\n",
    "`int sumRegion(int row1, int col1, int row2, int col2)` Returns the sum of the elements of matrix inside the rectangle defined by its upper left corner (row1, col1) and lower right corner (row2, col2).\n",
    "You must design an algorithm where `sumRegion` works on `O(1)` time complexity.\n",
    "\n",
    "### Examples \n",
    "Example 1:\n",
    "```\n",
    "Input\n",
    "[\"NumMatrix\", \"sumRegion\", \"sumRegion\", \"sumRegion\"]\n",
    "[[[[3, 0, 1, 4, 2], [5, 6, 3, 2, 1], [1, 2, 0, 1, 5], [4, 1, 0, 1, 7], [1, 0, 3, 0, 5]]], [2, 1, 4, 3], [1, 1, 2, 2], [1, 2, 2, 4]]\n",
    "Output\n",
    "[null, 8, 11, 12]\n",
    "\n",
    "Explanation\n",
    "NumMatrix numMatrix = new NumMatrix([[3, 0, 1, 4, 2], [5, 6, 3, 2, 1], [1, 2, 0, 1, 5], [4, 1, 0, 1, 7], [1, 0, 3, 0, 5]]);\n",
    "numMatrix.sumRegion(2, 1, 4, 3); // return 8 (i.e sum of the red rectangle)\n",
    "numMatrix.sumRegion(1, 1, 2, 2); // return 11 (i.e sum of the green rectangle)\n",
    "numMatrix.sumRegion(1, 2, 2, 4); // return 12 (i.e sum of the blue rectangle)\n",
    "```\n",
    "\n",
    "### Constraint\n",
    "```text\n",
    "m == matrix.length\n",
    "n == matrix[i].length\n",
    "1 <= m, n <= 200\n",
    "-104 <= matrix[i][j] <= 104\n",
    "0 <= row1 <= row2 < m\n",
    "0 <= col1 <= col2 < n\n",
    "At most 104 calls will be made to sumRegion.\n",
    "```"
   ]
  },
  {
   "cell_type": "markdown",
   "metadata": {},
   "source": [
    "## Analysis\n",
    "- we can definitely use `for` loop to do the summation, but it will be inefficient if the `sumRegion` method will be called thousands of times as each call is $O(n^2)$.\n",
    "- Here we precalculate the accumalative sum in $O(n^2)$, and then can call `sumRegion` in $O(1)$.\n",
    "    - The presum of a cell `[i, j]` in a matrix is defined as the sum of all the cells within the region `[[0, 0], [i, j]]`.\n",
    "  \n",
    "## Solution"
   ]
  },
  {
   "cell_type": "code",
   "execution_count": 3,
   "metadata": {},
   "outputs": [
    {
     "name": "stdout",
     "output_type": "stream",
     "text": [
      "1\n",
      "-1\n",
      "-3\n"
     ]
    }
   ],
   "source": []
  }
 ],
 "metadata": {
  "interpreter": {
   "hash": "577791f2da4ac3a13c44f20f0f30021788d0264a6d82c3224a80270143730ffe"
  },
  "kernelspec": {
   "display_name": "Python 3.8.12 ('jupyterbook-py38')",
   "language": "python",
   "name": "python3"
  },
  "language_info": {
   "codemirror_mode": {
    "name": "ipython",
    "version": 3
   },
   "file_extension": ".py",
   "mimetype": "text/x-python",
   "name": "python",
   "nbconvert_exporter": "python",
   "pygments_lexer": "ipython3",
   "version": "3.8.12"
  },
  "orig_nbformat": 4
 },
 "nbformat": 4,
 "nbformat_minor": 2
}
