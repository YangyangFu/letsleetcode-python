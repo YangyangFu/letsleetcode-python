{
 "cells": [
  {
   "cell_type": "markdown",
   "metadata": {},
   "source": [
    "# 0189. Rotate Array\n",
    "\n",
    "## Problem\n",
    "\n",
    "Given an array, rotate the array to the right by `k` steps, where `k` is non-negative.\n",
    "\n",
    "### Examples \n",
    "\n",
    "Example 1:\n",
    "```\n",
    "Input: nums = [1,2,3,4,5,6,7], k = 3\n",
    "Output: [5,6,7,1,2,3,4]\n",
    "Explanation:\n",
    "rotate 1 steps to the right: [7,1,2,3,4,5,6]\n",
    "rotate 2 steps to the right: [6,7,1,2,3,4,5]\n",
    "rotate 3 steps to the right: [5,6,7,1,2,3,4]\n",
    "```\n",
    "\n",
    "Example 2:\n",
    "```\n",
    "Input: nums = [-1,-100,3,99], k = 2\n",
    "Output: [3,99,-1,-100]\n",
    "Explanation: \n",
    "rotate 1 steps to the right: [99,-1,-100,3]\n",
    "rotate 2 steps to the right: [3,99,-1,-100]\n",
    "```\n",
    "### Constraints:\n",
    "\n",
    "```\n",
    "1 <= nums.length <= 105\n",
    "-231 <= nums[i] <= 231 - 1\n",
    "0 <= k <= 105\n",
    "```\n",
    "\n",
    "### Followup\n",
    "\n",
    "- Try to come up with as many solutions as you can. There are at least three different ways to solve this problem.\n",
    "- Could you do it in-place with O(1) extra space?"
   ]
  },
  {
   "cell_type": "markdown",
   "metadata": {},
   "source": [
    "## Analysis\n",
    "- what if k is greater than the length of the array?"
   ]
  },
  {
   "cell_type": "markdown",
   "metadata": {},
   "source": [
    "## Solution"
   ]
  },
  {
   "cell_type": "code",
   "execution_count": 18,
   "metadata": {},
   "outputs": [
    {
     "name": "stdout",
     "output_type": "stream",
     "text": [
      "[5, 6, 7, 1, 2, 3, 4]\n",
      "[3, 99, -1, -100]\n",
      "[99, -1, -100, 3]\n",
      "[1]\n",
      "[2, 1]\n",
      "[5, 6, 7, 1, 2, 3, 4]\n",
      "[3, 99, -1, -100]\n",
      "[99, -1, -100, 3]\n",
      "[1]\n",
      "[2, 1]\n"
     ]
    }
   ],
   "source": [
    "# A naive solution: append the rotated elements to the front of a list and then slice\n",
    "\n",
    "def rotate(nums, k):\n",
    "    for i in range(k):\n",
    "        nums[:] = [nums[-1]] + nums[:-1]\n",
    "    \n",
    "    return nums\n",
    "\n",
    "# test\n",
    "nums = [1,2,3,4,5,6,7]\n",
    "k = 3\n",
    "print(rotate(nums, k))\n",
    "\n",
    "nums = [-1,-100,3,99]\n",
    "k = 2\n",
    "print(rotate(nums, k))\n",
    "\n",
    "nums = [-1,-100,3,99]\n",
    "k = 1\n",
    "print(rotate(nums, k))\n",
    "\n",
    "nums = [1]\n",
    "k = 1\n",
    "print(rotate(nums, k))\n",
    "\n",
    "nums = [1, 2]\n",
    "k = 3\n",
    "print(rotate(nums, k))\n",
    "\n",
    "# The above solution is too time-consuming using the for loop, which is O(n)\n",
    "# To remove the for-loop, we can try:\n",
    "def rotate(nums, k):\n",
    "    k = k%len(nums)\n",
    "    nums[:] = nums[-k:] + nums[:-k]\n",
    "    \n",
    "    return nums\n",
    "\n",
    "# test\n",
    "nums = [1,2,3,4,5,6,7]\n",
    "k = 3\n",
    "print(rotate(nums, k))\n",
    "\n",
    "nums = [-1,-100,3,99]\n",
    "k = 2\n",
    "print(rotate(nums, k))\n",
    "\n",
    "nums = [-1,-100,3,99]\n",
    "k = 1\n",
    "print(rotate(nums, k))\n",
    "\n",
    "nums = [1]\n",
    "k = 1\n",
    "print(rotate(nums, k))\n",
    "\n",
    "nums = [1, 2]\n",
    "k = 3\n",
    "print(rotate(nums, k))"
   ]
  },
  {
   "cell_type": "code",
   "execution_count": 21,
   "metadata": {},
   "outputs": [
    {
     "name": "stdout",
     "output_type": "stream",
     "text": [
      "[5, 6, 7, 1, 2, 3, 4]\n",
      "[3, 99, -1, -100]\n",
      "[99, -1, -100, 3]\n",
      "[1]\n",
      "[2, 1]\n"
     ]
    }
   ],
   "source": [
    "# Solution 2: Prepend a list in python is inefficient as list is a dynamic array. Dynamic array support append in O(1).\n",
    "# The following is a in-place solution but needs O()\n",
    "\n",
    "def rotate(nums, k):\n",
    "    # reverse in O(n) time, O(1) space\n",
    "    nums.reverse()\n",
    "    # append the first k to the end in O(1) time\n",
    "    for i in range(k):\n",
    "        nums.append(nums[0])\n",
    "        nums.pop(0)\n",
    "    # reverse to output order\n",
    "    nums.reverse()\n",
    " \n",
    "# test\n",
    "nums = [1,2,3,4,5,6,7]\n",
    "k = 3\n",
    "rotate(nums, k)\n",
    "print(nums)\n",
    "\n",
    "nums = [-1,-100,3,99]\n",
    "k = 2\n",
    "rotate(nums, k)\n",
    "print(nums)\n",
    "\n",
    "nums = [-1,-100,3,99]\n",
    "k = 1\n",
    "rotate(nums, k)\n",
    "print(nums)\n",
    "\n",
    "nums = [1]\n",
    "k = 1\n",
    "rotate(nums, k)\n",
    "print(nums)\n",
    "\n",
    "nums = [1, 2]\n",
    "k = 3\n",
    "rotate(nums, k)\n",
    "print(nums)"
   ]
  }
 ],
 "metadata": {
  "interpreter": {
   "hash": "577791f2da4ac3a13c44f20f0f30021788d0264a6d82c3224a80270143730ffe"
  },
  "kernelspec": {
   "display_name": "Python 3.8.12 ('jupyterbook-py38')",
   "language": "python",
   "name": "python3"
  },
  "language_info": {
   "codemirror_mode": {
    "name": "ipython",
    "version": 3
   },
   "file_extension": ".py",
   "mimetype": "text/x-python",
   "name": "python",
   "nbconvert_exporter": "python",
   "pygments_lexer": "ipython3",
   "version": "3.8.12"
  },
  "orig_nbformat": 4
 },
 "nbformat": 4,
 "nbformat_minor": 2
}
