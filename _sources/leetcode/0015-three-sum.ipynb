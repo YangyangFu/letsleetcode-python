{
 "cells": [
  {
   "cell_type": "markdown",
   "metadata": {},
   "source": [
    "# 0015. Three Sum\n",
    "\n",
    "## Problem\n",
    "\n",
    "Given an integer array nums, return all the triplets `[nums[i], nums[j], nums[k]]` such that `i != j, i != k`, and `j != k`, and `nums[i] + nums[j] + nums[k] == 0`.\n",
    "\n",
    "Notice that the solution set must not contain duplicate triplets.\n",
    "\n",
    "### Examples \n",
    "\n",
    "Example 1:\n",
    "\n",
    "``` text\n",
    "Input: nums = [-1,0,1,2,-1,-4]\n",
    "Output: [[-1,-1,2],[-1,0,1]]\n",
    "```\n",
    "\n",
    "Example 2:\n",
    "\n",
    "```text\n",
    "Input: nums = []\n",
    "Output: []\n",
    "```\n",
    "\n",
    "Example 3:\n",
    "\n",
    "```text\n",
    "Input: nums = [0]\n",
    "Output: []\n",
    "```\n",
    "\n",
    "### Constraints:\n",
    "\n",
    "```text\n",
    "0 <= nums.length <= 3000\n",
    "-105 <= nums[i] <= 105\n",
    "```"
   ]
  },
  {
   "cell_type": "markdown",
   "metadata": {},
   "source": [
    "## Analysis\n",
    "We should solve this problem after we solve `0167 - Two Sum II`.\n",
    "\n",
    "- Sort the array, which leads to $O(nlogn)$ time complexity. This is helpful to remove duplicates.\n",
    "- Iterate over the sorted array. Based on the current counter, we can transform the problem as a `Two Sum II` problem. This step in total requires $O(n^2)$ time.\n"
   ]
  },
  {
   "cell_type": "markdown",
   "metadata": {},
   "source": [
    "## Solution"
   ]
  },
  {
   "cell_type": "code",
   "execution_count": 16,
   "metadata": {},
   "outputs": [
    {
     "name": "stdout",
     "output_type": "stream",
     "text": [
      "[[-1, 0, 1]]\n",
      "[[-1, -1, 2], [-1, 0, 1]]\n",
      "[]\n",
      "[]\n",
      "[[0, 0, 0], [0, 0, 0]]\n"
     ]
    }
   ],
   "source": [
    "# Solution: naive solution O(m+n) - two-pointers\n",
    "def solution(nums, target=0):\n",
    "    nums.sort()\n",
    "    res = [] \n",
    "    length = len(nums)\n",
    "    duplicate_check = {}\n",
    "\n",
    "    if length > 2:\n",
    "        i = 0\n",
    "        while i < length-2:\n",
    "            if nums[i] not in duplicate_check:\n",
    "                duplicate_check[nums[i]] = i\n",
    "                j, k = i+1, length-1\n",
    "                sum2_target = target - nums[i]\n",
    "                while j < k:\n",
    "                    if nums[j] + nums[k] < sum2_target:\n",
    "                        j += 1\n",
    "                    elif nums[j] + nums[k] > sum2_target:\n",
    "                        k += -1\n",
    "                    else:\n",
    "                        res.append([nums[i], nums[j], nums[k]])\n",
    "                        j += 1\n",
    "            i += 1\n",
    "    return res\n",
    "\n",
    "# test\n",
    "nums = [-1, 0, 1]\n",
    "print(solution(nums))\n",
    "\n",
    "nums = [-1, 0, 1, 2, -1, -4]\n",
    "print(solution(nums))\n",
    "\n",
    "nums = []\n",
    "print(solution(nums))\n",
    "\n",
    "nums = [0]\n",
    "print(solution(nums))\n",
    "\n",
    "nums = [0, 0, 0, 0]\n",
    "print(solution(nums))\n"
   ]
  },
  {
   "cell_type": "code",
   "execution_count": null,
   "metadata": {},
   "outputs": [],
   "source": []
  }
 ],
 "metadata": {
  "interpreter": {
   "hash": "577791f2da4ac3a13c44f20f0f30021788d0264a6d82c3224a80270143730ffe"
  },
  "kernelspec": {
   "display_name": "Python 3.8.12 ('jupyterbook-py38')",
   "language": "python",
   "name": "python3"
  },
  "language_info": {
   "codemirror_mode": {
    "name": "ipython",
    "version": 3
   },
   "file_extension": ".py",
   "mimetype": "text/x-python",
   "name": "python",
   "nbconvert_exporter": "python",
   "pygments_lexer": "ipython3",
   "version": "3.8.12"
  },
  "orig_nbformat": 4
 },
 "nbformat": 4,
 "nbformat_minor": 2
}
