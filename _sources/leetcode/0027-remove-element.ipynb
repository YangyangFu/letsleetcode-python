{
 "cells": [
  {
   "cell_type": "markdown",
   "metadata": {},
   "source": [
    "# 0027 Remove Element\n",
    "\n",
    "## Problem\n",
    "Given an integer array `nums` and an integer `val`, remove all occurrences of `val` in nums in-place. The relative order of the elements may be changed.\n",
    "\n",
    "Since it is impossible to change the length of the array in some languages, you must instead have the result be placed in the first part of the array nums. More formally, if there are `k` elements after removing the duplicates, then the first `k` elements of nums should hold the final result. It does not matter what you leave beyond the first `k` elements.\n",
    "\n",
    "Return `k` after placing the final result in the first `k` slots of nums.\n",
    "\n",
    "Do not allocate extra space for another array. You must do this by modifying the input array in-place with O(1) extra memory.\n",
    "\n",
    "### Examples \n",
    "Example 1:\n",
    "```\n",
    "Input: nums = [3,2,2,3], val = 3\n",
    "Output: 2, nums = [2,2,_,_]\n",
    "Explanation: Your function should return k = 2, with the first two elements of nums being 2.\n",
    "It does not matter what you leave beyond the returned k (hence they are underscores).\n",
    "```\n",
    "\n",
    "Example 2:\n",
    "```\n",
    "Input: nums = [0,1,2,2,3,0,4,2], val = 2\n",
    "Output: 5, nums = [0,1,4,0,3,_,_,_]\n",
    "Explanation: Your function should return k = 5, with the first five elements of nums containing 0, 0, 1, 3, and 4.\n",
    "Note that the five elements can be returned in any order.\n",
    "It does not matter what you leave beyond the returned k (hence they are underscores).\n",
    "```\n",
    "### Constraints\n",
    "- 0 <= nums.length <= 100\n",
    "- 0 <= nums[i] <= 50\n",
    "- 0 <= val <= 100\n"
   ]
  },
  {
   "cell_type": "markdown",
   "metadata": {},
   "source": [
    "## Analysis\n",
    "- The key constraint here is we need remove duplicates in-place.\n",
    "- Use fast and slow pointer:\n",
    "  - The fast and slow pointers start from the same location, and move together by one step\n",
    "  - If find the element to be removed, the slow pointer halts, and the right pointer moves forward until find an element that will not be removed\n",
    "  - Swap element between slow and fast if fast pointer points to a non-removable element but slow pointer point to a removeable element\n",
    "  - maintain `nums[0:slow]` as the final array we need.\n",
    "\n",
    "## Solution"
   ]
  },
  {
   "cell_type": "code",
   "execution_count": 11,
   "metadata": {},
   "outputs": [
    {
     "name": "stdout",
     "output_type": "stream",
     "text": [
      "[2, 2]\n",
      "[1, 2, 2, 3, 4, 2]\n"
     ]
    }
   ],
   "source": [
    "def removeElement(nums, val):\n",
    "    if len(nums) == 0:\n",
    "        return 0\n",
    "\n",
    "    slow, fast = 0, 0\n",
    "    while fast < len(nums):\n",
    "        if nums[fast] != val:\n",
    "            nums[slow], nums[fast] = nums[fast], nums[slow]\n",
    "            slow += 1\n",
    "    \n",
    "        fast += 1  \n",
    "    return nums[:slow]\n",
    "\n",
    "# test\n",
    "nums = [3,2,2,3]\n",
    "val = 3\n",
    "print(removeElement(nums, val))\n",
    "\n",
    "nums = [0,1,2,2,3,0,4,2]\n",
    "val =  0\n",
    "print(removeElement(nums, val))\n",
    "\n"
   ]
  }
 ],
 "metadata": {
  "interpreter": {
   "hash": "577791f2da4ac3a13c44f20f0f30021788d0264a6d82c3224a80270143730ffe"
  },
  "kernelspec": {
   "display_name": "Python 3.8.12 ('jupyterbook-py38')",
   "language": "python",
   "name": "python3"
  },
  "language_info": {
   "codemirror_mode": {
    "name": "ipython",
    "version": 3
   },
   "file_extension": ".py",
   "mimetype": "text/x-python",
   "name": "python",
   "nbconvert_exporter": "python",
   "pygments_lexer": "ipython3",
   "version": "3.8.12"
  },
  "orig_nbformat": 4
 },
 "nbformat": 4,
 "nbformat_minor": 2
}
