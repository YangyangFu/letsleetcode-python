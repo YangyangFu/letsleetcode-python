{
 "cells": [
  {
   "cell_type": "markdown",
   "metadata": {},
   "source": [
    "# 0303 Range Sum Query\n",
    "\n",
    "## Problem\n",
    "Given an integer array `nums`, handle multiple queries of the following type:\n",
    "\n",
    "Calculate the sum of the elements of nums between indices `left` and `right` inclusive where `left <= right`.\n",
    "\n",
    "Implement the `NumArray` class:\n",
    "\n",
    "`NumArray(int[] nums)` Initializes the object with the integer array nums.\n",
    "\n",
    "`int sumRange(int left, int right)` Returns the sum of the elements of nums between indices left and right inclusive (i.e. nums[left] + nums[left + 1] + ... + nums[right]).\n",
    "\n",
    "### Examples \n",
    "Example 1:\n",
    "```\n",
    "Input\n",
    "[\"NumArray\", \"sumRange\", \"sumRange\", \"sumRange\"]\n",
    "[[[-2, 0, 3, -5, 2, -1]], [0, 2], [2, 5], [0, 5]]\n",
    "Output\n",
    "[null, 1, -1, -3]\n",
    "\n",
    "Explanation\n",
    "NumArray numArray = new NumArray([-2, 0, 3, -5, 2, -1]);\n",
    "numArray.sumRange(0, 2); // return (-2) + 0 + 3 = 1\n",
    "numArray.sumRange(2, 5); // return 3 + (-5) + 2 + (-1) = -1\n",
    "numArray.sumRange(0, 5); // return (-2) + 0 + 3 + (-5) + 2 + (-1) = -3\n",
    "```\n",
    "\n",
    "### Constraint\n",
    "```text\n",
    "1 <= nums.length <= 104\n",
    "-105 <= nums[i] <= 105\n",
    "0 <= left <= right < nums.length\n",
    "At most 104 calls will be made to sumRange.\n",
    "```"
   ]
  },
  {
   "cell_type": "markdown",
   "metadata": {},
   "source": [
    "## Analysis\n",
    "- we can definitely use `for` loop to do the summation, but it will be inefficient if the `sumRange` method will be called thousands of times as each call is $O(n)$.\n",
    "- Here we precalculate the accumalative sum in $O(n)$, and then can call `sumRange` in $O(1)$.\n",
    "\n",
    "## Solution"
   ]
  },
  {
   "cell_type": "code",
   "execution_count": 3,
   "metadata": {},
   "outputs": [
    {
     "name": "stdout",
     "output_type": "stream",
     "text": [
      "1\n",
      "-1\n",
      "-3\n"
     ]
    }
   ],
   "source": [
    "# Your NumArray object will be instantiated and called as such:\n",
    "# obj = NumArray(nums)\n",
    "# param_1 = obj.sumRange(left,right)\n",
    "class NumArray:\n",
    "    def __init__(self, nums: list):\n",
    "        self.nums = nums\n",
    "        self.pre_sums = self.presum()\n",
    "    \n",
    "    def presum(self):\n",
    "        pre_sums = [0]\n",
    "        for num in self.nums:\n",
    "            pre_sums.append(pre_sums[-1]+num)\n",
    "        \n",
    "        return pre_sums \n",
    "\n",
    "    def sumRange(self, left: int, right: int) -> int:\n",
    "        return self.pre_sums[right+1] - self.pre_sums[left]\n",
    "\n",
    "# tests\n",
    "nums = [-2, 0, 3, -5, 2, -1]\n",
    "array = NumArray(nums)\n",
    "print(array.sumRange(0, 2))\n",
    "print(array.sumRange(2, 5))\n",
    "print(array.sumRange(0, 5))\n"
   ]
  }
 ],
 "metadata": {
  "interpreter": {
   "hash": "577791f2da4ac3a13c44f20f0f30021788d0264a6d82c3224a80270143730ffe"
  },
  "kernelspec": {
   "display_name": "Python 3.8.12 ('jupyterbook-py38')",
   "language": "python",
   "name": "python3"
  },
  "language_info": {
   "codemirror_mode": {
    "name": "ipython",
    "version": 3
   },
   "file_extension": ".py",
   "mimetype": "text/x-python",
   "name": "python",
   "nbconvert_exporter": "python",
   "pygments_lexer": "ipython3",
   "version": "3.8.12"
  },
  "orig_nbformat": 4
 },
 "nbformat": 4,
 "nbformat_minor": 2
}
