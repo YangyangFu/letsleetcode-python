{
 "cells": [
  {
   "cell_type": "markdown",
   "metadata": {},
   "source": [
    "# 0695. Max Area of Island\n",
    "\n",
    "## Problem\n",
    "\n",
    "You are given an `m x n` binary matrix grid. An island is a group of `1's` (representing land) connected `4-directionally` (horizontal or vertical.) You may assume all four edges of the grid are surrounded by water.\n",
    "\n",
    "The area of an island is the number of cells with a value 1 in the island.\n",
    "\n",
    "Return the `maximum area` of an island in grid. If there is no island, return 0.\n",
    "\n",
    "### Examples \n",
    "\n",
    "Example 1:\n",
    "```\n",
    "Input: grid = [[0,0,1,0,0,0,0,1,0,0,0,0,0],[0,0,0,0,0,0,0,1,1,1,0,0,0],[0,1,1,0,1,0,0,0,0,0,0,0,0],[0,1,0,0,1,1,0,0,1,0,1,0,0],[0,1,0,0,1,1,0,0,1,1,1,0,0],[0,0,0,0,0,0,0,0,0,0,1,0,0],[0,0,0,0,0,0,0,1,1,1,0,0,0],[0,0,0,0,0,0,0,1,1,0,0,0,0]]\n",
    "Output: 6\n",
    "Explanation: The answer is not 11, because the island must be connected 4-directionally.\n",
    "\n",
    "```\n",
    "\n",
    "Example 2:\n",
    "```\n",
    "Input: grid = [[0,0,0,0,0,0,0,0]]\n",
    "Output: 0\n",
    "```\n",
    "\n",
    "### Constraints:\n",
    "\n",
    "```\n",
    "m == grid.length\n",
    "n == grid[i].length\n",
    "1 <= m, n <= 50\n",
    "grid[i][j] is either 0 or 1.\n",
    "```"
   ]
  },
  {
   "cell_type": "markdown",
   "metadata": {},
   "source": [
    "## Analysis\n",
    "\n",
    "- how to calculate area? -> each land cell will contribute `1` to the area of that island.\n",
    "- how to get an island? -> find a starting node, and use DFS/BFS to get the whole land cells for that island\n",
    "- Flow:\n",
    "  - repeatly do:\n",
    "    - traverse each cell\n",
    "    - see a land cell\n",
    "    - calculate the number of its adjacent land cells\n",
    "    - record the maximum area of island found so far\n",
    "  "
   ]
  },
  {
   "cell_type": "markdown",
   "metadata": {},
   "source": [
    "## Solution"
   ]
  },
  {
   "cell_type": "code",
   "execution_count": 6,
   "metadata": {},
   "outputs": [
    {
     "name": "stdout",
     "output_type": "stream",
     "text": [
      "6\n",
      "0\n"
     ]
    }
   ],
   "source": [
    "\"\"\"A solution using DFS\"\"\"\n",
    "def solution(grid):\n",
    "    max_area = 0\n",
    "    R, C = len(grid), len(grid[0])\n",
    "\n",
    "    seen = [()]\n",
    "\n",
    "    def dfs(grid, r, c, area, seen):\n",
    "        # if it is a land cell\n",
    "        if grid[r][c] == 1:\n",
    "            # mark it as explored land\n",
    "            seen.append((r, c))\n",
    "            area += 1\n",
    "\n",
    "            # \n",
    "            if r > 0 and (r-1, c) not in seen:\n",
    "                area, seen = dfs(grid, r-1, c, area, seen)\n",
    "            if r < R - 1 and (r+1, c) not in seen:\n",
    "                area, seen = dfs(grid, r+1, c, area, seen)\n",
    "            if c > 0 and (r, c-1) not in seen:\n",
    "                area, seen = dfs(grid, r, c-1, area, seen)\n",
    "            if c < C - 1 and (r, c+1) not in seen:\n",
    "                area, seen = dfs(grid, r, c+1, area, seen)\n",
    "\n",
    "        return area, seen\n",
    "\n",
    "    for r in range(R):\n",
    "        for c in range(C):\n",
    "            # if explored already\n",
    "            if (r, c) in seen:\n",
    "                continue\n",
    "\n",
    "            # find an island\n",
    "            area = 0\n",
    "            if grid[r][c] == 1:\n",
    "               area, seen = dfs(grid, r, c, area, seen)\n",
    "\n",
    "            max_area = max(max_area, area)\n",
    "\n",
    "    return max_area\n",
    "\n",
    "# tests\n",
    "grid = [[0,0,1,0,0,0,0,1,0,0,0,0,0],[0,0,0,0,0,0,0,1,1,1,0,0,0],[0,1,1,0,1,0,0,0,0,0,0,0,0],[0,1,0,0,1,1,0,0,1,0,1,0,0],[0,1,0,0,1,1,0,0,1,1,1,0,0],[0,0,0,0,0,0,0,0,0,0,1,0,0],[0,0,0,0,0,0,0,1,1,1,0,0,0],[0,0,0,0,0,0,0,1,1,0,0,0,0]]\n",
    "print(solution(grid))\n",
    "\n",
    "grid = [[0,0,0,0,0,0,0,0]]\n",
    "print(solution(grid))"
   ]
  },
  {
   "cell_type": "code",
   "execution_count": 8,
   "metadata": {},
   "outputs": [
    {
     "name": "stdout",
     "output_type": "stream",
     "text": [
      "6\n",
      "0\n"
     ]
    }
   ],
   "source": [
    "# A precise implementation from Leetcode\n",
    "# The logic is the same but more beautiful code\n",
    "def solution(grid):\n",
    "    seen = set()\n",
    "    def area(r, c):\n",
    "        if not (0 <= r < len(grid) and 0 <= c < len(grid[0])\n",
    "                and (r, c) not in seen and grid[r][c]):\n",
    "            return 0\n",
    "        seen.add((r, c))\n",
    "        return (1 + area(r+1, c) + area(r-1, c) +\n",
    "                area(r, c-1) + area(r, c+1))\n",
    "\n",
    "    return max(area(r, c)\n",
    "                for r in range(len(grid))\n",
    "                for c in range(len(grid[0])))\n",
    "\n",
    "# tests\n",
    "grid = [[0,0,1,0,0,0,0,1,0,0,0,0,0],[0,0,0,0,0,0,0,1,1,1,0,0,0],[0,1,1,0,1,0,0,0,0,0,0,0,0],[0,1,0,0,1,1,0,0,1,0,1,0,0],[0,1,0,0,1,1,0,0,1,1,1,0,0],[0,0,0,0,0,0,0,0,0,0,1,0,0],[0,0,0,0,0,0,0,1,1,1,0,0,0],[0,0,0,0,0,0,0,1,1,0,0,0,0]]\n",
    "print(solution(grid))\n",
    "\n",
    "grid = [[0,0,0,0,0,0,0,0]]\n",
    "print(solution(grid))"
   ]
  }
 ],
 "metadata": {
  "interpreter": {
   "hash": "577791f2da4ac3a13c44f20f0f30021788d0264a6d82c3224a80270143730ffe"
  },
  "kernelspec": {
   "display_name": "Python 3.8.12 ('jupyterbook-py38')",
   "language": "python",
   "name": "python3"
  },
  "language_info": {
   "codemirror_mode": {
    "name": "ipython",
    "version": 3
   },
   "file_extension": ".py",
   "mimetype": "text/x-python",
   "name": "python",
   "nbconvert_exporter": "python",
   "pygments_lexer": "ipython3",
   "version": "3.8.12"
  },
  "orig_nbformat": 4
 },
 "nbformat": 4,
 "nbformat_minor": 2
}
