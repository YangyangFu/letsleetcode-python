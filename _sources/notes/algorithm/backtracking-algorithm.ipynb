{
 "cells": [
  {
   "cell_type": "markdown",
   "metadata": {},
   "source": [
    "# Backtracking\n",
    "\n",
    "Backtracking is a general algorithm for finding all (or some) solutions to some computational problems which incrementally builds candidates to the solution and abandons a candidate (\"backtracks\") as soon as it determines that the candidate cannot lead to a valid solution.\n",
    "\n",
    "It is due to this backtracking behaviour, the backtracking algorithms are often much faster than the brute-force search algorithm, since it eliminates many unnecessary exploration.\n",
    "\n",
    "```python\n",
    "def backtrack(candidate):\n",
    "    if find_solution(candidate):\n",
    "        output(candidate)\n",
    "        return\n",
    "    \n",
    "    # iterate all possible candidates.\n",
    "    for next_candidate in list_of_candidates:\n",
    "        if is_valid(next_candidate):\n",
    "            # try this partial candidate solution\n",
    "            place(next_candidate)\n",
    "            # given the candidate, explore further.\n",
    "            backtrack(next_candidate)\n",
    "            # backtrack\n",
    "            remove(next_candidate)\n",
    "```\n",
    "\n",
    "Overall, the enumeration of candidates is done in two levels:\n",
    "- at the first level, the function is implemented as recursion. At each occurrence of recursion, the function is one step further to the final solution.\n",
    "- as the second level, within the recursion, we have an iteration that allows us to explore all the candidates that are of the same progress to the final solution."
   ]
  },
  {
   "cell_type": "markdown",
   "metadata": {},
   "source": [
    "## Code Examples\n",
    "See [here](https://leetcode.com/problems/combinations/discuss/844096/Backtracking-cheatsheet-%2B-simple-solution).\n",
    "\n",
    "Here we have to explore all combinations of numbers from 1 to n of length k. Indeed, we could solve the problem with the paradigm of backtracking.\n",
    "\n",
    "Problem - combinations\n",
    "Decision space- numbers from 1 to n without repetation\n",
    "Output- all combinatins of numbers from 1 to n of size k"
   ]
  },
  {
   "cell_type": "code",
   "execution_count": 1,
   "metadata": {},
   "outputs": [
    {
     "name": "stdout",
     "output_type": "stream",
     "text": [
      "[[1, 2], [1, 3], [1, 4], [2, 3], [2, 4], [3, 4]]\n"
     ]
    }
   ],
   "source": [
    "def combine(n, k):   \n",
    "    sol=[]\n",
    "    def backtrack(k,comb,nex):\n",
    "        # solution found\n",
    "        if k==0:\n",
    "            sol.append(comb.copy())\n",
    "        else:\n",
    "            # iterate through all possible candidates\n",
    "            for i in range(nex,n+1):\n",
    "                # add candidate\n",
    "                comb.append(i)\n",
    "                #backtrack\n",
    "                backtrack(k-1,comb,i+1)\n",
    "                # remove candidate\n",
    "                comb.pop()\n",
    "        \n",
    "    backtrack(k,[],1)\n",
    "    return sol\n",
    "\n",
    "# test \n",
    "n = 4 \n",
    "k = 2\n",
    "print(combine(n, k))\n"
   ]
  }
 ],
 "metadata": {
  "kernelspec": {
   "display_name": "Python 3.8.12 ('jupyterbook-py38')",
   "language": "python",
   "name": "python3"
  },
  "language_info": {
   "codemirror_mode": {
    "name": "ipython",
    "version": 3
   },
   "file_extension": ".py",
   "mimetype": "text/x-python",
   "name": "python",
   "nbconvert_exporter": "python",
   "pygments_lexer": "ipython3",
   "version": "3.8.12"
  },
  "orig_nbformat": 4,
  "vscode": {
   "interpreter": {
    "hash": "577791f2da4ac3a13c44f20f0f30021788d0264a6d82c3224a80270143730ffe"
   }
  }
 },
 "nbformat": 4,
 "nbformat_minor": 2
}
