{
 "cells": [
  {
   "cell_type": "markdown",
   "metadata": {},
   "source": [
    "# Sort\n",
    "This block is to implemnt different kinds of sort algorithms.\n",
    "\n",
    "\n"
   ]
  },
  {
   "cell_type": "markdown",
   "metadata": {},
   "source": [
    "## Insertion Sort\n",
    "\n",
    "Insertion sort is a sorting algorithm that inserts a new vaue to a sorted array at the right place so that the resulting array is also sorted. \n",
    "This sorting is very similar to playing poker when we need reorder the cards.\n",
    "\n",
    "The pesudo code is shown as follows."
   ]
  },
  {
   "cell_type": "markdown",
   "metadata": {},
   "source": [
    "### Some Questionable Implementation"
   ]
  },
  {
   "cell_type": "code",
   "execution_count": 12,
   "metadata": {},
   "outputs": [
    {
     "name": "stdout",
     "output_type": "stream",
     "text": [
      "[1, 1, 3, 4, 2, 7]\n"
     ]
    }
   ],
   "source": [
    "# Wrong implementation 1: \n",
    "def sort(array):\n",
    "    \n",
    "    def insert_sort(A, i):\n",
    "        \"\"\" given a array whose prefix A[:i] is sorted, rearrange value A[i] to make the whole array sorted\"\"\"\n",
    "        if i == 0:\n",
    "            return A\n",
    "\n",
    "        # swap if A[i] is less than A[i-1]\n",
    "        j = i\n",
    "        while j > 0:\n",
    "            if A[j] < A[j-1]:\n",
    "                A[j], A[j-1] = A[j-1], A[j]\n",
    "            j -= 1\n",
    "            \n",
    "        # advance\n",
    "        insert_sort(A, i - 1)\n",
    "\n",
    "        return A \n",
    "\n",
    "    return insert_sort(array, len(array) - 1)\n",
    "\n",
    "# test\n",
    "A = [3,4,1,1,7,2]\n",
    "print(sort(A))\n"
   ]
  },
  {
   "cell_type": "markdown",
   "metadata": {},
   "source": [
    "The above implemention is wrong as L17 should come before L10."
   ]
  },
  {
   "cell_type": "markdown",
   "metadata": {},
   "source": [
    "### Recursive Implementation\n"
   ]
  },
  {
   "cell_type": "code",
   "execution_count": 10,
   "metadata": {},
   "outputs": [
    {
     "name": "stdout",
     "output_type": "stream",
     "text": [
      "[1, 1, 2, 3, 4, 7]\n"
     ]
    }
   ],
   "source": [
    "def sort(A):\n",
    "    \n",
    "    def insert_sort(A, i):\n",
    "        \"\"\" given a array whose prefix A[:i] is sorted, rearrange value A[i] to make the whole array sorted\"\"\"\n",
    "        # base case\n",
    "        if  i <= 0:\n",
    "            return A\n",
    "\n",
    "        # divide and conquer: sort A[:i-1]\n",
    "        insert_sort(A, i-1)\n",
    "        \n",
    "        # combine solutions\n",
    "        j = i\n",
    "        while j:\n",
    "            if A[j] < A[j-1]:\n",
    "                A[j-1], A[j] = A[j], A[j-1]\n",
    "\n",
    "            j -= 1\n",
    "    \n",
    "        return A\n",
    "    return insert_sort(A, len(A)-1)\n",
    "    \n",
    "# test\n",
    "A = [3,4,1,1,7,2]\n",
    "print(sort(A))"
   ]
  },
  {
   "cell_type": "markdown",
   "metadata": {},
   "source": [
    "### Iterative Implementation\n"
   ]
  },
  {
   "cell_type": "code",
   "execution_count": 13,
   "metadata": {},
   "outputs": [],
   "source": [
    "def sort(A):\n",
    "    pass"
   ]
  },
  {
   "cell_type": "markdown",
   "metadata": {},
   "source": [
    "## Selection Sort\n",
    "\n"
   ]
  },
  {
   "cell_type": "markdown",
   "metadata": {},
   "source": [
    "### Recursive Implementation\n",
    "\n",
    "- "
   ]
  },
  {
   "cell_type": "code",
   "execution_count": 19,
   "metadata": {},
   "outputs": [
    {
     "name": "stdout",
     "output_type": "stream",
     "text": [
      "[1, 3, 4, 1, 2, 7]\n"
     ]
    }
   ],
   "source": [
    "def sort(A):\n",
    "    \n",
    "    def selection_sort(A, i):\n",
    "        \"\"\"Select the maximum from A[:i] and swap with A[i]\"\"\"\n",
    "\n",
    "        if i < 1:\n",
    "            return A\n",
    "        \n",
    "        # move the maximum to right\n",
    "        if A[i] < A[i-1]:\n",
    "            A[i], A[i-1] = A[i-1], A[i]\n",
    "\n",
    "        # divide and conquer\n",
    "        selection_sort(A, i-1)\n",
    "\n",
    "        return A\n",
    "        \n",
    "    return selection_sort(A, len(A)-1)\n",
    "\n",
    "# test\n",
    "A = [3,4,1,1,7,2]\n",
    "print(sort(A))\n",
    "\n",
    "\n"
   ]
  },
  {
   "cell_type": "markdown",
   "metadata": {},
   "source": [
    "## Bubble Sort"
   ]
  },
  {
   "cell_type": "markdown",
   "metadata": {},
   "source": [
    "## Merge Sort"
   ]
  },
  {
   "cell_type": "markdown",
   "metadata": {},
   "source": [
    "## Quick Sort"
   ]
  },
  {
   "cell_type": "markdown",
   "metadata": {},
   "source": [
    "## Heap Sort"
   ]
  },
  {
   "cell_type": "markdown",
   "metadata": {},
   "source": [
    "## Counting Sort"
   ]
  },
  {
   "cell_type": "markdown",
   "metadata": {},
   "source": [
    "## Tim Sort"
   ]
  },
  {
   "cell_type": "markdown",
   "metadata": {},
   "source": [
    "## Tree Sort"
   ]
  }
 ],
 "metadata": {
  "interpreter": {
   "hash": "577791f2da4ac3a13c44f20f0f30021788d0264a6d82c3224a80270143730ffe"
  },
  "kernelspec": {
   "display_name": "Python 3.8.12 ('jupyterbook-py38')",
   "language": "python",
   "name": "python3"
  },
  "language_info": {
   "codemirror_mode": {
    "name": "ipython",
    "version": 3
   },
   "file_extension": ".py",
   "mimetype": "text/x-python",
   "name": "python",
   "nbconvert_exporter": "python",
   "pygments_lexer": "ipython3",
   "version": "3.8.12"
  },
  "orig_nbformat": 4
 },
 "nbformat": 4,
 "nbformat_minor": 2
}
