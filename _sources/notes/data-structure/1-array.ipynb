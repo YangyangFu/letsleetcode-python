{
 "cells": [
  {
   "attachments": {},
   "cell_type": "markdown",
   "metadata": {},
   "source": [
    "# Chapter 1. Array and String\n",
    "\n"
   ]
  },
  {
   "cell_type": "markdown",
   "metadata": {},
   "source": [
    "## Two Pointer\n",
    "\n",
    "Two types of pointers are usually used for arrays.\n",
    "- slow and fast pointer\n",
    "- left and right pointer\n",
    "\n",
    "For all the two pointer related algorithm, we can refer to \n"
   ]
  },
  {
   "attachments": {},
   "cell_type": "markdown",
   "metadata": {},
   "source": [
    "### Fast and Slow Pointer\n",
    "\n",
    "Fast and slow pointer can be used to modify the array in-place.\n",
    "\n",
    "**Leetcode**\n",
    "- Remove duplicates\n",
    "  - [0026](/letsleetcode/leetcode/solutions/0026-remove-duplicates.ipynb)\n",
    "- Remove given values\n",
    "  - [0027](/letsleetcode/leetcode/solutions/0027-remove-element.ipynb)\n",
    "  - 0283"
   ]
  },
  {
   "attachments": {},
   "cell_type": "markdown",
   "metadata": {},
   "source": [
    "### Sliding Window\n",
    "\n",
    "Sliding window is a type of left and right pointer. This technique is very efficient to solve `substring` or `subsequence` problem.\n",
    "\n",
    "```python\n",
    "left, right = 0, 0\n",
    "while right < len(s):\n",
    "    # enlarge window\n",
    "    window.add(s[right])\n",
    "    right += 1\n",
    "\n",
    "    # shrink window\n",
    "    while (window needs shrink):\n",
    "        window.remove(s[left])\n",
    "        left -= 1\n",
    "```\n",
    "\n",
    "**Leetcode**\n",
    "- [0076](/letsleetcode/leetcode/solutions/0076-minimum-window-substring.ipynb)"
   ]
  },
  {
   "cell_type": "markdown",
   "metadata": {},
   "source": [
    "### Left and Right Pointer\n",
    "- Binary search\n",
    "  - [0704](/letsleetcode/leetcode/solutions/0704-binary-search.ipynb)\n",
    "- Sum of two\n",
    "  - [0001](/letsleetcode/leetcode/solutions/0001-two-sum.ipynb)\n",
    "  - [0015](/letsleetcode/leetcode/solutions/0015-three-sum.ipynb)\n",
    "  - [0016](/letsleetcode/leetcode/solutions/0016-three-sum-closest.ipynb)\n",
    "  - [0018](/letsleetcode/leetcode/solutions/0018-four-sum.ipynb)\n",
    "- Reverse array\n",
    "  - [0344](/letsleetcode/leetcode/solutions/0344-reverse-string.ipynb)\n",
    "- Palindromic string\n",
    "  - [0005](/letsleetcode/leetcode/solutions/0005-longest-palindromic-string.ipynb)"
   ]
  },
  {
   "cell_type": "markdown",
   "metadata": {},
   "source": [
    "## Presum Technique\n",
    "Presum is typically used when frequent summation is required. More space for less time.\n",
    "\n",
    "**LeetCode**\n",
    "- [0303](/letsleetcode/leetcode/solutions/0303-range-sum-query.ipynb)\n",
    "- "
   ]
  },
  {
   "cell_type": "markdown",
   "metadata": {},
   "source": [
    "## Diff Array\n",
    "Diff array is usually used when frequent modifications of an array given index range.\n",
    "\n",
    "**Leetcode**\n",
    "- [0370](/letsleetcode/leetcode/solutions/0370-range-addition.ipynb)\n",
    "- [1109](/letsleetcode/leetcode/solutions/1109-flight-booking.ipynb)\n",
    "- 1094"
   ]
  },
  {
   "cell_type": "markdown",
   "metadata": {},
   "source": [
    "## Traverse 2-D Matrix\n",
    "\n",
    "### Rotate Matrix\n",
    "\n",
    "**Leetcode**\n",
    "- [0048](/letsleetcode/leetcode/solutions/0048-rotate-image.ipynb)\n"
   ]
  },
  {
   "cell_type": "markdown",
   "metadata": {},
   "source": [
    "### Spiral Traverse\n",
    "\n",
    "**Leetcode**\n",
    "- [0054](/letsleetcode/leetcode/solutions/0054-spiral-matrix.ipynb)\n",
    "- [0059](/letsleetcode/leetcode/solutions/0059-spiral-matrix-II.ipynb)"
   ]
  }
 ],
 "metadata": {
  "kernelspec": {
   "display_name": "Python 3.8.12 ('jupyterbook-py38')",
   "language": "python",
   "name": "python3"
  },
  "language_info": {
   "name": "python",
   "version": "3.8.12"
  },
  "orig_nbformat": 4,
  "vscode": {
   "interpreter": {
    "hash": "577791f2da4ac3a13c44f20f0f30021788d0264a6d82c3224a80270143730ffe"
   }
  }
 },
 "nbformat": 4,
 "nbformat_minor": 2
}
