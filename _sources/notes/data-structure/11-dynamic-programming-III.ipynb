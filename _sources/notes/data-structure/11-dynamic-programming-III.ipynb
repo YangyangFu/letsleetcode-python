{
 "cells": [
  {
   "attachments": {},
   "cell_type": "markdown",
   "metadata": {},
   "source": [
    "# Chapter 11. Dynamic Programming III"
   ]
  },
  {
   "attachments": {},
   "cell_type": "markdown",
   "metadata": {},
   "source": [
    "## Game Theory\n",
    "\n",
    "You are given an integer array `nums`. Two players are playing a game with this array: `player 1` and `player 2`.\n",
    "\n",
    "`Player 1` and `player 2` take turns, with `player 1` starting first. Both players start the game with a score of `0`. \n",
    "At each turn, the player takes one of the numbers from either end of the array (i.e., `nums[0]` or `nums[nums.length - 1]`) which reduces the size of the array by `1`. \n",
    "The player adds the chosen number to their score. \n",
    "The game ends when there are no more elements in the array.\n",
    "\n",
    "Return `true` if `Player 1` can win the game. \n",
    "If the scores of both players are equal, then `player 1` is still the winner, and you should also return `true`. \n",
    "You may assume that both players are playing optimally.\n",
    "\n",
    "**Leetcode**\n",
    "- 0486\n",
    "- 0877"
   ]
  },
  {
   "attachments": {},
   "cell_type": "markdown",
   "metadata": {},
   "source": [
    "### Analysis\n",
    "\n",
    "How to formulate a DP problem?\n",
    "\n",
    "- `dp table[i,j]`: stores a tuple (first, second) as the maximum score for the first and second player using nums[i,j]\n",
    "- `state`: \n",
    "  - i, j, player\n",
    "- `choices`: at each state, the player can choose the `left` or `right` of `nums[i,j]`\n",
    "  - left = nums[i]\n",
    "  - right = nums[j]\n",
    "- `state transition`:\n",
    "  - player 1 chooses `left` or `right`, whichever makes his score highest from `nums[i,j]`\n",
    "    - `dp[i,j][0] = max(left + dp[i+1][j][1], right + dp[i][j-1][1])`\n",
    "    - max(choosing left, choosing right)\n",
    "  - if player 1 chooses `left`, then player 2 makes choice from dp[i+1][j] as the first player:\n",
    "    - `dp[i][j][1] = dp[i+1][j][0]`\n",
    "  - if player 1 chooses right, then player 2 makes choice from dp[i][j-1] as the first player:\n",
    "    - `dp[i][j][1] = dp[i][j-1][0]`\n",
    "- `base case`:\n",
    "  - apparently, `j>=i` is required for traversing the dp table\n",
    "  - we can then set the base as `i=j`, which are the states defined along the diag."
   ]
  },
  {
   "attachments": {},
   "cell_type": "markdown",
   "metadata": {},
   "source": [
    "### DP Function"
   ]
  },
  {
   "cell_type": "code",
   "execution_count": 11,
   "metadata": {},
   "outputs": [
    {
     "name": "stdout",
     "output_type": "stream",
     "text": [
      "False\n",
      "True\n",
      "True\n"
     ]
    }
   ],
   "source": [
    "def player1Wins(nums):\n",
    "\n",
    "    # dp function that returns the maximum score from nums[i,j] for the first and second player\n",
    "    def dp(i, j):\n",
    "        # base case:\n",
    "        if j == i:\n",
    "            return (nums[i],0)\n",
    "        \n",
    "        # state transition\n",
    "        # player 1 goes first by choosing left or right\n",
    "        left_max = nums[i] + dp(i+1, j)[1]\n",
    "        right_max = nums[j] + dp(i, j-1)[1]\n",
    "        \n",
    "        if left_max >= right_max:\n",
    "            left = True \n",
    "            first = left_max\n",
    "        else:\n",
    "            left = False\n",
    "            first = right_max \n",
    "        # player 2\n",
    "        if left:\n",
    "            second = dp(i+1, j)[0]\n",
    "        else:\n",
    "            second = dp(i, j-1)[0]\n",
    "        \n",
    "        return (first, second)\n",
    "    \n",
    "    scores = dp(0,len(nums)-1)\n",
    "    return scores[0] >= scores[1]\n",
    "\n",
    "# test\n",
    "nums = [1,5,2]\n",
    "print(player1Wins(nums))\n",
    "\n",
    "nums = [1,5,233,7]\n",
    "print(player1Wins(nums))\n",
    "\n",
    "nums = [1,567,1,1]\n",
    "print(player1Wins(nums))"
   ]
  },
  {
   "attachments": {},
   "cell_type": "markdown",
   "metadata": {},
   "source": [
    "### DP Function with Memo"
   ]
  },
  {
   "cell_type": "code",
   "execution_count": 10,
   "metadata": {},
   "outputs": [
    {
     "name": "stdout",
     "output_type": "stream",
     "text": [
      "False\n",
      "True\n",
      "True\n"
     ]
    }
   ],
   "source": [
    "def player1Wins(nums):\n",
    "    # initialize a memo\n",
    "    memo={}\n",
    "\n",
    "    # dp function\n",
    "    def dp(i, j):\n",
    "        # base case:\n",
    "        if j == i:\n",
    "            return (nums[i], 0)\n",
    "        \n",
    "        # if in memo\n",
    "        if (i,j) in memo:\n",
    "            return memo[(i,j)]\n",
    "        \n",
    "        # else; fill in memo\n",
    "        # state transition\n",
    "        # player 1 goes first by choosing left or right\n",
    "        left_max = nums[i] + dp(i+1, j)[1]\n",
    "        right_max = nums[j] + dp(i, j-1)[1]\n",
    "        \n",
    "        if left_max >= right_max:\n",
    "            left = True \n",
    "            first = left_max\n",
    "        else:\n",
    "            left = False\n",
    "            first = right_max \n",
    "        # player 2\n",
    "        if left:\n",
    "            second = dp(i+1, j)[0]\n",
    "        else:\n",
    "            second = dp(i, j-1)[0]\n",
    "        memo[(i,j)] = (first, second)\n",
    "\n",
    "        return memo[(i, j)]\n",
    "    \n",
    "    (first, second) = dp(0, len(nums)-1)\n",
    "    return first >= second\n",
    "\n",
    "# test\n",
    "nums = [1,5,2]\n",
    "print(player1Wins(nums))\n",
    "\n",
    "nums = [1,5,233,7]\n",
    "print(player1Wins(nums))\n",
    "\n",
    "nums = [1,567,1,1]\n",
    "print(player1Wins(nums))"
   ]
  },
  {
   "attachments": {},
   "cell_type": "markdown",
   "metadata": {},
   "source": [
    "### DP table\n"
   ]
  },
  {
   "cell_type": "code",
   "execution_count": 17,
   "metadata": {},
   "outputs": [
    {
     "name": "stdout",
     "output_type": "stream",
     "text": [
      "False\n",
      "True\n",
      "True\n"
     ]
    }
   ],
   "source": [
    "def player1Wins(nums):\n",
    "    n = len(nums)\n",
    "    dp = [[[0,0] for j in range(n)] for i in range(n)]\n",
    "    \n",
    "    # base case\n",
    "    for i in range(n):\n",
    "        dp[i][i] = (nums[i],0)\n",
    "    \n",
    "    # traverse order? for dp[i][j], we need dp[i+1][j] and dp[i][j-1]\n",
    "    # therefore, traverse i in a reverse order, and j in normal order\n",
    "    for i in range(n-2, -1, -1):\n",
    "        for j in range(i+1, n):\n",
    "            # player 1 choose first: max(left, right)\n",
    "            left_max = nums[i] + dp[i+1][j][1]\n",
    "            right_max = nums[j] + dp[i][j-1][1]\n",
    "            \n",
    "            if left_max >= right_max:\n",
    "                # player 1 choose left\n",
    "                dp[i][j][0] = left_max\n",
    "                # player 2:\n",
    "                dp[i][j][1] = dp[i+1][j][0]\n",
    "            else:\n",
    "                # player 1 choose right\n",
    "                dp[i][j][0] = right_max\n",
    "                # player 2:\n",
    "                dp[i][j][1] = dp[i][j-1][0]\n",
    "    \n",
    "    return dp[0][n-1][0] >= dp[0][n-1][1]\n",
    "\n",
    "# test\n",
    "nums = [1,5,2]\n",
    "print(player1Wins(nums))\n",
    "\n",
    "nums = [1,5,233,7]\n",
    "print(player1Wins(nums))\n",
    "\n",
    "nums = [1,567,1,1]\n",
    "print(player1Wins(nums))"
   ]
  },
  {
   "cell_type": "code",
   "execution_count": 12,
   "metadata": {},
   "outputs": [
    {
     "name": "stdout",
     "output_type": "stream",
     "text": [
      "False\n",
      "True\n",
      "True\n"
     ]
    }
   ],
   "source": [
    "def player1Wins(nums):\n",
    "    n = len(nums)\n",
    "    dp = [[0] * n for _ in range(n)]\n",
    "    for i in range(n):\n",
    "        dp[i][i] = nums[i]\n",
    "    for i in range(n - 2, -1, -1):\n",
    "        for j in range(i + 1, n):\n",
    "            dp[i][j] = max(nums[i] - dp[i + 1][j], nums[j] - dp[i][j - 1])\n",
    "    return dp[0][n - 1] >= 0\n",
    "\n",
    "# test\n",
    "nums = [1,5,2]\n",
    "print(player1Wins(nums))\n",
    "\n",
    "nums = [1,5,233,7]\n",
    "print(player1Wins(nums))\n",
    "\n",
    "nums = [1,567,1,1]\n",
    "print(player1Wins(nums))"
   ]
  },
  {
   "cell_type": "code",
   "execution_count": null,
   "metadata": {},
   "outputs": [],
   "source": []
  },
  {
   "attachments": {},
   "cell_type": "markdown",
   "metadata": {},
   "source": [
    "## House Robber\n",
    "\n",
    "You are a professional robber planning to rob houses along a street. Each house has a certain amount of money stashed, the only constraint stopping you from robbing each of them is that adjacent houses have security systems connected and it will automatically contact the police if two adjacent houses were broken into on the same night.\n",
    "\n",
    "Given an integer array `nums` representing the amount of money of each house, return the maximum amount of money you can rob tonight without alerting the police.\n",
    "\n",
    "**Leetcode**\n",
    "- 0198\n",
    "- 0213\n",
    "- 0337"
   ]
  },
  {
   "attachments": {},
   "cell_type": "markdown",
   "metadata": {},
   "source": [
    "### Analysis\n",
    "\n",
    "How to define a DP problem?\n",
    "- `dp[i]` stores the maximum amount of money when robing `nums[:i]` with house `i-1` being robbed.\n",
    "- `state`: maximum money robbed from `nums[:i]`, with `i-1` th house being robbed\n",
    "- `choice`: rob `i-3` or not, the second house before it\n",
    "- `state transition`:\n",
    "  - dp[i] = max(dp[:i-1]) + nums[i-1]\n",
    "- `output`: return the maximum of dp\n",
    "- `base case`:\n",
    "  - `i=0`, no house for robbibg, which is 0 "
   ]
  },
  {
   "attachments": {},
   "cell_type": "markdown",
   "metadata": {},
   "source": [
    "### DP Function"
   ]
  },
  {
   "cell_type": "code",
   "execution_count": 27,
   "metadata": {},
   "outputs": [
    {
     "name": "stdout",
     "output_type": "stream",
     "text": [
      "4\n",
      "12\n"
     ]
    }
   ],
   "source": [
    "def rob(nums):\n",
    "    # maximum so far\n",
    "    res = 0\n",
    "    n = len(nums)\n",
    "    # dp function: from top to down\n",
    "    def dp(i):\n",
    "        nonlocal res\n",
    "\n",
    "        # base case\n",
    "        if i > n-1:\n",
    "            return res\n",
    "\n",
    "        # fill the dp\n",
    "        res = max(res, dp(i+2) + nums[i])\n",
    "        return res\n",
    "\n",
    "    return dp(0)\n",
    "\n",
    "# test\n",
    "nums = [1,2,3,1]\n",
    "print(rob(nums))\n",
    "\n",
    "nums=[2,7,9,3,1]\n",
    "print(rob(nums))"
   ]
  },
  {
   "attachments": {},
   "cell_type": "markdown",
   "metadata": {},
   "source": [
    "### DP Table"
   ]
  },
  {
   "cell_type": "code",
   "execution_count": 26,
   "metadata": {},
   "outputs": [
    {
     "name": "stdout",
     "output_type": "stream",
     "text": [
      "4\n",
      "12\n"
     ]
    }
   ],
   "source": [
    "def rob(nums):\n",
    "    n = len(nums)\n",
    "    # initialize\n",
    "    dp = [0]*(n+1) \n",
    "    dp[1] = nums[0]\n",
    "\n",
    "    for i in range(2,n+1):\n",
    "        dp[i] = max(dp[:i-1]) + nums[i-1]\n",
    "\n",
    "    return max(dp)\n",
    "\n",
    "# test\n",
    "nums = [1,2,3,1]\n",
    "print(rob(nums))\n",
    "\n",
    "nums=[2,7,9,3,1]\n",
    "print(rob(nums))\n",
    "\n"
   ]
  },
  {
   "attachments": {},
   "cell_type": "markdown",
   "metadata": {},
   "source": [
    "## Sell Stocks"
   ]
  }
 ],
 "metadata": {
  "kernelspec": {
   "display_name": "jupyterbook-py38",
   "language": "python",
   "name": "python3"
  },
  "language_info": {
   "codemirror_mode": {
    "name": "ipython",
    "version": 3
   },
   "file_extension": ".py",
   "mimetype": "text/x-python",
   "name": "python",
   "nbconvert_exporter": "python",
   "pygments_lexer": "ipython3",
   "version": "3.8.12"
  },
  "orig_nbformat": 4,
  "vscode": {
   "interpreter": {
    "hash": "577791f2da4ac3a13c44f20f0f30021788d0264a6d82c3224a80270143730ffe"
   }
  }
 },
 "nbformat": 4,
 "nbformat_minor": 2
}
