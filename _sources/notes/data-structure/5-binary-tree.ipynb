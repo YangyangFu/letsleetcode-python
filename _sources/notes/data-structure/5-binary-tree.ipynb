{
 "cells": [
  {
   "attachments": {},
   "cell_type": "markdown",
   "metadata": {},
   "source": [
    "# Cahpter 5. Binary Tree\n",
    "\n",
    "**Terminology**\n",
    "- `traversal order`: the order of the nodes generated from a given traversal direction. \n"
   ]
  },
  {
   "cell_type": "code",
   "execution_count": 1,
   "metadata": {},
   "outputs": [],
   "source": [
    "class Node():\n",
    "    def __init__(self, val=0, left=None, right=None):\n",
    "        self.val = val \n",
    "        self.left = left\n",
    "        self.right = right"
   ]
  },
  {
   "attachments": {},
   "cell_type": "markdown",
   "metadata": {},
   "source": [
    "## Traversal\n",
    "\n",
    "### Preorder"
   ]
  },
  {
   "cell_type": "code",
   "execution_count": 2,
   "metadata": {},
   "outputs": [],
   "source": [
    "def preorder(root):\n",
    "    # base case\n",
    "    if not root:\n",
    "        return []\n",
    "\n",
    "    # store node \n",
    "    order = [root.val]\n",
    "    # traverse the left subtree and right subtree\n",
    "    order.extend(preorder(root.left))\n",
    "    order.extend(preorder(root.right))\n",
    "    \n",
    "    # return\n",
    "    return order"
   ]
  },
  {
   "attachments": {},
   "cell_type": "markdown",
   "metadata": {},
   "source": [
    "### Inorder"
   ]
  },
  {
   "cell_type": "code",
   "execution_count": 16,
   "metadata": {},
   "outputs": [],
   "source": [
    "def inorder(root):\n",
    "    # base case\n",
    "    if not root:\n",
    "        return []\n",
    "    # store node \n",
    "    order = []\n",
    "    # traverse the left subtree and right subtree\n",
    "    order.extend(inorder(root.left))\n",
    "    order.extend([root.val])\n",
    "    order.extend(inorder(root.right))\n",
    "    \n",
    "    # return\n",
    "    return order"
   ]
  },
  {
   "attachments": {},
   "cell_type": "markdown",
   "metadata": {},
   "source": [
    "## Build\n",
    "\n",
    "A binary tree can be built from its given preorder, inorder and postorder traversal, or its serialization format directly."
   ]
  },
  {
   "attachments": {},
   "cell_type": "markdown",
   "metadata": {},
   "source": [
    "### From Preorder and Inorder"
   ]
  },
  {
   "attachments": {},
   "cell_type": "markdown",
   "metadata": {},
   "source": [
    "### From Postorder and Inorder"
   ]
  },
  {
   "attachments": {},
   "cell_type": "markdown",
   "metadata": {},
   "source": [
    "### From Preorder and Postorder"
   ]
  },
  {
   "attachments": {},
   "cell_type": "markdown",
   "metadata": {},
   "source": [
    "### From Preorder Serialization\n",
    "\n",
    "A binary tree can be directly built from a serialized representation of the original binary tree."
   ]
  },
  {
   "cell_type": "code",
   "execution_count": 18,
   "metadata": {},
   "outputs": [
    {
     "name": "stdout",
     "output_type": "stream",
     "text": [
      "[1, 2, 3, 4, 5]\n",
      "[2, 1, 4, 3, 5]\n"
     ]
    }
   ],
   "source": [
    "# because the serialization is preordered, we can do preorder traversal, to \n",
    "def buildFromPreorderSerialization(serialization):\n",
    "    ss = serialization.split(',')\n",
    "\n",
    "    def traverse():\n",
    "        \n",
    "        node = ss.pop(0)\n",
    "        if node == \"null\":\n",
    "            return None\n",
    "        \n",
    "        # do preorder\n",
    "        node = Node(int(node))\n",
    "        node.left = traverse()\n",
    "        node.right = traverse()\n",
    "        \n",
    "        return node\n",
    "    \n",
    "    return traverse()\n",
    "\n",
    "# test\n",
    "s = '1,2,null,null,3,4,null,null,5,null,null'\n",
    "tree = buildFromPreorderSerialization(s)\n",
    "print(preorder(tree))\n",
    "print(inorder(tree))"
   ]
  },
  {
   "attachments": {},
   "cell_type": "markdown",
   "metadata": {},
   "source": [
    "### From Level Order Serialization"
   ]
  },
  {
   "cell_type": "code",
   "execution_count": null,
   "metadata": {},
   "outputs": [],
   "source": [
    "def buildFromLevelOrderSerialization(s):\n",
    "    ss = s.split(',')\n",
    "    l = 0\n",
    "\n",
    "    # define a level order traverse helper function\n",
    "    pass\n",
    "        "
   ]
  }
 ],
 "metadata": {
  "kernelspec": {
   "display_name": "jupyterbook-py38",
   "language": "python",
   "name": "python3"
  },
  "language_info": {
   "codemirror_mode": {
    "name": "ipython",
    "version": 3
   },
   "file_extension": ".py",
   "mimetype": "text/x-python",
   "name": "python",
   "nbconvert_exporter": "python",
   "pygments_lexer": "ipython3",
   "version": "3.8.12"
  },
  "orig_nbformat": 4,
  "vscode": {
   "interpreter": {
    "hash": "577791f2da4ac3a13c44f20f0f30021788d0264a6d82c3224a80270143730ffe"
   }
  }
 },
 "nbformat": 4,
 "nbformat_minor": 2
}
