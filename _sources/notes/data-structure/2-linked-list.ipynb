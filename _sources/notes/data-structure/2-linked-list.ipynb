{
 "cells": [
  {
   "attachments": {},
   "cell_type": "markdown",
   "metadata": {},
   "source": [
    "# Chapter 2. Singely Linked List\n",
    "\n"
   ]
  },
  {
   "cell_type": "code",
   "execution_count": 21,
   "metadata": {},
   "outputs": [],
   "source": [
    "class Node():\n",
    "    def __init__(self, val=0, next=None):\n",
    "        self.val = val\n",
    "        self.next = next\n",
    "\n",
    "def linkedListToList(head):\n",
    "    res = []\n",
    "    while head:\n",
    "        res.append(head.val)\n",
    "        head = head.next\n",
    "    return res"
   ]
  },
  {
   "cell_type": "markdown",
   "metadata": {},
   "source": [
    "## Build"
   ]
  },
  {
   "cell_type": "code",
   "execution_count": 22,
   "metadata": {},
   "outputs": [
    {
     "name": "stdout",
     "output_type": "stream",
     "text": [
      "[1, 2, 3, 4]\n"
     ]
    }
   ],
   "source": [
    "def build(A):\n",
    "    dummy = Node()\n",
    "\n",
    "    if not A:\n",
    "        return dummy.next\n",
    "    \n",
    "    prev = dummy\n",
    "    for a in A:\n",
    "        cur = Node(a)\n",
    "        prev.next = cur \n",
    "        prev = cur\n",
    "    \n",
    "    return dummy.next \n",
    "\n",
    "# test \n",
    "A = [1,2,3,4]\n",
    "head = build(A)\n",
    "print(linkedListToList(head))   "
   ]
  },
  {
   "cell_type": "markdown",
   "metadata": {},
   "source": [
    "## Traverse\n",
    "\n",
    "The traversal of a linked list is usually performed by moving pointers using `node.next`. \n"
   ]
  },
  {
   "cell_type": "code",
   "execution_count": 23,
   "metadata": {},
   "outputs": [
    {
     "name": "stdout",
     "output_type": "stream",
     "text": [
      "[1, 2, 3, 4]\n"
     ]
    }
   ],
   "source": [
    "# Iterative implementation: preorder traversal\n",
    "def traverse(head):\n",
    "    res = []\n",
    "    while head:\n",
    "        res.append(head.val)\n",
    "        head = head.next\n",
    "    return res\n",
    "\n",
    "# Test\n",
    "A = [1,2,3,4]\n",
    "head = build(A)\n",
    "print(traverse(head))"
   ]
  },
  {
   "cell_type": "code",
   "execution_count": 24,
   "metadata": {},
   "outputs": [
    {
     "name": "stdout",
     "output_type": "stream",
     "text": [
      "[1, 2, 3, 4]\n"
     ]
    }
   ],
   "source": [
    "# Recursive implementation: preorder traversal\n",
    "def traverse(node):\n",
    "    if not node:\n",
    "        return []\n",
    "    # preorder code\n",
    "    val = [node.val]\n",
    "    \n",
    "    # recursive call\n",
    "    next_val = traverse(node.next)\n",
    "    \n",
    "    return val + next_val\n",
    "\n",
    "# Test\n",
    "A = [1,2,3,4]\n",
    "head = build(A)\n",
    "print(traverse(head))\n"
   ]
  },
  {
   "cell_type": "code",
   "execution_count": 25,
   "metadata": {},
   "outputs": [
    {
     "data": {
      "text/plain": [
       "[4, 3, 2, 1]"
      ]
     },
     "execution_count": 25,
     "metadata": {},
     "output_type": "execute_result"
    }
   ],
   "source": [
    "# Recursive implementation: postorder traversal -> reverse the values\n",
    "def traverse_postorder(node):\n",
    "    # base \n",
    "    if not node:\n",
    "        return []\n",
    "    \n",
    "    # \n",
    "    next_val = traverse_postorder(node.next)\n",
    "    val = [node.val]\n",
    "\n",
    "    return next_val+val\n",
    "\n",
    "# Test\n",
    "A = [1,2,3,4]\n",
    "head = build(A)\n",
    "traverse_postorder(head)\n"
   ]
  },
  {
   "cell_type": "markdown",
   "metadata": {},
   "source": [
    "## Insertion\n",
    "\n",
    "A node can be added in three ways \n",
    "- At the front of the linked list -> $O(1)$\n",
    "- After a given node -> $O(1)$ \n",
    "- At the end of the linked list -> $O(n)$"
   ]
  },
  {
   "cell_type": "code",
   "execution_count": 26,
   "metadata": {},
   "outputs": [
    {
     "name": "stdout",
     "output_type": "stream",
     "text": [
      "[5, 1, 2, 3, 4]\n",
      "[1, 2, 3, 5, 4]\n",
      "[1, 2, 3, 4, 5]\n"
     ]
    }
   ],
   "source": [
    "def insertFront(head, val):\n",
    "    # construct a node\n",
    "    node = Node(val)\n",
    "    # make the new node as head\n",
    "    node.next = head\n",
    "    return node\n",
    "\n",
    "def insertAfter(head, previous_node, val):\n",
    "    \"\"\"Insert new node with val after given previous_ndoe in head\"\"\"\n",
    "    node = Node(val)\n",
    "    tail = previous_node.next\n",
    "    previous_node.next = node \n",
    "    node.next = tail\n",
    "\n",
    "    return head \n",
    "\n",
    "def insertEnd(head, val):\n",
    "    \"\"\"Insert to the end of a singley linked list\"\"\"\n",
    "    node = Node(val)\n",
    "    if not head:\n",
    "        return node\n",
    "    \n",
    "    # traverse to the end\n",
    "    tail = head\n",
    "    while tail and tail.next:\n",
    "        tail = tail.next \n",
    "    \n",
    "    # point to the new node\n",
    "    tail.next = node \n",
    "\n",
    "    return head \n",
    "\n",
    "# test\n",
    "# insert front\n",
    "A = [1,2,3,4]\n",
    "head = build(A)\n",
    "val = 5\n",
    "head = insertFront(head, val)\n",
    "print(traverse(head))\n",
    "\n",
    "# insert after\n",
    "A = [1,2,3,4]\n",
    "head = build(A)\n",
    "val = 5\n",
    "previous_node = head.next.next # 3\n",
    "head = insertAfter(head, previous_node, val)\n",
    "print(traverse(head))\n",
    "\n",
    "# insert end\n",
    "A = [1,2,3,4]\n",
    "head = build(A)\n",
    "val = 5\n",
    "head = insertEnd(head, val)\n",
    "print(traverse(head))"
   ]
  },
  {
   "cell_type": "markdown",
   "metadata": {},
   "source": [
    "## Deletion\n",
    "Similary to insertion, we can delete a node from a linked list at three positions:\n",
    "- At the front of the linked list -> $O(1)$\n",
    "- After a given node -> $O(1)$ \n",
    "- At the end of the linked list -> $O(n)$"
   ]
  },
  {
   "cell_type": "markdown",
   "metadata": {},
   "source": [
    "## Search\n",
    "Given a linked list and a key `X` in, the task is to check if `X` is present in the linked list or not."
   ]
  },
  {
   "cell_type": "code",
   "execution_count": 27,
   "metadata": {},
   "outputs": [
    {
     "name": "stdout",
     "output_type": "stream",
     "text": [
      "False\n",
      "True\n"
     ]
    }
   ],
   "source": [
    "# An iterative implementation\n",
    "def search(head, val):\n",
    "    if not head:\n",
    "        return False \n",
    "\n",
    "    while head:\n",
    "        if head.val == val:\n",
    "            return True \n",
    "        head = head.next \n",
    "        \n",
    "    return False\n",
    "\n",
    "# \n",
    "A = [1,2,3,4]\n",
    "head = build(A)\n",
    "val = 5\n",
    "print(search(head, val))\n",
    "\n",
    "val = 2\n",
    "print(search(head, val))"
   ]
  },
  {
   "cell_type": "markdown",
   "metadata": {},
   "source": [
    "## Indexing\n",
    "\n",
    "- Find the `n`th node from the beginning of a linked list\n",
    "- Find the `n`th node from the end of a linked list\n",
    "  - Naive implementation: N from the end is (lengh - N + 1) from beginning\n",
    "  - Two-pointer: \n",
    "    - the idea is to maintain two pointers starting from the head of the Linked-List and move one pointer to the Nth node from the start and then move both the pointers together until the pointer at the Nth position reaches the last node. Now the pointer which was moved later points at the Nth node from the end of the Linked-List\n",
    "- Find the middle node\n",
    "  - Tow pointer: slow and fast pointer"
   ]
  },
  {
   "cell_type": "code",
   "execution_count": 28,
   "metadata": {},
   "outputs": [
    {
     "name": "stdout",
     "output_type": "stream",
     "text": [
      "1\n",
      "10\n",
      "30\n",
      "14\n",
      "-1\n"
     ]
    }
   ],
   "source": [
    "def getNFromBegin(head, n):\n",
    "    if n < 1:\n",
    "        return -1\n",
    "    \n",
    "    while head and n:\n",
    "        prev = head\n",
    "        head = head.next\n",
    "        n -= 1\n",
    "\n",
    "    # out of bound: n is greater than the length of the list\n",
    "    if not head and n > 0:\n",
    "        return -1\n",
    "\n",
    "    return prev.val\n",
    "\n",
    "A = [1,10,30,14]\n",
    "head = build(A)\n",
    "\n",
    "n = 1\n",
    "print(getNFromBegin(head, n))\n",
    "\n",
    "n = 2\n",
    "print(getNFromBegin(head, n))\n",
    "\n",
    "n = 3\n",
    "print(getNFromBegin(head, n))\n",
    "\n",
    "n = 4\n",
    "print(getNFromBegin(head, n))\n",
    "\n",
    "n = 5\n",
    "print(getNFromBegin(head, n))\n"
   ]
  },
  {
   "cell_type": "code",
   "execution_count": 29,
   "metadata": {},
   "outputs": [
    {
     "name": "stdout",
     "output_type": "stream",
     "text": [
      "14\n",
      "30\n",
      "10\n",
      "1\n",
      "-1\n"
     ]
    }
   ],
   "source": [
    "# Naive implementation: an iterative implementation\n",
    "# time - O(n)\n",
    "# space - O(1)\n",
    "def getNFromEnd(head, n):\n",
    "    # get lenght of the list\n",
    "    l = 0\n",
    "    node = head\n",
    "    while node:\n",
    "        l += 1\n",
    "        node = node.next\n",
    "    \n",
    "    # return -1 if out of bounds\n",
    "    if n > l: return -1\n",
    "\n",
    "    # get the (l-n+1) node from beginning\n",
    "    m = l-n+1\n",
    "    node = head\n",
    "    while m:\n",
    "        prev = node\n",
    "        node = node.next\n",
    "        m -= 1\n",
    "\n",
    "    return prev.val\n",
    "\n",
    "A = [1,10,30,14]\n",
    "head = build(A)\n",
    "n = 1\n",
    "print(getNFromEnd(head, n))\n",
    "\n",
    "n = 2\n",
    "print(getNFromEnd(head, n))\n",
    "\n",
    "n = 3\n",
    "print(getNFromEnd(head, n))\n",
    "\n",
    "n = 4\n",
    "print(getNFromEnd(head, n))\n",
    "\n",
    "n = 5\n",
    "print(getNFromEnd(head, n))"
   ]
  },
  {
   "cell_type": "code",
   "execution_count": 30,
   "metadata": {},
   "outputs": [
    {
     "name": "stdout",
     "output_type": "stream",
     "text": [
      "None\n",
      "None\n",
      "None\n",
      "None\n",
      "None\n"
     ]
    }
   ],
   "source": [
    "## TODO: This is a wrong implementation - How to fix it?\n",
    "# A recursive implementation\n",
    "# time - O(n)\n",
    "# space - O(n) due to recursive stack call\n",
    "def getNFromEnd(head, n):\n",
    "    # get lenght of the list\n",
    "    l = 0\n",
    "    node = head\n",
    "    while node:\n",
    "        l += 1\n",
    "        node = node.next\n",
    "    \n",
    "    # recursive calls\n",
    "    global i\n",
    "    i = 0\n",
    "    def helper(head, n, l):\n",
    "        global i\n",
    "        #print(i)\n",
    "        if not head:\n",
    "            return \n",
    "        if i==n:\n",
    "            return head.val\n",
    "\n",
    "        helper(head.next, n, l)\n",
    "        i += 1     \n",
    "  \n",
    "\n",
    "    return helper(head, n, l)\n",
    "\n",
    "A = [1,10,30,14]\n",
    "head = build(A)\n",
    "\n",
    "n = 1\n",
    "print(getNFromEnd(head, n))\n",
    "\n",
    "n = 2\n",
    "print(getNFromEnd(head, n))\n",
    "\n",
    "n = 3\n",
    "print(getNFromEnd(head, n))\n",
    "\n",
    "n = 4\n",
    "print(getNFromEnd(head, n))\n",
    "\n",
    "n = 5\n",
    "print(getNFromEnd(head, n))"
   ]
  },
  {
   "cell_type": "code",
   "execution_count": 31,
   "metadata": {},
   "outputs": [
    {
     "name": "stdout",
     "output_type": "stream",
     "text": [
      "14\n",
      "30\n",
      "10\n",
      "1\n",
      "-1\n"
     ]
    }
   ],
   "source": [
    "# A two-pointer implementation\n",
    "def getNFromEnd(head, n):\n",
    "    # get lenght of the list\n",
    "    l = 0\n",
    "    node = head\n",
    "    while node:\n",
    "        l += 1\n",
    "        node = node.next\n",
    "    # special case\n",
    "    if n > l:\n",
    "        return -1\n",
    "    \n",
    "    def nextN(node, n):\n",
    "        if not node:\n",
    "            return \n",
    "        tmp = node\n",
    "        while n > 0 and tmp:\n",
    "            tmp = tmp.next\n",
    "            n -= 1\n",
    "        return tmp\n",
    "\n",
    "    left, right = head, nextN(head, n)\n",
    "\n",
    "    # move till right pointer reaches the end\n",
    "    while right:\n",
    "        left = left.next\n",
    "        right = right.next\n",
    "    \n",
    "    return left.val\n",
    "\n",
    "A = [1,10,30,14]\n",
    "head = build(A)\n",
    "\n",
    "n = 1\n",
    "print(getNFromEnd(head, n))\n",
    "\n",
    "n = 2\n",
    "print(getNFromEnd(head, n))\n",
    "\n",
    "n = 3\n",
    "print(getNFromEnd(head, n))\n",
    "\n",
    "n = 4\n",
    "print(getNFromEnd(head, n))\n",
    "\n",
    "n = 5\n",
    "print(getNFromEnd(head, n))"
   ]
  },
  {
   "cell_type": "code",
   "execution_count": 32,
   "metadata": {},
   "outputs": [
    {
     "name": "stdout",
     "output_type": "stream",
     "text": [
      "30\n",
      "30\n"
     ]
    }
   ],
   "source": [
    "def getMiddle(head):\n",
    "    slow, fast = head, head \n",
    "    \n",
    "    while fast and fast.next:\n",
    "        slow = slow.next\n",
    "        fast = fast.next.next\n",
    "    \n",
    "    return slow\n",
    "\n",
    "#\n",
    "A = [1,10,30,14]\n",
    "head = build(A)\n",
    "mid = getMiddle(head)\n",
    "print(mid.val)\n",
    "\n",
    "A = [1,10,30,14, 15]\n",
    "head = build(A)\n",
    "mid = getMiddle(head)\n",
    "print(mid.val)"
   ]
  },
  {
   "cell_type": "markdown",
   "metadata": {},
   "source": [
    "## Loops in Linked List\n",
    "\n",
    "### Cycle Dection\n",
    "Detect if a linked list has a loop.\n",
    "\n",
    "**Method 1: Hash Map**\n",
    "- idea\n",
    "  - traverse the linked list\n",
    "  - use a hash map to store the node that has been seen\n",
    "  - if the coming node has already in the hash map, then there is a loop\n",
    "- complexity\n",
    "  - time: O(n)\n",
    "  - space: O(n)\n",
    "\n",
    "**Method 2: Floyd's Cycle Finding Algorithm**\n",
    "- idea\n",
    "  - initiate a slow pointer and a fast pointer\n",
    "  - iteratively, slow pointer moves one step, and fast pointers move two steps \n",
    "  - when slow pointer is equal to fast pointer, then there is a loop"
   ]
  },
  {
   "cell_type": "code",
   "execution_count": 33,
   "metadata": {},
   "outputs": [
    {
     "name": "stdout",
     "output_type": "stream",
     "text": [
      "False\n",
      "True\n"
     ]
    }
   ],
   "source": [
    "def cycleDetection(head):\n",
    "    slow, fast = head, head\n",
    "\n",
    "    while fast and fast.next:\n",
    "        slow = slow.next\n",
    "        fast = fast.next.next\n",
    "        if slow == fast:\n",
    "            return True \n",
    "\n",
    "    return False\n",
    "\n",
    "node1 = Node(1)\n",
    "node2 = Node(2)\n",
    "node3 = Node(3)\n",
    "node4 = Node(4)\n",
    "node5 = Node(5)\n",
    "\n",
    "node1.next = node2 \n",
    "node2.next = node3\n",
    "node3.next = node4\n",
    "node4.next = node5\n",
    "\n",
    "# no loop\n",
    "print(cycleDetection(node1))\n",
    "\n",
    "# add a loop \n",
    "node5.next = node2\n",
    "print(cycleDetection(node1))\n",
    "\n"
   ]
  },
  {
   "cell_type": "markdown",
   "metadata": {},
   "source": [
    "### Cycle Entrance\n",
    "Find the cycle entrance, i.e., the common node,  if there is a cycle in the linked list.\n"
   ]
  },
  {
   "cell_type": "code",
   "execution_count": 34,
   "metadata": {},
   "outputs": [
    {
     "name": "stdout",
     "output_type": "stream",
     "text": [
      "-1\n",
      "2\n"
     ]
    }
   ],
   "source": [
    "def findCycleEntrance(head):\n",
    "    # check if there is a cycle\n",
    "    slow, fast = head, head\n",
    "    while fast and fast.next:\n",
    "        slow = slow.next\n",
    "        fast = fast.next.next\n",
    "        if slow == fast:\n",
    "            break \n",
    "    # if there is no cycle, return -1\n",
    "    if not (fast and fast.next):\n",
    "        return -1\n",
    "    \n",
    "    # has a cycle\n",
    "    # set slow to head, move slow and fast at the same speed\n",
    "    slow = head\n",
    "    \n",
    "    while slow != fast:\n",
    "        slow = slow.next\n",
    "        fast = fast.next\n",
    "    \n",
    "    return slow\n",
    "\n",
    "node1 = Node(1)\n",
    "node2 = Node(2)\n",
    "node3 = Node(3)\n",
    "node4 = Node(4)\n",
    "node5 = Node(5)\n",
    "\n",
    "node1.next = node2 \n",
    "node2.next = node3\n",
    "node3.next = node4\n",
    "node4.next = node5\n",
    "\n",
    "# no loop\n",
    "print(findCycleEntrance(node1))\n",
    "\n",
    "# add a loop \n",
    "node5.next = node2\n",
    "print(findCycleEntrance(node1).val)"
   ]
  },
  {
   "cell_type": "markdown",
   "metadata": {},
   "source": [
    "### Length of Cycle\n",
    "Find the length of a cycle\n",
    "\n",
    "- Idea\n",
    "  - we can find the cycle entrance first\n",
    "  - then traverse the cycle till the entrance again.\n",
    " "
   ]
  },
  {
   "cell_type": "markdown",
   "metadata": {},
   "source": [
    "## Sort Linked List\n",
    "\n",
    "to-be added"
   ]
  },
  {
   "attachments": {},
   "cell_type": "markdown",
   "metadata": {},
   "source": [
    "## Reverse Linked List\n",
    "Reverse a given linked list\n",
    "- iterative\n",
    "- recurisive: see https://labuladong.github.io/algo/di-yi-zhan-da78c/shou-ba-sh-8f30d/di-gui-mo--1eaae/\n",
    "\n",
    "**Leetcode**\n",
    "- [0206](/letsleetcode/leetcode/solutions/0206-reversed-linked-list.ipynb)\n",
    "- [0092](/letsleetcode/leetcode/solutions/0092-reversed-linked-list-II.ipynb)"
   ]
  },
  {
   "cell_type": "markdown",
   "metadata": {},
   "source": [
    "### Reverse the Whole List"
   ]
  },
  {
   "cell_type": "code",
   "execution_count": 35,
   "metadata": {},
   "outputs": [
    {
     "name": "stdout",
     "output_type": "stream",
     "text": [
      "[14, 30, 10, 1]\n"
     ]
    }
   ],
   "source": [
    "# iterative implementation\n",
    "def reverseSinglyLinkedList(head):\n",
    "    \n",
    "    p = head \n",
    "    prev = None\n",
    "    while p:\n",
    "        tail = p.next\n",
    "        p.next = prev\n",
    "        prev = p\n",
    "        p = tail\n",
    "    \n",
    "    return prev \n",
    "\n",
    "A = [1,10,30,14]\n",
    "head = build(A)\n",
    "reverse = reverseSinglyLinkedList(head)\n",
    "print(traverse(reverse))"
   ]
  },
  {
   "cell_type": "code",
   "execution_count": 36,
   "metadata": {},
   "outputs": [
    {
     "name": "stdout",
     "output_type": "stream",
     "text": [
      "[14, 30, 10, 1]\n"
     ]
    }
   ],
   "source": [
    "# recursive implementation\n",
    "def reverseSinglyLinkedList(head):\n",
    "    # base \n",
    "    if not head or not head.next:\n",
    "        return head \n",
    "    \n",
    "    # main recursion\n",
    "    reverse = reverseSinglyLinkedList(head.next)\n",
    "    head.next.next = head \n",
    "    head.next = None \n",
    "    \n",
    "    return reverse\n",
    "\n",
    "A = [1,10,30,14]\n",
    "head = build(A)\n",
    "reverse = reverseSinglyLinkedList(head)\n",
    "print(traverse(reverse))"
   ]
  },
  {
   "cell_type": "markdown",
   "metadata": {},
   "source": [
    "### Reverse the First N Nodes\n"
   ]
  },
  {
   "cell_type": "code",
   "execution_count": 37,
   "metadata": {},
   "outputs": [
    {
     "name": "stdout",
     "output_type": "stream",
     "text": [
      "[10, 1, 30, 14]\n"
     ]
    }
   ],
   "source": [
    "# An iterative implementation\n",
    "def reverseN(head, n):\n",
    "    if n == 1:\n",
    "        return head \n",
    "\n",
    "    prev = None\n",
    "    curr = head\n",
    "    \n",
    "    i = 1\n",
    "    while i <= n:\n",
    "        tail = curr.next\n",
    "        curr.next = prev \n",
    "        prev = curr \n",
    "        i += 1\n",
    "        curr = tail\n",
    "    \n",
    "    # connect with tail\n",
    "    head.next = tail \n",
    "\n",
    "    return prev \n",
    "\n",
    "A = [1,10,30,14]\n",
    "head = build(A)\n",
    "reverse = reverseN(head, 2)\n",
    "print(traverse(reverse))"
   ]
  },
  {
   "cell_type": "code",
   "execution_count": 38,
   "metadata": {},
   "outputs": [
    {
     "name": "stdout",
     "output_type": "stream",
     "text": [
      "[10, 1, 30, 14]\n"
     ]
    }
   ],
   "source": [
    "# A recursive implementation\n",
    "def reverseN(head, n):\n",
    "    # base case\n",
    "    if n == 1:\n",
    "        return head\n",
    "    newhead = reverseN(head.next, n - 1)\n",
    "    tail = head.next.next\n",
    "    head.next.next = head \n",
    "    head.next = tail \n",
    "\n",
    "    return newhead \n",
    "    \n",
    "A = [1,10,30,14]\n",
    "head = build(A)\n",
    "new = reverseN(head, 2)\n",
    "print(traverse(new))"
   ]
  },
  {
   "cell_type": "markdown",
   "metadata": {},
   "source": [
    "## Reverse the M to N nodes\n",
    "- move head to the m node\n",
    "- reverse the first (n-m) node \n"
   ]
  },
  {
   "cell_type": "code",
   "execution_count": 39,
   "metadata": {},
   "outputs": [
    {
     "name": "stdout",
     "output_type": "stream",
     "text": [
      "1 10\n",
      "[1, 30, 10, 14]\n"
     ]
    }
   ],
   "source": [
    "# A recursive implementation\n",
    "def reverseSinglyLinkedList(head, m, n):\n",
    "    # move to the m-1 node\n",
    "    head_m = head\n",
    "    i = 1 \n",
    "    while i < m-1:\n",
    "        head_m = head_m.next\n",
    "        i += 1\n",
    "\n",
    "    # reverse the first n-m+1 nodes\n",
    "    # from the m mode\n",
    "    tail = head_m.next\n",
    "    print(head_m.val, tail.val)\n",
    "    i = 1\n",
    "    while i <= n - m + 1:\n",
    "        # n+1 node\n",
    "        tail = tail.next \n",
    "        i += 1\n",
    "    \n",
    "    def reverse(head, n):\n",
    "        if n == 1:\n",
    "            return head\n",
    "        newhead = reverse(head.next, n - 1)\n",
    "        head.next.next = head \n",
    "        head.next = tail \n",
    "\n",
    "        return newhead \n",
    "    \n",
    "    # connect together\n",
    "    rev = reverse(head_m.next, n - m + 1)\n",
    "    head_m.next = rev \n",
    "\n",
    "    return head \n",
    "\n",
    "A = [1,10,30,14]\n",
    "head = build(A)\n",
    "new = reverseSinglyLinkedList(head, 2, 3)\n",
    "print(traverse(new))"
   ]
  },
  {
   "cell_type": "code",
   "execution_count": 40,
   "metadata": {},
   "outputs": [
    {
     "name": "stdout",
     "output_type": "stream",
     "text": [
      "[1, 30, 10, 14]\n",
      "[1, 4, 3, 2, 5]\n"
     ]
    }
   ],
   "source": [
    "# Recursive Implementation\n",
    "def reverseFromMToN(head, m, n):\n",
    "    # base case: if m=1, then reverse the first N\n",
    "    if m == 1:\n",
    "        return reverseN(head, n)\n",
    "\n",
    "    # recursive call\n",
    "    tail = reverseFromMToN(head.next, m-1, n-1)\n",
    "    head.next = tail\n",
    "\n",
    "    return head\n",
    "\n",
    "# test\n",
    "A = [1,10,30,14]\n",
    "head = build(A)\n",
    "new = reverseFromMToN(head, 2, 3)\n",
    "print(traverse(new))\n",
    "\n",
    "A = [1,2, 3, 4, 5]\n",
    "head = build(A)\n",
    "new = reverseFromMToN(head, 2, 4)\n",
    "print(traverse(new))"
   ]
  },
  {
   "cell_type": "markdown",
   "metadata": {},
   "source": [
    "## Check Palindrome\n",
    "\n",
    "**Method 1**: Stack\n",
    "- traverse the list, and push every visited node to stack\n",
    "- traverse the list again. for every visited node,\n",
    "  - pop a node from the stack\n",
    "  - compare the data of the popped node and the currently visited node.\n",
    "- if all nodes match, then return true, else false\n",
    "\n",
    "\n",
    "**Method 2**: \n",
    "- find the middle node\n",
    "- reverse the second half of the list\n",
    "- check if the reversed half list is equal to the first half of the original list\n"
   ]
  },
  {
   "attachments": {},
   "cell_type": "markdown",
   "metadata": {},
   "source": [
    "## Intersection Node of Two Lists\n",
    "Given two lists sorted in increasing order, create and return a new list representing the intersection of the two lists. The new list should be made with its own memory — the original lists should not be changed. \n",
    "\n",
    "**Note** Dummy node is very good for creating a new linked list.\n",
    "\n",
    "```\n",
    "Input: \n",
    "First linked list: 1->2->3->4->6\n",
    "Second linked list be 2->4->6->8, \n",
    "Output: 2->4->6.\n",
    "The elements 2, 4, 6 are common in \n",
    "both the list so they appear in the \n",
    "intersection list. \n",
    "\n",
    "Input: \n",
    "First linked list: 1->2->3->4->5\n",
    "Second linked list be 2->3->4, \n",
    "Output: 2->3->4\n",
    "The elements 2, 3, 4 are common in \n",
    "both the list so they appear in the \n",
    "intersection list.\n",
    "```\n"
   ]
  },
  {
   "cell_type": "code",
   "execution_count": 41,
   "metadata": {},
   "outputs": [
    {
     "name": "stdout",
     "output_type": "stream",
     "text": [
      "[2, 4, 6]\n",
      "[1, 2, 4, 6]\n",
      "[2, 4, 6, 8]\n"
     ]
    }
   ],
   "source": [
    "def intersect1(l1, l2):\n",
    "    \"\"\"\n",
    "    This method changes the original data\n",
    "    \"\"\"\n",
    "    dummy = Node()\n",
    "    tail = dummy\n",
    "\n",
    "    p1, p2 = l1, l2\n",
    "    while p1 and p2:\n",
    "        if p1.val == p2.val:\n",
    "            tail.next = p1\n",
    "            tail = tail.next\n",
    "            p1 = p1.next \n",
    "            p2 = p2.next\n",
    "        elif p1.val < p2.val:\n",
    "            p1 = p1.next \n",
    "        elif p1.val > p2.val:\n",
    "            p2 = p2.val\n",
    "    \n",
    "    return dummy.next\n",
    "\n",
    "# test\n",
    "l1 = [1,2,3,4,6]\n",
    "l1 = build(l1)\n",
    "l2 = [2,4,6,8]\n",
    "l2 = build(l2)\n",
    "intersection = intersect1(l1, l2)\n",
    "print(traverse(intersection))\n",
    "print(traverse(l1))\n",
    "print(traverse(l2))"
   ]
  },
  {
   "cell_type": "code",
   "execution_count": 42,
   "metadata": {},
   "outputs": [
    {
     "name": "stdout",
     "output_type": "stream",
     "text": [
      "[2, 4, 6]\n",
      "[1, 2, 3, 4, 6]\n",
      "[2, 4, 6, 8]\n"
     ]
    }
   ],
   "source": [
    "def intersect2(l1, l2):\n",
    "    \"\"\"\n",
    "    This method doesnt change the original data\n",
    "    \"\"\"\n",
    "    dummy = Node()\n",
    "    tail = dummy\n",
    "\n",
    "    p1, p2 = l1, l2\n",
    "    while p1 and p2:\n",
    "        if p1.val == p2.val:\n",
    "            newnode = Node(p1.val)\n",
    "            tail.next = newnode\n",
    "            tail = tail.next\n",
    "            p1 = p1.next \n",
    "            p2 = p2.next\n",
    "        elif p1.val < p2.val:\n",
    "            p1 = p1.next \n",
    "        elif p1.val > p2.val:\n",
    "            p2 = p2.val\n",
    "    \n",
    "    return dummy.next\n",
    "\n",
    "# test\n",
    "l1 = [1,2,3,4,6]\n",
    "l1 = build(l1)\n",
    "l2 = [2,4,6,8]\n",
    "l2 = build(l2)\n",
    "intersection = intersect2(l1, l2)\n",
    "print(traverse(intersection))\n",
    "print(traverse(l1))\n",
    "print(traverse(l2))"
   ]
  },
  {
   "cell_type": "markdown",
   "metadata": {},
   "source": [
    "## Merge/Divide Lists\n",
    "\n",
    "**Leetcode**\n",
    "- []"
   ]
  }
 ],
 "metadata": {
  "kernelspec": {
   "display_name": "base",
   "language": "python",
   "name": "python3"
  },
  "language_info": {
   "codemirror_mode": {
    "name": "ipython",
    "version": 3
   },
   "file_extension": ".py",
   "mimetype": "text/x-python",
   "name": "python",
   "nbconvert_exporter": "python",
   "pygments_lexer": "ipython3",
   "version": "3.9.13"
  },
  "orig_nbformat": 4,
  "vscode": {
   "interpreter": {
    "hash": "90719f7b22258a2d6ecf0c790deba7bc0adf8c63aef77a66bd3eb2b289913783"
   }
  }
 },
 "nbformat": 4,
 "nbformat_minor": 2
}
