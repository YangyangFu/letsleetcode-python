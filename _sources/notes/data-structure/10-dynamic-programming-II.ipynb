{
 "cells": [
  {
   "attachments": {},
   "cell_type": "markdown",
   "metadata": {},
   "source": [
    "# Dynamic Programming II\n",
    "\n",
    "This section focuses on longest increasing subsequence problems.\n",
    "\n",
    "Leetcode\n",
    "- 0300\n",
    "- 0673\n",
    "- 0646\n",
    "- 1218\n",
    "- 1027\n",
    "- 0354\n",
    "- 1964\n"
   ]
  },
  {
   "attachments": {},
   "cell_type": "markdown",
   "metadata": {},
   "source": [
    "## 1. Longest Increasing Subsequence\n",
    "\n",
    "### Dynamic Programming\n"
   ]
  },
  {
   "attachments": {},
   "cell_type": "markdown",
   "metadata": {},
   "source": [
    "### Binary Search\n",
    "\n",
    "Patience sort can be used here to find the longest increaseing subsequence in $O(Nlog(N))$ time."
   ]
  },
  {
   "attachments": {},
   "cell_type": "markdown",
   "metadata": {},
   "source": [
    "## 2. Number of Longest Increasing Subsequence"
   ]
  },
  {
   "attachments": {},
   "cell_type": "markdown",
   "metadata": {},
   "source": [
    "## 3. Longest Arithmetic Subsequence of Given Difference"
   ]
  },
  {
   "attachments": {},
   "cell_type": "markdown",
   "metadata": {},
   "source": [
    "## 4. Longest Arithmetic Subsequence\n",
    "\n",
    "Leetcode 1027\n",
    "\n",
    "We can use a dicitionary to represent the states for the dp table when negative index is present."
   ]
  },
  {
   "attachments": {},
   "cell_type": "markdown",
   "metadata": {},
   "source": [
    "## 5. Russian Doll Envelopes"
   ]
  }
 ],
 "metadata": {
  "language_info": {
   "name": "python"
  },
  "orig_nbformat": 4
 },
 "nbformat": 4,
 "nbformat_minor": 2
}
